{
  "nbformat": 4,
  "nbformat_minor": 0,
  "metadata": {
    "colab": {
      "provenance": [],
      "toc_visible": true
    },
    "kernelspec": {
      "name": "python3",
      "display_name": "Python 3"
    },
    "language_info": {
      "name": "python"
    }
  },
  "cells": [
    {
      "cell_type": "markdown",
      "source": [
        "# **Introduction**"
      ],
      "metadata": {
        "id": "HPCnCpWQ5GSv"
      }
    },
    {
      "cell_type": "markdown",
      "source": [
        "  * This project is based on credit card approval to customers by a particular bank. Such a study is very much important for all banks since they need to decide whether to approve or reject a credit card for a particular customer based on his/her provided details.\n",
        "  * Information about customers like whether they are employed or not, their education level, annual income, property ownership, type of income and type of occupation is very much important for a bank employee to valuate their profile for approving credit card.\n",
        "  * For this, we can use machine learning models to predict the result. Before training the data for any model, the following steps has to be done:\n",
        "    * EDA - Exploratory data analysis\n",
        "    * Data analysis through visualizations\n",
        "    * Data cleaning\n",
        "      * Encoding the categorical data\n",
        "      * Imputing the missing values\n",
        "      * Trimming the outliers\n",
        "    * Data preprocessing\n",
        "      * Checking for multicollinearity\n",
        "      * Feature selection\n",
        "      * Spitting data into training and test data\n",
        "      * Standardizing the data\n",
        "\n"
      ],
      "metadata": {
        "id": "GDOCJAhxTRTf"
      }
    },
    {
      "cell_type": "markdown",
      "source": [
        "## Importing the dataset"
      ],
      "metadata": {
        "id": "ac0Cz_wr5OBb"
      }
    },
    {
      "cell_type": "code",
      "source": [
        "# Importing the required libraries\n",
        "\n",
        "import numpy as np\n",
        "import pandas as pd\n",
        "import matplotlib\n",
        "import matplotlib.pyplot as plt\n",
        "import seaborn as sns\n",
        "import plotly.express as px"
      ],
      "metadata": {
        "id": "tvi_0hXlLUO5"
      },
      "execution_count": null,
      "outputs": []
    },
    {
      "cell_type": "code",
      "source": [
        "# Importing the 'Credit_card' table\n",
        "\n",
        "credit_card = pd.read_csv('Credit_card.csv')"
      ],
      "metadata": {
        "id": "-cEE4_J4LURJ"
      },
      "execution_count": null,
      "outputs": []
    },
    {
      "cell_type": "code",
      "source": [
        "# Importing the 'Credit_card_label' table\n",
        "\n",
        "label = pd.read_csv('Credit_card_label.csv')"
      ],
      "metadata": {
        "id": "MScoa_C4pt4Q"
      },
      "execution_count": null,
      "outputs": []
    },
    {
      "cell_type": "markdown",
      "source": [
        "* All the independent features are in credit_card table and the target variable is in label table.\n",
        "* Ind_ID is the common feature for both the tables.\n",
        "* The tables needs to be merged for further analysis."
      ],
      "metadata": {
        "id": "XdTP3o4Cal1v"
      }
    },
    {
      "cell_type": "code",
      "source": [
        "# Merging the tables to a single dataframe\n",
        "\n",
        "df = credit_card.merge(label, how = 'inner', on = 'Ind_ID')\n",
        "df.head()"
      ],
      "metadata": {
        "colab": {
          "base_uri": "https://localhost:8080/",
          "height": 313
        },
        "id": "mhlDTtvvpt-G",
        "outputId": "c42b7f83-998c-4785-fac5-61e096f92935"
      },
      "execution_count": null,
      "outputs": [
        {
          "output_type": "execute_result",
          "data": {
            "text/plain": [
              "    Ind_ID GENDER Car_Owner Propert_Owner  CHILDREN  Annual_income  \\\n",
              "0  5008827      M         Y             Y         0       180000.0   \n",
              "1  5009744      F         Y             N         0       315000.0   \n",
              "2  5009746      F         Y             N         0       315000.0   \n",
              "3  5009749      F         Y             N         0            NaN   \n",
              "4  5009752      F         Y             N         0       315000.0   \n",
              "\n",
              "            Type_Income         EDUCATION Marital_status       Housing_type  \\\n",
              "0             Pensioner  Higher education        Married  House / apartment   \n",
              "1  Commercial associate  Higher education        Married  House / apartment   \n",
              "2  Commercial associate  Higher education        Married  House / apartment   \n",
              "3  Commercial associate  Higher education        Married  House / apartment   \n",
              "4  Commercial associate  Higher education        Married  House / apartment   \n",
              "\n",
              "   Birthday_count  Employed_days  Mobile_phone  Work_Phone  Phone  EMAIL_ID  \\\n",
              "0        -18772.0         365243             1           0      0         0   \n",
              "1        -13557.0           -586             1           1      1         0   \n",
              "2             NaN           -586             1           1      1         0   \n",
              "3        -13557.0           -586             1           1      1         0   \n",
              "4        -13557.0           -586             1           1      1         0   \n",
              "\n",
              "  Type_Occupation  Family_Members  label  \n",
              "0             NaN               2      1  \n",
              "1             NaN               2      1  \n",
              "2             NaN               2      1  \n",
              "3             NaN               2      1  \n",
              "4             NaN               2      1  "
            ],
            "text/html": [
              "\n",
              "  <div id=\"df-8d7ac153-81c4-416c-82a7-fdb545c04bfe\" class=\"colab-df-container\">\n",
              "    <div>\n",
              "<style scoped>\n",
              "    .dataframe tbody tr th:only-of-type {\n",
              "        vertical-align: middle;\n",
              "    }\n",
              "\n",
              "    .dataframe tbody tr th {\n",
              "        vertical-align: top;\n",
              "    }\n",
              "\n",
              "    .dataframe thead th {\n",
              "        text-align: right;\n",
              "    }\n",
              "</style>\n",
              "<table border=\"1\" class=\"dataframe\">\n",
              "  <thead>\n",
              "    <tr style=\"text-align: right;\">\n",
              "      <th></th>\n",
              "      <th>Ind_ID</th>\n",
              "      <th>GENDER</th>\n",
              "      <th>Car_Owner</th>\n",
              "      <th>Propert_Owner</th>\n",
              "      <th>CHILDREN</th>\n",
              "      <th>Annual_income</th>\n",
              "      <th>Type_Income</th>\n",
              "      <th>EDUCATION</th>\n",
              "      <th>Marital_status</th>\n",
              "      <th>Housing_type</th>\n",
              "      <th>Birthday_count</th>\n",
              "      <th>Employed_days</th>\n",
              "      <th>Mobile_phone</th>\n",
              "      <th>Work_Phone</th>\n",
              "      <th>Phone</th>\n",
              "      <th>EMAIL_ID</th>\n",
              "      <th>Type_Occupation</th>\n",
              "      <th>Family_Members</th>\n",
              "      <th>label</th>\n",
              "    </tr>\n",
              "  </thead>\n",
              "  <tbody>\n",
              "    <tr>\n",
              "      <th>0</th>\n",
              "      <td>5008827</td>\n",
              "      <td>M</td>\n",
              "      <td>Y</td>\n",
              "      <td>Y</td>\n",
              "      <td>0</td>\n",
              "      <td>180000.0</td>\n",
              "      <td>Pensioner</td>\n",
              "      <td>Higher education</td>\n",
              "      <td>Married</td>\n",
              "      <td>House / apartment</td>\n",
              "      <td>-18772.0</td>\n",
              "      <td>365243</td>\n",
              "      <td>1</td>\n",
              "      <td>0</td>\n",
              "      <td>0</td>\n",
              "      <td>0</td>\n",
              "      <td>NaN</td>\n",
              "      <td>2</td>\n",
              "      <td>1</td>\n",
              "    </tr>\n",
              "    <tr>\n",
              "      <th>1</th>\n",
              "      <td>5009744</td>\n",
              "      <td>F</td>\n",
              "      <td>Y</td>\n",
              "      <td>N</td>\n",
              "      <td>0</td>\n",
              "      <td>315000.0</td>\n",
              "      <td>Commercial associate</td>\n",
              "      <td>Higher education</td>\n",
              "      <td>Married</td>\n",
              "      <td>House / apartment</td>\n",
              "      <td>-13557.0</td>\n",
              "      <td>-586</td>\n",
              "      <td>1</td>\n",
              "      <td>1</td>\n",
              "      <td>1</td>\n",
              "      <td>0</td>\n",
              "      <td>NaN</td>\n",
              "      <td>2</td>\n",
              "      <td>1</td>\n",
              "    </tr>\n",
              "    <tr>\n",
              "      <th>2</th>\n",
              "      <td>5009746</td>\n",
              "      <td>F</td>\n",
              "      <td>Y</td>\n",
              "      <td>N</td>\n",
              "      <td>0</td>\n",
              "      <td>315000.0</td>\n",
              "      <td>Commercial associate</td>\n",
              "      <td>Higher education</td>\n",
              "      <td>Married</td>\n",
              "      <td>House / apartment</td>\n",
              "      <td>NaN</td>\n",
              "      <td>-586</td>\n",
              "      <td>1</td>\n",
              "      <td>1</td>\n",
              "      <td>1</td>\n",
              "      <td>0</td>\n",
              "      <td>NaN</td>\n",
              "      <td>2</td>\n",
              "      <td>1</td>\n",
              "    </tr>\n",
              "    <tr>\n",
              "      <th>3</th>\n",
              "      <td>5009749</td>\n",
              "      <td>F</td>\n",
              "      <td>Y</td>\n",
              "      <td>N</td>\n",
              "      <td>0</td>\n",
              "      <td>NaN</td>\n",
              "      <td>Commercial associate</td>\n",
              "      <td>Higher education</td>\n",
              "      <td>Married</td>\n",
              "      <td>House / apartment</td>\n",
              "      <td>-13557.0</td>\n",
              "      <td>-586</td>\n",
              "      <td>1</td>\n",
              "      <td>1</td>\n",
              "      <td>1</td>\n",
              "      <td>0</td>\n",
              "      <td>NaN</td>\n",
              "      <td>2</td>\n",
              "      <td>1</td>\n",
              "    </tr>\n",
              "    <tr>\n",
              "      <th>4</th>\n",
              "      <td>5009752</td>\n",
              "      <td>F</td>\n",
              "      <td>Y</td>\n",
              "      <td>N</td>\n",
              "      <td>0</td>\n",
              "      <td>315000.0</td>\n",
              "      <td>Commercial associate</td>\n",
              "      <td>Higher education</td>\n",
              "      <td>Married</td>\n",
              "      <td>House / apartment</td>\n",
              "      <td>-13557.0</td>\n",
              "      <td>-586</td>\n",
              "      <td>1</td>\n",
              "      <td>1</td>\n",
              "      <td>1</td>\n",
              "      <td>0</td>\n",
              "      <td>NaN</td>\n",
              "      <td>2</td>\n",
              "      <td>1</td>\n",
              "    </tr>\n",
              "  </tbody>\n",
              "</table>\n",
              "</div>\n",
              "    <div class=\"colab-df-buttons\">\n",
              "\n",
              "  <div class=\"colab-df-container\">\n",
              "    <button class=\"colab-df-convert\" onclick=\"convertToInteractive('df-8d7ac153-81c4-416c-82a7-fdb545c04bfe')\"\n",
              "            title=\"Convert this dataframe to an interactive table.\"\n",
              "            style=\"display:none;\">\n",
              "\n",
              "  <svg xmlns=\"http://www.w3.org/2000/svg\" height=\"24px\" viewBox=\"0 -960 960 960\">\n",
              "    <path d=\"M120-120v-720h720v720H120Zm60-500h600v-160H180v160Zm220 220h160v-160H400v160Zm0 220h160v-160H400v160ZM180-400h160v-160H180v160Zm440 0h160v-160H620v160ZM180-180h160v-160H180v160Zm440 0h160v-160H620v160Z\"/>\n",
              "  </svg>\n",
              "    </button>\n",
              "\n",
              "  <style>\n",
              "    .colab-df-container {\n",
              "      display:flex;\n",
              "      gap: 12px;\n",
              "    }\n",
              "\n",
              "    .colab-df-convert {\n",
              "      background-color: #E8F0FE;\n",
              "      border: none;\n",
              "      border-radius: 50%;\n",
              "      cursor: pointer;\n",
              "      display: none;\n",
              "      fill: #1967D2;\n",
              "      height: 32px;\n",
              "      padding: 0 0 0 0;\n",
              "      width: 32px;\n",
              "    }\n",
              "\n",
              "    .colab-df-convert:hover {\n",
              "      background-color: #E2EBFA;\n",
              "      box-shadow: 0px 1px 2px rgba(60, 64, 67, 0.3), 0px 1px 3px 1px rgba(60, 64, 67, 0.15);\n",
              "      fill: #174EA6;\n",
              "    }\n",
              "\n",
              "    .colab-df-buttons div {\n",
              "      margin-bottom: 4px;\n",
              "    }\n",
              "\n",
              "    [theme=dark] .colab-df-convert {\n",
              "      background-color: #3B4455;\n",
              "      fill: #D2E3FC;\n",
              "    }\n",
              "\n",
              "    [theme=dark] .colab-df-convert:hover {\n",
              "      background-color: #434B5C;\n",
              "      box-shadow: 0px 1px 3px 1px rgba(0, 0, 0, 0.15);\n",
              "      filter: drop-shadow(0px 1px 2px rgba(0, 0, 0, 0.3));\n",
              "      fill: #FFFFFF;\n",
              "    }\n",
              "  </style>\n",
              "\n",
              "    <script>\n",
              "      const buttonEl =\n",
              "        document.querySelector('#df-8d7ac153-81c4-416c-82a7-fdb545c04bfe button.colab-df-convert');\n",
              "      buttonEl.style.display =\n",
              "        google.colab.kernel.accessAllowed ? 'block' : 'none';\n",
              "\n",
              "      async function convertToInteractive(key) {\n",
              "        const element = document.querySelector('#df-8d7ac153-81c4-416c-82a7-fdb545c04bfe');\n",
              "        const dataTable =\n",
              "          await google.colab.kernel.invokeFunction('convertToInteractive',\n",
              "                                                    [key], {});\n",
              "        if (!dataTable) return;\n",
              "\n",
              "        const docLinkHtml = 'Like what you see? Visit the ' +\n",
              "          '<a target=\"_blank\" href=https://colab.research.google.com/notebooks/data_table.ipynb>data table notebook</a>'\n",
              "          + ' to learn more about interactive tables.';\n",
              "        element.innerHTML = '';\n",
              "        dataTable['output_type'] = 'display_data';\n",
              "        await google.colab.output.renderOutput(dataTable, element);\n",
              "        const docLink = document.createElement('div');\n",
              "        docLink.innerHTML = docLinkHtml;\n",
              "        element.appendChild(docLink);\n",
              "      }\n",
              "    </script>\n",
              "  </div>\n",
              "\n",
              "\n",
              "<div id=\"df-f41c2e5b-bee6-40c9-91bb-8fcfdad5e447\">\n",
              "  <button class=\"colab-df-quickchart\" onclick=\"quickchart('df-f41c2e5b-bee6-40c9-91bb-8fcfdad5e447')\"\n",
              "            title=\"Suggest charts\"\n",
              "            style=\"display:none;\">\n",
              "\n",
              "<svg xmlns=\"http://www.w3.org/2000/svg\" height=\"24px\"viewBox=\"0 0 24 24\"\n",
              "     width=\"24px\">\n",
              "    <g>\n",
              "        <path d=\"M19 3H5c-1.1 0-2 .9-2 2v14c0 1.1.9 2 2 2h14c1.1 0 2-.9 2-2V5c0-1.1-.9-2-2-2zM9 17H7v-7h2v7zm4 0h-2V7h2v10zm4 0h-2v-4h2v4z\"/>\n",
              "    </g>\n",
              "</svg>\n",
              "  </button>\n",
              "\n",
              "<style>\n",
              "  .colab-df-quickchart {\n",
              "      --bg-color: #E8F0FE;\n",
              "      --fill-color: #1967D2;\n",
              "      --hover-bg-color: #E2EBFA;\n",
              "      --hover-fill-color: #174EA6;\n",
              "      --disabled-fill-color: #AAA;\n",
              "      --disabled-bg-color: #DDD;\n",
              "  }\n",
              "\n",
              "  [theme=dark] .colab-df-quickchart {\n",
              "      --bg-color: #3B4455;\n",
              "      --fill-color: #D2E3FC;\n",
              "      --hover-bg-color: #434B5C;\n",
              "      --hover-fill-color: #FFFFFF;\n",
              "      --disabled-bg-color: #3B4455;\n",
              "      --disabled-fill-color: #666;\n",
              "  }\n",
              "\n",
              "  .colab-df-quickchart {\n",
              "    background-color: var(--bg-color);\n",
              "    border: none;\n",
              "    border-radius: 50%;\n",
              "    cursor: pointer;\n",
              "    display: none;\n",
              "    fill: var(--fill-color);\n",
              "    height: 32px;\n",
              "    padding: 0;\n",
              "    width: 32px;\n",
              "  }\n",
              "\n",
              "  .colab-df-quickchart:hover {\n",
              "    background-color: var(--hover-bg-color);\n",
              "    box-shadow: 0 1px 2px rgba(60, 64, 67, 0.3), 0 1px 3px 1px rgba(60, 64, 67, 0.15);\n",
              "    fill: var(--button-hover-fill-color);\n",
              "  }\n",
              "\n",
              "  .colab-df-quickchart-complete:disabled,\n",
              "  .colab-df-quickchart-complete:disabled:hover {\n",
              "    background-color: var(--disabled-bg-color);\n",
              "    fill: var(--disabled-fill-color);\n",
              "    box-shadow: none;\n",
              "  }\n",
              "\n",
              "  .colab-df-spinner {\n",
              "    border: 2px solid var(--fill-color);\n",
              "    border-color: transparent;\n",
              "    border-bottom-color: var(--fill-color);\n",
              "    animation:\n",
              "      spin 1s steps(1) infinite;\n",
              "  }\n",
              "\n",
              "  @keyframes spin {\n",
              "    0% {\n",
              "      border-color: transparent;\n",
              "      border-bottom-color: var(--fill-color);\n",
              "      border-left-color: var(--fill-color);\n",
              "    }\n",
              "    20% {\n",
              "      border-color: transparent;\n",
              "      border-left-color: var(--fill-color);\n",
              "      border-top-color: var(--fill-color);\n",
              "    }\n",
              "    30% {\n",
              "      border-color: transparent;\n",
              "      border-left-color: var(--fill-color);\n",
              "      border-top-color: var(--fill-color);\n",
              "      border-right-color: var(--fill-color);\n",
              "    }\n",
              "    40% {\n",
              "      border-color: transparent;\n",
              "      border-right-color: var(--fill-color);\n",
              "      border-top-color: var(--fill-color);\n",
              "    }\n",
              "    60% {\n",
              "      border-color: transparent;\n",
              "      border-right-color: var(--fill-color);\n",
              "    }\n",
              "    80% {\n",
              "      border-color: transparent;\n",
              "      border-right-color: var(--fill-color);\n",
              "      border-bottom-color: var(--fill-color);\n",
              "    }\n",
              "    90% {\n",
              "      border-color: transparent;\n",
              "      border-bottom-color: var(--fill-color);\n",
              "    }\n",
              "  }\n",
              "</style>\n",
              "\n",
              "  <script>\n",
              "    async function quickchart(key) {\n",
              "      const quickchartButtonEl =\n",
              "        document.querySelector('#' + key + ' button');\n",
              "      quickchartButtonEl.disabled = true;  // To prevent multiple clicks.\n",
              "      quickchartButtonEl.classList.add('colab-df-spinner');\n",
              "      try {\n",
              "        const charts = await google.colab.kernel.invokeFunction(\n",
              "            'suggestCharts', [key], {});\n",
              "      } catch (error) {\n",
              "        console.error('Error during call to suggestCharts:', error);\n",
              "      }\n",
              "      quickchartButtonEl.classList.remove('colab-df-spinner');\n",
              "      quickchartButtonEl.classList.add('colab-df-quickchart-complete');\n",
              "    }\n",
              "    (() => {\n",
              "      let quickchartButtonEl =\n",
              "        document.querySelector('#df-f41c2e5b-bee6-40c9-91bb-8fcfdad5e447 button');\n",
              "      quickchartButtonEl.style.display =\n",
              "        google.colab.kernel.accessAllowed ? 'block' : 'none';\n",
              "    })();\n",
              "  </script>\n",
              "</div>\n",
              "    </div>\n",
              "  </div>\n"
            ]
          },
          "metadata": {},
          "execution_count": 4
        }
      ]
    },
    {
      "cell_type": "markdown",
      "source": [
        "# **Basic exploration**"
      ],
      "metadata": {
        "id": "-Pqj99xF5VbL"
      }
    },
    {
      "cell_type": "code",
      "source": [
        "df.shape                   # checking for the shape of the dataframe"
      ],
      "metadata": {
        "colab": {
          "base_uri": "https://localhost:8080/"
        },
        "id": "byPCNwOJlmR0",
        "outputId": "b5f863f5-286a-47ad-a3f5-6272137cbeca"
      },
      "execution_count": null,
      "outputs": [
        {
          "output_type": "execute_result",
          "data": {
            "text/plain": [
              "(1548, 19)"
            ]
          },
          "metadata": {},
          "execution_count": 8
        }
      ]
    },
    {
      "cell_type": "markdown",
      "source": [
        "*  The dataset has **1548 records** and **19 fields**."
      ],
      "metadata": {
        "id": "7f83IjWOzDJ0"
      }
    },
    {
      "cell_type": "code",
      "source": [
        "df.dtypes                    # checking for the datatypes of all columns"
      ],
      "metadata": {
        "id": "k_zGh2B28MZd",
        "colab": {
          "base_uri": "https://localhost:8080/"
        },
        "outputId": "9f5ee395-0a2c-424a-b315-02f86453f4d7"
      },
      "execution_count": null,
      "outputs": [
        {
          "output_type": "execute_result",
          "data": {
            "text/plain": [
              "Ind_ID               int64\n",
              "GENDER              object\n",
              "Car_Owner           object\n",
              "Propert_Owner       object\n",
              "CHILDREN             int64\n",
              "Annual_income      float64\n",
              "Type_Income         object\n",
              "EDUCATION           object\n",
              "Marital_status      object\n",
              "Housing_type        object\n",
              "Birthday_count     float64\n",
              "Employed_days        int64\n",
              "Mobile_phone         int64\n",
              "Work_Phone           int64\n",
              "Phone                int64\n",
              "EMAIL_ID             int64\n",
              "Type_Occupation     object\n",
              "Family_Members       int64\n",
              "label                int64\n",
              "dtype: object"
            ]
          },
          "metadata": {},
          "execution_count": 6
        }
      ]
    },
    {
      "cell_type": "code",
      "source": [
        "df.info()                  # info() gives the basic information of the dataframe"
      ],
      "metadata": {
        "colab": {
          "base_uri": "https://localhost:8080/"
        },
        "id": "4V6bRZUMlmVT",
        "outputId": "6ebcdc38-6898-4145-909c-e2125691b1d2"
      },
      "execution_count": null,
      "outputs": [
        {
          "output_type": "stream",
          "name": "stdout",
          "text": [
            "<class 'pandas.core.frame.DataFrame'>\n",
            "Int64Index: 1548 entries, 0 to 1547\n",
            "Data columns (total 19 columns):\n",
            " #   Column           Non-Null Count  Dtype  \n",
            "---  ------           --------------  -----  \n",
            " 0   Ind_ID           1548 non-null   int64  \n",
            " 1   GENDER           1541 non-null   object \n",
            " 2   Car_Owner        1548 non-null   object \n",
            " 3   Propert_Owner    1548 non-null   object \n",
            " 4   CHILDREN         1548 non-null   int64  \n",
            " 5   Annual_income    1525 non-null   float64\n",
            " 6   Type_Income      1548 non-null   object \n",
            " 7   EDUCATION        1548 non-null   object \n",
            " 8   Marital_status   1548 non-null   object \n",
            " 9   Housing_type     1548 non-null   object \n",
            " 10  Birthday_count   1526 non-null   float64\n",
            " 11  Employed_days    1548 non-null   int64  \n",
            " 12  Mobile_phone     1548 non-null   int64  \n",
            " 13  Work_Phone       1548 non-null   int64  \n",
            " 14  Phone            1548 non-null   int64  \n",
            " 15  EMAIL_ID         1548 non-null   int64  \n",
            " 16  Type_Occupation  1060 non-null   object \n",
            " 17  Family_Members   1548 non-null   int64  \n",
            " 18  label            1548 non-null   int64  \n",
            "dtypes: float64(2), int64(9), object(8)\n",
            "memory usage: 241.9+ KB\n"
          ]
        }
      ]
    },
    {
      "cell_type": "markdown",
      "source": [
        "**Features in the dataset**\n",
        "\n",
        "* Ind_ID: Client ID\n",
        "\n",
        "* Gender: Gender information\n",
        "\n",
        "* Car_owner: 'Y' means having car or 'N' means not having car\n",
        "\n",
        "* Propert_owner: 'Y' means having property or 'N' means not having property\n",
        "\n",
        "* Children: Count of children\n",
        "\n",
        "* Annual_income: Annual income\n",
        "\n",
        "* Type_Income: Income type\n",
        "\n",
        "* Education: Education level\n",
        "\n",
        "* Marital_status: Marital status\n",
        "\n",
        "* Housing_type: Living style\n",
        "\n",
        "* Birthday_count: Number of days from birthday (in backward count)\n",
        "\n",
        "* Employed_days: Start date of employment. Use backward count from current day (0). Positive value means, individual is currently unemployed.\n",
        "\n",
        "* Mobile_phone: Any mobile phone\n",
        "\n",
        "* Work_phone: Any work phone\n",
        "\n",
        "* Phone: Any phone number\n",
        "\n",
        "* EMAIL_ID: Any email ID\n",
        "\n",
        "* Type_Occupation: Occupation\n",
        "\n",
        "* Family_Members: Family size\n",
        "\n",
        "* Label: 0 is application approved and 1 is application rejected.\n",
        "\n"
      ],
      "metadata": {
        "id": "asqFmx4Yb0ma"
      }
    },
    {
      "cell_type": "code",
      "source": [
        "df.nunique()                # nunique() gives the number of unique values in each column"
      ],
      "metadata": {
        "colab": {
          "base_uri": "https://localhost:8080/"
        },
        "id": "QuCsG41NlmZW",
        "outputId": "4dc05e8c-b5a7-4d36-bf9c-5d420e6f65e3"
      },
      "execution_count": null,
      "outputs": [
        {
          "output_type": "execute_result",
          "data": {
            "text/plain": [
              "Ind_ID             1548\n",
              "GENDER                2\n",
              "Car_Owner             2\n",
              "Propert_Owner         2\n",
              "CHILDREN              6\n",
              "Annual_income       115\n",
              "Type_Income           4\n",
              "EDUCATION             5\n",
              "Marital_status        5\n",
              "Housing_type          6\n",
              "Birthday_count     1270\n",
              "Employed_days       956\n",
              "Mobile_phone          1\n",
              "Work_Phone            2\n",
              "Phone                 2\n",
              "EMAIL_ID              2\n",
              "Type_Occupation      18\n",
              "Family_Members        7\n",
              "label                 2\n",
              "dtype: int64"
            ]
          },
          "metadata": {},
          "execution_count": 10
        }
      ]
    },
    {
      "cell_type": "code",
      "source": [
        "df['GENDER'].unique()         # unique() gives the unique values in the required column"
      ],
      "metadata": {
        "colab": {
          "base_uri": "https://localhost:8080/"
        },
        "id": "eJkB2P8xlmcu",
        "outputId": "3fa80cf5-4ed4-4095-81f3-332c0d83d72f"
      },
      "execution_count": null,
      "outputs": [
        {
          "output_type": "execute_result",
          "data": {
            "text/plain": [
              "array(['M', 'F', nan], dtype=object)"
            ]
          },
          "metadata": {},
          "execution_count": 11
        }
      ]
    },
    {
      "cell_type": "markdown",
      "source": [
        " *  This shows that there are null values in the GENDER column"
      ],
      "metadata": {
        "id": "gqvz7saAR9en"
      }
    },
    {
      "cell_type": "code",
      "source": [
        "df['Car_Owner'].unique()"
      ],
      "metadata": {
        "colab": {
          "base_uri": "https://localhost:8080/"
        },
        "id": "Te2UJTHclmgG",
        "outputId": "4c8ab735-90f5-4533-993a-9191e8fd23ff"
      },
      "execution_count": null,
      "outputs": [
        {
          "output_type": "execute_result",
          "data": {
            "text/plain": [
              "array(['Y', 'N'], dtype=object)"
            ]
          },
          "metadata": {},
          "execution_count": 12
        }
      ]
    },
    {
      "cell_type": "code",
      "source": [
        "df['Propert_Owner'].unique()"
      ],
      "metadata": {
        "colab": {
          "base_uri": "https://localhost:8080/"
        },
        "id": "IqFtt3bHlmjq",
        "outputId": "06514c9e-0811-4623-f5dc-e3f21bfdbc91"
      },
      "execution_count": null,
      "outputs": [
        {
          "output_type": "execute_result",
          "data": {
            "text/plain": [
              "array(['Y', 'N'], dtype=object)"
            ]
          },
          "metadata": {},
          "execution_count": 14
        }
      ]
    },
    {
      "cell_type": "code",
      "source": [
        "df['CHILDREN'].unique()"
      ],
      "metadata": {
        "colab": {
          "base_uri": "https://localhost:8080/"
        },
        "id": "_EivQ3m3lmnB",
        "outputId": "7c62e0bd-5f2b-4010-f674-8e8ef5b88aec"
      },
      "execution_count": null,
      "outputs": [
        {
          "output_type": "execute_result",
          "data": {
            "text/plain": [
              "array([ 0,  1,  2,  4,  3, 14])"
            ]
          },
          "metadata": {},
          "execution_count": 15
        }
      ]
    },
    {
      "cell_type": "code",
      "source": [
        "df['Type_Income'].unique()"
      ],
      "metadata": {
        "colab": {
          "base_uri": "https://localhost:8080/"
        },
        "id": "E8TMge7xlmqP",
        "outputId": "d26c62f8-a2af-4163-b5a0-be68a7c3de2a"
      },
      "execution_count": null,
      "outputs": [
        {
          "output_type": "execute_result",
          "data": {
            "text/plain": [
              "array(['Pensioner', 'Commercial associate', 'Working', 'State servant'],\n",
              "      dtype=object)"
            ]
          },
          "metadata": {},
          "execution_count": 16
        }
      ]
    },
    {
      "cell_type": "code",
      "source": [
        "df['EDUCATION'].unique()"
      ],
      "metadata": {
        "colab": {
          "base_uri": "https://localhost:8080/"
        },
        "id": "u6CF8-x3lmtv",
        "outputId": "756696d4-4eba-4ee6-be52-3ac88cac866d"
      },
      "execution_count": null,
      "outputs": [
        {
          "output_type": "execute_result",
          "data": {
            "text/plain": [
              "array(['Higher education', 'Secondary / secondary special',\n",
              "       'Lower secondary', 'Incomplete higher', 'Academic degree'],\n",
              "      dtype=object)"
            ]
          },
          "metadata": {},
          "execution_count": 17
        }
      ]
    },
    {
      "cell_type": "code",
      "source": [
        "df['Marital_status'].unique()"
      ],
      "metadata": {
        "colab": {
          "base_uri": "https://localhost:8080/"
        },
        "id": "qNM38a3Vlmw-",
        "outputId": "cca2072d-233e-49d1-b19c-c0709091026e"
      },
      "execution_count": null,
      "outputs": [
        {
          "output_type": "execute_result",
          "data": {
            "text/plain": [
              "array(['Married', 'Single / not married', 'Civil marriage', 'Separated',\n",
              "       'Widow'], dtype=object)"
            ]
          },
          "metadata": {},
          "execution_count": 18
        }
      ]
    },
    {
      "cell_type": "code",
      "source": [
        "df['Housing_type'].unique()"
      ],
      "metadata": {
        "id": "qHgaZmMp6b3s",
        "colab": {
          "base_uri": "https://localhost:8080/"
        },
        "outputId": "1590b869-b432-4867-dc28-24ab02a301a2"
      },
      "execution_count": null,
      "outputs": [
        {
          "output_type": "execute_result",
          "data": {
            "text/plain": [
              "array(['House / apartment', 'With parents', 'Rented apartment',\n",
              "       'Municipal apartment', 'Co-op apartment', 'Office apartment'],\n",
              "      dtype=object)"
            ]
          },
          "metadata": {},
          "execution_count": 19
        }
      ]
    },
    {
      "cell_type": "code",
      "source": [
        "df['Type_Occupation'].unique()"
      ],
      "metadata": {
        "id": "_2kkgOOu6cA1",
        "colab": {
          "base_uri": "https://localhost:8080/"
        },
        "outputId": "40a5b2a9-c4a0-4a80-b0e2-aca73c8c015e"
      },
      "execution_count": null,
      "outputs": [
        {
          "output_type": "execute_result",
          "data": {
            "text/plain": [
              "array([nan, 'Core staff', 'Cooking staff', 'Laborers', 'Sales staff',\n",
              "       'Accountants', 'High skill tech staff', 'Managers',\n",
              "       'Cleaning staff', 'Drivers', 'Low-skill Laborers', 'IT staff',\n",
              "       'Waiters/barmen staff', 'Security staff', 'Medicine staff',\n",
              "       'Private service staff', 'HR staff', 'Secretaries',\n",
              "       'Realty agents'], dtype=object)"
            ]
          },
          "metadata": {},
          "execution_count": 20
        }
      ]
    },
    {
      "cell_type": "markdown",
      "source": [
        "*  There are null values in Type_Occupation column"
      ],
      "metadata": {
        "id": "ZEHUpYz9SRRb"
      }
    },
    {
      "cell_type": "code",
      "source": [
        "df['Family_Members'].unique()"
      ],
      "metadata": {
        "id": "RpM6TG7q6cDs",
        "colab": {
          "base_uri": "https://localhost:8080/"
        },
        "outputId": "14506be8-e188-4840-ea62-09dd4a74c44e"
      },
      "execution_count": null,
      "outputs": [
        {
          "output_type": "execute_result",
          "data": {
            "text/plain": [
              "array([ 2,  3,  1,  4,  6,  5, 15])"
            ]
          },
          "metadata": {},
          "execution_count": 21
        }
      ]
    },
    {
      "cell_type": "code",
      "source": [
        "df.drop_duplicates()             # drop_duplicates() removes the duplicate entries if any in the dataframe"
      ],
      "metadata": {
        "colab": {
          "base_uri": "https://localhost:8080/",
          "height": 652
        },
        "id": "cXDN1prrnHoH",
        "outputId": "3cd9575f-b964-481d-bd16-9680cdbbe4b7"
      },
      "execution_count": null,
      "outputs": [
        {
          "output_type": "execute_result",
          "data": {
            "text/plain": [
              "       Ind_ID GENDER Car_Owner Propert_Owner  CHILDREN  Annual_income  \\\n",
              "0     5008827      M         Y             Y         0       180000.0   \n",
              "1     5009744      F         Y             N         0       315000.0   \n",
              "2     5009746      F         Y             N         0       315000.0   \n",
              "3     5009749      F         Y             N         0            NaN   \n",
              "4     5009752      F         Y             N         0       315000.0   \n",
              "...       ...    ...       ...           ...       ...            ...   \n",
              "1543  5028645      F         N             Y         0            NaN   \n",
              "1544  5023655      F         N             N         0       225000.0   \n",
              "1545  5115992      M         Y             Y         2       180000.0   \n",
              "1546  5118219      M         Y             N         0       270000.0   \n",
              "1547  5053790      F         Y             Y         0       225000.0   \n",
              "\n",
              "               Type_Income                      EDUCATION  \\\n",
              "0                Pensioner               Higher education   \n",
              "1     Commercial associate               Higher education   \n",
              "2     Commercial associate               Higher education   \n",
              "3     Commercial associate               Higher education   \n",
              "4     Commercial associate               Higher education   \n",
              "...                    ...                            ...   \n",
              "1543  Commercial associate               Higher education   \n",
              "1544  Commercial associate              Incomplete higher   \n",
              "1545               Working               Higher education   \n",
              "1546               Working  Secondary / secondary special   \n",
              "1547               Working               Higher education   \n",
              "\n",
              "            Marital_status       Housing_type  Birthday_count  Employed_days  \\\n",
              "0                  Married  House / apartment        -18772.0         365243   \n",
              "1                  Married  House / apartment        -13557.0           -586   \n",
              "2                  Married  House / apartment             NaN           -586   \n",
              "3                  Married  House / apartment        -13557.0           -586   \n",
              "4                  Married  House / apartment        -13557.0           -586   \n",
              "...                    ...                ...             ...            ...   \n",
              "1543               Married  House / apartment        -11957.0          -2182   \n",
              "1544  Single / not married  House / apartment        -10229.0          -1209   \n",
              "1545               Married  House / apartment        -13174.0          -2477   \n",
              "1546        Civil marriage  House / apartment        -15292.0           -645   \n",
              "1547               Married  House / apartment        -16601.0          -2859   \n",
              "\n",
              "      Mobile_phone  Work_Phone  Phone  EMAIL_ID Type_Occupation  \\\n",
              "0                1           0      0         0             NaN   \n",
              "1                1           1      1         0             NaN   \n",
              "2                1           1      1         0             NaN   \n",
              "3                1           1      1         0             NaN   \n",
              "4                1           1      1         0             NaN   \n",
              "...            ...         ...    ...       ...             ...   \n",
              "1543             1           0      0         0        Managers   \n",
              "1544             1           0      0         0     Accountants   \n",
              "1545             1           0      0         0        Managers   \n",
              "1546             1           1      1         0         Drivers   \n",
              "1547             1           0      0         0             NaN   \n",
              "\n",
              "      Family_Members  label  \n",
              "0                  2      1  \n",
              "1                  2      1  \n",
              "2                  2      1  \n",
              "3                  2      1  \n",
              "4                  2      1  \n",
              "...              ...    ...  \n",
              "1543               2      0  \n",
              "1544               1      0  \n",
              "1545               4      0  \n",
              "1546               2      0  \n",
              "1547               2      0  \n",
              "\n",
              "[1548 rows x 19 columns]"
            ],
            "text/html": [
              "\n",
              "  <div id=\"df-2eb4770d-dd0c-480b-b890-a9dac5aa291b\" class=\"colab-df-container\">\n",
              "    <div>\n",
              "<style scoped>\n",
              "    .dataframe tbody tr th:only-of-type {\n",
              "        vertical-align: middle;\n",
              "    }\n",
              "\n",
              "    .dataframe tbody tr th {\n",
              "        vertical-align: top;\n",
              "    }\n",
              "\n",
              "    .dataframe thead th {\n",
              "        text-align: right;\n",
              "    }\n",
              "</style>\n",
              "<table border=\"1\" class=\"dataframe\">\n",
              "  <thead>\n",
              "    <tr style=\"text-align: right;\">\n",
              "      <th></th>\n",
              "      <th>Ind_ID</th>\n",
              "      <th>GENDER</th>\n",
              "      <th>Car_Owner</th>\n",
              "      <th>Propert_Owner</th>\n",
              "      <th>CHILDREN</th>\n",
              "      <th>Annual_income</th>\n",
              "      <th>Type_Income</th>\n",
              "      <th>EDUCATION</th>\n",
              "      <th>Marital_status</th>\n",
              "      <th>Housing_type</th>\n",
              "      <th>Birthday_count</th>\n",
              "      <th>Employed_days</th>\n",
              "      <th>Mobile_phone</th>\n",
              "      <th>Work_Phone</th>\n",
              "      <th>Phone</th>\n",
              "      <th>EMAIL_ID</th>\n",
              "      <th>Type_Occupation</th>\n",
              "      <th>Family_Members</th>\n",
              "      <th>label</th>\n",
              "    </tr>\n",
              "  </thead>\n",
              "  <tbody>\n",
              "    <tr>\n",
              "      <th>0</th>\n",
              "      <td>5008827</td>\n",
              "      <td>M</td>\n",
              "      <td>Y</td>\n",
              "      <td>Y</td>\n",
              "      <td>0</td>\n",
              "      <td>180000.0</td>\n",
              "      <td>Pensioner</td>\n",
              "      <td>Higher education</td>\n",
              "      <td>Married</td>\n",
              "      <td>House / apartment</td>\n",
              "      <td>-18772.0</td>\n",
              "      <td>365243</td>\n",
              "      <td>1</td>\n",
              "      <td>0</td>\n",
              "      <td>0</td>\n",
              "      <td>0</td>\n",
              "      <td>NaN</td>\n",
              "      <td>2</td>\n",
              "      <td>1</td>\n",
              "    </tr>\n",
              "    <tr>\n",
              "      <th>1</th>\n",
              "      <td>5009744</td>\n",
              "      <td>F</td>\n",
              "      <td>Y</td>\n",
              "      <td>N</td>\n",
              "      <td>0</td>\n",
              "      <td>315000.0</td>\n",
              "      <td>Commercial associate</td>\n",
              "      <td>Higher education</td>\n",
              "      <td>Married</td>\n",
              "      <td>House / apartment</td>\n",
              "      <td>-13557.0</td>\n",
              "      <td>-586</td>\n",
              "      <td>1</td>\n",
              "      <td>1</td>\n",
              "      <td>1</td>\n",
              "      <td>0</td>\n",
              "      <td>NaN</td>\n",
              "      <td>2</td>\n",
              "      <td>1</td>\n",
              "    </tr>\n",
              "    <tr>\n",
              "      <th>2</th>\n",
              "      <td>5009746</td>\n",
              "      <td>F</td>\n",
              "      <td>Y</td>\n",
              "      <td>N</td>\n",
              "      <td>0</td>\n",
              "      <td>315000.0</td>\n",
              "      <td>Commercial associate</td>\n",
              "      <td>Higher education</td>\n",
              "      <td>Married</td>\n",
              "      <td>House / apartment</td>\n",
              "      <td>NaN</td>\n",
              "      <td>-586</td>\n",
              "      <td>1</td>\n",
              "      <td>1</td>\n",
              "      <td>1</td>\n",
              "      <td>0</td>\n",
              "      <td>NaN</td>\n",
              "      <td>2</td>\n",
              "      <td>1</td>\n",
              "    </tr>\n",
              "    <tr>\n",
              "      <th>3</th>\n",
              "      <td>5009749</td>\n",
              "      <td>F</td>\n",
              "      <td>Y</td>\n",
              "      <td>N</td>\n",
              "      <td>0</td>\n",
              "      <td>NaN</td>\n",
              "      <td>Commercial associate</td>\n",
              "      <td>Higher education</td>\n",
              "      <td>Married</td>\n",
              "      <td>House / apartment</td>\n",
              "      <td>-13557.0</td>\n",
              "      <td>-586</td>\n",
              "      <td>1</td>\n",
              "      <td>1</td>\n",
              "      <td>1</td>\n",
              "      <td>0</td>\n",
              "      <td>NaN</td>\n",
              "      <td>2</td>\n",
              "      <td>1</td>\n",
              "    </tr>\n",
              "    <tr>\n",
              "      <th>4</th>\n",
              "      <td>5009752</td>\n",
              "      <td>F</td>\n",
              "      <td>Y</td>\n",
              "      <td>N</td>\n",
              "      <td>0</td>\n",
              "      <td>315000.0</td>\n",
              "      <td>Commercial associate</td>\n",
              "      <td>Higher education</td>\n",
              "      <td>Married</td>\n",
              "      <td>House / apartment</td>\n",
              "      <td>-13557.0</td>\n",
              "      <td>-586</td>\n",
              "      <td>1</td>\n",
              "      <td>1</td>\n",
              "      <td>1</td>\n",
              "      <td>0</td>\n",
              "      <td>NaN</td>\n",
              "      <td>2</td>\n",
              "      <td>1</td>\n",
              "    </tr>\n",
              "    <tr>\n",
              "      <th>...</th>\n",
              "      <td>...</td>\n",
              "      <td>...</td>\n",
              "      <td>...</td>\n",
              "      <td>...</td>\n",
              "      <td>...</td>\n",
              "      <td>...</td>\n",
              "      <td>...</td>\n",
              "      <td>...</td>\n",
              "      <td>...</td>\n",
              "      <td>...</td>\n",
              "      <td>...</td>\n",
              "      <td>...</td>\n",
              "      <td>...</td>\n",
              "      <td>...</td>\n",
              "      <td>...</td>\n",
              "      <td>...</td>\n",
              "      <td>...</td>\n",
              "      <td>...</td>\n",
              "      <td>...</td>\n",
              "    </tr>\n",
              "    <tr>\n",
              "      <th>1543</th>\n",
              "      <td>5028645</td>\n",
              "      <td>F</td>\n",
              "      <td>N</td>\n",
              "      <td>Y</td>\n",
              "      <td>0</td>\n",
              "      <td>NaN</td>\n",
              "      <td>Commercial associate</td>\n",
              "      <td>Higher education</td>\n",
              "      <td>Married</td>\n",
              "      <td>House / apartment</td>\n",
              "      <td>-11957.0</td>\n",
              "      <td>-2182</td>\n",
              "      <td>1</td>\n",
              "      <td>0</td>\n",
              "      <td>0</td>\n",
              "      <td>0</td>\n",
              "      <td>Managers</td>\n",
              "      <td>2</td>\n",
              "      <td>0</td>\n",
              "    </tr>\n",
              "    <tr>\n",
              "      <th>1544</th>\n",
              "      <td>5023655</td>\n",
              "      <td>F</td>\n",
              "      <td>N</td>\n",
              "      <td>N</td>\n",
              "      <td>0</td>\n",
              "      <td>225000.0</td>\n",
              "      <td>Commercial associate</td>\n",
              "      <td>Incomplete higher</td>\n",
              "      <td>Single / not married</td>\n",
              "      <td>House / apartment</td>\n",
              "      <td>-10229.0</td>\n",
              "      <td>-1209</td>\n",
              "      <td>1</td>\n",
              "      <td>0</td>\n",
              "      <td>0</td>\n",
              "      <td>0</td>\n",
              "      <td>Accountants</td>\n",
              "      <td>1</td>\n",
              "      <td>0</td>\n",
              "    </tr>\n",
              "    <tr>\n",
              "      <th>1545</th>\n",
              "      <td>5115992</td>\n",
              "      <td>M</td>\n",
              "      <td>Y</td>\n",
              "      <td>Y</td>\n",
              "      <td>2</td>\n",
              "      <td>180000.0</td>\n",
              "      <td>Working</td>\n",
              "      <td>Higher education</td>\n",
              "      <td>Married</td>\n",
              "      <td>House / apartment</td>\n",
              "      <td>-13174.0</td>\n",
              "      <td>-2477</td>\n",
              "      <td>1</td>\n",
              "      <td>0</td>\n",
              "      <td>0</td>\n",
              "      <td>0</td>\n",
              "      <td>Managers</td>\n",
              "      <td>4</td>\n",
              "      <td>0</td>\n",
              "    </tr>\n",
              "    <tr>\n",
              "      <th>1546</th>\n",
              "      <td>5118219</td>\n",
              "      <td>M</td>\n",
              "      <td>Y</td>\n",
              "      <td>N</td>\n",
              "      <td>0</td>\n",
              "      <td>270000.0</td>\n",
              "      <td>Working</td>\n",
              "      <td>Secondary / secondary special</td>\n",
              "      <td>Civil marriage</td>\n",
              "      <td>House / apartment</td>\n",
              "      <td>-15292.0</td>\n",
              "      <td>-645</td>\n",
              "      <td>1</td>\n",
              "      <td>1</td>\n",
              "      <td>1</td>\n",
              "      <td>0</td>\n",
              "      <td>Drivers</td>\n",
              "      <td>2</td>\n",
              "      <td>0</td>\n",
              "    </tr>\n",
              "    <tr>\n",
              "      <th>1547</th>\n",
              "      <td>5053790</td>\n",
              "      <td>F</td>\n",
              "      <td>Y</td>\n",
              "      <td>Y</td>\n",
              "      <td>0</td>\n",
              "      <td>225000.0</td>\n",
              "      <td>Working</td>\n",
              "      <td>Higher education</td>\n",
              "      <td>Married</td>\n",
              "      <td>House / apartment</td>\n",
              "      <td>-16601.0</td>\n",
              "      <td>-2859</td>\n",
              "      <td>1</td>\n",
              "      <td>0</td>\n",
              "      <td>0</td>\n",
              "      <td>0</td>\n",
              "      <td>NaN</td>\n",
              "      <td>2</td>\n",
              "      <td>0</td>\n",
              "    </tr>\n",
              "  </tbody>\n",
              "</table>\n",
              "<p>1548 rows × 19 columns</p>\n",
              "</div>\n",
              "    <div class=\"colab-df-buttons\">\n",
              "\n",
              "  <div class=\"colab-df-container\">\n",
              "    <button class=\"colab-df-convert\" onclick=\"convertToInteractive('df-2eb4770d-dd0c-480b-b890-a9dac5aa291b')\"\n",
              "            title=\"Convert this dataframe to an interactive table.\"\n",
              "            style=\"display:none;\">\n",
              "\n",
              "  <svg xmlns=\"http://www.w3.org/2000/svg\" height=\"24px\" viewBox=\"0 -960 960 960\">\n",
              "    <path d=\"M120-120v-720h720v720H120Zm60-500h600v-160H180v160Zm220 220h160v-160H400v160Zm0 220h160v-160H400v160ZM180-400h160v-160H180v160Zm440 0h160v-160H620v160ZM180-180h160v-160H180v160Zm440 0h160v-160H620v160Z\"/>\n",
              "  </svg>\n",
              "    </button>\n",
              "\n",
              "  <style>\n",
              "    .colab-df-container {\n",
              "      display:flex;\n",
              "      gap: 12px;\n",
              "    }\n",
              "\n",
              "    .colab-df-convert {\n",
              "      background-color: #E8F0FE;\n",
              "      border: none;\n",
              "      border-radius: 50%;\n",
              "      cursor: pointer;\n",
              "      display: none;\n",
              "      fill: #1967D2;\n",
              "      height: 32px;\n",
              "      padding: 0 0 0 0;\n",
              "      width: 32px;\n",
              "    }\n",
              "\n",
              "    .colab-df-convert:hover {\n",
              "      background-color: #E2EBFA;\n",
              "      box-shadow: 0px 1px 2px rgba(60, 64, 67, 0.3), 0px 1px 3px 1px rgba(60, 64, 67, 0.15);\n",
              "      fill: #174EA6;\n",
              "    }\n",
              "\n",
              "    .colab-df-buttons div {\n",
              "      margin-bottom: 4px;\n",
              "    }\n",
              "\n",
              "    [theme=dark] .colab-df-convert {\n",
              "      background-color: #3B4455;\n",
              "      fill: #D2E3FC;\n",
              "    }\n",
              "\n",
              "    [theme=dark] .colab-df-convert:hover {\n",
              "      background-color: #434B5C;\n",
              "      box-shadow: 0px 1px 3px 1px rgba(0, 0, 0, 0.15);\n",
              "      filter: drop-shadow(0px 1px 2px rgba(0, 0, 0, 0.3));\n",
              "      fill: #FFFFFF;\n",
              "    }\n",
              "  </style>\n",
              "\n",
              "    <script>\n",
              "      const buttonEl =\n",
              "        document.querySelector('#df-2eb4770d-dd0c-480b-b890-a9dac5aa291b button.colab-df-convert');\n",
              "      buttonEl.style.display =\n",
              "        google.colab.kernel.accessAllowed ? 'block' : 'none';\n",
              "\n",
              "      async function convertToInteractive(key) {\n",
              "        const element = document.querySelector('#df-2eb4770d-dd0c-480b-b890-a9dac5aa291b');\n",
              "        const dataTable =\n",
              "          await google.colab.kernel.invokeFunction('convertToInteractive',\n",
              "                                                    [key], {});\n",
              "        if (!dataTable) return;\n",
              "\n",
              "        const docLinkHtml = 'Like what you see? Visit the ' +\n",
              "          '<a target=\"_blank\" href=https://colab.research.google.com/notebooks/data_table.ipynb>data table notebook</a>'\n",
              "          + ' to learn more about interactive tables.';\n",
              "        element.innerHTML = '';\n",
              "        dataTable['output_type'] = 'display_data';\n",
              "        await google.colab.output.renderOutput(dataTable, element);\n",
              "        const docLink = document.createElement('div');\n",
              "        docLink.innerHTML = docLinkHtml;\n",
              "        element.appendChild(docLink);\n",
              "      }\n",
              "    </script>\n",
              "  </div>\n",
              "\n",
              "\n",
              "<div id=\"df-7d416ef3-1fa3-41ec-8998-4e14c4c1c092\">\n",
              "  <button class=\"colab-df-quickchart\" onclick=\"quickchart('df-7d416ef3-1fa3-41ec-8998-4e14c4c1c092')\"\n",
              "            title=\"Suggest charts.\"\n",
              "            style=\"display:none;\">\n",
              "\n",
              "<svg xmlns=\"http://www.w3.org/2000/svg\" height=\"24px\"viewBox=\"0 0 24 24\"\n",
              "     width=\"24px\">\n",
              "    <g>\n",
              "        <path d=\"M19 3H5c-1.1 0-2 .9-2 2v14c0 1.1.9 2 2 2h14c1.1 0 2-.9 2-2V5c0-1.1-.9-2-2-2zM9 17H7v-7h2v7zm4 0h-2V7h2v10zm4 0h-2v-4h2v4z\"/>\n",
              "    </g>\n",
              "</svg>\n",
              "  </button>\n",
              "\n",
              "<style>\n",
              "  .colab-df-quickchart {\n",
              "      --bg-color: #E8F0FE;\n",
              "      --fill-color: #1967D2;\n",
              "      --hover-bg-color: #E2EBFA;\n",
              "      --hover-fill-color: #174EA6;\n",
              "      --disabled-fill-color: #AAA;\n",
              "      --disabled-bg-color: #DDD;\n",
              "  }\n",
              "\n",
              "  [theme=dark] .colab-df-quickchart {\n",
              "      --bg-color: #3B4455;\n",
              "      --fill-color: #D2E3FC;\n",
              "      --hover-bg-color: #434B5C;\n",
              "      --hover-fill-color: #FFFFFF;\n",
              "      --disabled-bg-color: #3B4455;\n",
              "      --disabled-fill-color: #666;\n",
              "  }\n",
              "\n",
              "  .colab-df-quickchart {\n",
              "    background-color: var(--bg-color);\n",
              "    border: none;\n",
              "    border-radius: 50%;\n",
              "    cursor: pointer;\n",
              "    display: none;\n",
              "    fill: var(--fill-color);\n",
              "    height: 32px;\n",
              "    padding: 0;\n",
              "    width: 32px;\n",
              "  }\n",
              "\n",
              "  .colab-df-quickchart:hover {\n",
              "    background-color: var(--hover-bg-color);\n",
              "    box-shadow: 0 1px 2px rgba(60, 64, 67, 0.3), 0 1px 3px 1px rgba(60, 64, 67, 0.15);\n",
              "    fill: var(--button-hover-fill-color);\n",
              "  }\n",
              "\n",
              "  .colab-df-quickchart-complete:disabled,\n",
              "  .colab-df-quickchart-complete:disabled:hover {\n",
              "    background-color: var(--disabled-bg-color);\n",
              "    fill: var(--disabled-fill-color);\n",
              "    box-shadow: none;\n",
              "  }\n",
              "\n",
              "  .colab-df-spinner {\n",
              "    border: 2px solid var(--fill-color);\n",
              "    border-color: transparent;\n",
              "    border-bottom-color: var(--fill-color);\n",
              "    animation:\n",
              "      spin 1s steps(1) infinite;\n",
              "  }\n",
              "\n",
              "  @keyframes spin {\n",
              "    0% {\n",
              "      border-color: transparent;\n",
              "      border-bottom-color: var(--fill-color);\n",
              "      border-left-color: var(--fill-color);\n",
              "    }\n",
              "    20% {\n",
              "      border-color: transparent;\n",
              "      border-left-color: var(--fill-color);\n",
              "      border-top-color: var(--fill-color);\n",
              "    }\n",
              "    30% {\n",
              "      border-color: transparent;\n",
              "      border-left-color: var(--fill-color);\n",
              "      border-top-color: var(--fill-color);\n",
              "      border-right-color: var(--fill-color);\n",
              "    }\n",
              "    40% {\n",
              "      border-color: transparent;\n",
              "      border-right-color: var(--fill-color);\n",
              "      border-top-color: var(--fill-color);\n",
              "    }\n",
              "    60% {\n",
              "      border-color: transparent;\n",
              "      border-right-color: var(--fill-color);\n",
              "    }\n",
              "    80% {\n",
              "      border-color: transparent;\n",
              "      border-right-color: var(--fill-color);\n",
              "      border-bottom-color: var(--fill-color);\n",
              "    }\n",
              "    90% {\n",
              "      border-color: transparent;\n",
              "      border-bottom-color: var(--fill-color);\n",
              "    }\n",
              "  }\n",
              "</style>\n",
              "\n",
              "  <script>\n",
              "    async function quickchart(key) {\n",
              "      const quickchartButtonEl =\n",
              "        document.querySelector('#' + key + ' button');\n",
              "      quickchartButtonEl.disabled = true;  // To prevent multiple clicks.\n",
              "      quickchartButtonEl.classList.add('colab-df-spinner');\n",
              "      try {\n",
              "        const charts = await google.colab.kernel.invokeFunction(\n",
              "            'suggestCharts', [key], {});\n",
              "      } catch (error) {\n",
              "        console.error('Error during call to suggestCharts:', error);\n",
              "      }\n",
              "      quickchartButtonEl.classList.remove('colab-df-spinner');\n",
              "      quickchartButtonEl.classList.add('colab-df-quickchart-complete');\n",
              "    }\n",
              "    (() => {\n",
              "      let quickchartButtonEl =\n",
              "        document.querySelector('#df-7d416ef3-1fa3-41ec-8998-4e14c4c1c092 button');\n",
              "      quickchartButtonEl.style.display =\n",
              "        google.colab.kernel.accessAllowed ? 'block' : 'none';\n",
              "    })();\n",
              "  </script>\n",
              "</div>\n",
              "    </div>\n",
              "  </div>\n"
            ]
          },
          "metadata": {},
          "execution_count": 5
        }
      ]
    },
    {
      "cell_type": "code",
      "source": [
        "df.describe(include = 'all')        # describe() gives the overall description of the dataframe"
      ],
      "metadata": {
        "colab": {
          "base_uri": "https://localhost:8080/",
          "height": 466
        },
        "id": "PnaxRGM1nHrp",
        "outputId": "8e81d87c-b079-4749-d5bf-57842f321762"
      },
      "execution_count": null,
      "outputs": [
        {
          "output_type": "execute_result",
          "data": {
            "text/plain": [
              "              Ind_ID GENDER Car_Owner Propert_Owner     CHILDREN  \\\n",
              "count   1.548000e+03   1541      1548          1548  1548.000000   \n",
              "unique           NaN      2         2             2          NaN   \n",
              "top              NaN      F         N             Y          NaN   \n",
              "freq             NaN    973       924          1010          NaN   \n",
              "mean    5.078920e+06    NaN       NaN           NaN     0.412791   \n",
              "std     4.171759e+04    NaN       NaN           NaN     0.776691   \n",
              "min     5.008827e+06    NaN       NaN           NaN     0.000000   \n",
              "25%     5.045070e+06    NaN       NaN           NaN     0.000000   \n",
              "50%     5.078842e+06    NaN       NaN           NaN     0.000000   \n",
              "75%     5.115673e+06    NaN       NaN           NaN     1.000000   \n",
              "max     5.150412e+06    NaN       NaN           NaN    14.000000   \n",
              "\n",
              "        Annual_income Type_Income                      EDUCATION  \\\n",
              "count    1.525000e+03        1548                           1548   \n",
              "unique            NaN           4                              5   \n",
              "top               NaN     Working  Secondary / secondary special   \n",
              "freq              NaN         798                           1031   \n",
              "mean     1.913993e+05         NaN                            NaN   \n",
              "std      1.132530e+05         NaN                            NaN   \n",
              "min      3.375000e+04         NaN                            NaN   \n",
              "25%      1.215000e+05         NaN                            NaN   \n",
              "50%      1.665000e+05         NaN                            NaN   \n",
              "75%      2.250000e+05         NaN                            NaN   \n",
              "max      1.575000e+06         NaN                            NaN   \n",
              "\n",
              "       Marital_status       Housing_type  Birthday_count  Employed_days  \\\n",
              "count            1548               1548     1526.000000    1548.000000   \n",
              "unique              5                  6             NaN            NaN   \n",
              "top           Married  House / apartment             NaN            NaN   \n",
              "freq             1049               1380             NaN            NaN   \n",
              "mean              NaN                NaN   -16040.342071   59364.689922   \n",
              "std               NaN                NaN     4229.503202  137808.062701   \n",
              "min               NaN                NaN   -24946.000000  -14887.000000   \n",
              "25%               NaN                NaN   -19553.000000   -3174.500000   \n",
              "50%               NaN                NaN   -15661.500000   -1565.000000   \n",
              "75%               NaN                NaN   -12417.000000    -431.750000   \n",
              "max               NaN                NaN    -7705.000000  365243.000000   \n",
              "\n",
              "        Mobile_phone   Work_Phone        Phone     EMAIL_ID Type_Occupation  \\\n",
              "count         1548.0  1548.000000  1548.000000  1548.000000            1060   \n",
              "unique           NaN          NaN          NaN          NaN              18   \n",
              "top              NaN          NaN          NaN          NaN        Laborers   \n",
              "freq             NaN          NaN          NaN          NaN             268   \n",
              "mean             1.0     0.208010     0.309432     0.092377             NaN   \n",
              "std              0.0     0.406015     0.462409     0.289651             NaN   \n",
              "min              1.0     0.000000     0.000000     0.000000             NaN   \n",
              "25%              1.0     0.000000     0.000000     0.000000             NaN   \n",
              "50%              1.0     0.000000     0.000000     0.000000             NaN   \n",
              "75%              1.0     0.000000     1.000000     0.000000             NaN   \n",
              "max              1.0     1.000000     1.000000     1.000000             NaN   \n",
              "\n",
              "        Family_Members        label  \n",
              "count      1548.000000  1548.000000  \n",
              "unique             NaN          NaN  \n",
              "top                NaN          NaN  \n",
              "freq               NaN          NaN  \n",
              "mean          2.161499     0.113049  \n",
              "std           0.947772     0.316755  \n",
              "min           1.000000     0.000000  \n",
              "25%           2.000000     0.000000  \n",
              "50%           2.000000     0.000000  \n",
              "75%           3.000000     0.000000  \n",
              "max          15.000000     1.000000  "
            ],
            "text/html": [
              "\n",
              "  <div id=\"df-2403c3d7-c7d7-417a-951c-114fcc11e1ba\" class=\"colab-df-container\">\n",
              "    <div>\n",
              "<style scoped>\n",
              "    .dataframe tbody tr th:only-of-type {\n",
              "        vertical-align: middle;\n",
              "    }\n",
              "\n",
              "    .dataframe tbody tr th {\n",
              "        vertical-align: top;\n",
              "    }\n",
              "\n",
              "    .dataframe thead th {\n",
              "        text-align: right;\n",
              "    }\n",
              "</style>\n",
              "<table border=\"1\" class=\"dataframe\">\n",
              "  <thead>\n",
              "    <tr style=\"text-align: right;\">\n",
              "      <th></th>\n",
              "      <th>Ind_ID</th>\n",
              "      <th>GENDER</th>\n",
              "      <th>Car_Owner</th>\n",
              "      <th>Propert_Owner</th>\n",
              "      <th>CHILDREN</th>\n",
              "      <th>Annual_income</th>\n",
              "      <th>Type_Income</th>\n",
              "      <th>EDUCATION</th>\n",
              "      <th>Marital_status</th>\n",
              "      <th>Housing_type</th>\n",
              "      <th>Birthday_count</th>\n",
              "      <th>Employed_days</th>\n",
              "      <th>Mobile_phone</th>\n",
              "      <th>Work_Phone</th>\n",
              "      <th>Phone</th>\n",
              "      <th>EMAIL_ID</th>\n",
              "      <th>Type_Occupation</th>\n",
              "      <th>Family_Members</th>\n",
              "      <th>label</th>\n",
              "    </tr>\n",
              "  </thead>\n",
              "  <tbody>\n",
              "    <tr>\n",
              "      <th>count</th>\n",
              "      <td>1.548000e+03</td>\n",
              "      <td>1541</td>\n",
              "      <td>1548</td>\n",
              "      <td>1548</td>\n",
              "      <td>1548.000000</td>\n",
              "      <td>1.525000e+03</td>\n",
              "      <td>1548</td>\n",
              "      <td>1548</td>\n",
              "      <td>1548</td>\n",
              "      <td>1548</td>\n",
              "      <td>1526.000000</td>\n",
              "      <td>1548.000000</td>\n",
              "      <td>1548.0</td>\n",
              "      <td>1548.000000</td>\n",
              "      <td>1548.000000</td>\n",
              "      <td>1548.000000</td>\n",
              "      <td>1060</td>\n",
              "      <td>1548.000000</td>\n",
              "      <td>1548.000000</td>\n",
              "    </tr>\n",
              "    <tr>\n",
              "      <th>unique</th>\n",
              "      <td>NaN</td>\n",
              "      <td>2</td>\n",
              "      <td>2</td>\n",
              "      <td>2</td>\n",
              "      <td>NaN</td>\n",
              "      <td>NaN</td>\n",
              "      <td>4</td>\n",
              "      <td>5</td>\n",
              "      <td>5</td>\n",
              "      <td>6</td>\n",
              "      <td>NaN</td>\n",
              "      <td>NaN</td>\n",
              "      <td>NaN</td>\n",
              "      <td>NaN</td>\n",
              "      <td>NaN</td>\n",
              "      <td>NaN</td>\n",
              "      <td>18</td>\n",
              "      <td>NaN</td>\n",
              "      <td>NaN</td>\n",
              "    </tr>\n",
              "    <tr>\n",
              "      <th>top</th>\n",
              "      <td>NaN</td>\n",
              "      <td>F</td>\n",
              "      <td>N</td>\n",
              "      <td>Y</td>\n",
              "      <td>NaN</td>\n",
              "      <td>NaN</td>\n",
              "      <td>Working</td>\n",
              "      <td>Secondary / secondary special</td>\n",
              "      <td>Married</td>\n",
              "      <td>House / apartment</td>\n",
              "      <td>NaN</td>\n",
              "      <td>NaN</td>\n",
              "      <td>NaN</td>\n",
              "      <td>NaN</td>\n",
              "      <td>NaN</td>\n",
              "      <td>NaN</td>\n",
              "      <td>Laborers</td>\n",
              "      <td>NaN</td>\n",
              "      <td>NaN</td>\n",
              "    </tr>\n",
              "    <tr>\n",
              "      <th>freq</th>\n",
              "      <td>NaN</td>\n",
              "      <td>973</td>\n",
              "      <td>924</td>\n",
              "      <td>1010</td>\n",
              "      <td>NaN</td>\n",
              "      <td>NaN</td>\n",
              "      <td>798</td>\n",
              "      <td>1031</td>\n",
              "      <td>1049</td>\n",
              "      <td>1380</td>\n",
              "      <td>NaN</td>\n",
              "      <td>NaN</td>\n",
              "      <td>NaN</td>\n",
              "      <td>NaN</td>\n",
              "      <td>NaN</td>\n",
              "      <td>NaN</td>\n",
              "      <td>268</td>\n",
              "      <td>NaN</td>\n",
              "      <td>NaN</td>\n",
              "    </tr>\n",
              "    <tr>\n",
              "      <th>mean</th>\n",
              "      <td>5.078920e+06</td>\n",
              "      <td>NaN</td>\n",
              "      <td>NaN</td>\n",
              "      <td>NaN</td>\n",
              "      <td>0.412791</td>\n",
              "      <td>1.913993e+05</td>\n",
              "      <td>NaN</td>\n",
              "      <td>NaN</td>\n",
              "      <td>NaN</td>\n",
              "      <td>NaN</td>\n",
              "      <td>-16040.342071</td>\n",
              "      <td>59364.689922</td>\n",
              "      <td>1.0</td>\n",
              "      <td>0.208010</td>\n",
              "      <td>0.309432</td>\n",
              "      <td>0.092377</td>\n",
              "      <td>NaN</td>\n",
              "      <td>2.161499</td>\n",
              "      <td>0.113049</td>\n",
              "    </tr>\n",
              "    <tr>\n",
              "      <th>std</th>\n",
              "      <td>4.171759e+04</td>\n",
              "      <td>NaN</td>\n",
              "      <td>NaN</td>\n",
              "      <td>NaN</td>\n",
              "      <td>0.776691</td>\n",
              "      <td>1.132530e+05</td>\n",
              "      <td>NaN</td>\n",
              "      <td>NaN</td>\n",
              "      <td>NaN</td>\n",
              "      <td>NaN</td>\n",
              "      <td>4229.503202</td>\n",
              "      <td>137808.062701</td>\n",
              "      <td>0.0</td>\n",
              "      <td>0.406015</td>\n",
              "      <td>0.462409</td>\n",
              "      <td>0.289651</td>\n",
              "      <td>NaN</td>\n",
              "      <td>0.947772</td>\n",
              "      <td>0.316755</td>\n",
              "    </tr>\n",
              "    <tr>\n",
              "      <th>min</th>\n",
              "      <td>5.008827e+06</td>\n",
              "      <td>NaN</td>\n",
              "      <td>NaN</td>\n",
              "      <td>NaN</td>\n",
              "      <td>0.000000</td>\n",
              "      <td>3.375000e+04</td>\n",
              "      <td>NaN</td>\n",
              "      <td>NaN</td>\n",
              "      <td>NaN</td>\n",
              "      <td>NaN</td>\n",
              "      <td>-24946.000000</td>\n",
              "      <td>-14887.000000</td>\n",
              "      <td>1.0</td>\n",
              "      <td>0.000000</td>\n",
              "      <td>0.000000</td>\n",
              "      <td>0.000000</td>\n",
              "      <td>NaN</td>\n",
              "      <td>1.000000</td>\n",
              "      <td>0.000000</td>\n",
              "    </tr>\n",
              "    <tr>\n",
              "      <th>25%</th>\n",
              "      <td>5.045070e+06</td>\n",
              "      <td>NaN</td>\n",
              "      <td>NaN</td>\n",
              "      <td>NaN</td>\n",
              "      <td>0.000000</td>\n",
              "      <td>1.215000e+05</td>\n",
              "      <td>NaN</td>\n",
              "      <td>NaN</td>\n",
              "      <td>NaN</td>\n",
              "      <td>NaN</td>\n",
              "      <td>-19553.000000</td>\n",
              "      <td>-3174.500000</td>\n",
              "      <td>1.0</td>\n",
              "      <td>0.000000</td>\n",
              "      <td>0.000000</td>\n",
              "      <td>0.000000</td>\n",
              "      <td>NaN</td>\n",
              "      <td>2.000000</td>\n",
              "      <td>0.000000</td>\n",
              "    </tr>\n",
              "    <tr>\n",
              "      <th>50%</th>\n",
              "      <td>5.078842e+06</td>\n",
              "      <td>NaN</td>\n",
              "      <td>NaN</td>\n",
              "      <td>NaN</td>\n",
              "      <td>0.000000</td>\n",
              "      <td>1.665000e+05</td>\n",
              "      <td>NaN</td>\n",
              "      <td>NaN</td>\n",
              "      <td>NaN</td>\n",
              "      <td>NaN</td>\n",
              "      <td>-15661.500000</td>\n",
              "      <td>-1565.000000</td>\n",
              "      <td>1.0</td>\n",
              "      <td>0.000000</td>\n",
              "      <td>0.000000</td>\n",
              "      <td>0.000000</td>\n",
              "      <td>NaN</td>\n",
              "      <td>2.000000</td>\n",
              "      <td>0.000000</td>\n",
              "    </tr>\n",
              "    <tr>\n",
              "      <th>75%</th>\n",
              "      <td>5.115673e+06</td>\n",
              "      <td>NaN</td>\n",
              "      <td>NaN</td>\n",
              "      <td>NaN</td>\n",
              "      <td>1.000000</td>\n",
              "      <td>2.250000e+05</td>\n",
              "      <td>NaN</td>\n",
              "      <td>NaN</td>\n",
              "      <td>NaN</td>\n",
              "      <td>NaN</td>\n",
              "      <td>-12417.000000</td>\n",
              "      <td>-431.750000</td>\n",
              "      <td>1.0</td>\n",
              "      <td>0.000000</td>\n",
              "      <td>1.000000</td>\n",
              "      <td>0.000000</td>\n",
              "      <td>NaN</td>\n",
              "      <td>3.000000</td>\n",
              "      <td>0.000000</td>\n",
              "    </tr>\n",
              "    <tr>\n",
              "      <th>max</th>\n",
              "      <td>5.150412e+06</td>\n",
              "      <td>NaN</td>\n",
              "      <td>NaN</td>\n",
              "      <td>NaN</td>\n",
              "      <td>14.000000</td>\n",
              "      <td>1.575000e+06</td>\n",
              "      <td>NaN</td>\n",
              "      <td>NaN</td>\n",
              "      <td>NaN</td>\n",
              "      <td>NaN</td>\n",
              "      <td>-7705.000000</td>\n",
              "      <td>365243.000000</td>\n",
              "      <td>1.0</td>\n",
              "      <td>1.000000</td>\n",
              "      <td>1.000000</td>\n",
              "      <td>1.000000</td>\n",
              "      <td>NaN</td>\n",
              "      <td>15.000000</td>\n",
              "      <td>1.000000</td>\n",
              "    </tr>\n",
              "  </tbody>\n",
              "</table>\n",
              "</div>\n",
              "    <div class=\"colab-df-buttons\">\n",
              "\n",
              "  <div class=\"colab-df-container\">\n",
              "    <button class=\"colab-df-convert\" onclick=\"convertToInteractive('df-2403c3d7-c7d7-417a-951c-114fcc11e1ba')\"\n",
              "            title=\"Convert this dataframe to an interactive table.\"\n",
              "            style=\"display:none;\">\n",
              "\n",
              "  <svg xmlns=\"http://www.w3.org/2000/svg\" height=\"24px\" viewBox=\"0 -960 960 960\">\n",
              "    <path d=\"M120-120v-720h720v720H120Zm60-500h600v-160H180v160Zm220 220h160v-160H400v160Zm0 220h160v-160H400v160ZM180-400h160v-160H180v160Zm440 0h160v-160H620v160ZM180-180h160v-160H180v160Zm440 0h160v-160H620v160Z\"/>\n",
              "  </svg>\n",
              "    </button>\n",
              "\n",
              "  <style>\n",
              "    .colab-df-container {\n",
              "      display:flex;\n",
              "      gap: 12px;\n",
              "    }\n",
              "\n",
              "    .colab-df-convert {\n",
              "      background-color: #E8F0FE;\n",
              "      border: none;\n",
              "      border-radius: 50%;\n",
              "      cursor: pointer;\n",
              "      display: none;\n",
              "      fill: #1967D2;\n",
              "      height: 32px;\n",
              "      padding: 0 0 0 0;\n",
              "      width: 32px;\n",
              "    }\n",
              "\n",
              "    .colab-df-convert:hover {\n",
              "      background-color: #E2EBFA;\n",
              "      box-shadow: 0px 1px 2px rgba(60, 64, 67, 0.3), 0px 1px 3px 1px rgba(60, 64, 67, 0.15);\n",
              "      fill: #174EA6;\n",
              "    }\n",
              "\n",
              "    .colab-df-buttons div {\n",
              "      margin-bottom: 4px;\n",
              "    }\n",
              "\n",
              "    [theme=dark] .colab-df-convert {\n",
              "      background-color: #3B4455;\n",
              "      fill: #D2E3FC;\n",
              "    }\n",
              "\n",
              "    [theme=dark] .colab-df-convert:hover {\n",
              "      background-color: #434B5C;\n",
              "      box-shadow: 0px 1px 3px 1px rgba(0, 0, 0, 0.15);\n",
              "      filter: drop-shadow(0px 1px 2px rgba(0, 0, 0, 0.3));\n",
              "      fill: #FFFFFF;\n",
              "    }\n",
              "  </style>\n",
              "\n",
              "    <script>\n",
              "      const buttonEl =\n",
              "        document.querySelector('#df-2403c3d7-c7d7-417a-951c-114fcc11e1ba button.colab-df-convert');\n",
              "      buttonEl.style.display =\n",
              "        google.colab.kernel.accessAllowed ? 'block' : 'none';\n",
              "\n",
              "      async function convertToInteractive(key) {\n",
              "        const element = document.querySelector('#df-2403c3d7-c7d7-417a-951c-114fcc11e1ba');\n",
              "        const dataTable =\n",
              "          await google.colab.kernel.invokeFunction('convertToInteractive',\n",
              "                                                    [key], {});\n",
              "        if (!dataTable) return;\n",
              "\n",
              "        const docLinkHtml = 'Like what you see? Visit the ' +\n",
              "          '<a target=\"_blank\" href=https://colab.research.google.com/notebooks/data_table.ipynb>data table notebook</a>'\n",
              "          + ' to learn more about interactive tables.';\n",
              "        element.innerHTML = '';\n",
              "        dataTable['output_type'] = 'display_data';\n",
              "        await google.colab.output.renderOutput(dataTable, element);\n",
              "        const docLink = document.createElement('div');\n",
              "        docLink.innerHTML = docLinkHtml;\n",
              "        element.appendChild(docLink);\n",
              "      }\n",
              "    </script>\n",
              "  </div>\n",
              "\n",
              "\n",
              "<div id=\"df-6df1b55f-9137-443f-9ac0-96a466fecc02\">\n",
              "  <button class=\"colab-df-quickchart\" onclick=\"quickchart('df-6df1b55f-9137-443f-9ac0-96a466fecc02')\"\n",
              "            title=\"Suggest charts.\"\n",
              "            style=\"display:none;\">\n",
              "\n",
              "<svg xmlns=\"http://www.w3.org/2000/svg\" height=\"24px\"viewBox=\"0 0 24 24\"\n",
              "     width=\"24px\">\n",
              "    <g>\n",
              "        <path d=\"M19 3H5c-1.1 0-2 .9-2 2v14c0 1.1.9 2 2 2h14c1.1 0 2-.9 2-2V5c0-1.1-.9-2-2-2zM9 17H7v-7h2v7zm4 0h-2V7h2v10zm4 0h-2v-4h2v4z\"/>\n",
              "    </g>\n",
              "</svg>\n",
              "  </button>\n",
              "\n",
              "<style>\n",
              "  .colab-df-quickchart {\n",
              "      --bg-color: #E8F0FE;\n",
              "      --fill-color: #1967D2;\n",
              "      --hover-bg-color: #E2EBFA;\n",
              "      --hover-fill-color: #174EA6;\n",
              "      --disabled-fill-color: #AAA;\n",
              "      --disabled-bg-color: #DDD;\n",
              "  }\n",
              "\n",
              "  [theme=dark] .colab-df-quickchart {\n",
              "      --bg-color: #3B4455;\n",
              "      --fill-color: #D2E3FC;\n",
              "      --hover-bg-color: #434B5C;\n",
              "      --hover-fill-color: #FFFFFF;\n",
              "      --disabled-bg-color: #3B4455;\n",
              "      --disabled-fill-color: #666;\n",
              "  }\n",
              "\n",
              "  .colab-df-quickchart {\n",
              "    background-color: var(--bg-color);\n",
              "    border: none;\n",
              "    border-radius: 50%;\n",
              "    cursor: pointer;\n",
              "    display: none;\n",
              "    fill: var(--fill-color);\n",
              "    height: 32px;\n",
              "    padding: 0;\n",
              "    width: 32px;\n",
              "  }\n",
              "\n",
              "  .colab-df-quickchart:hover {\n",
              "    background-color: var(--hover-bg-color);\n",
              "    box-shadow: 0 1px 2px rgba(60, 64, 67, 0.3), 0 1px 3px 1px rgba(60, 64, 67, 0.15);\n",
              "    fill: var(--button-hover-fill-color);\n",
              "  }\n",
              "\n",
              "  .colab-df-quickchart-complete:disabled,\n",
              "  .colab-df-quickchart-complete:disabled:hover {\n",
              "    background-color: var(--disabled-bg-color);\n",
              "    fill: var(--disabled-fill-color);\n",
              "    box-shadow: none;\n",
              "  }\n",
              "\n",
              "  .colab-df-spinner {\n",
              "    border: 2px solid var(--fill-color);\n",
              "    border-color: transparent;\n",
              "    border-bottom-color: var(--fill-color);\n",
              "    animation:\n",
              "      spin 1s steps(1) infinite;\n",
              "  }\n",
              "\n",
              "  @keyframes spin {\n",
              "    0% {\n",
              "      border-color: transparent;\n",
              "      border-bottom-color: var(--fill-color);\n",
              "      border-left-color: var(--fill-color);\n",
              "    }\n",
              "    20% {\n",
              "      border-color: transparent;\n",
              "      border-left-color: var(--fill-color);\n",
              "      border-top-color: var(--fill-color);\n",
              "    }\n",
              "    30% {\n",
              "      border-color: transparent;\n",
              "      border-left-color: var(--fill-color);\n",
              "      border-top-color: var(--fill-color);\n",
              "      border-right-color: var(--fill-color);\n",
              "    }\n",
              "    40% {\n",
              "      border-color: transparent;\n",
              "      border-right-color: var(--fill-color);\n",
              "      border-top-color: var(--fill-color);\n",
              "    }\n",
              "    60% {\n",
              "      border-color: transparent;\n",
              "      border-right-color: var(--fill-color);\n",
              "    }\n",
              "    80% {\n",
              "      border-color: transparent;\n",
              "      border-right-color: var(--fill-color);\n",
              "      border-bottom-color: var(--fill-color);\n",
              "    }\n",
              "    90% {\n",
              "      border-color: transparent;\n",
              "      border-bottom-color: var(--fill-color);\n",
              "    }\n",
              "  }\n",
              "</style>\n",
              "\n",
              "  <script>\n",
              "    async function quickchart(key) {\n",
              "      const quickchartButtonEl =\n",
              "        document.querySelector('#' + key + ' button');\n",
              "      quickchartButtonEl.disabled = true;  // To prevent multiple clicks.\n",
              "      quickchartButtonEl.classList.add('colab-df-spinner');\n",
              "      try {\n",
              "        const charts = await google.colab.kernel.invokeFunction(\n",
              "            'suggestCharts', [key], {});\n",
              "      } catch (error) {\n",
              "        console.error('Error during call to suggestCharts:', error);\n",
              "      }\n",
              "      quickchartButtonEl.classList.remove('colab-df-spinner');\n",
              "      quickchartButtonEl.classList.add('colab-df-quickchart-complete');\n",
              "    }\n",
              "    (() => {\n",
              "      let quickchartButtonEl =\n",
              "        document.querySelector('#df-6df1b55f-9137-443f-9ac0-96a466fecc02 button');\n",
              "      quickchartButtonEl.style.display =\n",
              "        google.colab.kernel.accessAllowed ? 'block' : 'none';\n",
              "    })();\n",
              "  </script>\n",
              "</div>\n",
              "    </div>\n",
              "  </div>\n"
            ]
          },
          "metadata": {},
          "execution_count": 23
        }
      ]
    },
    {
      "cell_type": "markdown",
      "source": [
        "# **EDA by Data Visualizations**"
      ],
      "metadata": {
        "id": "EYcrVY3u7lym"
      }
    },
    {
      "cell_type": "code",
      "source": [
        "# defining style and color palette of the plots\n",
        "\n",
        "sns.set_style('darkgrid')\n",
        "sns.set_palette('Set2')"
      ],
      "metadata": {
        "id": "ERqx03ds70OB"
      },
      "execution_count": null,
      "outputs": []
    },
    {
      "cell_type": "code",
      "source": [
        "fig = px.histogram(df, x = 'Annual_income', color = 'label', height = 500, width = 800, opacity = 0.75,\n",
        "                   labels = {'Annual_income':'Annual Income'},\n",
        "                   title = 'Distribution of Annual income')\n",
        "fig.update_layout(title = dict(x = 0.5, y = 0.9, xanchor = 'center', yanchor = 'top',\n",
        "                               font = dict(size = 18)))\n",
        "\n",
        "fig.show()"
      ],
      "metadata": {
        "colab": {
          "base_uri": "https://localhost:8080/",
          "height": 517
        },
        "id": "LCKI0_4w7-dQ",
        "outputId": "4f99660a-2fc0-4da8-918e-65bfc7d8170a"
      },
      "execution_count": null,
      "outputs": [
        {
          "output_type": "display_data",
          "data": {
            "text/html": [
              "<html>\n",
              "<head><meta charset=\"utf-8\" /></head>\n",
              "<body>\n",
              "    <div>            <script src=\"https://cdnjs.cloudflare.com/ajax/libs/mathjax/2.7.5/MathJax.js?config=TeX-AMS-MML_SVG\"></script><script type=\"text/javascript\">if (window.MathJax && window.MathJax.Hub && window.MathJax.Hub.Config) {window.MathJax.Hub.Config({SVG: {font: \"STIX-Web\"}});}</script>                <script type=\"text/javascript\">window.PlotlyConfig = {MathJaxConfig: 'local'};</script>\n",
              "        <script charset=\"utf-8\" src=\"https://cdn.plot.ly/plotly-2.24.1.min.js\"></script>                <div id=\"989ff151-77e3-4066-9e2d-98f52e7532b5\" class=\"plotly-graph-div\" style=\"height:500px; width:800px;\"></div>            <script type=\"text/javascript\">                                    window.PLOTLYENV=window.PLOTLYENV || {};                                    if (document.getElementById(\"989ff151-77e3-4066-9e2d-98f52e7532b5\")) {                    Plotly.newPlot(                        \"989ff151-77e3-4066-9e2d-98f52e7532b5\",                        [{\"alignmentgroup\":\"True\",\"bingroup\":\"x\",\"hovertemplate\":\"label=1\\u003cbr\\u003eAnnual Income=%{x}\\u003cbr\\u003ecount=%{y}\\u003cextra\\u003e\\u003c\\u002fextra\\u003e\",\"legendgroup\":\"1\",\"marker\":{\"color\":\"#636efa\",\"opacity\":0.75,\"pattern\":{\"shape\":\"\"}},\"name\":\"1\",\"offsetgroup\":\"1\",\"orientation\":\"v\",\"showlegend\":true,\"x\":[180000.0,315000.0,315000.0,null,315000.0,315000.0,315000.0,180000.0,450000.0,450000.0,450000.0,90000.0,null,90000.0,472500.0,270000.0,270000.0,126000.0,126000.0,90000.0,202500.0,202500.0,157500.0,112500.0,180000.0,540000.0,112500.0,null,292500.0,540000.0,90000.0,112500.0,135000.0,135000.0,180000.0,112500.0,292500.0,76500.0,215100.0,450000.0,270000.0,225000.0,225000.0,225000.0,157500.0,157500.0,67500.0,180000.0,180000.0,157500.0,157500.0,171000.0,135000.0,135000.0,103500.0,103500.0,225000.0,225000.0,225000.0,180000.0,157500.0,157500.0,180000.0,180000.0,99000.0,null,99000.0,99000.0,391500.0,391500.0,391500.0,65250.0,72900.0,225000.0,67500.0,180000.0,null,202500.0,157500.0,202500.0,270000.0,135000.0,360000.0,256500.0,256500.0,157500.0,225000.0,180000.0,180000.0,202500.0,202500.0,202500.0,315000.0,225000.0,126000.0,675000.0,135000.0,135000.0,247500.0,103500.0,85500.0,135000.0,135000.0,180000.0,121500.0,180000.0,225000.0,null,135000.0,225000.0,67500.0,135000.0,130500.0,130500.0,202500.0,202500.0,202500.0,202500.0,202500.0,126000.0,126000.0,180000.0,180000.0,180000.0,180000.0,null,211500.0,157500.0,81000.0,81000.0,112500.0,112500.0,112500.0,112500.0,112500.0,72000.0,202500.0,148500.0,135000.0,135000.0,270000.0,135000.0,135000.0,162000.0,112500.0,112500.0,112500.0,135000.0,135000.0,195750.0,585000.0,585000.0,null,450000.0,450000.0,112500.0,112500.0,67500.0,67500.0,67500.0,216000.0,306000.0,90000.0,225000.0,108000.0,135000.0,135000.0,108000.0,108000.0,450000.0,450000.0,450000.0,315000.0,157500.0,157500.0],\"xaxis\":\"x\",\"yaxis\":\"y\",\"type\":\"histogram\"},{\"alignmentgroup\":\"True\",\"bingroup\":\"x\",\"hovertemplate\":\"label=0\\u003cbr\\u003eAnnual Income=%{x}\\u003cbr\\u003ecount=%{y}\\u003cextra\\u003e\\u003c\\u002fextra\\u003e\",\"legendgroup\":\"0\",\"marker\":{\"color\":\"#EF553B\",\"opacity\":0.75,\"pattern\":{\"shape\":\"\"}},\"name\":\"0\",\"offsetgroup\":\"0\",\"orientation\":\"v\",\"showlegend\":true,\"x\":[81000.0,225000.0,180000.0,135000.0,135000.0,63000.0,135000.0,112500.0,112500.0,45000.0,null,202500.0,180000.0,450000.0,256500.0,90000.0,180000.0,90000.0,135000.0,126000.0,126000.0,337500.0,90000.0,131400.0,180000.0,247500.0,121500.0,117000.0,90000.0,445500.0,157500.0,112500.0,180000.0,157500.0,117000.0,234000.0,1575000.0,247500.0,144000.0,180000.0,null,216000.0,90000.0,171000.0,180000.0,225000.0,225000.0,270000.0,67050.0,270000.0,73350.0,112500.0,144000.0,225000.0,112500.0,292500.0,135000.0,157500.0,1575000.0,157500.0,157500.0,135000.0,112500.0,202500.0,193500.0,225000.0,108000.0,900000.0,292500.0,270000.0,270000.0,292500.0,292500.0,157500.0,76500.0,157500.0,180000.0,135000.0,112500.0,360000.0,157500.0,225000.0,112500.0,121500.0,202500.0,112500.0,135000.0,103500.0,157500.0,337500.0,180000.0,112500.0,157500.0,360000.0,135000.0,337500.0,135000.0,360000.0,null,450000.0,270000.0,270000.0,270000.0,450000.0,157500.0,112500.0,292500.0,112500.0,247500.0,157500.0,225000.0,94500.0,81000.0,180000.0,198000.0,180000.0,315000.0,67500.0,180000.0,202500.0,112500.0,306000.0,90000.0,270000.0,270000.0,234000.0,171000.0,225000.0,94500.0,117000.0,180000.0,202500.0,54000.0,112500.0,85500.0,135000.0,166500.0,157500.0,247500.0,180000.0,72000.0,202500.0,180000.0,270000.0,202500.0,360000.0,270000.0,270000.0,112500.0,null,157500.0,202500.0,99000.0,162000.0,225000.0,225000.0,72000.0,135000.0,315000.0,167400.0,180000.0,135000.0,99000.0,225000.0,153000.0,423000.0,90000.0,360000.0,247500.0,225000.0,67500.0,112500.0,157500.0,90000.0,90000.0,225000.0,112500.0,112500.0,315000.0,135000.0,450000.0,90000.0,270000.0,180000.0,135000.0,243000.0,225000.0,112500.0,234000.0,180000.0,121500.0,121500.0,270000.0,180000.0,90000.0,135000.0,247500.0,76500.0,85500.0,202500.0,157500.0,225000.0,225000.0,540000.0,283500.0,90000.0,null,252000.0,135000.0,315000.0,450000.0,180000.0,270000.0,495000.0,180000.0,306000.0,157500.0,180000.0,612000.0,36000.0,112500.0,292500.0,180000.0,202500.0,292500.0,315000.0,135000.0,337500.0,157500.0,360000.0,135000.0,270000.0,157500.0,157500.0,139500.0,135000.0,133650.0,427500.0,81000.0,225000.0,126000.0,135000.0,94500.0,180000.0,157500.0,252000.0,202500.0,117000.0,247500.0,180000.0,180000.0,180000.0,157500.0,135000.0,null,202500.0,90000.0,247500.0,99000.0,247500.0,202500.0,90000.0,121500.0,157500.0,121500.0,135000.0,180000.0,144000.0,126000.0,225000.0,157500.0,157500.0,270000.0,261000.0,135000.0,202500.0,157500.0,103500.0,135000.0,135000.0,112500.0,231750.0,202500.0,247500.0,135000.0,135000.0,112500.0,117000.0,112500.0,135000.0,103500.0,315000.0,180000.0,247500.0,135000.0,157500.0,315000.0,247500.0,157500.0,null,247500.0,166500.0,112500.0,90900.0,112500.0,45900.0,126000.0,103500.0,119250.0,202500.0,157500.0,112500.0,315000.0,270000.0,162000.0,270000.0,112500.0,58500.0,94500.0,270000.0,270000.0,99000.0,315000.0,157500.0,180000.0,211500.0,202500.0,180000.0,144000.0,144000.0,270000.0,148500.0,157500.0,90000.0,148500.0,99000.0,315000.0,162000.0,202500.0,225000.0,612000.0,292500.0,67500.0,157500.0,135000.0,67500.0,144000.0,90000.0,112500.0,112500.0,135000.0,360000.0,112500.0,225000.0,112500.0,202500.0,202500.0,225000.0,112500.0,202500.0,328500.0,112500.0,202500.0,135000.0,157500.0,270000.0,157500.0,193500.0,103500.0,90000.0,198000.0,202500.0,225000.0,72000.0,202500.0,247500.0,157500.0,225000.0,112500.0,450000.0,180000.0,108000.0,787500.0,202500.0,157500.0,90000.0,null,225000.0,90000.0,72000.0,225000.0,157500.0,360000.0,450000.0,216000.0,157500.0,315000.0,315000.0,594000.0,135000.0,180000.0,157500.0,234000.0,99000.0,225000.0,292500.0,198000.0,90000.0,247500.0,112500.0,157500.0,112500.0,585000.0,180000.0,225000.0,225000.0,135000.0,112500.0,112500.0,180000.0,112500.0,117000.0,135000.0,270000.0,135000.0,157500.0,243000.0,121500.0,135000.0,225000.0,225000.0,112500.0,157500.0,202500.0,337500.0,103500.0,99000.0,67500.0,112500.0,270000.0,315000.0,135000.0,180000.0,225000.0,85500.0,135000.0,119700.0,495000.0,112500.0,153000.0,216000.0,202500.0,90000.0,108000.0,270000.0,76500.0,69372.0,135000.0,117000.0,202500.0,126000.0,135000.0,180000.0,225000.0,81000.0,157500.0,90000.0,225000.0,157500.0,103500.0,202500.0,37800.0,135000.0,157500.0,180000.0,135000.0,225000.0,157500.0,387000.0,225000.0,225000.0,126000.0,135000.0,202500.0,225000.0,157500.0,202500.0,247500.0,225000.0,112500.0,112500.0,135000.0,207000.0,270000.0,315000.0,315000.0,112500.0,121500.0,225000.0,225000.0,157500.0,225000.0,135000.0,225000.0,270000.0,202500.0,135000.0,112500.0,157500.0,450000.0,202500.0,900000.0,135000.0,337500.0,94500.0,90000.0,157500.0,270000.0,112500.0,135000.0,270000.0,112500.0,225000.0,54000.0,189000.0,135000.0,157500.0,121500.0,180000.0,121500.0,225000.0,180000.0,315000.0,112500.0,90000.0,90000.0,45000.0,180000.0,112500.0,135000.0,360000.0,135000.0,99000.0,270000.0,157500.0,null,180000.0,315000.0,112500.0,108000.0,180000.0,225000.0,90000.0,292500.0,157500.0,135000.0,315000.0,225000.0,333000.0,171000.0,130500.0,112500.0,202500.0,126000.0,225000.0,135000.0,112500.0,105750.0,135000.0,180000.0,360000.0,157500.0,90000.0,112500.0,180000.0,225000.0,67500.0,270000.0,202500.0,144000.0,207000.0,180000.0,202500.0,202500.0,180000.0,126000.0,157500.0,225000.0,202500.0,103500.0,90000.0,135000.0,67500.0,135000.0,382500.0,270000.0,202500.0,292500.0,225000.0,135000.0,76500.0,180000.0,450000.0,90000.0,157500.0,306000.0,90000.0,135000.0,193500.0,180000.0,270000.0,112500.0,202500.0,180000.0,139500.0,135000.0,202500.0,112500.0,126000.0,193500.0,112500.0,337500.0,157500.0,193500.0,180000.0,315000.0,180000.0,90000.0,180000.0,112500.0,157500.0,135000.0,315000.0,112500.0,135000.0,99000.0,900000.0,270000.0,112500.0,180000.0,141750.0,180000.0,112500.0,225000.0,270000.0,202500.0,135000.0,292500.0,202500.0,99000.0,202500.0,306000.0,148500.0,135000.0,180000.0,180000.0,157500.0,247500.0,112500.0,180000.0,103500.0,198000.0,135000.0,67500.0,202500.0,315000.0,292500.0,148500.0,202500.0,180000.0,90000.0,135000.0,135000.0,261000.0,135000.0,112500.0,135000.0,135000.0,360000.0,171000.0,40500.0,130500.0,306000.0,202500.0,112500.0,112500.0,90000.0,153000.0,135000.0,180000.0,112500.0,90000.0,157500.0,247500.0,112500.0,67500.0,360000.0,360000.0,315000.0,157500.0,135000.0,166500.0,180000.0,225000.0,135000.0,135000.0,193500.0,247500.0,315000.0,405000.0,405000.0,90000.0,270000.0,243000.0,180000.0,112500.0,337500.0,135000.0,117000.0,202500.0,270000.0,202500.0,135000.0,216000.0,135000.0,225000.0,81000.0,180000.0,292500.0,225000.0,157500.0,157500.0,166500.0,445500.0,180000.0,45000.0,315000.0,450000.0,180000.0,90000.0,null,148500.0,135000.0,144000.0,135000.0,360000.0,90000.0,157500.0,135000.0,292500.0,112500.0,216000.0,126000.0,135000.0,189000.0,337500.0,44550.0,112500.0,157500.0,112500.0,135000.0,135000.0,301500.0,112500.0,90000.0,67500.0,292500.0,315000.0,117000.0,157500.0,67500.0,189000.0,202500.0,157500.0,225000.0,112500.0,202500.0,180000.0,225000.0,157500.0,180000.0,112500.0,81000.0,90000.0,180000.0,94500.0,180000.0,450000.0,315000.0,54000.0,112500.0,157500.0,180000.0,225000.0,360000.0,112500.0,292500.0,360000.0,225000.0,126000.0,135000.0,270000.0,157500.0,216000.0,337500.0,225000.0,108000.0,225000.0,180000.0,180000.0,135000.0,180000.0,112500.0,270000.0,270000.0,270000.0,135000.0,351000.0,202500.0,189000.0,270000.0,144000.0,67500.0,247500.0,157500.0,157500.0,157500.0,180000.0,315000.0,99000.0,351000.0,175500.0,306000.0,157500.0,58500.0,292500.0,null,225000.0,247500.0,189000.0,247500.0,90000.0,148500.0,180000.0,180000.0,121900.5,112500.0,180000.0,225000.0,450000.0,225000.0,135000.0,157500.0,238500.0,261000.0,180000.0,225000.0,135000.0,112500.0,180000.0,171000.0,135000.0,202500.0,33750.0,135000.0,135000.0,157500.0,67500.0,135000.0,153000.0,180000.0,180000.0,121500.0,112500.0,270000.0,360000.0,116100.0,225000.0,450000.0,225000.0,405000.0,112500.0,157500.0,202500.0,297000.0,315000.0,202500.0,180000.0,202500.0,360000.0,112500.0,121500.0,112500.0,900000.0,112500.0,135000.0,261000.0,121500.0,202500.0,94500.0,225000.0,630000.0,202500.0,360000.0,157500.0,247500.0,81000.0,360000.0,315000.0,126000.0,225000.0,135000.0,225000.0,112500.0,40500.0,157500.0,67500.0,315000.0,270000.0,180000.0,157500.0,252000.0,270000.0,157500.0,270000.0,162000.0,315000.0,202500.0,180000.0,112500.0,135000.0,225000.0,157500.0,112500.0,202500.0,162000.0,450000.0,157500.0,270000.0,90000.0,67500.0,225000.0,135000.0,135000.0,157500.0,180000.0,418500.0,225000.0,135000.0,360000.0,135000.0,112500.0,225000.0,180000.0,202500.0,315000.0,315000.0,112500.0,83250.0,261000.0,247500.0,360000.0,135000.0,225000.0,270000.0,112500.0,112500.0,225000.0,173250.0,148500.0,315000.0,135000.0,157500.0,76500.0,225000.0,157500.0,216000.0,90000.0,211500.0,202500.0,112500.0,112500.0,166500.0,72000.0,135000.0,157500.0,67500.0,135000.0,207000.0,148500.0,112500.0,112500.0,202500.0,67500.0,67500.0,306000.0,90000.0,360000.0,112500.0,270000.0,450000.0,67500.0,180000.0,270000.0,315000.0,247500.0,72000.0,81000.0,171000.0,135000.0,135000.0,202500.0,292500.0,360000.0,315000.0,405000.0,225000.0,198000.0,202500.0,90000.0,166500.0,73350.0,135000.0,103500.0,202500.0,76500.0,225000.0,126000.0,211500.0,157500.0,112500.0,225000.0,135000.0,405000.0,135000.0,112500.0,247500.0,270000.0,225000.0,90000.0,135000.0,67500.0,135000.0,193500.0,135000.0,202500.0,135000.0,180000.0,112500.0,247500.0,360000.0,193500.0,67500.0,306000.0,153000.0,171000.0,112500.0,360000.0,157500.0,112500.0,292500.0,315000.0,135000.0,180000.0,180000.0,292500.0,135000.0,225000.0,225000.0,135000.0,292500.0,180000.0,274500.0,225000.0,180000.0,225000.0,360000.0,126000.0,180000.0,54000.0,76500.0,247500.0,112500.0,81000.0,135000.0,135000.0,99000.0,67500.0,null,202500.0,58500.0,135000.0,135000.0,180000.0,112500.0,144000.0,112500.0,135000.0,81000.0,193500.0,144000.0,292500.0,157500.0,315000.0,135000.0,202500.0,180000.0,112500.0,112500.0,270000.0,76500.0,292500.0,405000.0,193500.0,180000.0,115200.0,56250.0,180000.0,157500.0,202500.0,135000.0,202500.0,157500.0,225000.0,null,202500.0,85500.0,157500.0,270000.0,157500.0,360000.0,90000.0,90000.0,135000.0,112500.0,225000.0,225000.0,202500.0,202500.0,225000.0,108000.0,225000.0,180000.0,135000.0,112500.0,90000.0,90000.0,103500.0,72000.0,135000.0,495000.0,135000.0,360000.0,135000.0,225000.0,135000.0,81000.0,90000.0,450000.0,360000.0,225000.0,202500.0,202500.0,95850.0,112500.0,126000.0,99000.0,112500.0,180000.0,225000.0,225000.0,202500.0,180000.0,135000.0,315000.0,387000.0,45000.0,185400.0,76500.0,225000.0,810000.0,126000.0,135000.0,90000.0,157500.0,180000.0,112500.0,270000.0,135000.0,103500.0,130500.0,90000.0,112500.0,157500.0,202500.0,67500.0,189000.0,180000.0,135000.0,135000.0,166500.0,90000.0,337500.0,90000.0,157500.0,112500.0,180000.0,112500.0,135000.0,135000.0,135000.0,null,126000.0,247500.0,184500.0,165600.0,315000.0,112500.0,112500.0,202500.0,72000.0,202500.0,391500.0,112500.0,157500.0,112500.0,270000.0,270000.0,247500.0,360000.0,189000.0,157500.0,405000.0,157500.0,130500.0,135000.0,90000.0,67500.0,135000.0,247500.0,157500.0,135000.0,126000.0,180000.0,112500.0,247500.0,112500.0,315000.0,67500.0,337500.0,337500.0,112500.0,157500.0,292500.0,135000.0,450000.0,180000.0,135000.0,180000.0,202500.0,180000.0,112500.0,135000.0,81000.0,135000.0,270000.0,247500.0,202500.0,225000.0,157500.0,216000.0,202500.0,135000.0,247500.0,180000.0,67500.0,130500.0,99000.0,112500.0,247500.0,180000.0,225000.0,405000.0,247500.0,171000.0,180000.0,337500.0,315000.0,247500.0,180000.0,83250.0,202500.0,450000.0,135000.0,225000.0,157500.0,270000.0,216000.0,114750.0,99000.0,47250.0,49500.0,135000.0,225000.0,450000.0,225000.0,90000.0,180000.0,103500.0,135000.0,225000.0,112500.0,270000.0,270000.0,202500.0,180000.0,180000.0,108000.0,225000.0,157500.0,405000.0,225000.0,216000.0,135000.0,112500.0,135000.0,157500.0,45000.0,157500.0,198000.0,234000.0,157500.0,207000.0,198000.0,157500.0,180000.0,216000.0,112500.0,94500.0,69750.0,103500.0,157500.0,112500.0,67500.0,112500.0,157500.0,270000.0,135000.0,112500.0,126000.0,175500.0,148500.0,126000.0,180000.0,225000.0,126000.0,157500.0,157500.0,270000.0,180000.0,144000.0,112500.0,225000.0,450000.0,180000.0,144000.0,225000.0,360000.0,null,225000.0,180000.0,270000.0,225000.0],\"xaxis\":\"x\",\"yaxis\":\"y\",\"type\":\"histogram\"}],                        {\"template\":{\"data\":{\"histogram2dcontour\":[{\"type\":\"histogram2dcontour\",\"colorbar\":{\"outlinewidth\":0,\"ticks\":\"\"},\"colorscale\":[[0.0,\"#0d0887\"],[0.1111111111111111,\"#46039f\"],[0.2222222222222222,\"#7201a8\"],[0.3333333333333333,\"#9c179e\"],[0.4444444444444444,\"#bd3786\"],[0.5555555555555556,\"#d8576b\"],[0.6666666666666666,\"#ed7953\"],[0.7777777777777778,\"#fb9f3a\"],[0.8888888888888888,\"#fdca26\"],[1.0,\"#f0f921\"]]}],\"choropleth\":[{\"type\":\"choropleth\",\"colorbar\":{\"outlinewidth\":0,\"ticks\":\"\"}}],\"histogram2d\":[{\"type\":\"histogram2d\",\"colorbar\":{\"outlinewidth\":0,\"ticks\":\"\"},\"colorscale\":[[0.0,\"#0d0887\"],[0.1111111111111111,\"#46039f\"],[0.2222222222222222,\"#7201a8\"],[0.3333333333333333,\"#9c179e\"],[0.4444444444444444,\"#bd3786\"],[0.5555555555555556,\"#d8576b\"],[0.6666666666666666,\"#ed7953\"],[0.7777777777777778,\"#fb9f3a\"],[0.8888888888888888,\"#fdca26\"],[1.0,\"#f0f921\"]]}],\"heatmap\":[{\"type\":\"heatmap\",\"colorbar\":{\"outlinewidth\":0,\"ticks\":\"\"},\"colorscale\":[[0.0,\"#0d0887\"],[0.1111111111111111,\"#46039f\"],[0.2222222222222222,\"#7201a8\"],[0.3333333333333333,\"#9c179e\"],[0.4444444444444444,\"#bd3786\"],[0.5555555555555556,\"#d8576b\"],[0.6666666666666666,\"#ed7953\"],[0.7777777777777778,\"#fb9f3a\"],[0.8888888888888888,\"#fdca26\"],[1.0,\"#f0f921\"]]}],\"heatmapgl\":[{\"type\":\"heatmapgl\",\"colorbar\":{\"outlinewidth\":0,\"ticks\":\"\"},\"colorscale\":[[0.0,\"#0d0887\"],[0.1111111111111111,\"#46039f\"],[0.2222222222222222,\"#7201a8\"],[0.3333333333333333,\"#9c179e\"],[0.4444444444444444,\"#bd3786\"],[0.5555555555555556,\"#d8576b\"],[0.6666666666666666,\"#ed7953\"],[0.7777777777777778,\"#fb9f3a\"],[0.8888888888888888,\"#fdca26\"],[1.0,\"#f0f921\"]]}],\"contourcarpet\":[{\"type\":\"contourcarpet\",\"colorbar\":{\"outlinewidth\":0,\"ticks\":\"\"}}],\"contour\":[{\"type\":\"contour\",\"colorbar\":{\"outlinewidth\":0,\"ticks\":\"\"},\"colorscale\":[[0.0,\"#0d0887\"],[0.1111111111111111,\"#46039f\"],[0.2222222222222222,\"#7201a8\"],[0.3333333333333333,\"#9c179e\"],[0.4444444444444444,\"#bd3786\"],[0.5555555555555556,\"#d8576b\"],[0.6666666666666666,\"#ed7953\"],[0.7777777777777778,\"#fb9f3a\"],[0.8888888888888888,\"#fdca26\"],[1.0,\"#f0f921\"]]}],\"surface\":[{\"type\":\"surface\",\"colorbar\":{\"outlinewidth\":0,\"ticks\":\"\"},\"colorscale\":[[0.0,\"#0d0887\"],[0.1111111111111111,\"#46039f\"],[0.2222222222222222,\"#7201a8\"],[0.3333333333333333,\"#9c179e\"],[0.4444444444444444,\"#bd3786\"],[0.5555555555555556,\"#d8576b\"],[0.6666666666666666,\"#ed7953\"],[0.7777777777777778,\"#fb9f3a\"],[0.8888888888888888,\"#fdca26\"],[1.0,\"#f0f921\"]]}],\"mesh3d\":[{\"type\":\"mesh3d\",\"colorbar\":{\"outlinewidth\":0,\"ticks\":\"\"}}],\"scatter\":[{\"fillpattern\":{\"fillmode\":\"overlay\",\"size\":10,\"solidity\":0.2},\"type\":\"scatter\"}],\"parcoords\":[{\"type\":\"parcoords\",\"line\":{\"colorbar\":{\"outlinewidth\":0,\"ticks\":\"\"}}}],\"scatterpolargl\":[{\"type\":\"scatterpolargl\",\"marker\":{\"colorbar\":{\"outlinewidth\":0,\"ticks\":\"\"}}}],\"bar\":[{\"error_x\":{\"color\":\"#2a3f5f\"},\"error_y\":{\"color\":\"#2a3f5f\"},\"marker\":{\"line\":{\"color\":\"#E5ECF6\",\"width\":0.5},\"pattern\":{\"fillmode\":\"overlay\",\"size\":10,\"solidity\":0.2}},\"type\":\"bar\"}],\"scattergeo\":[{\"type\":\"scattergeo\",\"marker\":{\"colorbar\":{\"outlinewidth\":0,\"ticks\":\"\"}}}],\"scatterpolar\":[{\"type\":\"scatterpolar\",\"marker\":{\"colorbar\":{\"outlinewidth\":0,\"ticks\":\"\"}}}],\"histogram\":[{\"marker\":{\"pattern\":{\"fillmode\":\"overlay\",\"size\":10,\"solidity\":0.2}},\"type\":\"histogram\"}],\"scattergl\":[{\"type\":\"scattergl\",\"marker\":{\"colorbar\":{\"outlinewidth\":0,\"ticks\":\"\"}}}],\"scatter3d\":[{\"type\":\"scatter3d\",\"line\":{\"colorbar\":{\"outlinewidth\":0,\"ticks\":\"\"}},\"marker\":{\"colorbar\":{\"outlinewidth\":0,\"ticks\":\"\"}}}],\"scattermapbox\":[{\"type\":\"scattermapbox\",\"marker\":{\"colorbar\":{\"outlinewidth\":0,\"ticks\":\"\"}}}],\"scatterternary\":[{\"type\":\"scatterternary\",\"marker\":{\"colorbar\":{\"outlinewidth\":0,\"ticks\":\"\"}}}],\"scattercarpet\":[{\"type\":\"scattercarpet\",\"marker\":{\"colorbar\":{\"outlinewidth\":0,\"ticks\":\"\"}}}],\"carpet\":[{\"aaxis\":{\"endlinecolor\":\"#2a3f5f\",\"gridcolor\":\"white\",\"linecolor\":\"white\",\"minorgridcolor\":\"white\",\"startlinecolor\":\"#2a3f5f\"},\"baxis\":{\"endlinecolor\":\"#2a3f5f\",\"gridcolor\":\"white\",\"linecolor\":\"white\",\"minorgridcolor\":\"white\",\"startlinecolor\":\"#2a3f5f\"},\"type\":\"carpet\"}],\"table\":[{\"cells\":{\"fill\":{\"color\":\"#EBF0F8\"},\"line\":{\"color\":\"white\"}},\"header\":{\"fill\":{\"color\":\"#C8D4E3\"},\"line\":{\"color\":\"white\"}},\"type\":\"table\"}],\"barpolar\":[{\"marker\":{\"line\":{\"color\":\"#E5ECF6\",\"width\":0.5},\"pattern\":{\"fillmode\":\"overlay\",\"size\":10,\"solidity\":0.2}},\"type\":\"barpolar\"}],\"pie\":[{\"automargin\":true,\"type\":\"pie\"}]},\"layout\":{\"autotypenumbers\":\"strict\",\"colorway\":[\"#636efa\",\"#EF553B\",\"#00cc96\",\"#ab63fa\",\"#FFA15A\",\"#19d3f3\",\"#FF6692\",\"#B6E880\",\"#FF97FF\",\"#FECB52\"],\"font\":{\"color\":\"#2a3f5f\"},\"hovermode\":\"closest\",\"hoverlabel\":{\"align\":\"left\"},\"paper_bgcolor\":\"white\",\"plot_bgcolor\":\"#E5ECF6\",\"polar\":{\"bgcolor\":\"#E5ECF6\",\"angularaxis\":{\"gridcolor\":\"white\",\"linecolor\":\"white\",\"ticks\":\"\"},\"radialaxis\":{\"gridcolor\":\"white\",\"linecolor\":\"white\",\"ticks\":\"\"}},\"ternary\":{\"bgcolor\":\"#E5ECF6\",\"aaxis\":{\"gridcolor\":\"white\",\"linecolor\":\"white\",\"ticks\":\"\"},\"baxis\":{\"gridcolor\":\"white\",\"linecolor\":\"white\",\"ticks\":\"\"},\"caxis\":{\"gridcolor\":\"white\",\"linecolor\":\"white\",\"ticks\":\"\"}},\"coloraxis\":{\"colorbar\":{\"outlinewidth\":0,\"ticks\":\"\"}},\"colorscale\":{\"sequential\":[[0.0,\"#0d0887\"],[0.1111111111111111,\"#46039f\"],[0.2222222222222222,\"#7201a8\"],[0.3333333333333333,\"#9c179e\"],[0.4444444444444444,\"#bd3786\"],[0.5555555555555556,\"#d8576b\"],[0.6666666666666666,\"#ed7953\"],[0.7777777777777778,\"#fb9f3a\"],[0.8888888888888888,\"#fdca26\"],[1.0,\"#f0f921\"]],\"sequentialminus\":[[0.0,\"#0d0887\"],[0.1111111111111111,\"#46039f\"],[0.2222222222222222,\"#7201a8\"],[0.3333333333333333,\"#9c179e\"],[0.4444444444444444,\"#bd3786\"],[0.5555555555555556,\"#d8576b\"],[0.6666666666666666,\"#ed7953\"],[0.7777777777777778,\"#fb9f3a\"],[0.8888888888888888,\"#fdca26\"],[1.0,\"#f0f921\"]],\"diverging\":[[0,\"#8e0152\"],[0.1,\"#c51b7d\"],[0.2,\"#de77ae\"],[0.3,\"#f1b6da\"],[0.4,\"#fde0ef\"],[0.5,\"#f7f7f7\"],[0.6,\"#e6f5d0\"],[0.7,\"#b8e186\"],[0.8,\"#7fbc41\"],[0.9,\"#4d9221\"],[1,\"#276419\"]]},\"xaxis\":{\"gridcolor\":\"white\",\"linecolor\":\"white\",\"ticks\":\"\",\"title\":{\"standoff\":15},\"zerolinecolor\":\"white\",\"automargin\":true,\"zerolinewidth\":2},\"yaxis\":{\"gridcolor\":\"white\",\"linecolor\":\"white\",\"ticks\":\"\",\"title\":{\"standoff\":15},\"zerolinecolor\":\"white\",\"automargin\":true,\"zerolinewidth\":2},\"scene\":{\"xaxis\":{\"backgroundcolor\":\"#E5ECF6\",\"gridcolor\":\"white\",\"linecolor\":\"white\",\"showbackground\":true,\"ticks\":\"\",\"zerolinecolor\":\"white\",\"gridwidth\":2},\"yaxis\":{\"backgroundcolor\":\"#E5ECF6\",\"gridcolor\":\"white\",\"linecolor\":\"white\",\"showbackground\":true,\"ticks\":\"\",\"zerolinecolor\":\"white\",\"gridwidth\":2},\"zaxis\":{\"backgroundcolor\":\"#E5ECF6\",\"gridcolor\":\"white\",\"linecolor\":\"white\",\"showbackground\":true,\"ticks\":\"\",\"zerolinecolor\":\"white\",\"gridwidth\":2}},\"shapedefaults\":{\"line\":{\"color\":\"#2a3f5f\"}},\"annotationdefaults\":{\"arrowcolor\":\"#2a3f5f\",\"arrowhead\":0,\"arrowwidth\":1},\"geo\":{\"bgcolor\":\"white\",\"landcolor\":\"#E5ECF6\",\"subunitcolor\":\"white\",\"showland\":true,\"showlakes\":true,\"lakecolor\":\"white\"},\"title\":{\"x\":0.05},\"mapbox\":{\"style\":\"light\"}}},\"xaxis\":{\"anchor\":\"y\",\"domain\":[0.0,1.0],\"title\":{\"text\":\"Annual Income\"}},\"yaxis\":{\"anchor\":\"x\",\"domain\":[0.0,1.0],\"title\":{\"text\":\"count\"}},\"legend\":{\"title\":{\"text\":\"label\"},\"tracegroupgap\":0},\"title\":{\"text\":\"Distribution of Annual income\",\"font\":{\"size\":18},\"x\":0.5,\"y\":0.9,\"xanchor\":\"center\",\"yanchor\":\"top\"},\"barmode\":\"relative\",\"height\":500,\"width\":800},                        {\"responsive\": true}                    ).then(function(){\n",
              "                            \n",
              "var gd = document.getElementById('989ff151-77e3-4066-9e2d-98f52e7532b5');\n",
              "var x = new MutationObserver(function (mutations, observer) {{\n",
              "        var display = window.getComputedStyle(gd).display;\n",
              "        if (!display || display === 'none') {{\n",
              "            console.log([gd, 'removed!']);\n",
              "            Plotly.purge(gd);\n",
              "            observer.disconnect();\n",
              "        }}\n",
              "}});\n",
              "\n",
              "// Listen for the removal of the full notebook cells\n",
              "var notebookContainer = gd.closest('#notebook-container');\n",
              "if (notebookContainer) {{\n",
              "    x.observe(notebookContainer, {childList: true});\n",
              "}}\n",
              "\n",
              "// Listen for the clearing of the current output cell\n",
              "var outputEl = gd.closest('.output');\n",
              "if (outputEl) {{\n",
              "    x.observe(outputEl, {childList: true});\n",
              "}}\n",
              "\n",
              "                        })                };                            </script>        </div>\n",
              "</body>\n",
              "</html>"
            ]
          },
          "metadata": {}
        }
      ]
    },
    {
      "cell_type": "markdown",
      "source": [
        "**Observations:**\n",
        "\n",
        "*  The above plot shows the distribution of Annual income of the customers.\n",
        "*  Red coloured bins shows the annual income of customers with good credit and blue coloured bins shows annual income of customers with bad credit.\n",
        "*  There is no such a linear relationship between annual income and the target variable but from this plot, if we move the mouse-pointer over the graph we can get information like count of customers having good/bad credit and range of their annual income.\n",
        "*  Majority of the customers credit card has been rejected for customers with annual income in the range of 120k - 139.9k dollars."
      ],
      "metadata": {
        "id": "UQhONdMFGDnI"
      }
    },
    {
      "cell_type": "code",
      "source": [
        "fig = px.box(df, x = 'GENDER', y = 'Annual_income', color = 'label', width = 500, height = 500, notched = True,\n",
        "             labels = {'GENDER':'Gender', 'Annual_income':'Annual Income'},\n",
        "             title = 'Distribution of Annual income based on gender')\n",
        "fig.update_layout(title = dict(x = 0.5, y = 0.9, xanchor = 'center', yanchor = 'top',\n",
        "                               font = dict(size = 16)))\n",
        "fig.show()"
      ],
      "metadata": {
        "colab": {
          "base_uri": "https://localhost:8080/",
          "height": 517
        },
        "id": "9OKlnxPO8AlZ",
        "outputId": "a11c360d-e195-4b1d-b873-f0324776d974"
      },
      "execution_count": null,
      "outputs": [
        {
          "output_type": "display_data",
          "data": {
            "text/html": [
              "<html>\n",
              "<head><meta charset=\"utf-8\" /></head>\n",
              "<body>\n",
              "    <div>            <script src=\"https://cdnjs.cloudflare.com/ajax/libs/mathjax/2.7.5/MathJax.js?config=TeX-AMS-MML_SVG\"></script><script type=\"text/javascript\">if (window.MathJax && window.MathJax.Hub && window.MathJax.Hub.Config) {window.MathJax.Hub.Config({SVG: {font: \"STIX-Web\"}});}</script>                <script type=\"text/javascript\">window.PlotlyConfig = {MathJaxConfig: 'local'};</script>\n",
              "        <script charset=\"utf-8\" src=\"https://cdn.plot.ly/plotly-2.24.1.min.js\"></script>                <div id=\"0c53ba26-d275-4e1d-8280-4d99fed58c44\" class=\"plotly-graph-div\" style=\"height:500px; width:500px;\"></div>            <script type=\"text/javascript\">                                    window.PLOTLYENV=window.PLOTLYENV || {};                                    if (document.getElementById(\"0c53ba26-d275-4e1d-8280-4d99fed58c44\")) {                    Plotly.newPlot(                        \"0c53ba26-d275-4e1d-8280-4d99fed58c44\",                        [{\"alignmentgroup\":\"True\",\"hovertemplate\":\"label=1\\u003cbr\\u003eGender=%{x}\\u003cbr\\u003eAnnual Income=%{y}\\u003cextra\\u003e\\u003c\\u002fextra\\u003e\",\"legendgroup\":\"1\",\"marker\":{\"color\":\"#636efa\"},\"name\":\"1\",\"notched\":true,\"offsetgroup\":\"1\",\"orientation\":\"v\",\"showlegend\":true,\"x\":[\"M\",\"F\",\"F\",\"F\",\"F\",null,\"F\",\"F\",\"M\",\"M\",\"M\",\"F\",\"F\",\"F\",\"M\",\"M\",\"M\",\"F\",\"F\",\"M\",\"M\",\"M\",\"M\",\"F\",\"F\",\"F\",\"F\",\"F\",null,\"M\",\"F\",\"F\",\"F\",\"F\",\"M\",\"M\",\"M\",\"F\",\"M\",\"M\",\"F\",\"F\",\"F\",\"F\",\"F\",\"F\",\"F\",\"M\",\"M\",\"M\",\"M\",\"M\",\"M\",\"M\",\"F\",\"F\",\"M\",\"M\",\"M\",\"F\",\"M\",\"M\",\"F\",\"F\",\"F\",\"F\",\"M\",\"F\",\"M\",\"M\",\"M\",\"M\",\"M\",\"F\",\"F\",\"M\",\"M\",\"F\",\"F\",\"F\",\"F\",\"F\",null,\"F\",\"F\",\"M\",\"F\",\"F\",\"F\",\"M\",\"M\",\"M\",\"M\",\"F\",\"M\",\"F\",\"M\",\"M\",\"M\",\"F\",\"M\",\"F\",\"F\",\"F\",\"F\",\"M\",\"M\",\"M\",\"F\",\"M\",\"F\",\"F\",\"M\",\"M\",\"F\",\"F\",\"F\",\"F\",\"F\",\"M\",\"M\",\"F\",\"F\",\"F\",\"F\",\"F\",\"M\",\"F\",\"F\",\"F\",\"F\",\"F\",\"F\",\"F\",\"M\",\"F\",\"F\",\"F\",\"F\",\"F\",\"M\",\"M\",\"F\",null,\"M\",\"M\",\"M\",\"F\",\"F\",\"M\",\"F\",\"F\",\"M\",\"M\",\"M\",\"M\",\"M\",\"F\",\"F\",\"F\",\"M\",\"F\",\"F\",\"M\",\"F\",\"F\",\"F\",\"M\",\"M\",\"M\",\"M\",null,\"M\",\"F\",\"F\"],\"x0\":\" \",\"xaxis\":\"x\",\"y\":[180000.0,315000.0,315000.0,null,315000.0,315000.0,315000.0,180000.0,450000.0,450000.0,450000.0,90000.0,null,90000.0,472500.0,270000.0,270000.0,126000.0,126000.0,90000.0,202500.0,202500.0,157500.0,112500.0,180000.0,540000.0,112500.0,null,292500.0,540000.0,90000.0,112500.0,135000.0,135000.0,180000.0,112500.0,292500.0,76500.0,215100.0,450000.0,270000.0,225000.0,225000.0,225000.0,157500.0,157500.0,67500.0,180000.0,180000.0,157500.0,157500.0,171000.0,135000.0,135000.0,103500.0,103500.0,225000.0,225000.0,225000.0,180000.0,157500.0,157500.0,180000.0,180000.0,99000.0,null,99000.0,99000.0,391500.0,391500.0,391500.0,65250.0,72900.0,225000.0,67500.0,180000.0,null,202500.0,157500.0,202500.0,270000.0,135000.0,360000.0,256500.0,256500.0,157500.0,225000.0,180000.0,180000.0,202500.0,202500.0,202500.0,315000.0,225000.0,126000.0,675000.0,135000.0,135000.0,247500.0,103500.0,85500.0,135000.0,135000.0,180000.0,121500.0,180000.0,225000.0,null,135000.0,225000.0,67500.0,135000.0,130500.0,130500.0,202500.0,202500.0,202500.0,202500.0,202500.0,126000.0,126000.0,180000.0,180000.0,180000.0,180000.0,null,211500.0,157500.0,81000.0,81000.0,112500.0,112500.0,112500.0,112500.0,112500.0,72000.0,202500.0,148500.0,135000.0,135000.0,270000.0,135000.0,135000.0,162000.0,112500.0,112500.0,112500.0,135000.0,135000.0,195750.0,585000.0,585000.0,null,450000.0,450000.0,112500.0,112500.0,67500.0,67500.0,67500.0,216000.0,306000.0,90000.0,225000.0,108000.0,135000.0,135000.0,108000.0,108000.0,450000.0,450000.0,450000.0,315000.0,157500.0,157500.0],\"y0\":\" \",\"yaxis\":\"y\",\"type\":\"box\"},{\"alignmentgroup\":\"True\",\"hovertemplate\":\"label=0\\u003cbr\\u003eGender=%{x}\\u003cbr\\u003eAnnual Income=%{y}\\u003cextra\\u003e\\u003c\\u002fextra\\u003e\",\"legendgroup\":\"0\",\"marker\":{\"color\":\"#EF553B\"},\"name\":\"0\",\"notched\":true,\"offsetgroup\":\"0\",\"orientation\":\"v\",\"showlegend\":true,\"x\":[\"F\",\"M\",\"F\",\"F\",\"F\",\"F\",\"F\",\"F\",\"F\",\"F\",\"F\",\"F\",\"M\",null,\"M\",\"F\",\"F\",\"F\",\"F\",\"M\",\"F\",\"F\",\"M\",\"M\",\"M\",\"F\",\"F\",\"F\",\"F\",\"M\",\"M\",\"M\",\"F\",\"F\",\"F\",\"M\",\"F\",\"M\",\"F\",\"M\",\"F\",\"F\",\"F\",\"F\",\"M\",\"F\",\"M\",\"M\",\"F\",\"M\",\"F\",\"F\",\"F\",\"F\",\"F\",\"F\",\"M\",\"M\",\"F\",\"F\",\"F\",\"F\",\"F\",\"M\",\"F\",null,\"F\",\"M\",\"F\",\"M\",\"M\",\"M\",\"F\",\"F\",\"F\",\"F\",\"M\",\"F\",\"F\",\"M\",\"F\",\"F\",\"F\",\"F\",\"M\",\"F\",\"F\",\"F\",\"F\",\"M\",\"F\",\"F\",\"F\",\"M\",\"F\",\"M\",\"F\",\"F\",\"F\",\"F\",\"F\",\"M\",\"F\",\"F\",\"F\",\"F\",\"M\",\"F\",\"F\",\"F\",\"M\",\"F\",\"M\",\"F\",\"F\",\"F\",\"M\",\"F\",\"F\",\"F\",\"F\",\"M\",\"F\",\"F\",\"F\",\"M\",\"M\",\"F\",\"F\",\"F\",\"M\",\"F\",\"F\",\"F\",\"M\",\"M\",\"F\",\"M\",\"F\",\"M\",\"F\",\"F\",\"M\",\"M\",\"F\",\"F\",\"M\",\"F\",\"F\",\"F\",\"F\",\"M\",\"F\",\"F\",\"F\",\"F\",\"F\",\"F\",\"M\",\"F\",\"F\",\"M\",\"F\",\"F\",\"M\",\"F\",\"F\",\"F\",\"F\",\"F\",\"F\",\"F\",\"M\",\"F\",\"F\",\"F\",\"M\",\"F\",\"M\",\"F\",\"M\",\"F\",\"F\",\"F\",\"F\",\"F\",\"M\",\"F\",\"F\",\"F\",\"F\",\"F\",\"M\",\"F\",\"F\",\"F\",\"M\",\"F\",\"M\",\"M\",\"F\",\"F\",\"F\",\"F\",\"F\",\"F\",\"M\",\"F\",\"F\",\"F\",\"M\",\"F\",\"F\",\"M\",\"M\",\"M\",\"F\",\"F\",\"F\",\"F\",\"M\",\"M\",\"F\",\"F\",\"F\",\"M\",\"F\",\"F\",\"F\",\"F\",\"F\",\"M\",\"M\",\"M\",\"F\",\"F\",\"F\",\"M\",\"F\",\"F\",\"F\",\"M\",\"F\",\"F\",\"F\",\"M\",\"F\",\"F\",\"M\",\"F\",\"M\",\"F\",\"F\",\"F\",\"M\",\"M\",\"F\",\"M\",\"M\",\"M\",\"M\",\"F\",\"F\",\"F\",\"F\",\"F\",\"F\",\"F\",\"M\",\"M\",\"M\",\"M\",\"M\",\"F\",\"F\",\"M\",\"F\",\"M\",\"M\",\"M\",\"F\",\"M\",\"F\",\"M\",\"F\",\"F\",\"F\",\"M\",\"M\",\"F\",\"F\",\"F\",\"F\",\"F\",\"M\",\"F\",\"F\",\"F\",\"M\",\"M\",\"F\",\"F\",\"F\",\"M\",\"F\",\"F\",\"M\",\"F\",\"F\",\"M\",\"F\",\"F\",\"F\",\"M\",\"M\",\"M\",\"F\",\"F\",\"F\",\"M\",\"F\",\"F\",\"F\",\"F\",\"F\",\"F\",\"M\",\"F\",\"F\",\"F\",\"F\",\"M\",\"F\",\"F\",\"F\",\"F\",\"F\",\"F\",\"F\",\"F\",\"F\",\"F\",\"F\",\"F\",\"F\",\"F\",\"F\",\"F\",\"F\",\"F\",\"F\",\"M\",\"F\",\"M\",\"F\",\"F\",\"M\",\"M\",\"M\",\"M\",\"M\",\"M\",\"M\",\"M\",\"M\",\"F\",\"M\",\"F\",\"F\",\"M\",\"M\",\"F\",\"M\",\"M\",\"M\",\"F\",\"M\",\"F\",\"M\",\"M\",\"M\",\"F\",\"F\",\"F\",\"M\",\"F\",\"F\",\"M\",\"F\",\"F\",\"M\",\"M\",\"M\",\"M\",\"F\",\"F\",\"M\",\"F\",\"F\",\"F\",\"F\",\"M\",\"F\",\"F\",\"M\",\"M\",\"F\",\"F\",\"F\",\"M\",\"F\",\"F\",\"M\",\"F\",\"F\",\"F\",\"F\",\"M\",\"F\",\"M\",\"F\",\"F\",\"M\",\"M\",\"F\",\"M\",\"F\",\"M\",\"M\",\"M\",\"M\",\"M\",\"F\",\"M\",\"F\",\"F\",\"F\",\"F\",\"F\",\"F\",\"M\",\"F\",\"M\",\"F\",\"F\",\"F\",\"F\",\"M\",\"M\",\"F\",\"F\",\"F\",\"F\",\"F\",\"F\",\"F\",\"F\",\"F\",\"F\",\"F\",\"F\",\"F\",\"M\",\"F\",\"M\",\"F\",\"F\",\"M\",\"F\",\"F\",\"M\",\"F\",\"F\",\"F\",\"M\",\"F\",\"M\",\"F\",\"F\",\"M\",\"M\",\"F\",\"F\",\"F\",\"M\",\"F\",\"M\",\"M\",\"M\",\"M\",\"M\",\"F\",\"F\",\"F\",\"F\",\"F\",\"F\",\"F\",\"F\",\"M\",\"F\",\"F\",\"F\",\"M\",\"F\",\"F\",\"M\",\"F\",\"F\",\"M\",\"F\",\"M\",\"F\",\"M\",\"F\",\"M\",\"M\",\"M\",\"F\",\"M\",\"F\",\"M\",\"M\",\"F\",\"F\",\"F\",\"F\",\"F\",\"M\",\"F\",\"F\",\"F\",\"M\",\"M\",\"F\",\"F\",\"F\",\"M\",\"M\",\"M\",\"M\",\"M\",\"F\",\"M\",\"F\",\"M\",\"M\",\"M\",\"F\",\"M\",\"F\",\"F\",\"M\",\"M\",\"F\",\"F\",\"F\",\"F\",\"F\",\"F\",\"F\",\"F\",\"M\",\"F\",\"M\",\"F\",\"F\",\"F\",\"F\",\"M\",\"M\",\"M\",\"F\",\"F\",\"F\",\"M\",\"F\",\"M\",\"F\",\"F\",\"M\",\"M\",\"M\",\"M\",\"M\",\"F\",\"M\",\"M\",\"F\",\"F\",\"M\",\"M\",\"M\",\"F\",\"F\",\"F\",\"M\",\"M\",\"F\",\"F\",\"F\",\"M\",\"M\",\"F\",\"F\",\"F\",\"F\",\"F\",\"F\",\"M\",\"F\",\"F\",\"M\",\"F\",\"F\",\"M\",\"M\",\"F\",\"M\",\"F\",\"F\",\"M\",\"F\",\"M\",\"F\",\"F\",\"M\",\"F\",\"M\",\"F\",\"M\",\"F\",\"M\",\"F\",\"F\",\"M\",\"M\",\"M\",\"F\",\"F\",\"F\",\"F\",\"F\",\"F\",\"F\",\"M\",\"M\",\"M\",\"F\",\"F\",\"M\",\"F\",\"F\",\"F\",\"M\",\"F\",\"F\",\"F\",\"F\",\"M\",\"F\",\"F\",\"F\",\"M\",\"M\",\"F\",\"F\",\"F\",\"F\",\"M\",\"F\",\"M\",\"F\",\"F\",\"F\",\"F\",\"M\",\"F\",\"M\",\"F\",\"F\",\"F\",\"F\",\"F\",\"F\",\"M\",\"F\",\"F\",\"F\",\"F\",\"F\",\"F\",\"M\",\"M\",\"M\",\"F\",\"M\",\"M\",\"F\",\"F\",\"M\",\"F\",\"M\",\"M\",\"F\",\"F\",\"F\",\"M\",\"F\",\"M\",\"F\",\"F\",\"M\",\"F\",\"M\",\"M\",\"M\",\"F\",\"F\",\"F\",\"F\",\"M\",\"F\",\"F\",\"F\",\"F\",\"M\",\"M\",\"M\",\"M\",\"F\",\"F\",\"M\",\"M\",\"F\",\"F\",\"F\",\"M\",\"F\",\"F\",\"F\",\"M\",\"F\",\"M\",\"M\",\"M\",\"F\",\"M\",\"M\",\"F\",\"F\",\"F\",\"M\",\"M\",\"F\",\"M\",\"F\",\"F\",\"F\",\"M\",\"F\",\"M\",\"M\",\"F\",\"M\",\"F\",\"M\",\"F\",\"F\",\"F\",\"F\",\"M\",\"F\",\"M\",\"F\",\"F\",\"F\",\"M\",\"F\",\"F\",\"M\",\"F\",\"F\",\"F\",\"F\",\"F\",\"F\",\"M\",\"M\",\"F\",\"F\",\"F\",\"F\",\"F\",\"M\",\"F\",\"M\",\"M\",\"M\",\"F\",\"F\",\"F\",\"F\",\"F\",\"M\",\"M\",\"F\",\"M\",\"F\",\"F\",\"F\",\"F\",\"F\",\"F\",\"F\",\"F\",\"F\",\"M\",\"M\",\"F\",\"M\",\"F\",\"F\",\"F\",\"M\",\"F\",\"M\",\"M\",\"F\",\"F\",\"F\",\"F\",\"M\",\"F\",\"F\",\"M\",\"F\",\"M\",\"F\",\"M\",\"M\",\"F\",\"F\",\"M\",\"F\",\"F\",\"F\",\"F\",\"F\",\"M\",\"F\",\"F\",\"F\",\"F\",\"M\",\"F\",\"M\",\"M\",\"F\",\"M\",\"F\",\"M\",\"M\",\"F\",\"F\",\"F\",\"M\",\"F\",\"M\",\"F\",\"F\",\"M\",\"M\",\"M\",\"M\",\"M\",\"M\",\"M\",\"M\",\"M\",\"F\",\"F\",\"F\",\"F\",\"M\",\"F\",\"M\",\"M\",\"M\",\"M\",\"M\",\"F\",\"F\",\"M\",\"M\",\"F\",\"M\",\"M\",\"F\",\"F\",\"M\",\"F\",\"F\",\"F\",\"M\",\"F\",\"M\",\"F\",\"M\",\"F\",\"F\",\"F\",\"M\",\"F\",\"F\",\"F\",\"F\",\"F\",\"F\",\"F\",\"F\",\"F\",\"F\",\"M\",\"F\",\"M\",\"M\",\"F\",\"F\",\"F\",\"F\",\"F\",\"M\",\"F\",\"M\",\"F\",\"M\",\"M\",\"F\",\"F\",\"F\",\"M\",\"F\",\"F\",\"F\",\"F\",\"M\",\"M\",\"M\",\"F\",\"F\",\"F\",\"F\",\"M\",\"F\",\"F\",\"M\",\"F\",\"F\",\"F\",\"M\",\"M\",\"F\",\"F\",\"F\",\"M\",\"F\",\"M\",\"M\",\"M\",\"M\",\"F\",\"F\",\"F\",\"M\",\"F\",\"M\",\"F\",\"M\",\"M\",\"F\",\"F\",\"M\",\"F\",\"F\",\"F\",\"F\",\"F\",\"F\",\"M\",\"F\",\"F\",\"F\",\"F\",\"F\",\"F\",\"F\",\"M\",\"F\",\"M\",\"M\",\"F\",\"F\",\"M\",\"F\",\"F\",\"M\",\"F\",\"F\",\"F\",\"F\",\"F\",\"M\",\"M\",\"F\",\"F\",\"F\",\"M\",\"M\",\"M\",\"F\",\"F\",\"M\",\"F\",\"F\",\"F\",\"M\",\"F\",\"F\",\"M\",\"F\",\"M\",\"M\",\"M\",\"F\",\"F\",\"F\",\"M\",\"F\",\"M\",\"F\",\"F\",\"M\",\"F\",\"F\",\"M\",\"F\",\"F\",\"F\",\"M\",\"M\",\"M\",\"F\",\"F\",\"F\",\"F\",\"F\",\"M\",\"M\",\"F\",\"F\",\"F\",\"F\",\"M\",\"F\",\"F\",\"F\",\"M\",\"F\",\"F\",\"M\",\"F\",\"F\",\"F\",\"M\",\"M\",\"M\",\"F\",\"M\",\"F\",\"F\",\"M\",\"F\",\"F\",\"M\",\"F\",\"F\",\"F\",\"M\",\"M\",\"F\",\"F\",\"F\",\"F\",\"F\",\"F\",\"M\",\"M\",\"F\",\"F\",\"M\",\"F\",\"F\",\"M\",\"F\",\"M\",\"F\",\"F\",\"F\",\"M\",\"F\",\"M\",\"M\",\"F\",\"F\",\"F\",\"F\",\"M\",\"F\",\"M\",\"F\",\"F\",\"F\",\"M\",\"F\",\"M\",\"M\",\"F\",\"F\",\"F\",\"F\",\"F\",\"F\",\"M\",\"F\",\"M\",\"M\",\"F\",\"F\",\"M\",\"F\",\"F\",\"F\",\"M\",\"F\",\"F\",\"M\",\"F\",\"F\",\"F\",\"M\",\"M\",\"M\",\"F\",\"M\",\"F\",\"F\",\"F\",\"M\",\"F\",\"M\",\"F\",\"F\",\"F\",\"F\",\"F\",\"F\",\"F\",\"F\",\"M\",\"M\",\"F\",\"F\",\"F\",\"F\",\"F\",\"F\",\"F\",\"F\",\"F\",\"M\",\"F\",\"F\",\"F\",\"M\",\"F\",\"F\",\"M\",\"F\",\"F\",\"F\",\"F\",\"M\",\"F\",\"F\",\"M\",\"F\",\"F\",\"F\",\"M\",\"F\",\"F\",\"M\",\"F\",\"F\",\"F\",\"M\",\"F\",\"F\",\"F\",\"F\",\"M\",\"F\",\"F\",\"F\",\"F\",\"M\",\"F\",\"M\",\"M\",\"F\",\"F\",\"F\",\"M\",\"F\",\"F\",\"F\",\"M\",\"M\",\"M\",\"F\",\"F\",\"F\",\"F\",\"F\",\"F\",\"F\",\"F\",\"F\",\"M\",\"F\",\"F\",\"F\",\"F\",\"F\",\"F\",\"F\",\"M\",\"F\",\"M\",\"F\",\"F\",\"F\",\"F\",\"M\",\"M\",\"F\",\"M\",\"F\",\"F\",\"M\",\"F\",\"M\",\"F\",\"F\",\"M\",\"F\",\"M\",\"F\",\"F\",\"F\",\"M\",\"F\",\"M\",\"F\",\"M\",\"F\",\"F\",\"M\",\"F\",\"M\",\"F\",\"M\",\"M\",\"F\",\"F\",\"M\",\"F\",\"F\",\"F\",\"M\",\"M\",\"M\",\"M\",\"M\",\"M\",\"M\",\"F\",\"M\",\"F\",\"F\",\"F\",\"F\",\"F\",\"F\",\"M\",\"M\",\"F\",\"F\",\"F\",\"F\",\"M\",\"F\",\"F\",\"M\",\"M\",\"M\",\"F\",\"F\",\"M\",\"F\",\"M\",\"F\",\"F\",\"F\",\"F\",\"F\",\"F\",\"M\",\"M\",\"F\",\"F\",\"F\",\"F\",\"F\",\"F\",\"F\",\"F\",\"F\",\"F\",\"F\",\"M\",\"F\",\"F\",\"F\",\"M\",\"M\",\"M\",\"M\",\"F\",\"F\",\"M\",\"F\",\"F\",\"M\",\"M\",\"F\",\"M\",\"M\",\"M\",\"F\",\"F\",\"M\",\"F\",\"F\",\"F\",\"F\",\"M\",\"F\",\"F\",\"M\",\"M\",\"F\"],\"x0\":\" \",\"xaxis\":\"x\",\"y\":[81000.0,225000.0,180000.0,135000.0,135000.0,63000.0,135000.0,112500.0,112500.0,45000.0,null,202500.0,180000.0,450000.0,256500.0,90000.0,180000.0,90000.0,135000.0,126000.0,126000.0,337500.0,90000.0,131400.0,180000.0,247500.0,121500.0,117000.0,90000.0,445500.0,157500.0,112500.0,180000.0,157500.0,117000.0,234000.0,1575000.0,247500.0,144000.0,180000.0,null,216000.0,90000.0,171000.0,180000.0,225000.0,225000.0,270000.0,67050.0,270000.0,73350.0,112500.0,144000.0,225000.0,112500.0,292500.0,135000.0,157500.0,1575000.0,157500.0,157500.0,135000.0,112500.0,202500.0,193500.0,225000.0,108000.0,900000.0,292500.0,270000.0,270000.0,292500.0,292500.0,157500.0,76500.0,157500.0,180000.0,135000.0,112500.0,360000.0,157500.0,225000.0,112500.0,121500.0,202500.0,112500.0,135000.0,103500.0,157500.0,337500.0,180000.0,112500.0,157500.0,360000.0,135000.0,337500.0,135000.0,360000.0,null,450000.0,270000.0,270000.0,270000.0,450000.0,157500.0,112500.0,292500.0,112500.0,247500.0,157500.0,225000.0,94500.0,81000.0,180000.0,198000.0,180000.0,315000.0,67500.0,180000.0,202500.0,112500.0,306000.0,90000.0,270000.0,270000.0,234000.0,171000.0,225000.0,94500.0,117000.0,180000.0,202500.0,54000.0,112500.0,85500.0,135000.0,166500.0,157500.0,247500.0,180000.0,72000.0,202500.0,180000.0,270000.0,202500.0,360000.0,270000.0,270000.0,112500.0,null,157500.0,202500.0,99000.0,162000.0,225000.0,225000.0,72000.0,135000.0,315000.0,167400.0,180000.0,135000.0,99000.0,225000.0,153000.0,423000.0,90000.0,360000.0,247500.0,225000.0,67500.0,112500.0,157500.0,90000.0,90000.0,225000.0,112500.0,112500.0,315000.0,135000.0,450000.0,90000.0,270000.0,180000.0,135000.0,243000.0,225000.0,112500.0,234000.0,180000.0,121500.0,121500.0,270000.0,180000.0,90000.0,135000.0,247500.0,76500.0,85500.0,202500.0,157500.0,225000.0,225000.0,540000.0,283500.0,90000.0,null,252000.0,135000.0,315000.0,450000.0,180000.0,270000.0,495000.0,180000.0,306000.0,157500.0,180000.0,612000.0,36000.0,112500.0,292500.0,180000.0,202500.0,292500.0,315000.0,135000.0,337500.0,157500.0,360000.0,135000.0,270000.0,157500.0,157500.0,139500.0,135000.0,133650.0,427500.0,81000.0,225000.0,126000.0,135000.0,94500.0,180000.0,157500.0,252000.0,202500.0,117000.0,247500.0,180000.0,180000.0,180000.0,157500.0,135000.0,null,202500.0,90000.0,247500.0,99000.0,247500.0,202500.0,90000.0,121500.0,157500.0,121500.0,135000.0,180000.0,144000.0,126000.0,225000.0,157500.0,157500.0,270000.0,261000.0,135000.0,202500.0,157500.0,103500.0,135000.0,135000.0,112500.0,231750.0,202500.0,247500.0,135000.0,135000.0,112500.0,117000.0,112500.0,135000.0,103500.0,315000.0,180000.0,247500.0,135000.0,157500.0,315000.0,247500.0,157500.0,null,247500.0,166500.0,112500.0,90900.0,112500.0,45900.0,126000.0,103500.0,119250.0,202500.0,157500.0,112500.0,315000.0,270000.0,162000.0,270000.0,112500.0,58500.0,94500.0,270000.0,270000.0,99000.0,315000.0,157500.0,180000.0,211500.0,202500.0,180000.0,144000.0,144000.0,270000.0,148500.0,157500.0,90000.0,148500.0,99000.0,315000.0,162000.0,202500.0,225000.0,612000.0,292500.0,67500.0,157500.0,135000.0,67500.0,144000.0,90000.0,112500.0,112500.0,135000.0,360000.0,112500.0,225000.0,112500.0,202500.0,202500.0,225000.0,112500.0,202500.0,328500.0,112500.0,202500.0,135000.0,157500.0,270000.0,157500.0,193500.0,103500.0,90000.0,198000.0,202500.0,225000.0,72000.0,202500.0,247500.0,157500.0,225000.0,112500.0,450000.0,180000.0,108000.0,787500.0,202500.0,157500.0,90000.0,null,225000.0,90000.0,72000.0,225000.0,157500.0,360000.0,450000.0,216000.0,157500.0,315000.0,315000.0,594000.0,135000.0,180000.0,157500.0,234000.0,99000.0,225000.0,292500.0,198000.0,90000.0,247500.0,112500.0,157500.0,112500.0,585000.0,180000.0,225000.0,225000.0,135000.0,112500.0,112500.0,180000.0,112500.0,117000.0,135000.0,270000.0,135000.0,157500.0,243000.0,121500.0,135000.0,225000.0,225000.0,112500.0,157500.0,202500.0,337500.0,103500.0,99000.0,67500.0,112500.0,270000.0,315000.0,135000.0,180000.0,225000.0,85500.0,135000.0,119700.0,495000.0,112500.0,153000.0,216000.0,202500.0,90000.0,108000.0,270000.0,76500.0,69372.0,135000.0,117000.0,202500.0,126000.0,135000.0,180000.0,225000.0,81000.0,157500.0,90000.0,225000.0,157500.0,103500.0,202500.0,37800.0,135000.0,157500.0,180000.0,135000.0,225000.0,157500.0,387000.0,225000.0,225000.0,126000.0,135000.0,202500.0,225000.0,157500.0,202500.0,247500.0,225000.0,112500.0,112500.0,135000.0,207000.0,270000.0,315000.0,315000.0,112500.0,121500.0,225000.0,225000.0,157500.0,225000.0,135000.0,225000.0,270000.0,202500.0,135000.0,112500.0,157500.0,450000.0,202500.0,900000.0,135000.0,337500.0,94500.0,90000.0,157500.0,270000.0,112500.0,135000.0,270000.0,112500.0,225000.0,54000.0,189000.0,135000.0,157500.0,121500.0,180000.0,121500.0,225000.0,180000.0,315000.0,112500.0,90000.0,90000.0,45000.0,180000.0,112500.0,135000.0,360000.0,135000.0,99000.0,270000.0,157500.0,null,180000.0,315000.0,112500.0,108000.0,180000.0,225000.0,90000.0,292500.0,157500.0,135000.0,315000.0,225000.0,333000.0,171000.0,130500.0,112500.0,202500.0,126000.0,225000.0,135000.0,112500.0,105750.0,135000.0,180000.0,360000.0,157500.0,90000.0,112500.0,180000.0,225000.0,67500.0,270000.0,202500.0,144000.0,207000.0,180000.0,202500.0,202500.0,180000.0,126000.0,157500.0,225000.0,202500.0,103500.0,90000.0,135000.0,67500.0,135000.0,382500.0,270000.0,202500.0,292500.0,225000.0,135000.0,76500.0,180000.0,450000.0,90000.0,157500.0,306000.0,90000.0,135000.0,193500.0,180000.0,270000.0,112500.0,202500.0,180000.0,139500.0,135000.0,202500.0,112500.0,126000.0,193500.0,112500.0,337500.0,157500.0,193500.0,180000.0,315000.0,180000.0,90000.0,180000.0,112500.0,157500.0,135000.0,315000.0,112500.0,135000.0,99000.0,900000.0,270000.0,112500.0,180000.0,141750.0,180000.0,112500.0,225000.0,270000.0,202500.0,135000.0,292500.0,202500.0,99000.0,202500.0,306000.0,148500.0,135000.0,180000.0,180000.0,157500.0,247500.0,112500.0,180000.0,103500.0,198000.0,135000.0,67500.0,202500.0,315000.0,292500.0,148500.0,202500.0,180000.0,90000.0,135000.0,135000.0,261000.0,135000.0,112500.0,135000.0,135000.0,360000.0,171000.0,40500.0,130500.0,306000.0,202500.0,112500.0,112500.0,90000.0,153000.0,135000.0,180000.0,112500.0,90000.0,157500.0,247500.0,112500.0,67500.0,360000.0,360000.0,315000.0,157500.0,135000.0,166500.0,180000.0,225000.0,135000.0,135000.0,193500.0,247500.0,315000.0,405000.0,405000.0,90000.0,270000.0,243000.0,180000.0,112500.0,337500.0,135000.0,117000.0,202500.0,270000.0,202500.0,135000.0,216000.0,135000.0,225000.0,81000.0,180000.0,292500.0,225000.0,157500.0,157500.0,166500.0,445500.0,180000.0,45000.0,315000.0,450000.0,180000.0,90000.0,null,148500.0,135000.0,144000.0,135000.0,360000.0,90000.0,157500.0,135000.0,292500.0,112500.0,216000.0,126000.0,135000.0,189000.0,337500.0,44550.0,112500.0,157500.0,112500.0,135000.0,135000.0,301500.0,112500.0,90000.0,67500.0,292500.0,315000.0,117000.0,157500.0,67500.0,189000.0,202500.0,157500.0,225000.0,112500.0,202500.0,180000.0,225000.0,157500.0,180000.0,112500.0,81000.0,90000.0,180000.0,94500.0,180000.0,450000.0,315000.0,54000.0,112500.0,157500.0,180000.0,225000.0,360000.0,112500.0,292500.0,360000.0,225000.0,126000.0,135000.0,270000.0,157500.0,216000.0,337500.0,225000.0,108000.0,225000.0,180000.0,180000.0,135000.0,180000.0,112500.0,270000.0,270000.0,270000.0,135000.0,351000.0,202500.0,189000.0,270000.0,144000.0,67500.0,247500.0,157500.0,157500.0,157500.0,180000.0,315000.0,99000.0,351000.0,175500.0,306000.0,157500.0,58500.0,292500.0,null,225000.0,247500.0,189000.0,247500.0,90000.0,148500.0,180000.0,180000.0,121900.5,112500.0,180000.0,225000.0,450000.0,225000.0,135000.0,157500.0,238500.0,261000.0,180000.0,225000.0,135000.0,112500.0,180000.0,171000.0,135000.0,202500.0,33750.0,135000.0,135000.0,157500.0,67500.0,135000.0,153000.0,180000.0,180000.0,121500.0,112500.0,270000.0,360000.0,116100.0,225000.0,450000.0,225000.0,405000.0,112500.0,157500.0,202500.0,297000.0,315000.0,202500.0,180000.0,202500.0,360000.0,112500.0,121500.0,112500.0,900000.0,112500.0,135000.0,261000.0,121500.0,202500.0,94500.0,225000.0,630000.0,202500.0,360000.0,157500.0,247500.0,81000.0,360000.0,315000.0,126000.0,225000.0,135000.0,225000.0,112500.0,40500.0,157500.0,67500.0,315000.0,270000.0,180000.0,157500.0,252000.0,270000.0,157500.0,270000.0,162000.0,315000.0,202500.0,180000.0,112500.0,135000.0,225000.0,157500.0,112500.0,202500.0,162000.0,450000.0,157500.0,270000.0,90000.0,67500.0,225000.0,135000.0,135000.0,157500.0,180000.0,418500.0,225000.0,135000.0,360000.0,135000.0,112500.0,225000.0,180000.0,202500.0,315000.0,315000.0,112500.0,83250.0,261000.0,247500.0,360000.0,135000.0,225000.0,270000.0,112500.0,112500.0,225000.0,173250.0,148500.0,315000.0,135000.0,157500.0,76500.0,225000.0,157500.0,216000.0,90000.0,211500.0,202500.0,112500.0,112500.0,166500.0,72000.0,135000.0,157500.0,67500.0,135000.0,207000.0,148500.0,112500.0,112500.0,202500.0,67500.0,67500.0,306000.0,90000.0,360000.0,112500.0,270000.0,450000.0,67500.0,180000.0,270000.0,315000.0,247500.0,72000.0,81000.0,171000.0,135000.0,135000.0,202500.0,292500.0,360000.0,315000.0,405000.0,225000.0,198000.0,202500.0,90000.0,166500.0,73350.0,135000.0,103500.0,202500.0,76500.0,225000.0,126000.0,211500.0,157500.0,112500.0,225000.0,135000.0,405000.0,135000.0,112500.0,247500.0,270000.0,225000.0,90000.0,135000.0,67500.0,135000.0,193500.0,135000.0,202500.0,135000.0,180000.0,112500.0,247500.0,360000.0,193500.0,67500.0,306000.0,153000.0,171000.0,112500.0,360000.0,157500.0,112500.0,292500.0,315000.0,135000.0,180000.0,180000.0,292500.0,135000.0,225000.0,225000.0,135000.0,292500.0,180000.0,274500.0,225000.0,180000.0,225000.0,360000.0,126000.0,180000.0,54000.0,76500.0,247500.0,112500.0,81000.0,135000.0,135000.0,99000.0,67500.0,null,202500.0,58500.0,135000.0,135000.0,180000.0,112500.0,144000.0,112500.0,135000.0,81000.0,193500.0,144000.0,292500.0,157500.0,315000.0,135000.0,202500.0,180000.0,112500.0,112500.0,270000.0,76500.0,292500.0,405000.0,193500.0,180000.0,115200.0,56250.0,180000.0,157500.0,202500.0,135000.0,202500.0,157500.0,225000.0,null,202500.0,85500.0,157500.0,270000.0,157500.0,360000.0,90000.0,90000.0,135000.0,112500.0,225000.0,225000.0,202500.0,202500.0,225000.0,108000.0,225000.0,180000.0,135000.0,112500.0,90000.0,90000.0,103500.0,72000.0,135000.0,495000.0,135000.0,360000.0,135000.0,225000.0,135000.0,81000.0,90000.0,450000.0,360000.0,225000.0,202500.0,202500.0,95850.0,112500.0,126000.0,99000.0,112500.0,180000.0,225000.0,225000.0,202500.0,180000.0,135000.0,315000.0,387000.0,45000.0,185400.0,76500.0,225000.0,810000.0,126000.0,135000.0,90000.0,157500.0,180000.0,112500.0,270000.0,135000.0,103500.0,130500.0,90000.0,112500.0,157500.0,202500.0,67500.0,189000.0,180000.0,135000.0,135000.0,166500.0,90000.0,337500.0,90000.0,157500.0,112500.0,180000.0,112500.0,135000.0,135000.0,135000.0,null,126000.0,247500.0,184500.0,165600.0,315000.0,112500.0,112500.0,202500.0,72000.0,202500.0,391500.0,112500.0,157500.0,112500.0,270000.0,270000.0,247500.0,360000.0,189000.0,157500.0,405000.0,157500.0,130500.0,135000.0,90000.0,67500.0,135000.0,247500.0,157500.0,135000.0,126000.0,180000.0,112500.0,247500.0,112500.0,315000.0,67500.0,337500.0,337500.0,112500.0,157500.0,292500.0,135000.0,450000.0,180000.0,135000.0,180000.0,202500.0,180000.0,112500.0,135000.0,81000.0,135000.0,270000.0,247500.0,202500.0,225000.0,157500.0,216000.0,202500.0,135000.0,247500.0,180000.0,67500.0,130500.0,99000.0,112500.0,247500.0,180000.0,225000.0,405000.0,247500.0,171000.0,180000.0,337500.0,315000.0,247500.0,180000.0,83250.0,202500.0,450000.0,135000.0,225000.0,157500.0,270000.0,216000.0,114750.0,99000.0,47250.0,49500.0,135000.0,225000.0,450000.0,225000.0,90000.0,180000.0,103500.0,135000.0,225000.0,112500.0,270000.0,270000.0,202500.0,180000.0,180000.0,108000.0,225000.0,157500.0,405000.0,225000.0,216000.0,135000.0,112500.0,135000.0,157500.0,45000.0,157500.0,198000.0,234000.0,157500.0,207000.0,198000.0,157500.0,180000.0,216000.0,112500.0,94500.0,69750.0,103500.0,157500.0,112500.0,67500.0,112500.0,157500.0,270000.0,135000.0,112500.0,126000.0,175500.0,148500.0,126000.0,180000.0,225000.0,126000.0,157500.0,157500.0,270000.0,180000.0,144000.0,112500.0,225000.0,450000.0,180000.0,144000.0,225000.0,360000.0,null,225000.0,180000.0,270000.0,225000.0],\"y0\":\" \",\"yaxis\":\"y\",\"type\":\"box\"}],                        {\"template\":{\"data\":{\"histogram2dcontour\":[{\"type\":\"histogram2dcontour\",\"colorbar\":{\"outlinewidth\":0,\"ticks\":\"\"},\"colorscale\":[[0.0,\"#0d0887\"],[0.1111111111111111,\"#46039f\"],[0.2222222222222222,\"#7201a8\"],[0.3333333333333333,\"#9c179e\"],[0.4444444444444444,\"#bd3786\"],[0.5555555555555556,\"#d8576b\"],[0.6666666666666666,\"#ed7953\"],[0.7777777777777778,\"#fb9f3a\"],[0.8888888888888888,\"#fdca26\"],[1.0,\"#f0f921\"]]}],\"choropleth\":[{\"type\":\"choropleth\",\"colorbar\":{\"outlinewidth\":0,\"ticks\":\"\"}}],\"histogram2d\":[{\"type\":\"histogram2d\",\"colorbar\":{\"outlinewidth\":0,\"ticks\":\"\"},\"colorscale\":[[0.0,\"#0d0887\"],[0.1111111111111111,\"#46039f\"],[0.2222222222222222,\"#7201a8\"],[0.3333333333333333,\"#9c179e\"],[0.4444444444444444,\"#bd3786\"],[0.5555555555555556,\"#d8576b\"],[0.6666666666666666,\"#ed7953\"],[0.7777777777777778,\"#fb9f3a\"],[0.8888888888888888,\"#fdca26\"],[1.0,\"#f0f921\"]]}],\"heatmap\":[{\"type\":\"heatmap\",\"colorbar\":{\"outlinewidth\":0,\"ticks\":\"\"},\"colorscale\":[[0.0,\"#0d0887\"],[0.1111111111111111,\"#46039f\"],[0.2222222222222222,\"#7201a8\"],[0.3333333333333333,\"#9c179e\"],[0.4444444444444444,\"#bd3786\"],[0.5555555555555556,\"#d8576b\"],[0.6666666666666666,\"#ed7953\"],[0.7777777777777778,\"#fb9f3a\"],[0.8888888888888888,\"#fdca26\"],[1.0,\"#f0f921\"]]}],\"heatmapgl\":[{\"type\":\"heatmapgl\",\"colorbar\":{\"outlinewidth\":0,\"ticks\":\"\"},\"colorscale\":[[0.0,\"#0d0887\"],[0.1111111111111111,\"#46039f\"],[0.2222222222222222,\"#7201a8\"],[0.3333333333333333,\"#9c179e\"],[0.4444444444444444,\"#bd3786\"],[0.5555555555555556,\"#d8576b\"],[0.6666666666666666,\"#ed7953\"],[0.7777777777777778,\"#fb9f3a\"],[0.8888888888888888,\"#fdca26\"],[1.0,\"#f0f921\"]]}],\"contourcarpet\":[{\"type\":\"contourcarpet\",\"colorbar\":{\"outlinewidth\":0,\"ticks\":\"\"}}],\"contour\":[{\"type\":\"contour\",\"colorbar\":{\"outlinewidth\":0,\"ticks\":\"\"},\"colorscale\":[[0.0,\"#0d0887\"],[0.1111111111111111,\"#46039f\"],[0.2222222222222222,\"#7201a8\"],[0.3333333333333333,\"#9c179e\"],[0.4444444444444444,\"#bd3786\"],[0.5555555555555556,\"#d8576b\"],[0.6666666666666666,\"#ed7953\"],[0.7777777777777778,\"#fb9f3a\"],[0.8888888888888888,\"#fdca26\"],[1.0,\"#f0f921\"]]}],\"surface\":[{\"type\":\"surface\",\"colorbar\":{\"outlinewidth\":0,\"ticks\":\"\"},\"colorscale\":[[0.0,\"#0d0887\"],[0.1111111111111111,\"#46039f\"],[0.2222222222222222,\"#7201a8\"],[0.3333333333333333,\"#9c179e\"],[0.4444444444444444,\"#bd3786\"],[0.5555555555555556,\"#d8576b\"],[0.6666666666666666,\"#ed7953\"],[0.7777777777777778,\"#fb9f3a\"],[0.8888888888888888,\"#fdca26\"],[1.0,\"#f0f921\"]]}],\"mesh3d\":[{\"type\":\"mesh3d\",\"colorbar\":{\"outlinewidth\":0,\"ticks\":\"\"}}],\"scatter\":[{\"fillpattern\":{\"fillmode\":\"overlay\",\"size\":10,\"solidity\":0.2},\"type\":\"scatter\"}],\"parcoords\":[{\"type\":\"parcoords\",\"line\":{\"colorbar\":{\"outlinewidth\":0,\"ticks\":\"\"}}}],\"scatterpolargl\":[{\"type\":\"scatterpolargl\",\"marker\":{\"colorbar\":{\"outlinewidth\":0,\"ticks\":\"\"}}}],\"bar\":[{\"error_x\":{\"color\":\"#2a3f5f\"},\"error_y\":{\"color\":\"#2a3f5f\"},\"marker\":{\"line\":{\"color\":\"#E5ECF6\",\"width\":0.5},\"pattern\":{\"fillmode\":\"overlay\",\"size\":10,\"solidity\":0.2}},\"type\":\"bar\"}],\"scattergeo\":[{\"type\":\"scattergeo\",\"marker\":{\"colorbar\":{\"outlinewidth\":0,\"ticks\":\"\"}}}],\"scatterpolar\":[{\"type\":\"scatterpolar\",\"marker\":{\"colorbar\":{\"outlinewidth\":0,\"ticks\":\"\"}}}],\"histogram\":[{\"marker\":{\"pattern\":{\"fillmode\":\"overlay\",\"size\":10,\"solidity\":0.2}},\"type\":\"histogram\"}],\"scattergl\":[{\"type\":\"scattergl\",\"marker\":{\"colorbar\":{\"outlinewidth\":0,\"ticks\":\"\"}}}],\"scatter3d\":[{\"type\":\"scatter3d\",\"line\":{\"colorbar\":{\"outlinewidth\":0,\"ticks\":\"\"}},\"marker\":{\"colorbar\":{\"outlinewidth\":0,\"ticks\":\"\"}}}],\"scattermapbox\":[{\"type\":\"scattermapbox\",\"marker\":{\"colorbar\":{\"outlinewidth\":0,\"ticks\":\"\"}}}],\"scatterternary\":[{\"type\":\"scatterternary\",\"marker\":{\"colorbar\":{\"outlinewidth\":0,\"ticks\":\"\"}}}],\"scattercarpet\":[{\"type\":\"scattercarpet\",\"marker\":{\"colorbar\":{\"outlinewidth\":0,\"ticks\":\"\"}}}],\"carpet\":[{\"aaxis\":{\"endlinecolor\":\"#2a3f5f\",\"gridcolor\":\"white\",\"linecolor\":\"white\",\"minorgridcolor\":\"white\",\"startlinecolor\":\"#2a3f5f\"},\"baxis\":{\"endlinecolor\":\"#2a3f5f\",\"gridcolor\":\"white\",\"linecolor\":\"white\",\"minorgridcolor\":\"white\",\"startlinecolor\":\"#2a3f5f\"},\"type\":\"carpet\"}],\"table\":[{\"cells\":{\"fill\":{\"color\":\"#EBF0F8\"},\"line\":{\"color\":\"white\"}},\"header\":{\"fill\":{\"color\":\"#C8D4E3\"},\"line\":{\"color\":\"white\"}},\"type\":\"table\"}],\"barpolar\":[{\"marker\":{\"line\":{\"color\":\"#E5ECF6\",\"width\":0.5},\"pattern\":{\"fillmode\":\"overlay\",\"size\":10,\"solidity\":0.2}},\"type\":\"barpolar\"}],\"pie\":[{\"automargin\":true,\"type\":\"pie\"}]},\"layout\":{\"autotypenumbers\":\"strict\",\"colorway\":[\"#636efa\",\"#EF553B\",\"#00cc96\",\"#ab63fa\",\"#FFA15A\",\"#19d3f3\",\"#FF6692\",\"#B6E880\",\"#FF97FF\",\"#FECB52\"],\"font\":{\"color\":\"#2a3f5f\"},\"hovermode\":\"closest\",\"hoverlabel\":{\"align\":\"left\"},\"paper_bgcolor\":\"white\",\"plot_bgcolor\":\"#E5ECF6\",\"polar\":{\"bgcolor\":\"#E5ECF6\",\"angularaxis\":{\"gridcolor\":\"white\",\"linecolor\":\"white\",\"ticks\":\"\"},\"radialaxis\":{\"gridcolor\":\"white\",\"linecolor\":\"white\",\"ticks\":\"\"}},\"ternary\":{\"bgcolor\":\"#E5ECF6\",\"aaxis\":{\"gridcolor\":\"white\",\"linecolor\":\"white\",\"ticks\":\"\"},\"baxis\":{\"gridcolor\":\"white\",\"linecolor\":\"white\",\"ticks\":\"\"},\"caxis\":{\"gridcolor\":\"white\",\"linecolor\":\"white\",\"ticks\":\"\"}},\"coloraxis\":{\"colorbar\":{\"outlinewidth\":0,\"ticks\":\"\"}},\"colorscale\":{\"sequential\":[[0.0,\"#0d0887\"],[0.1111111111111111,\"#46039f\"],[0.2222222222222222,\"#7201a8\"],[0.3333333333333333,\"#9c179e\"],[0.4444444444444444,\"#bd3786\"],[0.5555555555555556,\"#d8576b\"],[0.6666666666666666,\"#ed7953\"],[0.7777777777777778,\"#fb9f3a\"],[0.8888888888888888,\"#fdca26\"],[1.0,\"#f0f921\"]],\"sequentialminus\":[[0.0,\"#0d0887\"],[0.1111111111111111,\"#46039f\"],[0.2222222222222222,\"#7201a8\"],[0.3333333333333333,\"#9c179e\"],[0.4444444444444444,\"#bd3786\"],[0.5555555555555556,\"#d8576b\"],[0.6666666666666666,\"#ed7953\"],[0.7777777777777778,\"#fb9f3a\"],[0.8888888888888888,\"#fdca26\"],[1.0,\"#f0f921\"]],\"diverging\":[[0,\"#8e0152\"],[0.1,\"#c51b7d\"],[0.2,\"#de77ae\"],[0.3,\"#f1b6da\"],[0.4,\"#fde0ef\"],[0.5,\"#f7f7f7\"],[0.6,\"#e6f5d0\"],[0.7,\"#b8e186\"],[0.8,\"#7fbc41\"],[0.9,\"#4d9221\"],[1,\"#276419\"]]},\"xaxis\":{\"gridcolor\":\"white\",\"linecolor\":\"white\",\"ticks\":\"\",\"title\":{\"standoff\":15},\"zerolinecolor\":\"white\",\"automargin\":true,\"zerolinewidth\":2},\"yaxis\":{\"gridcolor\":\"white\",\"linecolor\":\"white\",\"ticks\":\"\",\"title\":{\"standoff\":15},\"zerolinecolor\":\"white\",\"automargin\":true,\"zerolinewidth\":2},\"scene\":{\"xaxis\":{\"backgroundcolor\":\"#E5ECF6\",\"gridcolor\":\"white\",\"linecolor\":\"white\",\"showbackground\":true,\"ticks\":\"\",\"zerolinecolor\":\"white\",\"gridwidth\":2},\"yaxis\":{\"backgroundcolor\":\"#E5ECF6\",\"gridcolor\":\"white\",\"linecolor\":\"white\",\"showbackground\":true,\"ticks\":\"\",\"zerolinecolor\":\"white\",\"gridwidth\":2},\"zaxis\":{\"backgroundcolor\":\"#E5ECF6\",\"gridcolor\":\"white\",\"linecolor\":\"white\",\"showbackground\":true,\"ticks\":\"\",\"zerolinecolor\":\"white\",\"gridwidth\":2}},\"shapedefaults\":{\"line\":{\"color\":\"#2a3f5f\"}},\"annotationdefaults\":{\"arrowcolor\":\"#2a3f5f\",\"arrowhead\":0,\"arrowwidth\":1},\"geo\":{\"bgcolor\":\"white\",\"landcolor\":\"#E5ECF6\",\"subunitcolor\":\"white\",\"showland\":true,\"showlakes\":true,\"lakecolor\":\"white\"},\"title\":{\"x\":0.05},\"mapbox\":{\"style\":\"light\"}}},\"xaxis\":{\"anchor\":\"y\",\"domain\":[0.0,1.0],\"title\":{\"text\":\"Gender\"}},\"yaxis\":{\"anchor\":\"x\",\"domain\":[0.0,1.0],\"title\":{\"text\":\"Annual Income\"}},\"legend\":{\"title\":{\"text\":\"label\"},\"tracegroupgap\":0},\"title\":{\"text\":\"Distribution of Annual income based on gender\",\"font\":{\"size\":16},\"x\":0.5,\"y\":0.9,\"xanchor\":\"center\",\"yanchor\":\"top\"},\"boxmode\":\"group\",\"height\":500,\"width\":500},                        {\"responsive\": true}                    ).then(function(){\n",
              "                            \n",
              "var gd = document.getElementById('0c53ba26-d275-4e1d-8280-4d99fed58c44');\n",
              "var x = new MutationObserver(function (mutations, observer) {{\n",
              "        var display = window.getComputedStyle(gd).display;\n",
              "        if (!display || display === 'none') {{\n",
              "            console.log([gd, 'removed!']);\n",
              "            Plotly.purge(gd);\n",
              "            observer.disconnect();\n",
              "        }}\n",
              "}});\n",
              "\n",
              "// Listen for the removal of the full notebook cells\n",
              "var notebookContainer = gd.closest('#notebook-container');\n",
              "if (notebookContainer) {{\n",
              "    x.observe(notebookContainer, {childList: true});\n",
              "}}\n",
              "\n",
              "// Listen for the clearing of the current output cell\n",
              "var outputEl = gd.closest('.output');\n",
              "if (outputEl) {{\n",
              "    x.observe(outputEl, {childList: true});\n",
              "}}\n",
              "\n",
              "                        })                };                            </script>        </div>\n",
              "</body>\n",
              "</html>"
            ]
          },
          "metadata": {}
        }
      ]
    },
    {
      "cell_type": "markdown",
      "source": [
        "**Observations:**\n",
        "\n",
        "*  The above plot shows the distribution of annual income based on gender.\n",
        "*  Here, we can see that for both male and female customers, the count of credit cards approved and rejected are almost equal."
      ],
      "metadata": {
        "id": "M5_LredRIblM"
      }
    },
    {
      "cell_type": "code",
      "source": [
        "fig = px.box(df, x = 'Type_Occupation', y = 'Annual_income', color = 'label', height = 600, width = 1000,\n",
        "             labels = {'Type_Occupation':'Type of occupation', 'Annual_income':'Annual Income'},\n",
        "             title = 'Distribution of Annual income based on occupation type')\n",
        "fig.update_layout(title = dict(x = 0.5, y = 0.9, xanchor = 'center', yanchor = 'top',\n",
        "                               font = dict(size = 16)))\n",
        "fig.show()"
      ],
      "metadata": {
        "colab": {
          "base_uri": "https://localhost:8080/",
          "height": 617
        },
        "id": "_c25JeRK8DT0",
        "outputId": "65b0d1fb-241a-493f-8846-d2ce9dffefed"
      },
      "execution_count": null,
      "outputs": [
        {
          "output_type": "display_data",
          "data": {
            "text/html": [
              "<html>\n",
              "<head><meta charset=\"utf-8\" /></head>\n",
              "<body>\n",
              "    <div>            <script src=\"https://cdnjs.cloudflare.com/ajax/libs/mathjax/2.7.5/MathJax.js?config=TeX-AMS-MML_SVG\"></script><script type=\"text/javascript\">if (window.MathJax && window.MathJax.Hub && window.MathJax.Hub.Config) {window.MathJax.Hub.Config({SVG: {font: \"STIX-Web\"}});}</script>                <script type=\"text/javascript\">window.PlotlyConfig = {MathJaxConfig: 'local'};</script>\n",
              "        <script charset=\"utf-8\" src=\"https://cdn.plot.ly/plotly-2.24.1.min.js\"></script>                <div id=\"1f1eb8dd-3d03-4512-9640-b91b71f98e6d\" class=\"plotly-graph-div\" style=\"height:600px; width:1000px;\"></div>            <script type=\"text/javascript\">                                    window.PLOTLYENV=window.PLOTLYENV || {};                                    if (document.getElementById(\"1f1eb8dd-3d03-4512-9640-b91b71f98e6d\")) {                    Plotly.newPlot(                        \"1f1eb8dd-3d03-4512-9640-b91b71f98e6d\",                        [{\"alignmentgroup\":\"True\",\"hovertemplate\":\"label=1\\u003cbr\\u003eType of occupation=%{x}\\u003cbr\\u003eAnnual Income=%{y}\\u003cextra\\u003e\\u003c\\u002fextra\\u003e\",\"legendgroup\":\"1\",\"marker\":{\"color\":\"#636efa\"},\"name\":\"1\",\"notched\":false,\"offsetgroup\":\"1\",\"orientation\":\"v\",\"showlegend\":true,\"x\":[null,null,null,null,null,null,null,null,\"Core staff\",\"Core staff\",\"Core staff\",\"Cooking staff\",\"Cooking staff\",\"Cooking staff\",null,\"Laborers\",\"Laborers\",\"Sales staff\",\"Sales staff\",null,null,\"Laborers\",\"Accountants\",\"Sales staff\",\"Laborers\",null,null,null,\"High skill tech staff\",\"Managers\",\"Cleaning staff\",null,\"Laborers\",\"Sales staff\",null,\"Drivers\",\"Drivers\",null,\"Laborers\",null,null,null,null,null,\"Low-skill Laborers\",\"Low-skill Laborers\",\"Accountants\",\"Laborers\",\"Laborers\",\"Laborers\",\"Laborers\",\"High skill tech staff\",\"Laborers\",\"Laborers\",\"IT staff\",\"IT staff\",\"Drivers\",\"Drivers\",\"Drivers\",\"Managers\",\"Drivers\",\"Drivers\",null,null,null,null,null,null,\"Sales staff\",\"Sales staff\",\"Sales staff\",null,null,null,\"Waiters\\u002fbarmen staff\",\"Laborers\",\"Laborers\",\"High skill tech staff\",null,\"Laborers\",\"Sales staff\",null,\"Core staff\",\"Accountants\",\"Accountants\",\"Core staff\",\"High skill tech staff\",null,null,\"Laborers\",\"Laborers\",\"Laborers\",\"Managers\",\"Accountants\",null,\"Security staff\",\"Laborers\",\"Laborers\",\"Laborers\",null,\"Core staff\",\"Core staff\",\"Core staff\",\"Cleaning staff\",\"Managers\",\"Laborers\",null,\"High skill tech staff\",\"Medicine staff\",\"Security staff\",null,null,null,null,\"Core staff\",\"Core staff\",\"Core staff\",\"Core staff\",\"Core staff\",\"Managers\",\"Managers\",\"Core staff\",null,null,null,null,\"Core staff\",\"Laborers\",null,null,null,null,null,null,null,\"Laborers\",\"Laborers\",null,\"High skill tech staff\",\"High skill tech staff\",\"Cooking staff\",\"Laborers\",\"Sales staff\",null,\"Security staff\",\"Security staff\",\"Security staff\",\"Core staff\",\"Core staff\",\"Laborers\",\"Managers\",\"Managers\",\"Managers\",\"Managers\",\"Managers\",\"Drivers\",\"Drivers\",\"Core staff\",\"Core staff\",\"Core staff\",\"Laborers\",null,null,\"Managers\",\"Sales staff\",\"Security staff\",\"Managers\",\"Security staff\",\"Security staff\",\"Core staff\",\"Core staff\",\"Core staff\",\"Managers\",\"Medicine staff\",\"Medicine staff\"],\"x0\":\" \",\"xaxis\":\"x\",\"y\":[180000.0,315000.0,315000.0,null,315000.0,315000.0,315000.0,180000.0,450000.0,450000.0,450000.0,90000.0,null,90000.0,472500.0,270000.0,270000.0,126000.0,126000.0,90000.0,202500.0,202500.0,157500.0,112500.0,180000.0,540000.0,112500.0,null,292500.0,540000.0,90000.0,112500.0,135000.0,135000.0,180000.0,112500.0,292500.0,76500.0,215100.0,450000.0,270000.0,225000.0,225000.0,225000.0,157500.0,157500.0,67500.0,180000.0,180000.0,157500.0,157500.0,171000.0,135000.0,135000.0,103500.0,103500.0,225000.0,225000.0,225000.0,180000.0,157500.0,157500.0,180000.0,180000.0,99000.0,null,99000.0,99000.0,391500.0,391500.0,391500.0,65250.0,72900.0,225000.0,67500.0,180000.0,null,202500.0,157500.0,202500.0,270000.0,135000.0,360000.0,256500.0,256500.0,157500.0,225000.0,180000.0,180000.0,202500.0,202500.0,202500.0,315000.0,225000.0,126000.0,675000.0,135000.0,135000.0,247500.0,103500.0,85500.0,135000.0,135000.0,180000.0,121500.0,180000.0,225000.0,null,135000.0,225000.0,67500.0,135000.0,130500.0,130500.0,202500.0,202500.0,202500.0,202500.0,202500.0,126000.0,126000.0,180000.0,180000.0,180000.0,180000.0,null,211500.0,157500.0,81000.0,81000.0,112500.0,112500.0,112500.0,112500.0,112500.0,72000.0,202500.0,148500.0,135000.0,135000.0,270000.0,135000.0,135000.0,162000.0,112500.0,112500.0,112500.0,135000.0,135000.0,195750.0,585000.0,585000.0,null,450000.0,450000.0,112500.0,112500.0,67500.0,67500.0,67500.0,216000.0,306000.0,90000.0,225000.0,108000.0,135000.0,135000.0,108000.0,108000.0,450000.0,450000.0,450000.0,315000.0,157500.0,157500.0],\"y0\":\" \",\"yaxis\":\"y\",\"type\":\"box\"},{\"alignmentgroup\":\"True\",\"hovertemplate\":\"label=0\\u003cbr\\u003eType of occupation=%{x}\\u003cbr\\u003eAnnual Income=%{y}\\u003cextra\\u003e\\u003c\\u002fextra\\u003e\",\"legendgroup\":\"0\",\"marker\":{\"color\":\"#EF553B\"},\"name\":\"0\",\"notched\":false,\"offsetgroup\":\"0\",\"orientation\":\"v\",\"showlegend\":true,\"x\":[\"Cleaning staff\",\"Laborers\",\"Sales staff\",\"Core staff\",\"Private service staff\",\"Sales staff\",\"Laborers\",null,\"Core staff\",null,\"Cooking staff\",null,null,\"Managers\",\"Core staff\",null,null,\"Sales staff\",null,null,null,null,\"Core staff\",null,\"Laborers\",null,\"Core staff\",null,\"Security staff\",null,null,\"Laborers\",null,null,\"Medicine staff\",\"Laborers\",\"Managers\",\"High skill tech staff\",\"Private service staff\",\"Managers\",\"Cleaning staff\",\"Core staff\",\"Core staff\",null,\"Drivers\",null,null,null,null,\"Drivers\",\"Medicine staff\",\"Sales staff\",\"HR staff\",\"Core staff\",\"Accountants\",\"Core staff\",\"Laborers\",\"Laborers\",\"Managers\",\"Sales staff\",null,null,null,\"Drivers\",\"Laborers\",\"Sales staff\",\"Cleaning staff\",\"Laborers\",\"Laborers\",null,null,\"Laborers\",\"Accountants\",\"Medicine staff\",null,\"Secretaries\",null,null,\"Core staff\",\"Managers\",\"Laborers\",null,\"Core staff\",null,\"Sales staff\",\"Secretaries\",\"Accountants\",\"Sales staff\",\"Laborers\",\"Core staff\",\"Medicine staff\",null,\"Managers\",null,\"Managers\",\"Laborers\",null,\"Sales staff\",null,\"Core staff\",\"Medicine staff\",\"Laborers\",\"Sales staff\",null,null,\"Sales staff\",null,\"Medicine staff\",null,\"Sales staff\",\"Drivers\",\"Sales staff\",\"Low-skill Laborers\",\"Sales staff\",null,\"Core staff\",\"Drivers\",\"Laborers\",\"Realty agents\",\"Sales staff\",null,\"Managers\",\"Sales staff\",\"Laborers\",\"Laborers\",\"Laborers\",\"Core staff\",\"Laborers\",\"Security staff\",\"Sales staff\",\"Drivers\",\"Sales staff\",null,null,null,\"Drivers\",null,\"Core staff\",\"Core staff\",\"Sales staff\",\"Medicine staff\",\"Core staff\",\"High skill tech staff\",\"Managers\",\"Accountants\",\"Accountants\",null,\"High skill tech staff\",null,\"Sales staff\",\"Medicine staff\",\"Core staff\",null,null,null,\"Laborers\",\"Cleaning staff\",\"Laborers\",null,null,null,null,\"Core staff\",\"Core staff\",\"Managers\",\"Private service staff\",\"Sales staff\",\"Managers\",null,\"Medicine staff\",null,null,\"Laborers\",null,\"Private service staff\",null,\"Laborers\",null,\"Drivers\",\"Private service staff\",\"Managers\",\"Sales staff\",\"Core staff\",\"Sales staff\",\"Core staff\",\"Laborers\",null,null,\"Core staff\",\"Laborers\",\"Core staff\",null,\"Laborers\",null,null,\"Laborers\",\"Laborers\",\"Sales staff\",\"Core staff\",\"Core staff\",null,\"High skill tech staff\",null,null,\"Sales staff\",null,\"Cleaning staff\",\"Medicine staff\",\"Laborers\",null,\"Managers\",\"Sales staff\",null,\"Managers\",null,\"Managers\",\"Private service staff\",\"Accountants\",\"Accountants\",\"Core staff\",\"Laborers\",null,\"Medicine staff\",\"Core staff\",\"Core staff\",\"High skill tech staff\",null,\"Core staff\",\"Core staff\",\"Sales staff\",\"Managers\",\"Drivers\",null,\"Drivers\",null,null,null,\"Drivers\",\"Core staff\",\"Accountants\",\"High skill tech staff\",\"Core staff\",\"Waiters\\u002fbarmen staff\",\"Managers\",\"Cooking staff\",\"Drivers\",\"Managers\",null,\"Core staff\",null,null,\"High skill tech staff\",\"Accountants\",null,\"Accountants\",null,\"Laborers\",\"Managers\",\"Core staff\",\"Drivers\",null,null,\"Core staff\",null,\"HR staff\",\"Laborers\",\"Laborers\",\"Core staff\",null,\"High skill tech staff\",\"Drivers\",\"Laborers\",\"Laborers\",\"Managers\",\"Core staff\",\"Drivers\",null,\"Laborers\",\"Core staff\",\"Laborers\",\"High skill tech staff\",null,\"Managers\",\"Drivers\",\"Core staff\",\"Sales staff\",null,\"Laborers\",\"Low-skill Laborers\",\"Secretaries\",null,\"Private service staff\",\"Sales staff\",null,\"Laborers\",\"Laborers\",\"Sales staff\",\"Managers\",\"Laborers\",\"Laborers\",null,null,\"High skill tech staff\",null,null,null,null,\"Laborers\",\"Core staff\",\"Drivers\",\"Core staff\",\"Accountants\",\"Managers\",\"Drivers\",\"Security staff\",\"Laborers\",\"Core staff\",null,\"Medicine staff\",\"Laborers\",\"Sales staff\",null,\"Private service staff\",\"Core staff\",\"Sales staff\",\"Laborers\",\"Laborers\",null,\"Laborers\",\"Medicine staff\",\"Core staff\",\"Laborers\",\"Medicine staff\",\"Sales staff\",null,\"Medicine staff\",null,\"Accountants\",\"Managers\",null,\"Accountants\",\"Core staff\",null,\"Medicine staff\",\"Core staff\",\"Core staff\",null,null,\"Cleaning staff\",\"Laborers\",\"Managers\",null,\"Core staff\",\"Managers\",null,\"High skill tech staff\",\"Core staff\",\"Drivers\",\"Laborers\",\"High skill tech staff\",null,\"Laborers\",\"Laborers\",\"Sales staff\",\"Laborers\",\"Secretaries\",\"Drivers\",null,null,\"Core staff\",\"Managers\",null,null,\"Security staff\",\"Laborers\",\"Laborers\",null,\"Medicine staff\",\"Laborers\",null,\"Drivers\",null,\"Managers\",null,\"Laborers\",\"Sales staff\",null,\"Laborers\",null,\"Cleaning staff\",\"Drivers\",\"Laborers\",\"Managers\",\"Sales staff\",\"Sales staff\",\"Laborers\",\"Laborers\",\"Managers\",null,null,\"Core staff\",\"Security staff\",null,null,\"Drivers\",null,null,\"Laborers\",null,\"High skill tech staff\",null,\"Managers\",\"Drivers\",\"Medicine staff\",\"Laborers\",\"Managers\",\"Managers\",\"Security staff\",null,null,\"Laborers\",\"Sales staff\",\"Laborers\",null,\"High skill tech staff\",null,\"Sales staff\",\"Laborers\",\"Laborers\",\"Sales staff\",\"Drivers\",\"Laborers\",null,null,\"Laborers\",\"Sales staff\",null,\"Core staff\",null,\"Core staff\",\"Core staff\",null,\"Drivers\",\"Managers\",\"Accountants\",null,null,\"Laborers\",\"Drivers\",\"Accountants\",null,\"Sales staff\",null,\"Medicine staff\",null,null,\"Laborers\",\"Managers\",null,\"Sales staff\",\"Sales staff\",null,\"Drivers\",\"High skill tech staff\",\"Laborers\",null,null,\"Drivers\",null,\"Sales staff\",\"Managers\",null,null,\"Laborers\",\"High skill tech staff\",\"Sales staff\",\"Core staff\",null,\"Sales staff\",\"Laborers\",\"Drivers\",\"Core staff\",\"Laborers\",null,\"Laborers\",null,\"Drivers\",\"Laborers\",\"Managers\",\"Laborers\",null,\"Core staff\",\"Cooking staff\",\"Core staff\",\"Sales staff\",\"High skill tech staff\",\"Managers\",\"Sales staff\",\"Private service staff\",\"Laborers\",null,\"Managers\",null,\"High skill tech staff\",\"Sales staff\",null,null,null,null,null,\"Laborers\",\"Managers\",\"Laborers\",\"Laborers\",null,null,\"Laborers\",\"Laborers\",\"Sales staff\",\"Sales staff\",\"Accountants\",null,null,null,null,\"Private service staff\",null,null,\"Cooking staff\",null,\"Managers\",\"Sales staff\",\"Laborers\",null,null,\"Medicine staff\",\"Sales staff\",\"Drivers\",null,\"Core staff\",\"Managers\",\"Laborers\",null,\"Laborers\",\"Core staff\",\"Security staff\",\"Security staff\",\"Drivers\",\"High skill tech staff\",\"Laborers\",null,\"Medicine staff\",\"Laborers\",\"High skill tech staff\",\"Laborers\",null,\"Accountants\",\"Managers\",\"Managers\",\"Accountants\",\"Sales staff\",\"Laborers\",\"Laborers\",\"Sales staff\",\"Laborers\",\"Laborers\",\"Cooking staff\",\"Cleaning staff\",\"Laborers\",null,\"Managers\",\"Laborers\",null,\"Managers\",null,\"Laborers\",null,\"Laborers\",\"High skill tech staff\",\"Medicine staff\",null,null,\"Laborers\",\"Drivers\",\"Core staff\",\"Accountants\",\"Laborers\",\"Laborers\",\"Managers\",\"Sales staff\",\"Low-skill Laborers\",null,\"Laborers\",\"Core staff\",\"Managers\",null,\"Laborers\",\"Laborers\",null,\"Sales staff\",null,\"Laborers\",\"Core staff\",null,\"Laborers\",\"Medicine staff\",null,\"Laborers\",null,\"Laborers\",null,null,\"High skill tech staff\",\"Laborers\",\"Cooking staff\",null,\"Drivers\",\"Laborers\",null,null,\"Sales staff\",\"Managers\",\"Laborers\",null,\"Core staff\",null,null,null,\"Core staff\",\"Core staff\",\"Cleaning staff\",\"Cleaning staff\",\"Managers\",null,null,null,\"Managers\",\"Core staff\",\"Core staff\",\"Core staff\",null,\"Sales staff\",\"Medicine staff\",\"Cleaning staff\",\"Medicine staff\",null,\"Drivers\",null,\"Core staff\",\"Cooking staff\",\"Laborers\",null,null,\"Core staff\",\"Drivers\",null,null,\"Core staff\",\"Laborers\",\"Laborers\",\"Medicine staff\",null,null,\"Laborers\",\"Laborers\",\"Core staff\",\"High skill tech staff\",\"Core staff\",\"Managers\",\"Drivers\",null,\"Low-skill Laborers\",null,null,\"High skill tech staff\",\"High skill tech staff\",\"Sales staff\",\"High skill tech staff\",null,\"Core staff\",\"Cooking staff\",\"Cleaning staff\",\"Managers\",\"Accountants\",null,\"Laborers\",\"Secretaries\",null,\"Accountants\",null,null,\"Core staff\",\"Core staff\",\"High skill tech staff\",null,\"Laborers\",\"Managers\",\"Managers\",\"Managers\",\"Cleaning staff\",null,\"Laborers\",\"Laborers\",\"Medicine staff\",\"Accountants\",\"High skill tech staff\",null,\"High skill tech staff\",null,\"Managers\",\"Core staff\",null,\"Security staff\",\"Sales staff\",\"High skill tech staff\",\"Security staff\",\"Laborers\",null,\"Managers\",\"Managers\",null,\"Core staff\",null,\"Core staff\",\"Managers\",\"Realty agents\",\"Laborers\",\"Managers\",null,\"Managers\",\"Core staff\",null,\"Core staff\",null,\"Sales staff\",null,\"Core staff\",\"Managers\",\"Core staff\",null,null,\"Laborers\",\"Cleaning staff\",\"Managers\",null,\"Managers\",\"Waiters\\u002fbarmen staff\",\"Managers\",\"Laborers\",\"Sales staff\",null,\"Medicine staff\",\"Laborers\",\"Laborers\",null,\"High skill tech staff\",null,\"Cooking staff\",null,null,null,\"Laborers\",\"Laborers\",\"Cooking staff\",\"Laborers\",null,\"Managers\",\"Managers\",null,null,null,null,\"Core staff\",\"Laborers\",\"Core staff\",\"Laborers\",\"Accountants\",null,\"Managers\",\"High skill tech staff\",\"Laborers\",\"Core staff\",\"Sales staff\",\"Medicine staff\",null,null,null,null,\"Managers\",\"Sales staff\",null,\"Sales staff\",\"Laborers\",\"Sales staff\",\"Drivers\",null,null,\"Laborers\",null,\"Laborers\",null,\"High skill tech staff\",\"Drivers\",\"Managers\",\"Laborers\",\"Sales staff\",\"Laborers\",\"Laborers\",\"Laborers\",\"Laborers\",\"Core staff\",\"Accountants\",null,\"Medicine staff\",null,\"Core staff\",null,\"Private service staff\",\"Managers\",null,\"Laborers\",null,\"Sales staff\",\"Core staff\",\"Laborers\",null,\"Cooking staff\",\"Laborers\",\"Core staff\",null,null,\"High skill tech staff\",\"Managers\",\"Sales staff\",null,null,\"Core staff\",\"Drivers\",\"Laborers\",\"High skill tech staff\",\"Managers\",null,null,null,\"Cleaning staff\",null,\"Laborers\",\"Core staff\",\"Sales staff\",\"Drivers\",\"Managers\",\"Laborers\",\"Sales staff\",\"Medicine staff\",\"Sales staff\",\"Managers\",\"Managers\",\"High skill tech staff\",\"Security staff\",\"Laborers\",\"Medicine staff\",\"Drivers\",\"Drivers\",null,null,null,\"Laborers\",\"Sales staff\",\"Laborers\",null,\"HR staff\",\"High skill tech staff\",\"Laborers\",null,null,\"Drivers\",\"Laborers\",null,null,\"Laborers\",\"Core staff\",\"Core staff\",\"Laborers\",null,null,\"Accountants\",\"Laborers\",\"High skill tech staff\",\"Drivers\",\"Sales staff\",null,null,\"Core staff\",\"High skill tech staff\",null,null,\"Managers\",null,\"Accountants\",\"High skill tech staff\",\"Drivers\",null,null,\"Accountants\",\"Laborers\",\"Laborers\",\"Laborers\",\"Managers\",null,\"Cooking staff\",\"Waiters\\u002fbarmen staff\",\"Core staff\",\"Laborers\",null,\"Cleaning staff\",null,\"Sales staff\",\"Core staff\",\"Secretaries\",null,null,null,\"Sales staff\",\"Drivers\",\"Laborers\",null,\"Managers\",\"Core staff\",\"Managers\",\"Core staff\",\"Core staff\",\"Managers\",\"Laborers\",\"Core staff\",\"Laborers\",\"Laborers\",\"Drivers\",\"Sales staff\",\"High skill tech staff\",\"Laborers\",null,null,\"Core staff\",null,\"Core staff\",\"Laborers\",null,\"Drivers\",\"Laborers\",\"Core staff\",\"Security staff\",\"Laborers\",null,\"Laborers\",\"Core staff\",\"Sales staff\",\"Laborers\",\"Sales staff\",null,\"Laborers\",\"Laborers\",\"Managers\",\"Laborers\",\"High skill tech staff\",\"Managers\",null,\"Core staff\",\"Managers\",\"Drivers\",\"Laborers\",\"Managers\",\"Accountants\",null,null,null,\"Core staff\",\"High skill tech staff\",null,\"Core staff\",\"Drivers\",\"Core staff\",\"Laborers\",\"Laborers\",\"Medicine staff\",\"Cleaning staff\",\"Core staff\",null,\"Laborers\",\"Medicine staff\",\"Drivers\",null,\"Laborers\",null,\"Sales staff\",\"Sales staff\",null,\"Medicine staff\",\"Laborers\",null,\"Managers\",\"Managers\",\"Security staff\",\"Sales staff\",\"Drivers\",null,\"Cooking staff\",\"Security staff\",\"Sales staff\",null,\"Sales staff\",null,\"Medicine staff\",\"Core staff\",\"Managers\",\"Laborers\",\"Laborers\",\"Sales staff\",null,\"Managers\",\"Drivers\",null,\"Medicine staff\",\"Laborers\",null,null,null,\"Laborers\",\"High skill tech staff\",null,\"Drivers\",null,null,\"Core staff\",\"Drivers\",null,\"Laborers\",\"Managers\",\"Laborers\",null,null,null,\"Sales staff\",\"High skill tech staff\",\"Laborers\",\"Private service staff\",\"Drivers\",\"Drivers\",null,null,\"Laborers\",\"Drivers\",null,\"Cooking staff\",\"High skill tech staff\",null,\"High skill tech staff\",\"Core staff\",\"Managers\",\"Laborers\",null,\"Accountants\",\"Core staff\",\"Managers\",\"Laborers\",\"Core staff\",\"Laborers\",null,\"Core staff\",null,\"Low-skill Laborers\",\"Drivers\",\"Managers\",\"High skill tech staff\",\"Core staff\",\"Laborers\",null,\"Managers\",null,\"Drivers\",\"Cleaning staff\",\"Sales staff\",\"Laborers\",\"Secretaries\",null,\"Laborers\",\"Core staff\",null,\"Cooking staff\",null,\"Laborers\",\"Core staff\",\"Laborers\",\"Laborers\",\"Sales staff\",\"Medicine staff\",\"Core staff\",\"Managers\",\"Managers\",null,null,\"Drivers\",null,\"Sales staff\",\"Drivers\",\"Sales staff\",null,\"Private service staff\",\"Accountants\",\"Sales staff\",\"Drivers\",null,\"Laborers\",\"Managers\",null,\"Laborers\",\"Laborers\",null,null,\"Sales staff\",null,\"Sales staff\",\"Managers\",null,\"Drivers\",\"Managers\",null,\"Core staff\",null,\"Laborers\",\"Sales staff\",null,null,null,null,\"High skill tech staff\",\"Core staff\",null,\"Medicine staff\",null,\"High skill tech staff\",null,\"Sales staff\",\"Laborers\",\"Laborers\",null,\"Core staff\",\"Low-skill Laborers\",\"Managers\",\"Medicine staff\",\"High skill tech staff\",\"Cooking staff\",\"Laborers\",\"Managers\",\"Cleaning staff\",\"Core staff\",\"Managers\",null,\"Laborers\",\"High skill tech staff\",\"Accountants\",null,\"High skill tech staff\",\"Laborers\",\"Laborers\",\"Core staff\",\"Laborers\",\"Sales staff\",null,\"Laborers\",null,\"Managers\",\"Core staff\",null,null,\"Managers\",null,null,\"Laborers\",null,\"Core staff\",\"Security staff\",\"Core staff\",null,\"Sales staff\",\"Laborers\",null,\"Core staff\",null,null,null,\"Core staff\",\"Medicine staff\",\"Drivers\",null,\"Private service staff\",null,\"Core staff\",\"Secretaries\",\"Cleaning staff\",\"Core staff\",\"Laborers\",null,\"Managers\",\"Medicine staff\",\"High skill tech staff\",null,\"Managers\",\"Managers\",\"Core staff\",null,\"Core staff\",\"Drivers\",\"Managers\",null,\"Sales staff\",null,\"Drivers\",null,null,null,null,\"Medicine staff\",\"Core staff\",\"Accountants\",\"Laborers\",null,\"Medicine staff\",\"Laborers\",\"Laborers\",null,null,\"Laborers\",null,\"Managers\",\"Core staff\",null,null,\"Laborers\",\"Waiters\\u002fbarmen staff\",\"Drivers\",\"Private service staff\",\"Managers\",null,\"Core staff\",null,\"Sales staff\",null,\"Drivers\",null,\"Laborers\",\"Core staff\",null,\"High skill tech staff\",\"Laborers\",\"Core staff\",\"Managers\",\"Sales staff\",\"Security staff\",null,\"Accountants\",\"Laborers\",\"Accountants\",null,\"Private service staff\",\"Accountants\",\"Laborers\",\"Laborers\",null,\"Private service staff\",\"Medicine staff\",null,\"Laborers\",\"Secretaries\",null,\"Laborers\",null,\"Sales staff\",\"Core staff\",\"Laborers\",\"Sales staff\",\"High skill tech staff\",null,null,\"Managers\",\"High skill tech staff\",null,\"Drivers\",null,\"Laborers\",null,null,\"Security staff\",\"Sales staff\",\"Laborers\",\"Managers\",\"Sales staff\",\"Laborers\",\"Core staff\",null,\"Accountants\",null,null,\"Laborers\",\"Managers\",\"Sales staff\",\"Laborers\",null,null,null,\"Core staff\",null,\"Laborers\",\"Managers\",\"Laborers\",\"Core staff\",null,\"Managers\",\"Sales staff\",\"Sales staff\",\"Drivers\",\"Sales staff\",\"Laborers\",null,null,null,\"Managers\",null,\"Medicine staff\",null,\"Managers\",\"Core staff\",\"Laborers\",null,null,null,\"Laborers\",null,\"Laborers\",null,null,\"Sales staff\",\"Laborers\",\"Core staff\",\"Cooking staff\",\"Core staff\",null,\"Laborers\",\"Laborers\",\"Laborers\",null,null,\"Laborers\",\"Core staff\",\"Medicine staff\",\"Sales staff\",null,null,null,\"Drivers\",\"Drivers\",null,\"Core staff\",\"Low-skill Laborers\",\"Managers\",\"High skill tech staff\",\"Accountants\",\"Accountants\",\"Drivers\",\"Managers\",\"Accountants\",\"Managers\",\"Drivers\",null],\"x0\":\" \",\"xaxis\":\"x\",\"y\":[81000.0,225000.0,180000.0,135000.0,135000.0,63000.0,135000.0,112500.0,112500.0,45000.0,null,202500.0,180000.0,450000.0,256500.0,90000.0,180000.0,90000.0,135000.0,126000.0,126000.0,337500.0,90000.0,131400.0,180000.0,247500.0,121500.0,117000.0,90000.0,445500.0,157500.0,112500.0,180000.0,157500.0,117000.0,234000.0,1575000.0,247500.0,144000.0,180000.0,null,216000.0,90000.0,171000.0,180000.0,225000.0,225000.0,270000.0,67050.0,270000.0,73350.0,112500.0,144000.0,225000.0,112500.0,292500.0,135000.0,157500.0,1575000.0,157500.0,157500.0,135000.0,112500.0,202500.0,193500.0,225000.0,108000.0,900000.0,292500.0,270000.0,270000.0,292500.0,292500.0,157500.0,76500.0,157500.0,180000.0,135000.0,112500.0,360000.0,157500.0,225000.0,112500.0,121500.0,202500.0,112500.0,135000.0,103500.0,157500.0,337500.0,180000.0,112500.0,157500.0,360000.0,135000.0,337500.0,135000.0,360000.0,null,450000.0,270000.0,270000.0,270000.0,450000.0,157500.0,112500.0,292500.0,112500.0,247500.0,157500.0,225000.0,94500.0,81000.0,180000.0,198000.0,180000.0,315000.0,67500.0,180000.0,202500.0,112500.0,306000.0,90000.0,270000.0,270000.0,234000.0,171000.0,225000.0,94500.0,117000.0,180000.0,202500.0,54000.0,112500.0,85500.0,135000.0,166500.0,157500.0,247500.0,180000.0,72000.0,202500.0,180000.0,270000.0,202500.0,360000.0,270000.0,270000.0,112500.0,null,157500.0,202500.0,99000.0,162000.0,225000.0,225000.0,72000.0,135000.0,315000.0,167400.0,180000.0,135000.0,99000.0,225000.0,153000.0,423000.0,90000.0,360000.0,247500.0,225000.0,67500.0,112500.0,157500.0,90000.0,90000.0,225000.0,112500.0,112500.0,315000.0,135000.0,450000.0,90000.0,270000.0,180000.0,135000.0,243000.0,225000.0,112500.0,234000.0,180000.0,121500.0,121500.0,270000.0,180000.0,90000.0,135000.0,247500.0,76500.0,85500.0,202500.0,157500.0,225000.0,225000.0,540000.0,283500.0,90000.0,null,252000.0,135000.0,315000.0,450000.0,180000.0,270000.0,495000.0,180000.0,306000.0,157500.0,180000.0,612000.0,36000.0,112500.0,292500.0,180000.0,202500.0,292500.0,315000.0,135000.0,337500.0,157500.0,360000.0,135000.0,270000.0,157500.0,157500.0,139500.0,135000.0,133650.0,427500.0,81000.0,225000.0,126000.0,135000.0,94500.0,180000.0,157500.0,252000.0,202500.0,117000.0,247500.0,180000.0,180000.0,180000.0,157500.0,135000.0,null,202500.0,90000.0,247500.0,99000.0,247500.0,202500.0,90000.0,121500.0,157500.0,121500.0,135000.0,180000.0,144000.0,126000.0,225000.0,157500.0,157500.0,270000.0,261000.0,135000.0,202500.0,157500.0,103500.0,135000.0,135000.0,112500.0,231750.0,202500.0,247500.0,135000.0,135000.0,112500.0,117000.0,112500.0,135000.0,103500.0,315000.0,180000.0,247500.0,135000.0,157500.0,315000.0,247500.0,157500.0,null,247500.0,166500.0,112500.0,90900.0,112500.0,45900.0,126000.0,103500.0,119250.0,202500.0,157500.0,112500.0,315000.0,270000.0,162000.0,270000.0,112500.0,58500.0,94500.0,270000.0,270000.0,99000.0,315000.0,157500.0,180000.0,211500.0,202500.0,180000.0,144000.0,144000.0,270000.0,148500.0,157500.0,90000.0,148500.0,99000.0,315000.0,162000.0,202500.0,225000.0,612000.0,292500.0,67500.0,157500.0,135000.0,67500.0,144000.0,90000.0,112500.0,112500.0,135000.0,360000.0,112500.0,225000.0,112500.0,202500.0,202500.0,225000.0,112500.0,202500.0,328500.0,112500.0,202500.0,135000.0,157500.0,270000.0,157500.0,193500.0,103500.0,90000.0,198000.0,202500.0,225000.0,72000.0,202500.0,247500.0,157500.0,225000.0,112500.0,450000.0,180000.0,108000.0,787500.0,202500.0,157500.0,90000.0,null,225000.0,90000.0,72000.0,225000.0,157500.0,360000.0,450000.0,216000.0,157500.0,315000.0,315000.0,594000.0,135000.0,180000.0,157500.0,234000.0,99000.0,225000.0,292500.0,198000.0,90000.0,247500.0,112500.0,157500.0,112500.0,585000.0,180000.0,225000.0,225000.0,135000.0,112500.0,112500.0,180000.0,112500.0,117000.0,135000.0,270000.0,135000.0,157500.0,243000.0,121500.0,135000.0,225000.0,225000.0,112500.0,157500.0,202500.0,337500.0,103500.0,99000.0,67500.0,112500.0,270000.0,315000.0,135000.0,180000.0,225000.0,85500.0,135000.0,119700.0,495000.0,112500.0,153000.0,216000.0,202500.0,90000.0,108000.0,270000.0,76500.0,69372.0,135000.0,117000.0,202500.0,126000.0,135000.0,180000.0,225000.0,81000.0,157500.0,90000.0,225000.0,157500.0,103500.0,202500.0,37800.0,135000.0,157500.0,180000.0,135000.0,225000.0,157500.0,387000.0,225000.0,225000.0,126000.0,135000.0,202500.0,225000.0,157500.0,202500.0,247500.0,225000.0,112500.0,112500.0,135000.0,207000.0,270000.0,315000.0,315000.0,112500.0,121500.0,225000.0,225000.0,157500.0,225000.0,135000.0,225000.0,270000.0,202500.0,135000.0,112500.0,157500.0,450000.0,202500.0,900000.0,135000.0,337500.0,94500.0,90000.0,157500.0,270000.0,112500.0,135000.0,270000.0,112500.0,225000.0,54000.0,189000.0,135000.0,157500.0,121500.0,180000.0,121500.0,225000.0,180000.0,315000.0,112500.0,90000.0,90000.0,45000.0,180000.0,112500.0,135000.0,360000.0,135000.0,99000.0,270000.0,157500.0,null,180000.0,315000.0,112500.0,108000.0,180000.0,225000.0,90000.0,292500.0,157500.0,135000.0,315000.0,225000.0,333000.0,171000.0,130500.0,112500.0,202500.0,126000.0,225000.0,135000.0,112500.0,105750.0,135000.0,180000.0,360000.0,157500.0,90000.0,112500.0,180000.0,225000.0,67500.0,270000.0,202500.0,144000.0,207000.0,180000.0,202500.0,202500.0,180000.0,126000.0,157500.0,225000.0,202500.0,103500.0,90000.0,135000.0,67500.0,135000.0,382500.0,270000.0,202500.0,292500.0,225000.0,135000.0,76500.0,180000.0,450000.0,90000.0,157500.0,306000.0,90000.0,135000.0,193500.0,180000.0,270000.0,112500.0,202500.0,180000.0,139500.0,135000.0,202500.0,112500.0,126000.0,193500.0,112500.0,337500.0,157500.0,193500.0,180000.0,315000.0,180000.0,90000.0,180000.0,112500.0,157500.0,135000.0,315000.0,112500.0,135000.0,99000.0,900000.0,270000.0,112500.0,180000.0,141750.0,180000.0,112500.0,225000.0,270000.0,202500.0,135000.0,292500.0,202500.0,99000.0,202500.0,306000.0,148500.0,135000.0,180000.0,180000.0,157500.0,247500.0,112500.0,180000.0,103500.0,198000.0,135000.0,67500.0,202500.0,315000.0,292500.0,148500.0,202500.0,180000.0,90000.0,135000.0,135000.0,261000.0,135000.0,112500.0,135000.0,135000.0,360000.0,171000.0,40500.0,130500.0,306000.0,202500.0,112500.0,112500.0,90000.0,153000.0,135000.0,180000.0,112500.0,90000.0,157500.0,247500.0,112500.0,67500.0,360000.0,360000.0,315000.0,157500.0,135000.0,166500.0,180000.0,225000.0,135000.0,135000.0,193500.0,247500.0,315000.0,405000.0,405000.0,90000.0,270000.0,243000.0,180000.0,112500.0,337500.0,135000.0,117000.0,202500.0,270000.0,202500.0,135000.0,216000.0,135000.0,225000.0,81000.0,180000.0,292500.0,225000.0,157500.0,157500.0,166500.0,445500.0,180000.0,45000.0,315000.0,450000.0,180000.0,90000.0,null,148500.0,135000.0,144000.0,135000.0,360000.0,90000.0,157500.0,135000.0,292500.0,112500.0,216000.0,126000.0,135000.0,189000.0,337500.0,44550.0,112500.0,157500.0,112500.0,135000.0,135000.0,301500.0,112500.0,90000.0,67500.0,292500.0,315000.0,117000.0,157500.0,67500.0,189000.0,202500.0,157500.0,225000.0,112500.0,202500.0,180000.0,225000.0,157500.0,180000.0,112500.0,81000.0,90000.0,180000.0,94500.0,180000.0,450000.0,315000.0,54000.0,112500.0,157500.0,180000.0,225000.0,360000.0,112500.0,292500.0,360000.0,225000.0,126000.0,135000.0,270000.0,157500.0,216000.0,337500.0,225000.0,108000.0,225000.0,180000.0,180000.0,135000.0,180000.0,112500.0,270000.0,270000.0,270000.0,135000.0,351000.0,202500.0,189000.0,270000.0,144000.0,67500.0,247500.0,157500.0,157500.0,157500.0,180000.0,315000.0,99000.0,351000.0,175500.0,306000.0,157500.0,58500.0,292500.0,null,225000.0,247500.0,189000.0,247500.0,90000.0,148500.0,180000.0,180000.0,121900.5,112500.0,180000.0,225000.0,450000.0,225000.0,135000.0,157500.0,238500.0,261000.0,180000.0,225000.0,135000.0,112500.0,180000.0,171000.0,135000.0,202500.0,33750.0,135000.0,135000.0,157500.0,67500.0,135000.0,153000.0,180000.0,180000.0,121500.0,112500.0,270000.0,360000.0,116100.0,225000.0,450000.0,225000.0,405000.0,112500.0,157500.0,202500.0,297000.0,315000.0,202500.0,180000.0,202500.0,360000.0,112500.0,121500.0,112500.0,900000.0,112500.0,135000.0,261000.0,121500.0,202500.0,94500.0,225000.0,630000.0,202500.0,360000.0,157500.0,247500.0,81000.0,360000.0,315000.0,126000.0,225000.0,135000.0,225000.0,112500.0,40500.0,157500.0,67500.0,315000.0,270000.0,180000.0,157500.0,252000.0,270000.0,157500.0,270000.0,162000.0,315000.0,202500.0,180000.0,112500.0,135000.0,225000.0,157500.0,112500.0,202500.0,162000.0,450000.0,157500.0,270000.0,90000.0,67500.0,225000.0,135000.0,135000.0,157500.0,180000.0,418500.0,225000.0,135000.0,360000.0,135000.0,112500.0,225000.0,180000.0,202500.0,315000.0,315000.0,112500.0,83250.0,261000.0,247500.0,360000.0,135000.0,225000.0,270000.0,112500.0,112500.0,225000.0,173250.0,148500.0,315000.0,135000.0,157500.0,76500.0,225000.0,157500.0,216000.0,90000.0,211500.0,202500.0,112500.0,112500.0,166500.0,72000.0,135000.0,157500.0,67500.0,135000.0,207000.0,148500.0,112500.0,112500.0,202500.0,67500.0,67500.0,306000.0,90000.0,360000.0,112500.0,270000.0,450000.0,67500.0,180000.0,270000.0,315000.0,247500.0,72000.0,81000.0,171000.0,135000.0,135000.0,202500.0,292500.0,360000.0,315000.0,405000.0,225000.0,198000.0,202500.0,90000.0,166500.0,73350.0,135000.0,103500.0,202500.0,76500.0,225000.0,126000.0,211500.0,157500.0,112500.0,225000.0,135000.0,405000.0,135000.0,112500.0,247500.0,270000.0,225000.0,90000.0,135000.0,67500.0,135000.0,193500.0,135000.0,202500.0,135000.0,180000.0,112500.0,247500.0,360000.0,193500.0,67500.0,306000.0,153000.0,171000.0,112500.0,360000.0,157500.0,112500.0,292500.0,315000.0,135000.0,180000.0,180000.0,292500.0,135000.0,225000.0,225000.0,135000.0,292500.0,180000.0,274500.0,225000.0,180000.0,225000.0,360000.0,126000.0,180000.0,54000.0,76500.0,247500.0,112500.0,81000.0,135000.0,135000.0,99000.0,67500.0,null,202500.0,58500.0,135000.0,135000.0,180000.0,112500.0,144000.0,112500.0,135000.0,81000.0,193500.0,144000.0,292500.0,157500.0,315000.0,135000.0,202500.0,180000.0,112500.0,112500.0,270000.0,76500.0,292500.0,405000.0,193500.0,180000.0,115200.0,56250.0,180000.0,157500.0,202500.0,135000.0,202500.0,157500.0,225000.0,null,202500.0,85500.0,157500.0,270000.0,157500.0,360000.0,90000.0,90000.0,135000.0,112500.0,225000.0,225000.0,202500.0,202500.0,225000.0,108000.0,225000.0,180000.0,135000.0,112500.0,90000.0,90000.0,103500.0,72000.0,135000.0,495000.0,135000.0,360000.0,135000.0,225000.0,135000.0,81000.0,90000.0,450000.0,360000.0,225000.0,202500.0,202500.0,95850.0,112500.0,126000.0,99000.0,112500.0,180000.0,225000.0,225000.0,202500.0,180000.0,135000.0,315000.0,387000.0,45000.0,185400.0,76500.0,225000.0,810000.0,126000.0,135000.0,90000.0,157500.0,180000.0,112500.0,270000.0,135000.0,103500.0,130500.0,90000.0,112500.0,157500.0,202500.0,67500.0,189000.0,180000.0,135000.0,135000.0,166500.0,90000.0,337500.0,90000.0,157500.0,112500.0,180000.0,112500.0,135000.0,135000.0,135000.0,null,126000.0,247500.0,184500.0,165600.0,315000.0,112500.0,112500.0,202500.0,72000.0,202500.0,391500.0,112500.0,157500.0,112500.0,270000.0,270000.0,247500.0,360000.0,189000.0,157500.0,405000.0,157500.0,130500.0,135000.0,90000.0,67500.0,135000.0,247500.0,157500.0,135000.0,126000.0,180000.0,112500.0,247500.0,112500.0,315000.0,67500.0,337500.0,337500.0,112500.0,157500.0,292500.0,135000.0,450000.0,180000.0,135000.0,180000.0,202500.0,180000.0,112500.0,135000.0,81000.0,135000.0,270000.0,247500.0,202500.0,225000.0,157500.0,216000.0,202500.0,135000.0,247500.0,180000.0,67500.0,130500.0,99000.0,112500.0,247500.0,180000.0,225000.0,405000.0,247500.0,171000.0,180000.0,337500.0,315000.0,247500.0,180000.0,83250.0,202500.0,450000.0,135000.0,225000.0,157500.0,270000.0,216000.0,114750.0,99000.0,47250.0,49500.0,135000.0,225000.0,450000.0,225000.0,90000.0,180000.0,103500.0,135000.0,225000.0,112500.0,270000.0,270000.0,202500.0,180000.0,180000.0,108000.0,225000.0,157500.0,405000.0,225000.0,216000.0,135000.0,112500.0,135000.0,157500.0,45000.0,157500.0,198000.0,234000.0,157500.0,207000.0,198000.0,157500.0,180000.0,216000.0,112500.0,94500.0,69750.0,103500.0,157500.0,112500.0,67500.0,112500.0,157500.0,270000.0,135000.0,112500.0,126000.0,175500.0,148500.0,126000.0,180000.0,225000.0,126000.0,157500.0,157500.0,270000.0,180000.0,144000.0,112500.0,225000.0,450000.0,180000.0,144000.0,225000.0,360000.0,null,225000.0,180000.0,270000.0,225000.0],\"y0\":\" \",\"yaxis\":\"y\",\"type\":\"box\"}],                        {\"template\":{\"data\":{\"histogram2dcontour\":[{\"type\":\"histogram2dcontour\",\"colorbar\":{\"outlinewidth\":0,\"ticks\":\"\"},\"colorscale\":[[0.0,\"#0d0887\"],[0.1111111111111111,\"#46039f\"],[0.2222222222222222,\"#7201a8\"],[0.3333333333333333,\"#9c179e\"],[0.4444444444444444,\"#bd3786\"],[0.5555555555555556,\"#d8576b\"],[0.6666666666666666,\"#ed7953\"],[0.7777777777777778,\"#fb9f3a\"],[0.8888888888888888,\"#fdca26\"],[1.0,\"#f0f921\"]]}],\"choropleth\":[{\"type\":\"choropleth\",\"colorbar\":{\"outlinewidth\":0,\"ticks\":\"\"}}],\"histogram2d\":[{\"type\":\"histogram2d\",\"colorbar\":{\"outlinewidth\":0,\"ticks\":\"\"},\"colorscale\":[[0.0,\"#0d0887\"],[0.1111111111111111,\"#46039f\"],[0.2222222222222222,\"#7201a8\"],[0.3333333333333333,\"#9c179e\"],[0.4444444444444444,\"#bd3786\"],[0.5555555555555556,\"#d8576b\"],[0.6666666666666666,\"#ed7953\"],[0.7777777777777778,\"#fb9f3a\"],[0.8888888888888888,\"#fdca26\"],[1.0,\"#f0f921\"]]}],\"heatmap\":[{\"type\":\"heatmap\",\"colorbar\":{\"outlinewidth\":0,\"ticks\":\"\"},\"colorscale\":[[0.0,\"#0d0887\"],[0.1111111111111111,\"#46039f\"],[0.2222222222222222,\"#7201a8\"],[0.3333333333333333,\"#9c179e\"],[0.4444444444444444,\"#bd3786\"],[0.5555555555555556,\"#d8576b\"],[0.6666666666666666,\"#ed7953\"],[0.7777777777777778,\"#fb9f3a\"],[0.8888888888888888,\"#fdca26\"],[1.0,\"#f0f921\"]]}],\"heatmapgl\":[{\"type\":\"heatmapgl\",\"colorbar\":{\"outlinewidth\":0,\"ticks\":\"\"},\"colorscale\":[[0.0,\"#0d0887\"],[0.1111111111111111,\"#46039f\"],[0.2222222222222222,\"#7201a8\"],[0.3333333333333333,\"#9c179e\"],[0.4444444444444444,\"#bd3786\"],[0.5555555555555556,\"#d8576b\"],[0.6666666666666666,\"#ed7953\"],[0.7777777777777778,\"#fb9f3a\"],[0.8888888888888888,\"#fdca26\"],[1.0,\"#f0f921\"]]}],\"contourcarpet\":[{\"type\":\"contourcarpet\",\"colorbar\":{\"outlinewidth\":0,\"ticks\":\"\"}}],\"contour\":[{\"type\":\"contour\",\"colorbar\":{\"outlinewidth\":0,\"ticks\":\"\"},\"colorscale\":[[0.0,\"#0d0887\"],[0.1111111111111111,\"#46039f\"],[0.2222222222222222,\"#7201a8\"],[0.3333333333333333,\"#9c179e\"],[0.4444444444444444,\"#bd3786\"],[0.5555555555555556,\"#d8576b\"],[0.6666666666666666,\"#ed7953\"],[0.7777777777777778,\"#fb9f3a\"],[0.8888888888888888,\"#fdca26\"],[1.0,\"#f0f921\"]]}],\"surface\":[{\"type\":\"surface\",\"colorbar\":{\"outlinewidth\":0,\"ticks\":\"\"},\"colorscale\":[[0.0,\"#0d0887\"],[0.1111111111111111,\"#46039f\"],[0.2222222222222222,\"#7201a8\"],[0.3333333333333333,\"#9c179e\"],[0.4444444444444444,\"#bd3786\"],[0.5555555555555556,\"#d8576b\"],[0.6666666666666666,\"#ed7953\"],[0.7777777777777778,\"#fb9f3a\"],[0.8888888888888888,\"#fdca26\"],[1.0,\"#f0f921\"]]}],\"mesh3d\":[{\"type\":\"mesh3d\",\"colorbar\":{\"outlinewidth\":0,\"ticks\":\"\"}}],\"scatter\":[{\"fillpattern\":{\"fillmode\":\"overlay\",\"size\":10,\"solidity\":0.2},\"type\":\"scatter\"}],\"parcoords\":[{\"type\":\"parcoords\",\"line\":{\"colorbar\":{\"outlinewidth\":0,\"ticks\":\"\"}}}],\"scatterpolargl\":[{\"type\":\"scatterpolargl\",\"marker\":{\"colorbar\":{\"outlinewidth\":0,\"ticks\":\"\"}}}],\"bar\":[{\"error_x\":{\"color\":\"#2a3f5f\"},\"error_y\":{\"color\":\"#2a3f5f\"},\"marker\":{\"line\":{\"color\":\"#E5ECF6\",\"width\":0.5},\"pattern\":{\"fillmode\":\"overlay\",\"size\":10,\"solidity\":0.2}},\"type\":\"bar\"}],\"scattergeo\":[{\"type\":\"scattergeo\",\"marker\":{\"colorbar\":{\"outlinewidth\":0,\"ticks\":\"\"}}}],\"scatterpolar\":[{\"type\":\"scatterpolar\",\"marker\":{\"colorbar\":{\"outlinewidth\":0,\"ticks\":\"\"}}}],\"histogram\":[{\"marker\":{\"pattern\":{\"fillmode\":\"overlay\",\"size\":10,\"solidity\":0.2}},\"type\":\"histogram\"}],\"scattergl\":[{\"type\":\"scattergl\",\"marker\":{\"colorbar\":{\"outlinewidth\":0,\"ticks\":\"\"}}}],\"scatter3d\":[{\"type\":\"scatter3d\",\"line\":{\"colorbar\":{\"outlinewidth\":0,\"ticks\":\"\"}},\"marker\":{\"colorbar\":{\"outlinewidth\":0,\"ticks\":\"\"}}}],\"scattermapbox\":[{\"type\":\"scattermapbox\",\"marker\":{\"colorbar\":{\"outlinewidth\":0,\"ticks\":\"\"}}}],\"scatterternary\":[{\"type\":\"scatterternary\",\"marker\":{\"colorbar\":{\"outlinewidth\":0,\"ticks\":\"\"}}}],\"scattercarpet\":[{\"type\":\"scattercarpet\",\"marker\":{\"colorbar\":{\"outlinewidth\":0,\"ticks\":\"\"}}}],\"carpet\":[{\"aaxis\":{\"endlinecolor\":\"#2a3f5f\",\"gridcolor\":\"white\",\"linecolor\":\"white\",\"minorgridcolor\":\"white\",\"startlinecolor\":\"#2a3f5f\"},\"baxis\":{\"endlinecolor\":\"#2a3f5f\",\"gridcolor\":\"white\",\"linecolor\":\"white\",\"minorgridcolor\":\"white\",\"startlinecolor\":\"#2a3f5f\"},\"type\":\"carpet\"}],\"table\":[{\"cells\":{\"fill\":{\"color\":\"#EBF0F8\"},\"line\":{\"color\":\"white\"}},\"header\":{\"fill\":{\"color\":\"#C8D4E3\"},\"line\":{\"color\":\"white\"}},\"type\":\"table\"}],\"barpolar\":[{\"marker\":{\"line\":{\"color\":\"#E5ECF6\",\"width\":0.5},\"pattern\":{\"fillmode\":\"overlay\",\"size\":10,\"solidity\":0.2}},\"type\":\"barpolar\"}],\"pie\":[{\"automargin\":true,\"type\":\"pie\"}]},\"layout\":{\"autotypenumbers\":\"strict\",\"colorway\":[\"#636efa\",\"#EF553B\",\"#00cc96\",\"#ab63fa\",\"#FFA15A\",\"#19d3f3\",\"#FF6692\",\"#B6E880\",\"#FF97FF\",\"#FECB52\"],\"font\":{\"color\":\"#2a3f5f\"},\"hovermode\":\"closest\",\"hoverlabel\":{\"align\":\"left\"},\"paper_bgcolor\":\"white\",\"plot_bgcolor\":\"#E5ECF6\",\"polar\":{\"bgcolor\":\"#E5ECF6\",\"angularaxis\":{\"gridcolor\":\"white\",\"linecolor\":\"white\",\"ticks\":\"\"},\"radialaxis\":{\"gridcolor\":\"white\",\"linecolor\":\"white\",\"ticks\":\"\"}},\"ternary\":{\"bgcolor\":\"#E5ECF6\",\"aaxis\":{\"gridcolor\":\"white\",\"linecolor\":\"white\",\"ticks\":\"\"},\"baxis\":{\"gridcolor\":\"white\",\"linecolor\":\"white\",\"ticks\":\"\"},\"caxis\":{\"gridcolor\":\"white\",\"linecolor\":\"white\",\"ticks\":\"\"}},\"coloraxis\":{\"colorbar\":{\"outlinewidth\":0,\"ticks\":\"\"}},\"colorscale\":{\"sequential\":[[0.0,\"#0d0887\"],[0.1111111111111111,\"#46039f\"],[0.2222222222222222,\"#7201a8\"],[0.3333333333333333,\"#9c179e\"],[0.4444444444444444,\"#bd3786\"],[0.5555555555555556,\"#d8576b\"],[0.6666666666666666,\"#ed7953\"],[0.7777777777777778,\"#fb9f3a\"],[0.8888888888888888,\"#fdca26\"],[1.0,\"#f0f921\"]],\"sequentialminus\":[[0.0,\"#0d0887\"],[0.1111111111111111,\"#46039f\"],[0.2222222222222222,\"#7201a8\"],[0.3333333333333333,\"#9c179e\"],[0.4444444444444444,\"#bd3786\"],[0.5555555555555556,\"#d8576b\"],[0.6666666666666666,\"#ed7953\"],[0.7777777777777778,\"#fb9f3a\"],[0.8888888888888888,\"#fdca26\"],[1.0,\"#f0f921\"]],\"diverging\":[[0,\"#8e0152\"],[0.1,\"#c51b7d\"],[0.2,\"#de77ae\"],[0.3,\"#f1b6da\"],[0.4,\"#fde0ef\"],[0.5,\"#f7f7f7\"],[0.6,\"#e6f5d0\"],[0.7,\"#b8e186\"],[0.8,\"#7fbc41\"],[0.9,\"#4d9221\"],[1,\"#276419\"]]},\"xaxis\":{\"gridcolor\":\"white\",\"linecolor\":\"white\",\"ticks\":\"\",\"title\":{\"standoff\":15},\"zerolinecolor\":\"white\",\"automargin\":true,\"zerolinewidth\":2},\"yaxis\":{\"gridcolor\":\"white\",\"linecolor\":\"white\",\"ticks\":\"\",\"title\":{\"standoff\":15},\"zerolinecolor\":\"white\",\"automargin\":true,\"zerolinewidth\":2},\"scene\":{\"xaxis\":{\"backgroundcolor\":\"#E5ECF6\",\"gridcolor\":\"white\",\"linecolor\":\"white\",\"showbackground\":true,\"ticks\":\"\",\"zerolinecolor\":\"white\",\"gridwidth\":2},\"yaxis\":{\"backgroundcolor\":\"#E5ECF6\",\"gridcolor\":\"white\",\"linecolor\":\"white\",\"showbackground\":true,\"ticks\":\"\",\"zerolinecolor\":\"white\",\"gridwidth\":2},\"zaxis\":{\"backgroundcolor\":\"#E5ECF6\",\"gridcolor\":\"white\",\"linecolor\":\"white\",\"showbackground\":true,\"ticks\":\"\",\"zerolinecolor\":\"white\",\"gridwidth\":2}},\"shapedefaults\":{\"line\":{\"color\":\"#2a3f5f\"}},\"annotationdefaults\":{\"arrowcolor\":\"#2a3f5f\",\"arrowhead\":0,\"arrowwidth\":1},\"geo\":{\"bgcolor\":\"white\",\"landcolor\":\"#E5ECF6\",\"subunitcolor\":\"white\",\"showland\":true,\"showlakes\":true,\"lakecolor\":\"white\"},\"title\":{\"x\":0.05},\"mapbox\":{\"style\":\"light\"}}},\"xaxis\":{\"anchor\":\"y\",\"domain\":[0.0,1.0],\"title\":{\"text\":\"Type of occupation\"}},\"yaxis\":{\"anchor\":\"x\",\"domain\":[0.0,1.0],\"title\":{\"text\":\"Annual Income\"}},\"legend\":{\"title\":{\"text\":\"label\"},\"tracegroupgap\":0},\"title\":{\"text\":\"Distribution of Annual income based on occupation type\",\"font\":{\"size\":16},\"x\":0.5,\"y\":0.9,\"xanchor\":\"center\",\"yanchor\":\"top\"},\"boxmode\":\"group\",\"height\":600,\"width\":1000},                        {\"responsive\": true}                    ).then(function(){\n",
              "                            \n",
              "var gd = document.getElementById('1f1eb8dd-3d03-4512-9640-b91b71f98e6d');\n",
              "var x = new MutationObserver(function (mutations, observer) {{\n",
              "        var display = window.getComputedStyle(gd).display;\n",
              "        if (!display || display === 'none') {{\n",
              "            console.log([gd, 'removed!']);\n",
              "            Plotly.purge(gd);\n",
              "            observer.disconnect();\n",
              "        }}\n",
              "}});\n",
              "\n",
              "// Listen for the removal of the full notebook cells\n",
              "var notebookContainer = gd.closest('#notebook-container');\n",
              "if (notebookContainer) {{\n",
              "    x.observe(notebookContainer, {childList: true});\n",
              "}}\n",
              "\n",
              "// Listen for the clearing of the current output cell\n",
              "var outputEl = gd.closest('.output');\n",
              "if (outputEl) {{\n",
              "    x.observe(outputEl, {childList: true});\n",
              "}}\n",
              "\n",
              "                        })                };                            </script>        </div>\n",
              "</body>\n",
              "</html>"
            ]
          },
          "metadata": {}
        }
      ]
    },
    {
      "cell_type": "markdown",
      "source": [
        "**Observations:**\n",
        "\n",
        "*  This plot shows the credit information of the customers along with their type of occupation.\n",
        "*  Blue colored plots represents the rejection of credit cards.\n",
        "*  Customers in occupation like **Private service**, **HR**, **Secretaries** and **Realty agents** have no bad credits.\n",
        "*  Customers like **Low-skill Labourers**, **IT staff**, **waiters** and **Medicine staff** have less number of bad credits.\n",
        "*  **Core staff**, **Sales staff** and **Managers** have the maximum number of bad credits."
      ],
      "metadata": {
        "id": "TXWyY3XHJNVw"
      }
    },
    {
      "cell_type": "code",
      "source": [
        "fig = px.sunburst(df, names = 'Type_Income', path = ['label', 'Type_Income'], height = 500, width = 500,\n",
        "                  title = 'Type of income Vs Credit information')\n",
        "fig.update_traces(textinfo = ' label + value + percent root')\n",
        "fig.update_layout(title = dict(x = 0.5, y = 0.9, xanchor = 'center', yanchor = 'top',\n",
        "                               font = dict(size = 16)))\n",
        "fig.show()"
      ],
      "metadata": {
        "colab": {
          "base_uri": "https://localhost:8080/",
          "height": 517
        },
        "id": "HWphJl6F8GAB",
        "outputId": "fbaf8e33-a15e-47d2-c1c9-5727a4a1d345"
      },
      "execution_count": null,
      "outputs": [
        {
          "output_type": "display_data",
          "data": {
            "text/html": [
              "<html>\n",
              "<head><meta charset=\"utf-8\" /></head>\n",
              "<body>\n",
              "    <div>            <script src=\"https://cdnjs.cloudflare.com/ajax/libs/mathjax/2.7.5/MathJax.js?config=TeX-AMS-MML_SVG\"></script><script type=\"text/javascript\">if (window.MathJax && window.MathJax.Hub && window.MathJax.Hub.Config) {window.MathJax.Hub.Config({SVG: {font: \"STIX-Web\"}});}</script>                <script type=\"text/javascript\">window.PlotlyConfig = {MathJaxConfig: 'local'};</script>\n",
              "        <script charset=\"utf-8\" src=\"https://cdn.plot.ly/plotly-2.24.1.min.js\"></script>                <div id=\"df81af7a-8463-4b5e-a11a-7d5015bd1f77\" class=\"plotly-graph-div\" style=\"height:500px; width:500px;\"></div>            <script type=\"text/javascript\">                                    window.PLOTLYENV=window.PLOTLYENV || {};                                    if (document.getElementById(\"df81af7a-8463-4b5e-a11a-7d5015bd1f77\")) {                    Plotly.newPlot(                        \"df81af7a-8463-4b5e-a11a-7d5015bd1f77\",                        [{\"branchvalues\":\"total\",\"domain\":{\"x\":[0.0,1.0],\"y\":[0.0,1.0]},\"hovertemplate\":\"labels=%{label}\\u003cbr\\u003ecount=%{value}\\u003cbr\\u003eparent=%{parent}\\u003cbr\\u003eid=%{id}\\u003cextra\\u003e\\u003c\\u002fextra\\u003e\",\"ids\":[\"0\\u002fCommercial associate\",\"1\\u002fCommercial associate\",\"0\\u002fPensioner\",\"1\\u002fPensioner\",\"0\\u002fState servant\",\"1\\u002fState servant\",\"0\\u002fWorking\",\"1\\u002fWorking\",\"0\",\"1\"],\"labels\":[\"Commercial associate\",\"Commercial associate\",\"Pensioner\",\"Pensioner\",\"State servant\",\"State servant\",\"Working\",\"Working\",\"0\",\"1\"],\"name\":\"\",\"parents\":[\"0\",\"1\",\"0\",\"1\",\"0\",\"1\",\"0\",\"1\",\"\",\"\"],\"values\":[315,50,227,42,110,6,721,77,1373,175],\"type\":\"sunburst\",\"textinfo\":\"label+value+percent root\"}],                        {\"template\":{\"data\":{\"histogram2dcontour\":[{\"type\":\"histogram2dcontour\",\"colorbar\":{\"outlinewidth\":0,\"ticks\":\"\"},\"colorscale\":[[0.0,\"#0d0887\"],[0.1111111111111111,\"#46039f\"],[0.2222222222222222,\"#7201a8\"],[0.3333333333333333,\"#9c179e\"],[0.4444444444444444,\"#bd3786\"],[0.5555555555555556,\"#d8576b\"],[0.6666666666666666,\"#ed7953\"],[0.7777777777777778,\"#fb9f3a\"],[0.8888888888888888,\"#fdca26\"],[1.0,\"#f0f921\"]]}],\"choropleth\":[{\"type\":\"choropleth\",\"colorbar\":{\"outlinewidth\":0,\"ticks\":\"\"}}],\"histogram2d\":[{\"type\":\"histogram2d\",\"colorbar\":{\"outlinewidth\":0,\"ticks\":\"\"},\"colorscale\":[[0.0,\"#0d0887\"],[0.1111111111111111,\"#46039f\"],[0.2222222222222222,\"#7201a8\"],[0.3333333333333333,\"#9c179e\"],[0.4444444444444444,\"#bd3786\"],[0.5555555555555556,\"#d8576b\"],[0.6666666666666666,\"#ed7953\"],[0.7777777777777778,\"#fb9f3a\"],[0.8888888888888888,\"#fdca26\"],[1.0,\"#f0f921\"]]}],\"heatmap\":[{\"type\":\"heatmap\",\"colorbar\":{\"outlinewidth\":0,\"ticks\":\"\"},\"colorscale\":[[0.0,\"#0d0887\"],[0.1111111111111111,\"#46039f\"],[0.2222222222222222,\"#7201a8\"],[0.3333333333333333,\"#9c179e\"],[0.4444444444444444,\"#bd3786\"],[0.5555555555555556,\"#d8576b\"],[0.6666666666666666,\"#ed7953\"],[0.7777777777777778,\"#fb9f3a\"],[0.8888888888888888,\"#fdca26\"],[1.0,\"#f0f921\"]]}],\"heatmapgl\":[{\"type\":\"heatmapgl\",\"colorbar\":{\"outlinewidth\":0,\"ticks\":\"\"},\"colorscale\":[[0.0,\"#0d0887\"],[0.1111111111111111,\"#46039f\"],[0.2222222222222222,\"#7201a8\"],[0.3333333333333333,\"#9c179e\"],[0.4444444444444444,\"#bd3786\"],[0.5555555555555556,\"#d8576b\"],[0.6666666666666666,\"#ed7953\"],[0.7777777777777778,\"#fb9f3a\"],[0.8888888888888888,\"#fdca26\"],[1.0,\"#f0f921\"]]}],\"contourcarpet\":[{\"type\":\"contourcarpet\",\"colorbar\":{\"outlinewidth\":0,\"ticks\":\"\"}}],\"contour\":[{\"type\":\"contour\",\"colorbar\":{\"outlinewidth\":0,\"ticks\":\"\"},\"colorscale\":[[0.0,\"#0d0887\"],[0.1111111111111111,\"#46039f\"],[0.2222222222222222,\"#7201a8\"],[0.3333333333333333,\"#9c179e\"],[0.4444444444444444,\"#bd3786\"],[0.5555555555555556,\"#d8576b\"],[0.6666666666666666,\"#ed7953\"],[0.7777777777777778,\"#fb9f3a\"],[0.8888888888888888,\"#fdca26\"],[1.0,\"#f0f921\"]]}],\"surface\":[{\"type\":\"surface\",\"colorbar\":{\"outlinewidth\":0,\"ticks\":\"\"},\"colorscale\":[[0.0,\"#0d0887\"],[0.1111111111111111,\"#46039f\"],[0.2222222222222222,\"#7201a8\"],[0.3333333333333333,\"#9c179e\"],[0.4444444444444444,\"#bd3786\"],[0.5555555555555556,\"#d8576b\"],[0.6666666666666666,\"#ed7953\"],[0.7777777777777778,\"#fb9f3a\"],[0.8888888888888888,\"#fdca26\"],[1.0,\"#f0f921\"]]}],\"mesh3d\":[{\"type\":\"mesh3d\",\"colorbar\":{\"outlinewidth\":0,\"ticks\":\"\"}}],\"scatter\":[{\"fillpattern\":{\"fillmode\":\"overlay\",\"size\":10,\"solidity\":0.2},\"type\":\"scatter\"}],\"parcoords\":[{\"type\":\"parcoords\",\"line\":{\"colorbar\":{\"outlinewidth\":0,\"ticks\":\"\"}}}],\"scatterpolargl\":[{\"type\":\"scatterpolargl\",\"marker\":{\"colorbar\":{\"outlinewidth\":0,\"ticks\":\"\"}}}],\"bar\":[{\"error_x\":{\"color\":\"#2a3f5f\"},\"error_y\":{\"color\":\"#2a3f5f\"},\"marker\":{\"line\":{\"color\":\"#E5ECF6\",\"width\":0.5},\"pattern\":{\"fillmode\":\"overlay\",\"size\":10,\"solidity\":0.2}},\"type\":\"bar\"}],\"scattergeo\":[{\"type\":\"scattergeo\",\"marker\":{\"colorbar\":{\"outlinewidth\":0,\"ticks\":\"\"}}}],\"scatterpolar\":[{\"type\":\"scatterpolar\",\"marker\":{\"colorbar\":{\"outlinewidth\":0,\"ticks\":\"\"}}}],\"histogram\":[{\"marker\":{\"pattern\":{\"fillmode\":\"overlay\",\"size\":10,\"solidity\":0.2}},\"type\":\"histogram\"}],\"scattergl\":[{\"type\":\"scattergl\",\"marker\":{\"colorbar\":{\"outlinewidth\":0,\"ticks\":\"\"}}}],\"scatter3d\":[{\"type\":\"scatter3d\",\"line\":{\"colorbar\":{\"outlinewidth\":0,\"ticks\":\"\"}},\"marker\":{\"colorbar\":{\"outlinewidth\":0,\"ticks\":\"\"}}}],\"scattermapbox\":[{\"type\":\"scattermapbox\",\"marker\":{\"colorbar\":{\"outlinewidth\":0,\"ticks\":\"\"}}}],\"scatterternary\":[{\"type\":\"scatterternary\",\"marker\":{\"colorbar\":{\"outlinewidth\":0,\"ticks\":\"\"}}}],\"scattercarpet\":[{\"type\":\"scattercarpet\",\"marker\":{\"colorbar\":{\"outlinewidth\":0,\"ticks\":\"\"}}}],\"carpet\":[{\"aaxis\":{\"endlinecolor\":\"#2a3f5f\",\"gridcolor\":\"white\",\"linecolor\":\"white\",\"minorgridcolor\":\"white\",\"startlinecolor\":\"#2a3f5f\"},\"baxis\":{\"endlinecolor\":\"#2a3f5f\",\"gridcolor\":\"white\",\"linecolor\":\"white\",\"minorgridcolor\":\"white\",\"startlinecolor\":\"#2a3f5f\"},\"type\":\"carpet\"}],\"table\":[{\"cells\":{\"fill\":{\"color\":\"#EBF0F8\"},\"line\":{\"color\":\"white\"}},\"header\":{\"fill\":{\"color\":\"#C8D4E3\"},\"line\":{\"color\":\"white\"}},\"type\":\"table\"}],\"barpolar\":[{\"marker\":{\"line\":{\"color\":\"#E5ECF6\",\"width\":0.5},\"pattern\":{\"fillmode\":\"overlay\",\"size\":10,\"solidity\":0.2}},\"type\":\"barpolar\"}],\"pie\":[{\"automargin\":true,\"type\":\"pie\"}]},\"layout\":{\"autotypenumbers\":\"strict\",\"colorway\":[\"#636efa\",\"#EF553B\",\"#00cc96\",\"#ab63fa\",\"#FFA15A\",\"#19d3f3\",\"#FF6692\",\"#B6E880\",\"#FF97FF\",\"#FECB52\"],\"font\":{\"color\":\"#2a3f5f\"},\"hovermode\":\"closest\",\"hoverlabel\":{\"align\":\"left\"},\"paper_bgcolor\":\"white\",\"plot_bgcolor\":\"#E5ECF6\",\"polar\":{\"bgcolor\":\"#E5ECF6\",\"angularaxis\":{\"gridcolor\":\"white\",\"linecolor\":\"white\",\"ticks\":\"\"},\"radialaxis\":{\"gridcolor\":\"white\",\"linecolor\":\"white\",\"ticks\":\"\"}},\"ternary\":{\"bgcolor\":\"#E5ECF6\",\"aaxis\":{\"gridcolor\":\"white\",\"linecolor\":\"white\",\"ticks\":\"\"},\"baxis\":{\"gridcolor\":\"white\",\"linecolor\":\"white\",\"ticks\":\"\"},\"caxis\":{\"gridcolor\":\"white\",\"linecolor\":\"white\",\"ticks\":\"\"}},\"coloraxis\":{\"colorbar\":{\"outlinewidth\":0,\"ticks\":\"\"}},\"colorscale\":{\"sequential\":[[0.0,\"#0d0887\"],[0.1111111111111111,\"#46039f\"],[0.2222222222222222,\"#7201a8\"],[0.3333333333333333,\"#9c179e\"],[0.4444444444444444,\"#bd3786\"],[0.5555555555555556,\"#d8576b\"],[0.6666666666666666,\"#ed7953\"],[0.7777777777777778,\"#fb9f3a\"],[0.8888888888888888,\"#fdca26\"],[1.0,\"#f0f921\"]],\"sequentialminus\":[[0.0,\"#0d0887\"],[0.1111111111111111,\"#46039f\"],[0.2222222222222222,\"#7201a8\"],[0.3333333333333333,\"#9c179e\"],[0.4444444444444444,\"#bd3786\"],[0.5555555555555556,\"#d8576b\"],[0.6666666666666666,\"#ed7953\"],[0.7777777777777778,\"#fb9f3a\"],[0.8888888888888888,\"#fdca26\"],[1.0,\"#f0f921\"]],\"diverging\":[[0,\"#8e0152\"],[0.1,\"#c51b7d\"],[0.2,\"#de77ae\"],[0.3,\"#f1b6da\"],[0.4,\"#fde0ef\"],[0.5,\"#f7f7f7\"],[0.6,\"#e6f5d0\"],[0.7,\"#b8e186\"],[0.8,\"#7fbc41\"],[0.9,\"#4d9221\"],[1,\"#276419\"]]},\"xaxis\":{\"gridcolor\":\"white\",\"linecolor\":\"white\",\"ticks\":\"\",\"title\":{\"standoff\":15},\"zerolinecolor\":\"white\",\"automargin\":true,\"zerolinewidth\":2},\"yaxis\":{\"gridcolor\":\"white\",\"linecolor\":\"white\",\"ticks\":\"\",\"title\":{\"standoff\":15},\"zerolinecolor\":\"white\",\"automargin\":true,\"zerolinewidth\":2},\"scene\":{\"xaxis\":{\"backgroundcolor\":\"#E5ECF6\",\"gridcolor\":\"white\",\"linecolor\":\"white\",\"showbackground\":true,\"ticks\":\"\",\"zerolinecolor\":\"white\",\"gridwidth\":2},\"yaxis\":{\"backgroundcolor\":\"#E5ECF6\",\"gridcolor\":\"white\",\"linecolor\":\"white\",\"showbackground\":true,\"ticks\":\"\",\"zerolinecolor\":\"white\",\"gridwidth\":2},\"zaxis\":{\"backgroundcolor\":\"#E5ECF6\",\"gridcolor\":\"white\",\"linecolor\":\"white\",\"showbackground\":true,\"ticks\":\"\",\"zerolinecolor\":\"white\",\"gridwidth\":2}},\"shapedefaults\":{\"line\":{\"color\":\"#2a3f5f\"}},\"annotationdefaults\":{\"arrowcolor\":\"#2a3f5f\",\"arrowhead\":0,\"arrowwidth\":1},\"geo\":{\"bgcolor\":\"white\",\"landcolor\":\"#E5ECF6\",\"subunitcolor\":\"white\",\"showland\":true,\"showlakes\":true,\"lakecolor\":\"white\"},\"title\":{\"x\":0.05},\"mapbox\":{\"style\":\"light\"}}},\"legend\":{\"tracegroupgap\":0},\"title\":{\"text\":\"Type of income Vs Credit information\",\"font\":{\"size\":16},\"x\":0.5,\"y\":0.9,\"xanchor\":\"center\",\"yanchor\":\"top\"},\"height\":500,\"width\":500},                        {\"responsive\": true}                    ).then(function(){\n",
              "                            \n",
              "var gd = document.getElementById('df81af7a-8463-4b5e-a11a-7d5015bd1f77');\n",
              "var x = new MutationObserver(function (mutations, observer) {{\n",
              "        var display = window.getComputedStyle(gd).display;\n",
              "        if (!display || display === 'none') {{\n",
              "            console.log([gd, 'removed!']);\n",
              "            Plotly.purge(gd);\n",
              "            observer.disconnect();\n",
              "        }}\n",
              "}});\n",
              "\n",
              "// Listen for the removal of the full notebook cells\n",
              "var notebookContainer = gd.closest('#notebook-container');\n",
              "if (notebookContainer) {{\n",
              "    x.observe(notebookContainer, {childList: true});\n",
              "}}\n",
              "\n",
              "// Listen for the clearing of the current output cell\n",
              "var outputEl = gd.closest('.output');\n",
              "if (outputEl) {{\n",
              "    x.observe(outputEl, {childList: true});\n",
              "}}\n",
              "\n",
              "                        })                };                            </script>        </div>\n",
              "</body>\n",
              "</html>"
            ]
          },
          "metadata": {}
        }
      ]
    },
    {
      "cell_type": "markdown",
      "source": [
        "**Observations:**\n",
        "\n",
        "*  This plot shows the percentage of customers with good and bad credits along with their type of income.\n",
        "*  Among 1373 customers with good credits,\n",
        "   *  721 customers are working\n",
        "   *  315 customers are Commercial associates\n",
        "   *  227 customers are Pensioner\n",
        "   *  110 customers are State servants.\n",
        "*  Out of 175 customers having bad credits,\n",
        "   *  77 customers are working\n",
        "   *  50 customers are Commercial associates\n",
        "   *  42 customers are Pensioner\n",
        "   *  6 customers are State servants.\n",
        "*  From these information, we can say that working customers have the most and customers who are State servants have the least bad credits."
      ],
      "metadata": {
        "id": "Je62lLAcLd0-"
      }
    },
    {
      "cell_type": "code",
      "source": [
        "# calcuating age of customers from given column 'Birthday_count'\n",
        "\n",
        "age = (np.ceil(df['Birthday_count']/365))*-1\n",
        "\n",
        "# inserting 'Age' column in the dataset at column index 11\n",
        "\n",
        "df.insert(loc = 11, column = 'Age', value = age)"
      ],
      "metadata": {
        "id": "GMJeJa9X8JgD"
      },
      "execution_count": null,
      "outputs": []
    },
    {
      "cell_type": "code",
      "source": [
        "# deleting 'Birthday_count' column from the dataset\n",
        "\n",
        "df = df.drop(['Birthday_count'], axis = 1)"
      ],
      "metadata": {
        "id": "48FG_b-cAr55"
      },
      "execution_count": null,
      "outputs": []
    },
    {
      "cell_type": "code",
      "source": [
        "# reversing the sign of values in Employed_days column\n",
        "# a positive value means number of days employed and a negative value means the customer is unemployed\n",
        "\n",
        "df['Employed_days'] = df['Employed_days']*-1\n",
        "\n",
        "# splitting the dataset into employed and unemployed\n",
        "\n",
        "employed = df[df['Employed_days']>0]\n",
        "unemployed = df[df['Employed_days']<0]"
      ],
      "metadata": {
        "id": "J3dUAoDy8UFf"
      },
      "execution_count": null,
      "outputs": []
    },
    {
      "cell_type": "code",
      "source": [
        "fig = px.histogram(employed, x = 'Employed_days',color = 'label', height = 500, width = 500, opacity = 0.75,\n",
        "             labels = {'Employed_days':'No.of days worked'},\n",
        "             title = 'No.of employed days Vs Credit')\n",
        "fig.update_layout(title = dict(x = 0.5, y = 0.9, xanchor = 'center', yanchor = 'top',\n",
        "                               font = dict(size = 16)))\n",
        "fig.show()"
      ],
      "metadata": {
        "colab": {
          "base_uri": "https://localhost:8080/",
          "height": 517
        },
        "id": "iXVwsCol8g4A",
        "outputId": "def384c3-176c-44f7-f2a5-4d01ae6e13cc"
      },
      "execution_count": null,
      "outputs": [
        {
          "output_type": "display_data",
          "data": {
            "text/html": [
              "<html>\n",
              "<head><meta charset=\"utf-8\" /></head>\n",
              "<body>\n",
              "    <div>            <script src=\"https://cdnjs.cloudflare.com/ajax/libs/mathjax/2.7.5/MathJax.js?config=TeX-AMS-MML_SVG\"></script><script type=\"text/javascript\">if (window.MathJax && window.MathJax.Hub && window.MathJax.Hub.Config) {window.MathJax.Hub.Config({SVG: {font: \"STIX-Web\"}});}</script>                <script type=\"text/javascript\">window.PlotlyConfig = {MathJaxConfig: 'local'};</script>\n",
              "        <script charset=\"utf-8\" src=\"https://cdn.plot.ly/plotly-2.24.1.min.js\"></script>                <div id=\"8a3ca23c-62c3-49d3-b35a-99b4dfa1bde2\" class=\"plotly-graph-div\" style=\"height:500px; width:500px;\"></div>            <script type=\"text/javascript\">                                    window.PLOTLYENV=window.PLOTLYENV || {};                                    if (document.getElementById(\"8a3ca23c-62c3-49d3-b35a-99b4dfa1bde2\")) {                    Plotly.newPlot(                        \"8a3ca23c-62c3-49d3-b35a-99b4dfa1bde2\",                        [{\"alignmentgroup\":\"True\",\"bingroup\":\"x\",\"hovertemplate\":\"label=1\\u003cbr\\u003eNo.of days worked=%{x}\\u003cbr\\u003ecount=%{y}\\u003cextra\\u003e\\u003c\\u002fextra\\u003e\",\"legendgroup\":\"1\",\"marker\":{\"color\":\"#636efa\",\"opacity\":0.75,\"pattern\":{\"shape\":\"\"}},\"name\":\"1\",\"offsetgroup\":\"1\",\"orientation\":\"v\",\"showlegend\":true,\"x\":[586,586,586,586,586,586,678,678,678,1002,1002,1002,913,248,248,2470,2470,1644,4327,1674,1086,925,854,185,3350,691,4770,2394,384,3647,1546,808,1285,855,7369,2269,2269,4114,1161,1161,7288,7288,166,866,866,564,564,3366,3366,3366,2150,1458,1458,8369,8369,508,508,508,1567,137,137,3974,1570,2878,140,2576,1905,1724,1724,1328,4987,3496,3496,1394,1394,1394,1265,2531,2105,860,217,217,535,6866,584,584,2227,8161,613,606,6944,346,1808,1808,3420,3420,3420,3420,3420,863,863,7413,7553,3931,1039,134,622,622,1595,1626,1868,555,555,555,1935,1935,931,900,900,4305,4305,4305,925,925,499,499,499,2418,189,1132,1770,919,1081,1081,502,502,502,2420,1325,1325],\"xaxis\":\"x\",\"yaxis\":\"y\",\"type\":\"histogram\"},{\"alignmentgroup\":\"True\",\"bingroup\":\"x\",\"hovertemplate\":\"label=0\\u003cbr\\u003eNo.of days worked=%{x}\\u003cbr\\u003ecount=%{y}\\u003cextra\\u003e\\u003c\\u002fextra\\u003e\",\"legendgroup\":\"0\",\"marker\":{\"color\":\"#EF553B\",\"opacity\":0.75,\"pattern\":{\"shape\":\"\"}},\"name\":\"0\",\"offsetgroup\":\"0\",\"orientation\":\"v\",\"showlegend\":true,\"x\":[6367,2484,341,9422,3054,2987,2128,820,141,1692,4686,1674,693,567,885,2769,1547,3179,5204,3072,320,2469,583,834,1085,1399,7310,1748,2479,875,2805,2477,1477,1782,431,1416,263,2349,412,7068,1787,1345,3717,1048,2667,2606,2135,2479,1534,2531,2311,1323,5061,2213,2152,925,4509,1552,1569,1679,8684,6337,97,1222,531,7591,5639,1776,5498,1935,5880,460,1569,4532,3309,3873,344,1923,604,584,1922,1496,708,12332,622,5209,6273,2722,9363,746,1039,1322,3458,158,2457,2811,7018,2026,188,2967,3166,5107,1649,3694,3697,4596,1748,5674,1682,196,530,1696,2168,1649,13382,1509,1347,1405,227,9975,1505,5084,2905,2213,356,1719,3680,962,3000,4275,110,2078,8377,110,4392,126,7640,3153,139,4023,4888,14887,3319,1966,200,6123,117,2625,1763,3689,3414,2910,3412,1107,8036,3608,101,3231,203,1682,1589,3577,735,8737,1617,1591,979,422,655,3653,1261,7346,5545,3810,1190,3246,1649,7676,1353,3715,1113,508,2722,992,2289,12621,3643,869,2174,5336,3535,4407,412,453,960,4711,1965,2543,1393,460,2234,1631,1619,5981,3153,2682,3443,2330,413,6645,505,201,3273,1462,2609,521,1321,2467,716,101,1632,614,1904,351,7310,7260,626,6853,458,1628,6094,734,657,2700,880,157,135,1497,1266,1935,515,1023,2129,575,3262,430,2207,1866,4568,309,578,6908,1931,8033,2257,3776,140,4583,4404,727,3805,2316,1455,5422,581,893,1860,6317,1000,140,4766,2259,1344,4690,8290,2052,5004,923,1193,6337,793,5453,88,5495,593,3715,4816,3000,9422,1586,2104,1032,9698,1923,1131,1175,8375,2199,1912,926,2499,2654,1174,230,962,2276,2197,2468,11448,932,2956,1345,619,3787,1253,3242,196,298,1748,124,4082,1431,5330,1266,1017,1128,3088,693,1466,1689,3003,4039,588,282,4491,1155,1220,657,1203,712,2844,4031,3322,2878,6693,2760,2532,1646,11542,5408,1374,3092,351,2993,2379,1281,7804,3002,825,2128,2057,1611,652,2537,992,2331,4710,1191,1162,923,3900,219,223,900,3034,3329,235,3503,1324,3112,2959,234,719,217,2616,2330,4410,1587,1537,1430,1928,2753,867,2134,460,3232,1505,95,3690,9870,4979,3396,461,5206,3173,732,2531,432,2102,6583,156,2199,5460,1589,2506,3397,3792,3230,2464,1682,3334,3110,2966,3694,2257,2728,855,4161,1000,8377,7494,4280,5891,1350,609,2381,1613,3533,6218,2874,1654,2433,4534,1131,521,522,2269,798,2620,1613,145,4039,663,2299,3153,1812,2589,130,5056,796,7341,2728,1130,5436,2368,1889,1315,1678,2939,1616,8405,3476,3453,3769,1359,2990,2321,4267,1386,645,886,1823,4965,1868,3716,1344,1557,3761,3716,2993,1981,102,288,2147,6908,3929,1497,424,1069,2323,2174,3332,553,375,6352,1056,1172,4663,678,4532,5587,1406,8966,6860,346,1463,157,561,3661,505,1787,6764,10600,3999,3960,2065,2227,1205,1135,5190,3720,2633,1000,158,3272,2500,4327,6033,170,278,3062,8157,2653,1953,5457,1997,3435,1504,2696,13735,227,132,6621,2481,2818,11906,1077,9258,2277,1497,2422,826,2969,2086,1070,8172,701,1384,9447,1160,1952,4816,1354,1128,469,217,3273,563,1526,2092,1749,931,5639,1674,168,1128,4029,4967,3282,339,7979,9683,1749,577,2622,1678,976,3608,2057,1994,1563,7494,4523,340,1081,6614,1639,919,3392,3261,3928,5082,3630,3591,1199,2469,4304,2514,2187,7140,96,5176,6761,2356,2908,3333,3596,4606,4030,5246,3054,2906,1915,1267,1256,1721,2317,1518,7804,864,7364,1101,2231,1327,355,1934,5179,2326,980,1224,7048,1678,2266,73,3443,2661,286,8044,523,523,978,795,2351,1114,3760,1327,3322,5145,663,4119,1719,2052,3641,1678,481,4603,2484,1904,888,393,1007,10688,12332,1724,3689,2228,8479,2180,1362,1876,3503,2265,11389,4146,926,5500,5521,1081,658,1649,3695,901,1526,1751,1253,3663,3334,3149,4491,1375,1162,183,500,489,2450,1539,1556,7095,674,2605,5082,1999,555,4599,6488,1054,745,2265,412,3505,1585,1812,6904,2530,1420,314,2441,11884,4520,460,3289,1495,1161,3504,3093,2417,1463,2554,818,2537,9359,1508,1344,10364,4331,2296,1626,2142,1928,3163,3961,2896,1185,1670,3670,1202,4936,596,6648,2197,747,1741,1615,2052,1444,2089,5981,397,923,2592,2234,1618,825,2822,923,1600,2558,991,2758,2988,2904,73,3366,3377,3902,3202,505,671,848,1953,309,552,1787,2559,2361,3854,1182,2384,8230,531,2493,2362,962,4034,1619,2143,1569,2393,2565,1101,727,7591,505,450,5496,2319,2257,191,1406,3506,2865,2339,1086,2072,7013,3008,3435,8044,2932,1751,565,1282,3902,3154,1539,1225,619,2333,235,1869,11940,3515,5639,3291,407,3246,444,226,8033,7068,1923,279,2234,1661,1458,896,1328,670,2533,7400,1557,979,3339,1876,1259,1866,1570,235,265,469,1870,2540,3999,1678,2978,3505,187,477,1436,8684,1978,1133,3535,2985,10758,6273,4288,1526,89,6930,1807,3143,3850,1823,1649,4560,785,2361,3570,2349,777,2299,11451,412,742,5950,464,385,2475,3694,2051,808,3607,2454,7614,1070,1107,2796,642,2654,1436,4004,2207,5422,3680,4917,11448,5622,716,1466,1359,313,1753,5830,1677,3078,3061,8737,187,625,1381,308,932,5437,218,1539,3195,2057,1198,1473,5483,704,12870,227,622,5373,7128,469,6761,2255,1133,5345,3574,2441,164,6226,4161,6678,825,2024,890,1751,6075,1774,189,7288,686,1220,727,3229,97,980,3455,460,3694,5454,13010,5507,6640,5488,221,127,8760,864,7718,5190,613,3123,1652,8044,6879,2673,420,777,1869,413,1072,5760,1871,1707,2796,1962,1598,1583,7264,536,4568,1313,2512,5891,5673,3380,3944,3654,5488,171,1801,1266,1138,3944,1897,2980,2796,1175,3329,1581,10758,6558,4434,210,3032,2389,139,1467,2316,377,10762,622,2788,3668,2340,5345,9925,918,4219,194,3010,3476,370,232,285,1994,1830,2609,3853,2866,1022,2423,2545,6230,104,588,1866,2631,367,857,4887,433,1904,803,3361,1520,2389,1463,5155,712,3246,5006,2993,2191,431,1064,828,4874,1217,7557,2616,5334,611,140,5215,438,461,1741,2533,958,1191,3095,820,2827,3693,453,2262,1473,195,157,109,5206,5862,2152,2105,1200,1891,3476,4662,657,1436,5521,686,2924,1648,3536,2182,1209,2477,645,2859],\"xaxis\":\"x\",\"yaxis\":\"y\",\"type\":\"histogram\"}],                        {\"template\":{\"data\":{\"histogram2dcontour\":[{\"type\":\"histogram2dcontour\",\"colorbar\":{\"outlinewidth\":0,\"ticks\":\"\"},\"colorscale\":[[0.0,\"#0d0887\"],[0.1111111111111111,\"#46039f\"],[0.2222222222222222,\"#7201a8\"],[0.3333333333333333,\"#9c179e\"],[0.4444444444444444,\"#bd3786\"],[0.5555555555555556,\"#d8576b\"],[0.6666666666666666,\"#ed7953\"],[0.7777777777777778,\"#fb9f3a\"],[0.8888888888888888,\"#fdca26\"],[1.0,\"#f0f921\"]]}],\"choropleth\":[{\"type\":\"choropleth\",\"colorbar\":{\"outlinewidth\":0,\"ticks\":\"\"}}],\"histogram2d\":[{\"type\":\"histogram2d\",\"colorbar\":{\"outlinewidth\":0,\"ticks\":\"\"},\"colorscale\":[[0.0,\"#0d0887\"],[0.1111111111111111,\"#46039f\"],[0.2222222222222222,\"#7201a8\"],[0.3333333333333333,\"#9c179e\"],[0.4444444444444444,\"#bd3786\"],[0.5555555555555556,\"#d8576b\"],[0.6666666666666666,\"#ed7953\"],[0.7777777777777778,\"#fb9f3a\"],[0.8888888888888888,\"#fdca26\"],[1.0,\"#f0f921\"]]}],\"heatmap\":[{\"type\":\"heatmap\",\"colorbar\":{\"outlinewidth\":0,\"ticks\":\"\"},\"colorscale\":[[0.0,\"#0d0887\"],[0.1111111111111111,\"#46039f\"],[0.2222222222222222,\"#7201a8\"],[0.3333333333333333,\"#9c179e\"],[0.4444444444444444,\"#bd3786\"],[0.5555555555555556,\"#d8576b\"],[0.6666666666666666,\"#ed7953\"],[0.7777777777777778,\"#fb9f3a\"],[0.8888888888888888,\"#fdca26\"],[1.0,\"#f0f921\"]]}],\"heatmapgl\":[{\"type\":\"heatmapgl\",\"colorbar\":{\"outlinewidth\":0,\"ticks\":\"\"},\"colorscale\":[[0.0,\"#0d0887\"],[0.1111111111111111,\"#46039f\"],[0.2222222222222222,\"#7201a8\"],[0.3333333333333333,\"#9c179e\"],[0.4444444444444444,\"#bd3786\"],[0.5555555555555556,\"#d8576b\"],[0.6666666666666666,\"#ed7953\"],[0.7777777777777778,\"#fb9f3a\"],[0.8888888888888888,\"#fdca26\"],[1.0,\"#f0f921\"]]}],\"contourcarpet\":[{\"type\":\"contourcarpet\",\"colorbar\":{\"outlinewidth\":0,\"ticks\":\"\"}}],\"contour\":[{\"type\":\"contour\",\"colorbar\":{\"outlinewidth\":0,\"ticks\":\"\"},\"colorscale\":[[0.0,\"#0d0887\"],[0.1111111111111111,\"#46039f\"],[0.2222222222222222,\"#7201a8\"],[0.3333333333333333,\"#9c179e\"],[0.4444444444444444,\"#bd3786\"],[0.5555555555555556,\"#d8576b\"],[0.6666666666666666,\"#ed7953\"],[0.7777777777777778,\"#fb9f3a\"],[0.8888888888888888,\"#fdca26\"],[1.0,\"#f0f921\"]]}],\"surface\":[{\"type\":\"surface\",\"colorbar\":{\"outlinewidth\":0,\"ticks\":\"\"},\"colorscale\":[[0.0,\"#0d0887\"],[0.1111111111111111,\"#46039f\"],[0.2222222222222222,\"#7201a8\"],[0.3333333333333333,\"#9c179e\"],[0.4444444444444444,\"#bd3786\"],[0.5555555555555556,\"#d8576b\"],[0.6666666666666666,\"#ed7953\"],[0.7777777777777778,\"#fb9f3a\"],[0.8888888888888888,\"#fdca26\"],[1.0,\"#f0f921\"]]}],\"mesh3d\":[{\"type\":\"mesh3d\",\"colorbar\":{\"outlinewidth\":0,\"ticks\":\"\"}}],\"scatter\":[{\"fillpattern\":{\"fillmode\":\"overlay\",\"size\":10,\"solidity\":0.2},\"type\":\"scatter\"}],\"parcoords\":[{\"type\":\"parcoords\",\"line\":{\"colorbar\":{\"outlinewidth\":0,\"ticks\":\"\"}}}],\"scatterpolargl\":[{\"type\":\"scatterpolargl\",\"marker\":{\"colorbar\":{\"outlinewidth\":0,\"ticks\":\"\"}}}],\"bar\":[{\"error_x\":{\"color\":\"#2a3f5f\"},\"error_y\":{\"color\":\"#2a3f5f\"},\"marker\":{\"line\":{\"color\":\"#E5ECF6\",\"width\":0.5},\"pattern\":{\"fillmode\":\"overlay\",\"size\":10,\"solidity\":0.2}},\"type\":\"bar\"}],\"scattergeo\":[{\"type\":\"scattergeo\",\"marker\":{\"colorbar\":{\"outlinewidth\":0,\"ticks\":\"\"}}}],\"scatterpolar\":[{\"type\":\"scatterpolar\",\"marker\":{\"colorbar\":{\"outlinewidth\":0,\"ticks\":\"\"}}}],\"histogram\":[{\"marker\":{\"pattern\":{\"fillmode\":\"overlay\",\"size\":10,\"solidity\":0.2}},\"type\":\"histogram\"}],\"scattergl\":[{\"type\":\"scattergl\",\"marker\":{\"colorbar\":{\"outlinewidth\":0,\"ticks\":\"\"}}}],\"scatter3d\":[{\"type\":\"scatter3d\",\"line\":{\"colorbar\":{\"outlinewidth\":0,\"ticks\":\"\"}},\"marker\":{\"colorbar\":{\"outlinewidth\":0,\"ticks\":\"\"}}}],\"scattermapbox\":[{\"type\":\"scattermapbox\",\"marker\":{\"colorbar\":{\"outlinewidth\":0,\"ticks\":\"\"}}}],\"scatterternary\":[{\"type\":\"scatterternary\",\"marker\":{\"colorbar\":{\"outlinewidth\":0,\"ticks\":\"\"}}}],\"scattercarpet\":[{\"type\":\"scattercarpet\",\"marker\":{\"colorbar\":{\"outlinewidth\":0,\"ticks\":\"\"}}}],\"carpet\":[{\"aaxis\":{\"endlinecolor\":\"#2a3f5f\",\"gridcolor\":\"white\",\"linecolor\":\"white\",\"minorgridcolor\":\"white\",\"startlinecolor\":\"#2a3f5f\"},\"baxis\":{\"endlinecolor\":\"#2a3f5f\",\"gridcolor\":\"white\",\"linecolor\":\"white\",\"minorgridcolor\":\"white\",\"startlinecolor\":\"#2a3f5f\"},\"type\":\"carpet\"}],\"table\":[{\"cells\":{\"fill\":{\"color\":\"#EBF0F8\"},\"line\":{\"color\":\"white\"}},\"header\":{\"fill\":{\"color\":\"#C8D4E3\"},\"line\":{\"color\":\"white\"}},\"type\":\"table\"}],\"barpolar\":[{\"marker\":{\"line\":{\"color\":\"#E5ECF6\",\"width\":0.5},\"pattern\":{\"fillmode\":\"overlay\",\"size\":10,\"solidity\":0.2}},\"type\":\"barpolar\"}],\"pie\":[{\"automargin\":true,\"type\":\"pie\"}]},\"layout\":{\"autotypenumbers\":\"strict\",\"colorway\":[\"#636efa\",\"#EF553B\",\"#00cc96\",\"#ab63fa\",\"#FFA15A\",\"#19d3f3\",\"#FF6692\",\"#B6E880\",\"#FF97FF\",\"#FECB52\"],\"font\":{\"color\":\"#2a3f5f\"},\"hovermode\":\"closest\",\"hoverlabel\":{\"align\":\"left\"},\"paper_bgcolor\":\"white\",\"plot_bgcolor\":\"#E5ECF6\",\"polar\":{\"bgcolor\":\"#E5ECF6\",\"angularaxis\":{\"gridcolor\":\"white\",\"linecolor\":\"white\",\"ticks\":\"\"},\"radialaxis\":{\"gridcolor\":\"white\",\"linecolor\":\"white\",\"ticks\":\"\"}},\"ternary\":{\"bgcolor\":\"#E5ECF6\",\"aaxis\":{\"gridcolor\":\"white\",\"linecolor\":\"white\",\"ticks\":\"\"},\"baxis\":{\"gridcolor\":\"white\",\"linecolor\":\"white\",\"ticks\":\"\"},\"caxis\":{\"gridcolor\":\"white\",\"linecolor\":\"white\",\"ticks\":\"\"}},\"coloraxis\":{\"colorbar\":{\"outlinewidth\":0,\"ticks\":\"\"}},\"colorscale\":{\"sequential\":[[0.0,\"#0d0887\"],[0.1111111111111111,\"#46039f\"],[0.2222222222222222,\"#7201a8\"],[0.3333333333333333,\"#9c179e\"],[0.4444444444444444,\"#bd3786\"],[0.5555555555555556,\"#d8576b\"],[0.6666666666666666,\"#ed7953\"],[0.7777777777777778,\"#fb9f3a\"],[0.8888888888888888,\"#fdca26\"],[1.0,\"#f0f921\"]],\"sequentialminus\":[[0.0,\"#0d0887\"],[0.1111111111111111,\"#46039f\"],[0.2222222222222222,\"#7201a8\"],[0.3333333333333333,\"#9c179e\"],[0.4444444444444444,\"#bd3786\"],[0.5555555555555556,\"#d8576b\"],[0.6666666666666666,\"#ed7953\"],[0.7777777777777778,\"#fb9f3a\"],[0.8888888888888888,\"#fdca26\"],[1.0,\"#f0f921\"]],\"diverging\":[[0,\"#8e0152\"],[0.1,\"#c51b7d\"],[0.2,\"#de77ae\"],[0.3,\"#f1b6da\"],[0.4,\"#fde0ef\"],[0.5,\"#f7f7f7\"],[0.6,\"#e6f5d0\"],[0.7,\"#b8e186\"],[0.8,\"#7fbc41\"],[0.9,\"#4d9221\"],[1,\"#276419\"]]},\"xaxis\":{\"gridcolor\":\"white\",\"linecolor\":\"white\",\"ticks\":\"\",\"title\":{\"standoff\":15},\"zerolinecolor\":\"white\",\"automargin\":true,\"zerolinewidth\":2},\"yaxis\":{\"gridcolor\":\"white\",\"linecolor\":\"white\",\"ticks\":\"\",\"title\":{\"standoff\":15},\"zerolinecolor\":\"white\",\"automargin\":true,\"zerolinewidth\":2},\"scene\":{\"xaxis\":{\"backgroundcolor\":\"#E5ECF6\",\"gridcolor\":\"white\",\"linecolor\":\"white\",\"showbackground\":true,\"ticks\":\"\",\"zerolinecolor\":\"white\",\"gridwidth\":2},\"yaxis\":{\"backgroundcolor\":\"#E5ECF6\",\"gridcolor\":\"white\",\"linecolor\":\"white\",\"showbackground\":true,\"ticks\":\"\",\"zerolinecolor\":\"white\",\"gridwidth\":2},\"zaxis\":{\"backgroundcolor\":\"#E5ECF6\",\"gridcolor\":\"white\",\"linecolor\":\"white\",\"showbackground\":true,\"ticks\":\"\",\"zerolinecolor\":\"white\",\"gridwidth\":2}},\"shapedefaults\":{\"line\":{\"color\":\"#2a3f5f\"}},\"annotationdefaults\":{\"arrowcolor\":\"#2a3f5f\",\"arrowhead\":0,\"arrowwidth\":1},\"geo\":{\"bgcolor\":\"white\",\"landcolor\":\"#E5ECF6\",\"subunitcolor\":\"white\",\"showland\":true,\"showlakes\":true,\"lakecolor\":\"white\"},\"title\":{\"x\":0.05},\"mapbox\":{\"style\":\"light\"}}},\"xaxis\":{\"anchor\":\"y\",\"domain\":[0.0,1.0],\"title\":{\"text\":\"No.of days worked\"}},\"yaxis\":{\"anchor\":\"x\",\"domain\":[0.0,1.0],\"title\":{\"text\":\"count\"}},\"legend\":{\"title\":{\"text\":\"label\"},\"tracegroupgap\":0},\"title\":{\"text\":\"No.of employed days Vs Credit\",\"font\":{\"size\":16},\"x\":0.5,\"y\":0.9,\"xanchor\":\"center\",\"yanchor\":\"top\"},\"barmode\":\"relative\",\"height\":500,\"width\":500},                        {\"responsive\": true}                    ).then(function(){\n",
              "                            \n",
              "var gd = document.getElementById('8a3ca23c-62c3-49d3-b35a-99b4dfa1bde2');\n",
              "var x = new MutationObserver(function (mutations, observer) {{\n",
              "        var display = window.getComputedStyle(gd).display;\n",
              "        if (!display || display === 'none') {{\n",
              "            console.log([gd, 'removed!']);\n",
              "            Plotly.purge(gd);\n",
              "            observer.disconnect();\n",
              "        }}\n",
              "}});\n",
              "\n",
              "// Listen for the removal of the full notebook cells\n",
              "var notebookContainer = gd.closest('#notebook-container');\n",
              "if (notebookContainer) {{\n",
              "    x.observe(notebookContainer, {childList: true});\n",
              "}}\n",
              "\n",
              "// Listen for the clearing of the current output cell\n",
              "var outputEl = gd.closest('.output');\n",
              "if (outputEl) {{\n",
              "    x.observe(outputEl, {childList: true});\n",
              "}}\n",
              "\n",
              "                        })                };                            </script>        </div>\n",
              "</body>\n",
              "</html>"
            ]
          },
          "metadata": {}
        }
      ]
    },
    {
      "cell_type": "markdown",
      "source": [
        "**Observations:**\n",
        "\n",
        "*  This plot shows the distribution of number of employed days of customers.\n",
        "*  There is some sort of relationship between employed days and the target variable.\n",
        "*  The number of customers having bad credit is the maximum for customers who worked in the range of 500 to 999 days which is the second minimum range.\n",
        "*  And, number of customers having bad credit is minimum for customers who worked above 4500 days.\n",
        "*  From these inferences, we can say that as the experience of the customer increases, the chances of getting bad credits decreases."
      ],
      "metadata": {
        "id": "Lej6GwPTa4Mt"
      }
    },
    {
      "cell_type": "code",
      "source": [
        "value = unemployed.groupby(unemployed['label']).count()\n",
        "value['Employed_days']"
      ],
      "metadata": {
        "colab": {
          "base_uri": "https://localhost:8080/"
        },
        "id": "2Qqd0gx78iU7",
        "outputId": "7b9c54fd-d379-42b3-e1da-006b186b44eb"
      },
      "execution_count": null,
      "outputs": [
        {
          "output_type": "execute_result",
          "data": {
            "text/plain": [
              "label\n",
              "0    226\n",
              "1     35\n",
              "Name: Employed_days, dtype: int64"
            ]
          },
          "metadata": {},
          "execution_count": 13
        }
      ]
    },
    {
      "cell_type": "markdown",
      "source": [
        "*  Unemployed customers also have both good and bad credits.\n",
        "*  Out of the enemployed, 226 customers have good credit and 35 customers have bad credit."
      ],
      "metadata": {
        "id": "9SINEbkTdAbb"
      }
    },
    {
      "cell_type": "code",
      "source": [
        "fig = px.scatter(employed, x = 'Employed_days', y = 'Annual_income', color = 'GENDER', facet_col = 'label',\n",
        "                 height = 500, width = 1000, labels = {'Employed_days': 'Employed days', 'Annual_income':'Annual income'},\n",
        "                 title = 'Annual Income Vs Employed days')\n",
        "fig.update_traces(marker = dict(opacity = 0.8, symbol = 'star-diamond'))\n",
        "fig.update_layout(title = dict(x = 0.5, y = 0.9, xanchor = 'center', yanchor = 'top',\n",
        "                               font = dict(size = 16)))\n",
        "fig.show()"
      ],
      "metadata": {
        "colab": {
          "base_uri": "https://localhost:8080/",
          "height": 517
        },
        "id": "Z9NXkOH88lbT",
        "outputId": "b4f896fb-277d-4cf1-c6cf-1088e563beeb"
      },
      "execution_count": null,
      "outputs": [
        {
          "output_type": "display_data",
          "data": {
            "text/html": [
              "<html>\n",
              "<head><meta charset=\"utf-8\" /></head>\n",
              "<body>\n",
              "    <div>            <script src=\"https://cdnjs.cloudflare.com/ajax/libs/mathjax/2.7.5/MathJax.js?config=TeX-AMS-MML_SVG\"></script><script type=\"text/javascript\">if (window.MathJax && window.MathJax.Hub && window.MathJax.Hub.Config) {window.MathJax.Hub.Config({SVG: {font: \"STIX-Web\"}});}</script>                <script type=\"text/javascript\">window.PlotlyConfig = {MathJaxConfig: 'local'};</script>\n",
              "        <script charset=\"utf-8\" src=\"https://cdn.plot.ly/plotly-2.24.1.min.js\"></script>                <div id=\"0e116bb1-fc31-4b00-9697-601cd6f0626a\" class=\"plotly-graph-div\" style=\"height:500px; width:1000px;\"></div>            <script type=\"text/javascript\">                                    window.PLOTLYENV=window.PLOTLYENV || {};                                    if (document.getElementById(\"0e116bb1-fc31-4b00-9697-601cd6f0626a\")) {                    Plotly.newPlot(                        \"0e116bb1-fc31-4b00-9697-601cd6f0626a\",                        [{\"hovertemplate\":\"GENDER=F\\u003cbr\\u003elabel=1\\u003cbr\\u003eEmployed days=%{x}\\u003cbr\\u003eAnnual income=%{y}\\u003cextra\\u003e\\u003c\\u002fextra\\u003e\",\"legendgroup\":\"F\",\"marker\":{\"color\":\"#636efa\",\"symbol\":\"star-diamond\",\"opacity\":0.8},\"mode\":\"markers\",\"name\":\"F\",\"showlegend\":true,\"x\":[586,586,586,586,586,1002,1002,1002,2470,2470,925,854,185,4770,2394,384,7369,2269,2269,4114,564,564,2150,8369,8369,1567,3974,1570,2878,140,2576,1724,1724,4987,3496,3496,2531,860,584,584,2227,8161,6944,3420,3420,3420,3420,3420,7413,3931,1039,134,622,622,1868,1935,1935,900,900,499,499,499,1132,1770,919,1325,1325],\"xaxis\":\"x\",\"y\":[315000.0,315000.0,null,315000.0,315000.0,90000.0,null,90000.0,126000.0,126000.0,112500.0,180000.0,540000.0,90000.0,135000.0,135000.0,270000.0,157500.0,157500.0,67500.0,103500.0,103500.0,180000.0,180000.0,180000.0,67500.0,202500.0,157500.0,202500.0,270000.0,135000.0,256500.0,256500.0,225000.0,180000.0,180000.0,225000.0,675000.0,135000.0,135000.0,180000.0,121500.0,135000.0,202500.0,202500.0,202500.0,202500.0,202500.0,180000.0,157500.0,72000.0,202500.0,135000.0,135000.0,135000.0,135000.0,135000.0,585000.0,585000.0,67500.0,67500.0,67500.0,108000.0,135000.0,135000.0,157500.0,157500.0],\"yaxis\":\"y\",\"type\":\"scattergl\"},{\"hovertemplate\":\"GENDER=F\\u003cbr\\u003elabel=0\\u003cbr\\u003eEmployed days=%{x}\\u003cbr\\u003eAnnual income=%{y}\\u003cextra\\u003e\\u003c\\u002fextra\\u003e\",\"legendgroup\":\"F\",\"marker\":{\"color\":\"#636efa\",\"symbol\":\"star-diamond\",\"opacity\":0.8},\"mode\":\"markers\",\"name\":\"F\",\"showlegend\":false,\"x\":[6367,341,9422,3054,2987,2128,820,141,693,567,885,2769,5204,3072,320,1085,1399,7310,2479,2805,1477,1782,431,7068,1787,1345,3717,1048,2667,2479,1534,2531,2311,1323,2213,925,1552,8684,6337,97,1222,7591,1776,5498,5880,460,1569,4532,3873,344,604,1922,1496,708,12332,5209,6273,9363,746,1039,3458,2457,2811,7018,188,2967,3166,5107,3694,3697,4596,1682,196,530,2168,13382,1347,227,9975,2905,2213,1719,3680,962,3000,110,2078,8377,4392,126,3153,139,4023,4888,3319,1966,117,1763,3689,3414,2910,3412,8036,3608,101,3231,1682,1589,735,1591,979,422,655,1261,7346,3810,7676,1353,3715,1113,992,2289,12621,869,2174,5336,3535,4407,4711,1965,1393,460,2234,1619,5981,3153,3443,2330,505,201,1462,716,101,1632,614,1904,351,7310,1628,6094,157,1497,1935,515,575,3262,430,2207,4568,309,578,8033,2257,3776,4583,4404,3805,2316,1455,1860,6317,140,4766,2259,1344,4690,2052,5004,923,6337,793,5453,88,5495,593,3715,4816,3000,9422,1586,2104,1032,9698,1131,8375,2197,11448,1253,196,4082,1431,5330,1017,1128,693,1466,282,4491,1220,657,1203,2844,2878,2760,2532,11542,5408,1374,3092,2379,1281,825,2057,4710,1191,1162,923,223,900,3034,3329,1324,3112,2959,234,719,217,2616,2330,4410,1587,1430,2753,2134,3232,95,9870,4979,5206,3173,732,432,1589,2506,3397,3792,3230,2464,1682,3334,2966,2257,4161,8377,1350,2381,6218,2874,2433,4534,522,2269,798,2299,1812,796,2728,1130,1889,1315,1678,2939,1616,8405,3476,3453,1359,2321,4267,1386,645,1868,3716,3761,3716,2147,1497,424,3332,553,375,1172,4532,5587,1406,8966,1463,157,505,1787,10600,3960,2065,1205,5190,2633,3272,2500,4327,6033,170,278,1953,5457,3435,1504,13735,227,6621,2481,1077,9258,2277,1497,826,2086,1070,8172,701,9447,1160,1952,4816,1354,1128,469,3273,563,1526,931,168,1128,4029,339,7979,9683,577,1678,976,2057,4523,340,6614,1639,919,3392,3630,3591,4304,2514,7140,96,6761,3333,4030,5246,3054,1256,1721,1518,7364,1327,355,1934,5179,980,1224,7048,2266,73,2661,286,8044,523,523,795,2351,1114,3760,4119,1719,2052,3641,4603,1904,888,393,1007,10688,12332,1724,3689,2228,1876,3503,11389,5500,5521,1081,658,3695,1526,1253,3149,1375,1162,183,500,2450,1539,1556,7095,2605,555,6488,412,1585,4520,460,3289,1495,3504,818,9359,1344,10364,2296,2142,3163,2896,1185,1670,1202,4936,596,6648,2197,747,1741,2052,2089,5981,397,923,2592,1618,2822,2558,991,2758,2988,2904,3902,3202,505,671,1953,309,1787,2559,1182,2384,8230,531,1619,2143,2393,7591,505,5496,2319,2257,191,1406,3506,2339,1086,2072,7013,3008,3435,8044,1751,3902,3154,1225,2333,235,1869,11940,3291,407,3246,8033,7068,2234,1661,670,2533,7400,979,3339,1876,1866,1570,265,469,1678,2978,3505,187,8684,1978,1133,2985,10758,4288,89,6930,1807,4560,785,3570,777,2299,11451,5950,464,385,2475,3694,2051,2454,7614,1107,642,1436,4004,2207,11448,5622,716,1359,1753,5830,3078,187,625,1381,5437,218,3195,2057,1198,5483,12870,227,622,6761,1133,5345,2441,6226,4161,6678,825,2024,890,1751,6075,7288,686,1220,727,3229,97,980,460,3694,13010,5507,6640,5488,221,8760,864,7718,5190,3123,8044,6879,420,777,1869,413,5760,1871,1707,1583,7264,4568,1313,2512,3380,3944,3654,5488,171,1801,1138,3944,1897,2980,3329,1581,10758,210,2389,139,2316,377,10762,2788,2340,5345,9925,4219,3010,3476,370,285,3853,2866,2423,2545,4887,433,1904,803,3361,2389,1463,712,3246,431,1064,4874,7557,2616,5334,5215,438,461,1741,2533,958,1191,820,2827,3693,157,5206,5862,4662,657,5521,686,2924,1648,2182,1209,2859],\"xaxis\":\"x2\",\"y\":[81000.0,180000.0,135000.0,135000.0,63000.0,135000.0,112500.0,null,90000.0,180000.0,90000.0,337500.0,121500.0,117000.0,90000.0,180000.0,157500.0,117000.0,1575000.0,144000.0,null,216000.0,90000.0,73350.0,112500.0,144000.0,225000.0,112500.0,292500.0,1575000.0,157500.0,157500.0,135000.0,112500.0,193500.0,108000.0,292500.0,292500.0,157500.0,76500.0,157500.0,112500.0,157500.0,112500.0,112500.0,135000.0,103500.0,157500.0,180000.0,157500.0,135000.0,360000.0,null,450000.0,270000.0,270000.0,112500.0,112500.0,247500.0,157500.0,94500.0,180000.0,198000.0,180000.0,67500.0,180000.0,202500.0,112500.0,90000.0,270000.0,270000.0,225000.0,94500.0,117000.0,202500.0,166500.0,247500.0,72000.0,202500.0,202500.0,360000.0,270000.0,112500.0,null,157500.0,225000.0,72000.0,135000.0,99000.0,225000.0,423000.0,90000.0,360000.0,225000.0,90000.0,90000.0,135000.0,90000.0,270000.0,180000.0,135000.0,243000.0,234000.0,180000.0,121500.0,121500.0,90000.0,135000.0,76500.0,225000.0,225000.0,540000.0,283500.0,252000.0,135000.0,180000.0,157500.0,180000.0,612000.0,36000.0,180000.0,202500.0,292500.0,135000.0,337500.0,157500.0,360000.0,135000.0,135000.0,133650.0,81000.0,225000.0,126000.0,94500.0,180000.0,157500.0,202500.0,117000.0,180000.0,157500.0,90000.0,90000.0,121500.0,157500.0,121500.0,135000.0,180000.0,144000.0,261000.0,135000.0,112500.0,202500.0,135000.0,135000.0,135000.0,315000.0,180000.0,247500.0,157500.0,315000.0,247500.0,166500.0,112500.0,112500.0,103500.0,119250.0,157500.0,112500.0,315000.0,112500.0,94500.0,270000.0,315000.0,157500.0,180000.0,211500.0,144000.0,144000.0,270000.0,157500.0,90000.0,99000.0,162000.0,202500.0,225000.0,612000.0,292500.0,157500.0,135000.0,67500.0,112500.0,112500.0,135000.0,112500.0,202500.0,270000.0,193500.0,247500.0,225000.0,108000.0,787500.0,202500.0,90000.0,null,90000.0,72000.0,216000.0,157500.0,315000.0,135000.0,180000.0,234000.0,90000.0,157500.0,112500.0,180000.0,225000.0,225000.0,135000.0,112500.0,117000.0,135000.0,243000.0,337500.0,103500.0,67500.0,270000.0,225000.0,85500.0,135000.0,119700.0,153000.0,216000.0,202500.0,90000.0,108000.0,69372.0,135000.0,117000.0,202500.0,126000.0,225000.0,157500.0,103500.0,157500.0,135000.0,157500.0,387000.0,126000.0,135000.0,202500.0,157500.0,135000.0,207000.0,270000.0,315000.0,315000.0,112500.0,121500.0,225000.0,225000.0,270000.0,202500.0,135000.0,112500.0,270000.0,189000.0,135000.0,225000.0,180000.0,90000.0,90000.0,45000.0,99000.0,157500.0,112500.0,180000.0,225000.0,157500.0,135000.0,315000.0,225000.0,333000.0,171000.0,130500.0,112500.0,126000.0,135000.0,112500.0,105750.0,135000.0,112500.0,180000.0,202500.0,144000.0,126000.0,202500.0,103500.0,135000.0,382500.0,270000.0,135000.0,157500.0,306000.0,135000.0,193500.0,180000.0,139500.0,112500.0,112500.0,157500.0,180000.0,315000.0,112500.0,135000.0,112500.0,112500.0,180000.0,180000.0,112500.0,225000.0,270000.0,202500.0,99000.0,306000.0,135000.0,247500.0,112500.0,103500.0,135000.0,315000.0,292500.0,148500.0,202500.0,90000.0,135000.0,261000.0,135000.0,112500.0,135000.0,171000.0,40500.0,130500.0,306000.0,202500.0,112500.0,90000.0,135000.0,90000.0,67500.0,315000.0,157500.0,166500.0,135000.0,135000.0,193500.0,315000.0,405000.0,90000.0,243000.0,117000.0,202500.0,135000.0,216000.0,135000.0,225000.0,157500.0,157500.0,180000.0,315000.0,180000.0,90000.0,135000.0,90000.0,292500.0,112500.0,216000.0,112500.0,157500.0,135000.0,112500.0,315000.0,117000.0,67500.0,202500.0,225000.0,112500.0,202500.0,225000.0,157500.0,112500.0,81000.0,90000.0,180000.0,180000.0,54000.0,157500.0,180000.0,225000.0,126000.0,270000.0,157500.0,216000.0,108000.0,180000.0,180000.0,135000.0,180000.0,112500.0,270000.0,270000.0,270000.0,135000.0,67500.0,247500.0,157500.0,315000.0,99000.0,351000.0,175500.0,157500.0,null,247500.0,90000.0,180000.0,112500.0,180000.0,225000.0,225000.0,135000.0,157500.0,238500.0,180000.0,112500.0,171000.0,67500.0,180000.0,405000.0,112500.0,157500.0,202500.0,315000.0,112500.0,135000.0,202500.0,94500.0,360000.0,247500.0,360000.0,126000.0,225000.0,135000.0,112500.0,40500.0,67500.0,315000.0,270000.0,252000.0,270000.0,270000.0,202500.0,180000.0,112500.0,135000.0,225000.0,112500.0,162000.0,270000.0,90000.0,135000.0,157500.0,180000.0,360000.0,135000.0,112500.0,225000.0,202500.0,315000.0,112500.0,261000.0,135000.0,225000.0,270000.0,112500.0,135000.0,76500.0,157500.0,112500.0,112500.0,72000.0,135000.0,157500.0,67500.0,135000.0,207000.0,112500.0,112500.0,202500.0,67500.0,67500.0,306000.0,90000.0,112500.0,67500.0,180000.0,247500.0,81000.0,135000.0,135000.0,202500.0,315000.0,405000.0,225000.0,166500.0,73350.0,126000.0,211500.0,135000.0,112500.0,247500.0,225000.0,135000.0,67500.0,193500.0,135000.0,135000.0,112500.0,67500.0,306000.0,171000.0,112500.0,292500.0,315000.0,135000.0,180000.0,292500.0,135000.0,180000.0,274500.0,225000.0,54000.0,76500.0,112500.0,135000.0,99000.0,67500.0,58500.0,135000.0,135000.0,180000.0,112500.0,144000.0,81000.0,193500.0,157500.0,135000.0,180000.0,112500.0,112500.0,193500.0,180000.0,115200.0,157500.0,135000.0,202500.0,null,270000.0,157500.0,112500.0,202500.0,202500.0,108000.0,225000.0,180000.0,90000.0,103500.0,72000.0,135000.0,135000.0,135000.0,90000.0,360000.0,202500.0,202500.0,95850.0,112500.0,126000.0,99000.0,112500.0,180000.0,202500.0,135000.0,315000.0,387000.0,185400.0,76500.0,225000.0,126000.0,90000.0,112500.0,135000.0,103500.0,130500.0,90000.0,202500.0,189000.0,180000.0,135000.0,166500.0,90000.0,157500.0,112500.0,135000.0,135000.0,135000.0,126000.0,247500.0,184500.0,202500.0,391500.0,157500.0,112500.0,270000.0,157500.0,405000.0,157500.0,130500.0,67500.0,135000.0,157500.0,135000.0,180000.0,247500.0,337500.0,157500.0,292500.0,180000.0,180000.0,202500.0,112500.0,81000.0,135000.0,247500.0,225000.0,157500.0,216000.0,135000.0,180000.0,130500.0,99000.0,247500.0,171000.0,180000.0,315000.0,247500.0,216000.0,99000.0,135000.0,225000.0,450000.0,180000.0,135000.0,270000.0,270000.0,108000.0,225000.0,405000.0,135000.0,135000.0,45000.0,234000.0,157500.0,207000.0,180000.0,112500.0,94500.0,103500.0,112500.0,67500.0,112500.0,126000.0,126000.0,180000.0,144000.0,112500.0,450000.0,180000.0,144000.0,225000.0,null,225000.0,225000.0],\"yaxis\":\"y2\",\"type\":\"scattergl\"},{\"hovertemplate\":\"GENDER=M\\u003cbr\\u003elabel=1\\u003cbr\\u003eEmployed days=%{x}\\u003cbr\\u003eAnnual income=%{y}\\u003cextra\\u003e\\u003c\\u002fextra\\u003e\",\"legendgroup\":\"M\",\"marker\":{\"color\":\"#00cc96\",\"symbol\":\"star-diamond\",\"opacity\":0.8},\"mode\":\"markers\",\"name\":\"M\",\"showlegend\":true,\"x\":[678,678,678,913,248,248,1644,4327,1674,1086,691,3647,1546,808,1285,855,1161,1161,7288,7288,166,866,866,3366,3366,3366,1458,1458,508,508,508,137,137,1328,1394,1394,1394,1265,2105,217,217,535,6866,613,606,346,1808,1808,863,863,7553,1595,1626,555,555,555,931,4305,4305,4305,925,925,2418,189,1081,1081,502,502,2420],\"xaxis\":\"x\",\"y\":[450000.0,450000.0,450000.0,472500.0,270000.0,270000.0,90000.0,202500.0,202500.0,157500.0,540000.0,180000.0,112500.0,292500.0,215100.0,450000.0,180000.0,180000.0,157500.0,157500.0,171000.0,135000.0,135000.0,225000.0,225000.0,225000.0,157500.0,157500.0,391500.0,391500.0,391500.0,180000.0,null,157500.0,202500.0,202500.0,202500.0,315000.0,126000.0,135000.0,135000.0,247500.0,85500.0,180000.0,null,225000.0,130500.0,130500.0,126000.0,126000.0,211500.0,270000.0,135000.0,112500.0,112500.0,112500.0,195750.0,null,450000.0,450000.0,112500.0,112500.0,216000.0,225000.0,108000.0,108000.0,450000.0,450000.0,315000.0],\"yaxis\":\"y\",\"type\":\"scattergl\"},{\"hovertemplate\":\"GENDER=M\\u003cbr\\u003elabel=0\\u003cbr\\u003eEmployed days=%{x}\\u003cbr\\u003eAnnual income=%{y}\\u003cextra\\u003e\\u003c\\u002fextra\\u003e\",\"legendgroup\":\"M\",\"marker\":{\"color\":\"#00cc96\",\"symbol\":\"star-diamond\",\"opacity\":0.8},\"mode\":\"markers\",\"name\":\"M\",\"showlegend\":false,\"x\":[2484,1692,1674,1547,3179,2469,583,834,1748,875,2477,1416,263,2349,412,2606,2135,5061,4509,1569,1679,531,5639,1935,3309,1923,584,622,2722,1322,158,2026,1649,1748,5674,1696,1649,1509,1405,1505,5084,356,4275,110,7640,14887,200,6123,2625,1107,203,3577,8737,1617,3653,5545,1190,3246,1649,508,2722,3643,412,453,960,2543,1631,2682,413,6645,3273,2609,521,1321,2467,7260,626,6853,458,734,657,2700,880,135,1266,1023,2129,1866,6908,1931,140,727,5422,581,893,1000,8290,1193,1923,1175,2199,1912,926,2499,2654,1174,230,962,2276,2468,932,2956,1345,619,3787,3242,298,1748,124,1266,3088,1689,3003,4039,588,1155,712,4031,3322,6693,1646,351,2993,7804,3002,2128,1611,652,2537,992,2331,3900,219,235,3503,1537,1928,867,460,1505,3690,3396,461,2531,2102,6583,156,2199,5460,3110,3694,2728,855,1000,7494,4280,5891,609,1613,3533,1654,1131,521,2620,1613,145,4039,663,3153,2589,130,5056,7341,5436,2368,3769,2990,886,1823,4965,1344,1557,2993,1981,102,288,6908,3929,1069,2323,2174,6352,1056,4663,678,6860,346,561,3661,6764,3999,2227,1135,3720,1000,158,3062,8157,2653,1997,2696,132,2818,11906,2422,2969,1384,217,2092,1749,5639,1674,4967,3282,1749,2622,3608,1994,1563,7494,1081,3261,3928,5082,1199,2469,2187,5176,2356,2908,3596,4606,2906,1915,1267,2317,7804,864,1101,2231,2326,1678,3443,978,1327,3322,5145,663,1678,481,2484,8479,2180,1362,2265,4146,926,1649,901,1751,3663,3334,4491,489,674,5082,1999,4599,1054,745,2265,3505,1812,6904,2530,1420,314,2441,11884,1161,3093,2417,1463,2554,2537,1508,4331,1626,1928,3961,3670,1615,1444,2234,825,923,1600,73,3366,3377,848,552,2361,3854,2493,2362,962,4034,1569,2565,1101,727,450,2865,2932,565,1282,1539,619,3515,5639,444,226,1923,279,1458,896,1328,1557,1259,235,1870,2540,3999,477,1436,3535,6273,1526,3143,3850,1823,1649,2361,2349,412,742,808,3607,1070,2796,2654,5422,3680,4917,1466,313,1677,3061,8737,308,932,1539,1473,704,5373,7128,469,2255,3574,164,1774,189,3455,5454,127,613,1652,2673,1072,2796,1962,1598,536,5891,5673,1266,2796,1175,6558,4434,3032,1467,622,3668,918,194,232,1994,1830,2609,1022,6230,104,588,1866,2631,367,857,1520,5155,5006,2993,2191,828,1217,611,140,3095,453,2262,1473,195,109,2152,2105,1200,1891,3476,1436,3536,2477,645],\"xaxis\":\"x2\",\"y\":[225000.0,180000.0,256500.0,90000.0,180000.0,445500.0,157500.0,112500.0,234000.0,247500.0,180000.0,180000.0,225000.0,270000.0,270000.0,135000.0,157500.0,202500.0,900000.0,270000.0,292500.0,180000.0,360000.0,202500.0,337500.0,360000.0,337500.0,270000.0,292500.0,225000.0,81000.0,315000.0,306000.0,234000.0,171000.0,180000.0,135000.0,157500.0,180000.0,180000.0,270000.0,270000.0,202500.0,315000.0,153000.0,157500.0,112500.0,315000.0,450000.0,225000.0,270000.0,247500.0,85500.0,202500.0,null,450000.0,495000.0,180000.0,306000.0,112500.0,292500.0,315000.0,270000.0,157500.0,157500.0,427500.0,135000.0,252000.0,247500.0,180000.0,null,247500.0,99000.0,247500.0,202500.0,225000.0,157500.0,157500.0,270000.0,202500.0,103500.0,135000.0,135000.0,231750.0,247500.0,117000.0,112500.0,135000.0,157500.0,null,126000.0,202500.0,270000.0,162000.0,270000.0,270000.0,202500.0,148500.0,360000.0,225000.0,202500.0,225000.0,112500.0,202500.0,328500.0,112500.0,202500.0,135000.0,157500.0,157500.0,90000.0,198000.0,225000.0,72000.0,202500.0,157500.0,112500.0,450000.0,180000.0,157500.0,225000.0,225000.0,157500.0,360000.0,450000.0,315000.0,157500.0,225000.0,292500.0,112500.0,585000.0,112500.0,180000.0,135000.0,270000.0,157500.0,121500.0,135000.0,225000.0,225000.0,112500.0,315000.0,180000.0,495000.0,112500.0,180000.0,81000.0,225000.0,202500.0,180000.0,225000.0,225000.0,225000.0,225000.0,202500.0,247500.0,225000.0,112500.0,112500.0,225000.0,225000.0,135000.0,450000.0,900000.0,337500.0,157500.0,270000.0,135000.0,112500.0,225000.0,180000.0,315000.0,112500.0,180000.0,112500.0,135000.0,360000.0,135000.0,270000.0,null,180000.0,315000.0,108000.0,90000.0,292500.0,202500.0,225000.0,180000.0,360000.0,157500.0,225000.0,270000.0,180000.0,202500.0,202500.0,180000.0,157500.0,225000.0,90000.0,135000.0,67500.0,202500.0,292500.0,180000.0,450000.0,180000.0,202500.0,135000.0,202500.0,337500.0,193500.0,180000.0,157500.0,315000.0,900000.0,270000.0,202500.0,135000.0,292500.0,202500.0,180000.0,180000.0,67500.0,202500.0,180000.0,135000.0,135000.0,112500.0,157500.0,247500.0,360000.0,360000.0,180000.0,225000.0,247500.0,405000.0,270000.0,180000.0,112500.0,337500.0,202500.0,81000.0,180000.0,225000.0,166500.0,445500.0,450000.0,148500.0,144000.0,360000.0,157500.0,135000.0,126000.0,135000.0,337500.0,112500.0,135000.0,301500.0,90000.0,292500.0,157500.0,180000.0,180000.0,315000.0,360000.0,292500.0,360000.0,225000.0,337500.0,225000.0,225000.0,351000.0,202500.0,270000.0,157500.0,157500.0,180000.0,306000.0,292500.0,225000.0,189000.0,247500.0,180000.0,450000.0,261000.0,225000.0,135000.0,180000.0,135000.0,202500.0,157500.0,135000.0,180000.0,121500.0,112500.0,270000.0,360000.0,116100.0,225000.0,297000.0,202500.0,180000.0,202500.0,360000.0,900000.0,261000.0,225000.0,157500.0,81000.0,315000.0,225000.0,157500.0,315000.0,157500.0,202500.0,450000.0,157500.0,418500.0,225000.0,135000.0,180000.0,315000.0,247500.0,360000.0,225000.0,173250.0,148500.0,315000.0,225000.0,216000.0,211500.0,202500.0,166500.0,148500.0,360000.0,270000.0,450000.0,270000.0,72000.0,292500.0,360000.0,202500.0,90000.0,135000.0,225000.0,157500.0,135000.0,405000.0,270000.0,135000.0,202500.0,247500.0,360000.0,193500.0,360000.0,157500.0,180000.0,225000.0,292500.0,180000.0,225000.0,360000.0,180000.0,247500.0,135000.0,null,202500.0,112500.0,135000.0,144000.0,315000.0,202500.0,270000.0,292500.0,405000.0,180000.0,202500.0,225000.0,202500.0,85500.0,225000.0,225000.0,225000.0,135000.0,90000.0,495000.0,135000.0,360000.0,225000.0,450000.0,225000.0,225000.0,225000.0,810000.0,157500.0,112500.0,135000.0,337500.0,180000.0,null,315000.0,112500.0,202500.0,112500.0,270000.0,247500.0,247500.0,315000.0,337500.0,135000.0,450000.0,135000.0,180000.0,270000.0,202500.0,202500.0,247500.0,112500.0,180000.0,405000.0,247500.0,337500.0,83250.0,202500.0,450000.0,135000.0,225000.0,157500.0,270000.0,225000.0,112500.0,202500.0,180000.0,180000.0,157500.0,225000.0,157500.0,198000.0,157500.0,157500.0,270000.0,135000.0,112500.0,148500.0,225000.0,126000.0,157500.0,270000.0,180000.0,225000.0,360000.0,180000.0,270000.0],\"yaxis\":\"y2\",\"type\":\"scattergl\"}],                        {\"template\":{\"data\":{\"histogram2dcontour\":[{\"type\":\"histogram2dcontour\",\"colorbar\":{\"outlinewidth\":0,\"ticks\":\"\"},\"colorscale\":[[0.0,\"#0d0887\"],[0.1111111111111111,\"#46039f\"],[0.2222222222222222,\"#7201a8\"],[0.3333333333333333,\"#9c179e\"],[0.4444444444444444,\"#bd3786\"],[0.5555555555555556,\"#d8576b\"],[0.6666666666666666,\"#ed7953\"],[0.7777777777777778,\"#fb9f3a\"],[0.8888888888888888,\"#fdca26\"],[1.0,\"#f0f921\"]]}],\"choropleth\":[{\"type\":\"choropleth\",\"colorbar\":{\"outlinewidth\":0,\"ticks\":\"\"}}],\"histogram2d\":[{\"type\":\"histogram2d\",\"colorbar\":{\"outlinewidth\":0,\"ticks\":\"\"},\"colorscale\":[[0.0,\"#0d0887\"],[0.1111111111111111,\"#46039f\"],[0.2222222222222222,\"#7201a8\"],[0.3333333333333333,\"#9c179e\"],[0.4444444444444444,\"#bd3786\"],[0.5555555555555556,\"#d8576b\"],[0.6666666666666666,\"#ed7953\"],[0.7777777777777778,\"#fb9f3a\"],[0.8888888888888888,\"#fdca26\"],[1.0,\"#f0f921\"]]}],\"heatmap\":[{\"type\":\"heatmap\",\"colorbar\":{\"outlinewidth\":0,\"ticks\":\"\"},\"colorscale\":[[0.0,\"#0d0887\"],[0.1111111111111111,\"#46039f\"],[0.2222222222222222,\"#7201a8\"],[0.3333333333333333,\"#9c179e\"],[0.4444444444444444,\"#bd3786\"],[0.5555555555555556,\"#d8576b\"],[0.6666666666666666,\"#ed7953\"],[0.7777777777777778,\"#fb9f3a\"],[0.8888888888888888,\"#fdca26\"],[1.0,\"#f0f921\"]]}],\"heatmapgl\":[{\"type\":\"heatmapgl\",\"colorbar\":{\"outlinewidth\":0,\"ticks\":\"\"},\"colorscale\":[[0.0,\"#0d0887\"],[0.1111111111111111,\"#46039f\"],[0.2222222222222222,\"#7201a8\"],[0.3333333333333333,\"#9c179e\"],[0.4444444444444444,\"#bd3786\"],[0.5555555555555556,\"#d8576b\"],[0.6666666666666666,\"#ed7953\"],[0.7777777777777778,\"#fb9f3a\"],[0.8888888888888888,\"#fdca26\"],[1.0,\"#f0f921\"]]}],\"contourcarpet\":[{\"type\":\"contourcarpet\",\"colorbar\":{\"outlinewidth\":0,\"ticks\":\"\"}}],\"contour\":[{\"type\":\"contour\",\"colorbar\":{\"outlinewidth\":0,\"ticks\":\"\"},\"colorscale\":[[0.0,\"#0d0887\"],[0.1111111111111111,\"#46039f\"],[0.2222222222222222,\"#7201a8\"],[0.3333333333333333,\"#9c179e\"],[0.4444444444444444,\"#bd3786\"],[0.5555555555555556,\"#d8576b\"],[0.6666666666666666,\"#ed7953\"],[0.7777777777777778,\"#fb9f3a\"],[0.8888888888888888,\"#fdca26\"],[1.0,\"#f0f921\"]]}],\"surface\":[{\"type\":\"surface\",\"colorbar\":{\"outlinewidth\":0,\"ticks\":\"\"},\"colorscale\":[[0.0,\"#0d0887\"],[0.1111111111111111,\"#46039f\"],[0.2222222222222222,\"#7201a8\"],[0.3333333333333333,\"#9c179e\"],[0.4444444444444444,\"#bd3786\"],[0.5555555555555556,\"#d8576b\"],[0.6666666666666666,\"#ed7953\"],[0.7777777777777778,\"#fb9f3a\"],[0.8888888888888888,\"#fdca26\"],[1.0,\"#f0f921\"]]}],\"mesh3d\":[{\"type\":\"mesh3d\",\"colorbar\":{\"outlinewidth\":0,\"ticks\":\"\"}}],\"scatter\":[{\"fillpattern\":{\"fillmode\":\"overlay\",\"size\":10,\"solidity\":0.2},\"type\":\"scatter\"}],\"parcoords\":[{\"type\":\"parcoords\",\"line\":{\"colorbar\":{\"outlinewidth\":0,\"ticks\":\"\"}}}],\"scatterpolargl\":[{\"type\":\"scatterpolargl\",\"marker\":{\"colorbar\":{\"outlinewidth\":0,\"ticks\":\"\"}}}],\"bar\":[{\"error_x\":{\"color\":\"#2a3f5f\"},\"error_y\":{\"color\":\"#2a3f5f\"},\"marker\":{\"line\":{\"color\":\"#E5ECF6\",\"width\":0.5},\"pattern\":{\"fillmode\":\"overlay\",\"size\":10,\"solidity\":0.2}},\"type\":\"bar\"}],\"scattergeo\":[{\"type\":\"scattergeo\",\"marker\":{\"colorbar\":{\"outlinewidth\":0,\"ticks\":\"\"}}}],\"scatterpolar\":[{\"type\":\"scatterpolar\",\"marker\":{\"colorbar\":{\"outlinewidth\":0,\"ticks\":\"\"}}}],\"histogram\":[{\"marker\":{\"pattern\":{\"fillmode\":\"overlay\",\"size\":10,\"solidity\":0.2}},\"type\":\"histogram\"}],\"scattergl\":[{\"type\":\"scattergl\",\"marker\":{\"colorbar\":{\"outlinewidth\":0,\"ticks\":\"\"}}}],\"scatter3d\":[{\"type\":\"scatter3d\",\"line\":{\"colorbar\":{\"outlinewidth\":0,\"ticks\":\"\"}},\"marker\":{\"colorbar\":{\"outlinewidth\":0,\"ticks\":\"\"}}}],\"scattermapbox\":[{\"type\":\"scattermapbox\",\"marker\":{\"colorbar\":{\"outlinewidth\":0,\"ticks\":\"\"}}}],\"scatterternary\":[{\"type\":\"scatterternary\",\"marker\":{\"colorbar\":{\"outlinewidth\":0,\"ticks\":\"\"}}}],\"scattercarpet\":[{\"type\":\"scattercarpet\",\"marker\":{\"colorbar\":{\"outlinewidth\":0,\"ticks\":\"\"}}}],\"carpet\":[{\"aaxis\":{\"endlinecolor\":\"#2a3f5f\",\"gridcolor\":\"white\",\"linecolor\":\"white\",\"minorgridcolor\":\"white\",\"startlinecolor\":\"#2a3f5f\"},\"baxis\":{\"endlinecolor\":\"#2a3f5f\",\"gridcolor\":\"white\",\"linecolor\":\"white\",\"minorgridcolor\":\"white\",\"startlinecolor\":\"#2a3f5f\"},\"type\":\"carpet\"}],\"table\":[{\"cells\":{\"fill\":{\"color\":\"#EBF0F8\"},\"line\":{\"color\":\"white\"}},\"header\":{\"fill\":{\"color\":\"#C8D4E3\"},\"line\":{\"color\":\"white\"}},\"type\":\"table\"}],\"barpolar\":[{\"marker\":{\"line\":{\"color\":\"#E5ECF6\",\"width\":0.5},\"pattern\":{\"fillmode\":\"overlay\",\"size\":10,\"solidity\":0.2}},\"type\":\"barpolar\"}],\"pie\":[{\"automargin\":true,\"type\":\"pie\"}]},\"layout\":{\"autotypenumbers\":\"strict\",\"colorway\":[\"#636efa\",\"#EF553B\",\"#00cc96\",\"#ab63fa\",\"#FFA15A\",\"#19d3f3\",\"#FF6692\",\"#B6E880\",\"#FF97FF\",\"#FECB52\"],\"font\":{\"color\":\"#2a3f5f\"},\"hovermode\":\"closest\",\"hoverlabel\":{\"align\":\"left\"},\"paper_bgcolor\":\"white\",\"plot_bgcolor\":\"#E5ECF6\",\"polar\":{\"bgcolor\":\"#E5ECF6\",\"angularaxis\":{\"gridcolor\":\"white\",\"linecolor\":\"white\",\"ticks\":\"\"},\"radialaxis\":{\"gridcolor\":\"white\",\"linecolor\":\"white\",\"ticks\":\"\"}},\"ternary\":{\"bgcolor\":\"#E5ECF6\",\"aaxis\":{\"gridcolor\":\"white\",\"linecolor\":\"white\",\"ticks\":\"\"},\"baxis\":{\"gridcolor\":\"white\",\"linecolor\":\"white\",\"ticks\":\"\"},\"caxis\":{\"gridcolor\":\"white\",\"linecolor\":\"white\",\"ticks\":\"\"}},\"coloraxis\":{\"colorbar\":{\"outlinewidth\":0,\"ticks\":\"\"}},\"colorscale\":{\"sequential\":[[0.0,\"#0d0887\"],[0.1111111111111111,\"#46039f\"],[0.2222222222222222,\"#7201a8\"],[0.3333333333333333,\"#9c179e\"],[0.4444444444444444,\"#bd3786\"],[0.5555555555555556,\"#d8576b\"],[0.6666666666666666,\"#ed7953\"],[0.7777777777777778,\"#fb9f3a\"],[0.8888888888888888,\"#fdca26\"],[1.0,\"#f0f921\"]],\"sequentialminus\":[[0.0,\"#0d0887\"],[0.1111111111111111,\"#46039f\"],[0.2222222222222222,\"#7201a8\"],[0.3333333333333333,\"#9c179e\"],[0.4444444444444444,\"#bd3786\"],[0.5555555555555556,\"#d8576b\"],[0.6666666666666666,\"#ed7953\"],[0.7777777777777778,\"#fb9f3a\"],[0.8888888888888888,\"#fdca26\"],[1.0,\"#f0f921\"]],\"diverging\":[[0,\"#8e0152\"],[0.1,\"#c51b7d\"],[0.2,\"#de77ae\"],[0.3,\"#f1b6da\"],[0.4,\"#fde0ef\"],[0.5,\"#f7f7f7\"],[0.6,\"#e6f5d0\"],[0.7,\"#b8e186\"],[0.8,\"#7fbc41\"],[0.9,\"#4d9221\"],[1,\"#276419\"]]},\"xaxis\":{\"gridcolor\":\"white\",\"linecolor\":\"white\",\"ticks\":\"\",\"title\":{\"standoff\":15},\"zerolinecolor\":\"white\",\"automargin\":true,\"zerolinewidth\":2},\"yaxis\":{\"gridcolor\":\"white\",\"linecolor\":\"white\",\"ticks\":\"\",\"title\":{\"standoff\":15},\"zerolinecolor\":\"white\",\"automargin\":true,\"zerolinewidth\":2},\"scene\":{\"xaxis\":{\"backgroundcolor\":\"#E5ECF6\",\"gridcolor\":\"white\",\"linecolor\":\"white\",\"showbackground\":true,\"ticks\":\"\",\"zerolinecolor\":\"white\",\"gridwidth\":2},\"yaxis\":{\"backgroundcolor\":\"#E5ECF6\",\"gridcolor\":\"white\",\"linecolor\":\"white\",\"showbackground\":true,\"ticks\":\"\",\"zerolinecolor\":\"white\",\"gridwidth\":2},\"zaxis\":{\"backgroundcolor\":\"#E5ECF6\",\"gridcolor\":\"white\",\"linecolor\":\"white\",\"showbackground\":true,\"ticks\":\"\",\"zerolinecolor\":\"white\",\"gridwidth\":2}},\"shapedefaults\":{\"line\":{\"color\":\"#2a3f5f\"}},\"annotationdefaults\":{\"arrowcolor\":\"#2a3f5f\",\"arrowhead\":0,\"arrowwidth\":1},\"geo\":{\"bgcolor\":\"white\",\"landcolor\":\"#E5ECF6\",\"subunitcolor\":\"white\",\"showland\":true,\"showlakes\":true,\"lakecolor\":\"white\"},\"title\":{\"x\":0.05},\"mapbox\":{\"style\":\"light\"}}},\"xaxis\":{\"anchor\":\"y\",\"domain\":[0.0,0.49],\"title\":{\"text\":\"Employed days\"}},\"yaxis\":{\"anchor\":\"x\",\"domain\":[0.0,1.0],\"title\":{\"text\":\"Annual income\"}},\"xaxis2\":{\"anchor\":\"y2\",\"domain\":[0.51,1.0],\"matches\":\"x\",\"title\":{\"text\":\"Employed days\"}},\"yaxis2\":{\"anchor\":\"x2\",\"domain\":[0.0,1.0],\"matches\":\"y\",\"showticklabels\":false},\"annotations\":[{\"font\":{},\"showarrow\":false,\"text\":\"label=1\",\"x\":0.245,\"xanchor\":\"center\",\"xref\":\"paper\",\"y\":1.0,\"yanchor\":\"bottom\",\"yref\":\"paper\"},{\"font\":{},\"showarrow\":false,\"text\":\"label=0\",\"x\":0.755,\"xanchor\":\"center\",\"xref\":\"paper\",\"y\":1.0,\"yanchor\":\"bottom\",\"yref\":\"paper\"}],\"legend\":{\"title\":{\"text\":\"GENDER\"},\"tracegroupgap\":0},\"title\":{\"text\":\"Annual Income Vs Employed days\",\"font\":{\"size\":16},\"x\":0.5,\"y\":0.9,\"xanchor\":\"center\",\"yanchor\":\"top\"},\"height\":500,\"width\":1000},                        {\"responsive\": true}                    ).then(function(){\n",
              "                            \n",
              "var gd = document.getElementById('0e116bb1-fc31-4b00-9697-601cd6f0626a');\n",
              "var x = new MutationObserver(function (mutations, observer) {{\n",
              "        var display = window.getComputedStyle(gd).display;\n",
              "        if (!display || display === 'none') {{\n",
              "            console.log([gd, 'removed!']);\n",
              "            Plotly.purge(gd);\n",
              "            observer.disconnect();\n",
              "        }}\n",
              "}});\n",
              "\n",
              "// Listen for the removal of the full notebook cells\n",
              "var notebookContainer = gd.closest('#notebook-container');\n",
              "if (notebookContainer) {{\n",
              "    x.observe(notebookContainer, {childList: true});\n",
              "}}\n",
              "\n",
              "// Listen for the clearing of the current output cell\n",
              "var outputEl = gd.closest('.output');\n",
              "if (outputEl) {{\n",
              "    x.observe(outputEl, {childList: true});\n",
              "}}\n",
              "\n",
              "                        })                };                            </script>        </div>\n",
              "</body>\n",
              "</html>"
            ]
          },
          "metadata": {}
        }
      ]
    },
    {
      "cell_type": "markdown",
      "source": [
        "**Observations:**\n",
        "\n",
        "* This plot shows the number of employed days of customers and their annual income.\n",
        "* Annual income and employed days have no linear relationship."
      ],
      "metadata": {
        "id": "ymeA59EzdfHi"
      }
    },
    {
      "cell_type": "code",
      "source": [
        "fig = px.scatter(df, x = 'Age', y = 'Annual_income', facet_col = 'label',\n",
        "                 color = 'GENDER',height = 500, width = 1000,\n",
        "                 labels = {'Age':'Age', 'Annual_income':'Annual Income'},\n",
        "                 title = 'Age Vs Annual Income')\n",
        "fig.update_traces(marker = dict(opacity = 0.8, symbol = 'star-diamond'))\n",
        "fig.update_layout(title = dict(x = 0.5, y = 0.9, xanchor = 'center', yanchor = 'top',\n",
        "                               font = dict(size = 16)))\n",
        "fig.show()"
      ],
      "metadata": {
        "colab": {
          "base_uri": "https://localhost:8080/",
          "height": 517
        },
        "id": "qYnTANJ28oLw",
        "outputId": "a380d3b3-7925-4499-e35c-6b0f03ef1cb8"
      },
      "execution_count": null,
      "outputs": [
        {
          "output_type": "display_data",
          "data": {
            "text/html": [
              "<html>\n",
              "<head><meta charset=\"utf-8\" /></head>\n",
              "<body>\n",
              "    <div>            <script src=\"https://cdnjs.cloudflare.com/ajax/libs/mathjax/2.7.5/MathJax.js?config=TeX-AMS-MML_SVG\"></script><script type=\"text/javascript\">if (window.MathJax && window.MathJax.Hub && window.MathJax.Hub.Config) {window.MathJax.Hub.Config({SVG: {font: \"STIX-Web\"}});}</script>                <script type=\"text/javascript\">window.PlotlyConfig = {MathJaxConfig: 'local'};</script>\n",
              "        <script charset=\"utf-8\" src=\"https://cdn.plot.ly/plotly-2.24.1.min.js\"></script>                <div id=\"c1b410e7-60a0-4ef8-9e01-2a8cc4c27132\" class=\"plotly-graph-div\" style=\"height:500px; width:1000px;\"></div>            <script type=\"text/javascript\">                                    window.PLOTLYENV=window.PLOTLYENV || {};                                    if (document.getElementById(\"c1b410e7-60a0-4ef8-9e01-2a8cc4c27132\")) {                    Plotly.newPlot(                        \"c1b410e7-60a0-4ef8-9e01-2a8cc4c27132\",                        [{\"hovertemplate\":\"GENDER=M\\u003cbr\\u003elabel=1\\u003cbr\\u003eAge=%{x}\\u003cbr\\u003eAnnual Income=%{y}\\u003cextra\\u003e\\u003c\\u002fextra\\u003e\",\"legendgroup\":\"M\",\"marker\":{\"color\":\"#636efa\",\"symbol\":\"star-diamond\",\"opacity\":0.8},\"mode\":\"markers\",\"name\":\"M\",\"showlegend\":true,\"x\":[51.0,49.0,49.0,49.0,24.0,46.0,46.0,51.0,35.0,32.0,48.0,54.0,35.0,55.0,57.0,52.0,44.0,30.0,30.0,50.0,50.0,31.0,26.0,26.0,49.0,49.0,49.0,44.0,44.0,67.0,25.0,25.0,null,57.0,64.0,35.0,35.0,42.0,37.0,37.0,37.0,51.0,34.0,29.0,29.0,47.0,41.0,44.0,62.0,31.0,53.0,31.0,31.0,39.0,39.0,41.0,58.0,49.0,35.0,55.0,55.0,55.0,51.0,48.0,48.0,48.0,44.0,44.0,35.0,27.0,47.0,47.0,26.0,26.0,47.0],\"xaxis\":\"x\",\"y\":[180000.0,450000.0,450000.0,450000.0,472500.0,270000.0,270000.0,90000.0,202500.0,202500.0,157500.0,540000.0,180000.0,112500.0,292500.0,215100.0,450000.0,180000.0,180000.0,157500.0,157500.0,171000.0,135000.0,135000.0,225000.0,225000.0,225000.0,157500.0,157500.0,99000.0,391500.0,391500.0,391500.0,65250.0,72900.0,180000.0,null,157500.0,202500.0,202500.0,202500.0,315000.0,126000.0,135000.0,135000.0,247500.0,85500.0,180000.0,225000.0,null,225000.0,130500.0,130500.0,126000.0,126000.0,211500.0,112500.0,270000.0,135000.0,112500.0,112500.0,112500.0,195750.0,null,450000.0,450000.0,112500.0,112500.0,216000.0,225000.0,108000.0,108000.0,450000.0,450000.0,315000.0],\"yaxis\":\"y\",\"type\":\"scattergl\"},{\"hovertemplate\":\"GENDER=M\\u003cbr\\u003elabel=0\\u003cbr\\u003eAge=%{x}\\u003cbr\\u003eAnnual Income=%{y}\\u003cextra\\u003e\\u003c\\u002fextra\\u003e\",\"legendgroup\":\"M\",\"marker\":{\"color\":\"#636efa\",\"symbol\":\"star-diamond\",\"opacity\":0.8},\"mode\":\"markers\",\"name\":\"M\",\"showlegend\":false,\"x\":[48.0,28.0,58.0,45.0,33.0,64.0,39.0,52.0,null,27.0,32.0,55.0,36.0,51.0,38.0,31.0,29.0,27.0,27.0,43.0,42.0,39.0,64.0,45.0,23.0,43.0,26.0,31.0,27.0,36.0,32.0,57.0,32.0,38.0,46.0,43.0,32.0,37.0,58.0,60.0,46.0,23.0,27.0,25.0,50.0,33.0,31.0,50.0,63.0,54.0,64.0,39.0,41.0,50.0,26.0,29.0,30.0,45.0,47.0,51.0,53.0,null,53.0,43.0,30.0,57.0,36.0,29.0,37.0,24.0,32.0,34.0,37.0,25.0,42.0,33.0,59.0,35.0,53.0,47.0,36.0,53.0,41.0,38.0,55.0,36.0,35.0,32.0,47.0,27.0,39.0,42.0,53.0,50.0,27.0,null,35.0,60.0,33.0,32.0,37.0,31.0,32.0,44.0,41.0,38.0,27.0,28.0,40.0,48.0,33.0,34.0,40.0,29.0,54.0,28.0,null,31.0,54.0,37.0,29.0,59.0,43.0,40.0,43.0,47.0,27.0,57.0,45.0,48.0,26.0,34.0,29.0,49.0,46.0,49.0,34.0,null,45.0,48.0,26.0,52.0,32.0,31.0,24.0,32.0,43.0,36.0,53.0,55.0,33.0,30.0,28.0,53.0,35.0,27.0,31.0,32.0,25.0,36.0,28.0,27.0,29.0,41.0,46.0,29.0,53.0,37.0,57.0,37.0,36.0,44.0,27.0,64.0,50.0,38.0,40.0,29.0,27.0,32.0,42.0,53.0,50.0,26.0,27.0,24.0,34.0,52.0,41.0,55.0,43.0,45.0,43.0,32.0,34.0,29.0,52.0,22.0,55.0,52.0,48.0,37.0,66.0,26.0,36.0,62.0,21.0,45.0,32.0,41.0,28.0,61.0,39.0,34.0,37.0,49.0,39.0,52.0,45.0,52.0,55.0,49.0,49.0,64.0,31.0,34.0,43.0,51.0,27.0,26.0,41.0,40.0,33.0,48.0,38.0,47.0,31.0,51.0,59.0,41.0,28.0,38.0,35.0,37.0,32.0,63.0,43.0,41.0,63.0,null,55.0,32.0,28.0,34.0,43.0,43.0,64.0,22.0,48.0,38.0,51.0,35.0,33.0,52.0,33.0,40.0,52.0,null,41.0,47.0,31.0,28.0,51.0,45.0,39.0,52.0,24.0,22.0,28.0,54.0,29.0,41.0,39.0,64.0,38.0,42.0,34.0,34.0,25.0,34.0,29.0,48.0,44.0,29.0,47.0,56.0,46.0,29.0,43.0,46.0,37.0,36.0,33.0,31.0,36.0,24.0,35.0,25.0,46.0,31.0,30.0,56.0,39.0,27.0,40.0,40.0,37.0,42.0,27.0,66.0,47.0,57.0,56.0,26.0,36.0,42.0,31.0,59.0,46.0,61.0,43.0,66.0,45.0,38.0,27.0,55.0,52.0,24.0,63.0,null,48.0,27.0,50.0,27.0,47.0,52.0,49.0,42.0,44.0,47.0,47.0,60.0,56.0,49.0,44.0,32.0,49.0,36.0,30.0,27.0,32.0,23.0,35.0,57.0,47.0,28.0,49.0,59.0,46.0,43.0,67.0,27.0,28.0,33.0,34.0,44.0,47.0,33.0,34.0,37.0,60.0,28.0,48.0,37.0,43.0,49.0,54.0,41.0,39.0,37.0,38.0,41.0,40.0,55.0,27.0,47.0,29.0,28.0,22.0,59.0,52.0,23.0,50.0,28.0,37.0,38.0,31.0,41.0,27.0,44.0,49.0,45.0,67.0,25.0,32.0,29.0,51.0,45.0,39.0,37.0,30.0,34.0,43.0,24.0,27.0,27.0,49.0,55.0,42.0,40.0,61.0,48.0,28.0,43.0,38.0,50.0,27.0,51.0,32.0,40.0,50.0,57.0,42.0,50.0,29.0,38.0,52.0,37.0,30.0,67.0,32.0,36.0,null,25.0,62.0,38.0,43.0,32.0,35.0,39.0,56.0,40.0,29.0,27.0,47.0,34.0,33.0,58.0,58.0,65.0,50.0,34.0,26.0,35.0,27.0,25.0,42.0,26.0,37.0,37.0,32.0,51.0,24.0,37.0,29.0,34.0,42.0,38.0,49.0,36.0,30.0,36.0,41.0],\"xaxis\":\"x2\",\"y\":[225000.0,180000.0,256500.0,126000.0,90000.0,131400.0,180000.0,445500.0,157500.0,112500.0,234000.0,247500.0,180000.0,180000.0,225000.0,270000.0,270000.0,135000.0,157500.0,202500.0,900000.0,270000.0,270000.0,292500.0,180000.0,360000.0,202500.0,337500.0,360000.0,337500.0,270000.0,292500.0,225000.0,81000.0,315000.0,306000.0,234000.0,171000.0,180000.0,85500.0,135000.0,157500.0,180000.0,180000.0,270000.0,270000.0,202500.0,315000.0,135000.0,153000.0,157500.0,112500.0,315000.0,450000.0,225000.0,270000.0,247500.0,85500.0,202500.0,null,450000.0,495000.0,180000.0,306000.0,112500.0,292500.0,315000.0,270000.0,157500.0,157500.0,427500.0,135000.0,252000.0,247500.0,180000.0,null,202500.0,247500.0,99000.0,247500.0,202500.0,126000.0,225000.0,157500.0,157500.0,270000.0,202500.0,103500.0,135000.0,135000.0,231750.0,247500.0,117000.0,112500.0,135000.0,157500.0,null,90900.0,126000.0,202500.0,270000.0,162000.0,270000.0,270000.0,202500.0,148500.0,360000.0,225000.0,202500.0,225000.0,112500.0,202500.0,328500.0,112500.0,202500.0,135000.0,157500.0,157500.0,90000.0,198000.0,225000.0,72000.0,202500.0,157500.0,112500.0,450000.0,180000.0,157500.0,225000.0,225000.0,157500.0,360000.0,450000.0,315000.0,157500.0,225000.0,292500.0,112500.0,585000.0,112500.0,180000.0,135000.0,270000.0,157500.0,121500.0,135000.0,225000.0,225000.0,112500.0,202500.0,315000.0,180000.0,495000.0,112500.0,180000.0,81000.0,225000.0,202500.0,180000.0,225000.0,225000.0,225000.0,225000.0,202500.0,247500.0,225000.0,112500.0,112500.0,225000.0,225000.0,135000.0,450000.0,900000.0,337500.0,90000.0,157500.0,270000.0,135000.0,112500.0,225000.0,180000.0,315000.0,112500.0,180000.0,112500.0,135000.0,360000.0,135000.0,270000.0,null,180000.0,315000.0,108000.0,90000.0,292500.0,202500.0,225000.0,180000.0,360000.0,157500.0,225000.0,270000.0,207000.0,180000.0,202500.0,202500.0,180000.0,157500.0,225000.0,90000.0,135000.0,67500.0,202500.0,292500.0,180000.0,450000.0,180000.0,202500.0,135000.0,202500.0,126000.0,337500.0,193500.0,180000.0,180000.0,157500.0,315000.0,99000.0,900000.0,270000.0,202500.0,135000.0,292500.0,202500.0,180000.0,180000.0,67500.0,202500.0,180000.0,135000.0,135000.0,360000.0,112500.0,157500.0,247500.0,112500.0,360000.0,360000.0,135000.0,180000.0,225000.0,247500.0,405000.0,270000.0,180000.0,112500.0,337500.0,202500.0,81000.0,180000.0,292500.0,225000.0,166500.0,445500.0,450000.0,148500.0,144000.0,135000.0,360000.0,157500.0,135000.0,126000.0,135000.0,337500.0,112500.0,135000.0,301500.0,90000.0,292500.0,189000.0,157500.0,180000.0,180000.0,450000.0,315000.0,360000.0,292500.0,360000.0,225000.0,337500.0,225000.0,225000.0,351000.0,202500.0,270000.0,157500.0,157500.0,180000.0,306000.0,292500.0,225000.0,189000.0,247500.0,180000.0,450000.0,261000.0,225000.0,135000.0,180000.0,135000.0,202500.0,157500.0,135000.0,180000.0,121500.0,112500.0,270000.0,360000.0,116100.0,225000.0,450000.0,225000.0,297000.0,202500.0,180000.0,202500.0,360000.0,112500.0,900000.0,112500.0,261000.0,121500.0,225000.0,157500.0,81000.0,315000.0,225000.0,157500.0,162000.0,315000.0,157500.0,202500.0,450000.0,157500.0,225000.0,418500.0,225000.0,135000.0,180000.0,315000.0,247500.0,360000.0,112500.0,225000.0,173250.0,148500.0,315000.0,225000.0,216000.0,211500.0,202500.0,166500.0,148500.0,360000.0,270000.0,450000.0,270000.0,72000.0,292500.0,360000.0,198000.0,202500.0,90000.0,135000.0,225000.0,157500.0,225000.0,135000.0,405000.0,270000.0,90000.0,135000.0,202500.0,247500.0,360000.0,193500.0,360000.0,157500.0,180000.0,225000.0,292500.0,180000.0,225000.0,360000.0,180000.0,247500.0,135000.0,null,202500.0,112500.0,135000.0,144000.0,315000.0,202500.0,270000.0,292500.0,405000.0,180000.0,202500.0,225000.0,202500.0,85500.0,135000.0,225000.0,225000.0,225000.0,135000.0,90000.0,495000.0,135000.0,360000.0,225000.0,450000.0,225000.0,225000.0,225000.0,810000.0,157500.0,270000.0,112500.0,67500.0,135000.0,337500.0,180000.0,null,315000.0,112500.0,202500.0,112500.0,270000.0,247500.0,360000.0,247500.0,315000.0,337500.0,135000.0,450000.0,135000.0,180000.0,135000.0,270000.0,202500.0,202500.0,247500.0,67500.0,112500.0,180000.0,405000.0,247500.0,337500.0,83250.0,202500.0,450000.0,135000.0,225000.0,157500.0,270000.0,114750.0,225000.0,90000.0,112500.0,202500.0,180000.0,180000.0,157500.0,225000.0,157500.0,198000.0,157500.0,157500.0,270000.0,135000.0,112500.0,148500.0,225000.0,126000.0,157500.0,270000.0,180000.0,225000.0,360000.0,180000.0,270000.0],\"yaxis\":\"y2\",\"type\":\"scattergl\"},{\"hovertemplate\":\"GENDER=F\\u003cbr\\u003elabel=1\\u003cbr\\u003eAge=%{x}\\u003cbr\\u003eAnnual Income=%{y}\\u003cextra\\u003e\\u003c\\u002fextra\\u003e\",\"legendgroup\":\"F\",\"marker\":{\"color\":\"#EF553B\",\"symbol\":\"star-diamond\",\"opacity\":0.8},\"mode\":\"markers\",\"name\":\"F\",\"showlegend\":true,\"x\":[37.0,null,37.0,37.0,37.0,60.0,51.0,51.0,51.0,51.0,51.0,33.0,43.0,43.0,59.0,59.0,32.0,59.0,29.0,43.0,65.0,43.0,63.0,63.0,63.0,42.0,42.0,51.0,28.0,28.0,51.0,45.0,45.0,67.0,67.0,67.0,59.0,24.0,41.0,52.0,26.0,38.0,37.0,30.0,30.0,39.0,33.0,33.0,55.0,42.0,60.0,54.0,54.0,46.0,51.0,54.0,63.0,63.0,39.0,39.0,39.0,39.0,39.0,47.0,62.0,62.0,62.0,62.0,35.0,61.0,65.0,58.0,58.0,58.0,58.0,49.0,38.0,57.0,44.0,44.0,27.0,29.0,29.0,28.0,28.0,51.0,51.0,51.0,59.0,60.0,34.0,55.0,39.0,33.0,33.0],\"xaxis\":\"x\",\"y\":[315000.0,315000.0,null,315000.0,315000.0,180000.0,90000.0,null,90000.0,126000.0,126000.0,112500.0,180000.0,540000.0,112500.0,null,90000.0,112500.0,135000.0,135000.0,76500.0,270000.0,225000.0,225000.0,225000.0,157500.0,157500.0,67500.0,103500.0,103500.0,180000.0,180000.0,180000.0,99000.0,null,99000.0,225000.0,67500.0,202500.0,157500.0,202500.0,270000.0,135000.0,256500.0,256500.0,225000.0,180000.0,180000.0,225000.0,675000.0,103500.0,135000.0,135000.0,180000.0,121500.0,135000.0,67500.0,135000.0,202500.0,202500.0,202500.0,202500.0,202500.0,180000.0,180000.0,180000.0,180000.0,null,157500.0,81000.0,81000.0,112500.0,112500.0,112500.0,112500.0,72000.0,202500.0,148500.0,135000.0,135000.0,135000.0,135000.0,135000.0,585000.0,585000.0,67500.0,67500.0,67500.0,306000.0,90000.0,108000.0,135000.0,135000.0,157500.0,157500.0],\"yaxis\":\"y\",\"type\":\"scattergl\"},{\"hovertemplate\":\"GENDER=F\\u003cbr\\u003elabel=0\\u003cbr\\u003eAge=%{x}\\u003cbr\\u003eAnnual Income=%{y}\\u003cextra\\u003e\\u003c\\u002fextra\\u003e\",\"legendgroup\":\"F\",\"marker\":{\"color\":\"#EF553B\",\"symbol\":\"star-diamond\",\"opacity\":0.8},\"mode\":\"markers\",\"name\":\"F\",\"showlegend\":false,\"x\":[43.0,35.0,56.0,44.0,39.0,47.0,66.0,31.0,60.0,38.0,56.0,40.0,40.0,29.0,59.0,59.0,34.0,67.0,36.0,48.0,27.0,45.0,35.0,46.0,27.0,38.0,52.0,28.0,41.0,54.0,60.0,66.0,39.0,47.0,39.0,33.0,40.0,43.0,27.0,50.0,41.0,27.0,32.0,52.0,47.0,39.0,57.0,37.0,46.0,29.0,62.0,43.0,57.0,59.0,52.0,63.0,53.0,33.0,46.0,54.0,56.0,58.0,31.0,33.0,46.0,40.0,40.0,48.0,53.0,43.0,60.0,64.0,35.0,47.0,53.0,24.0,38.0,45.0,42.0,37.0,49.0,32.0,29.0,32.0,44.0,30.0,39.0,28.0,46.0,27.0,54.0,55.0,59.0,64.0,46.0,41.0,48.0,37.0,34.0,48.0,56.0,47.0,47.0,65.0,62.0,57.0,50.0,54.0,45.0,52.0,63.0,40.0,33.0,36.0,39.0,45.0,63.0,64.0,60.0,62.0,52.0,27.0,61.0,61.0,28.0,51.0,57.0,41.0,26.0,46.0,60.0,56.0,54.0,31.0,54.0,64.0,25.0,39.0,27.0,58.0,38.0,28.0,38.0,49.0,60.0,48.0,39.0,57.0,38.0,57.0,48.0,37.0,34.0,34.0,32.0,30.0,54.0,33.0,30.0,34.0,52.0,40.0,57.0,31.0,39.0,29.0,30.0,62.0,45.0,51.0,51.0,33.0,56.0,64.0,28.0,36.0,54.0,28.0,32.0,31.0,25.0,32.0,48.0,49.0,46.0,41.0,39.0,64.0,30.0,32.0,29.0,31.0,60.0,29.0,65.0,48.0,22.0,33.0,39.0,44.0,60.0,63.0,55.0,25.0,32.0,55.0,32.0,43.0,39.0,31.0,31.0,29.0,68.0,39.0,38.0,58.0,43.0,39.0,26.0,40.0,55.0,null,46.0,35.0,37.0,24.0,58.0,53.0,62.0,41.0,47.0,26.0,34.0,57.0,64.0,47.0,56.0,39.0,63.0,63.0,53.0,27.0,44.0,41.0,54.0,41.0,42.0,57.0,59.0,59.0,46.0,33.0,39.0,47.0,38.0,36.0,54.0,40.0,51.0,32.0,41.0,33.0,47.0,49.0,47.0,56.0,58.0,60.0,53.0,60.0,32.0,43.0,52.0,37.0,29.0,55.0,57.0,35.0,36.0,31.0,40.0,62.0,48.0,32.0,57.0,41.0,57.0,35.0,61.0,33.0,27.0,43.0,35.0,36.0,42.0,null,47.0,41.0,61.0,56.0,43.0,28.0,56.0,46.0,27.0,56.0,33.0,35.0,58.0,61.0,47.0,35.0,55.0,47.0,37.0,53.0,55.0,32.0,43.0,43.0,43.0,42.0,51.0,40.0,42.0,37.0,40.0,27.0,41.0,56.0,37.0,62.0,41.0,57.0,63.0,59.0,46.0,45.0,null,40.0,58.0,67.0,55.0,42.0,66.0,61.0,66.0,39.0,45.0,23.0,38.0,39.0,57.0,33.0,53.0,58.0,38.0,38.0,40.0,53.0,44.0,31.0,54.0,42.0,28.0,34.0,56.0,39.0,34.0,null,63.0,44.0,34.0,56.0,31.0,35.0,65.0,32.0,33.0,42.0,33.0,46.0,60.0,37.0,63.0,63.0,54.0,34.0,55.0,null,57.0,57.0,62.0,54.0,51.0,27.0,66.0,47.0,60.0,35.0,30.0,64.0,35.0,49.0,53.0,63.0,33.0,38.0,55.0,52.0,50.0,27.0,24.0,30.0,40.0,40.0,56.0,28.0,51.0,65.0,59.0,24.0,null,60.0,30.0,54.0,51.0,46.0,32.0,29.0,27.0,27.0,42.0,50.0,60.0,40.0,35.0,41.0,29.0,58.0,64.0,47.0,64.0,30.0,56.0,58.0,59.0,35.0,29.0,41.0,29.0,48.0,41.0,50.0,58.0,37.0,27.0,40.0,53.0,47.0,35.0,66.0,46.0,42.0,39.0,28.0,50.0,49.0,42.0,56.0,30.0,41.0,32.0,63.0,52.0,31.0,34.0,52.0,49.0,59.0,62.0,37.0,28.0,34.0,38.0,58.0,34.0,47.0,56.0,31.0,41.0,37.0,35.0,50.0,26.0,37.0,40.0,54.0,48.0,60.0,66.0,60.0,27.0,61.0,29.0,37.0,55.0,62.0,49.0,64.0,48.0,62.0,58.0,43.0,53.0,47.0,36.0,31.0,51.0,53.0,54.0,57.0,null,57.0,58.0,27.0,38.0,56.0,42.0,40.0,59.0,51.0,32.0,57.0,59.0,46.0,54.0,62.0,46.0,43.0,32.0,32.0,38.0,48.0,40.0,29.0,41.0,42.0,49.0,38.0,52.0,60.0,61.0,45.0,64.0,41.0,34.0,31.0,51.0,29.0,37.0,58.0,28.0,43.0,38.0,49.0,60.0,63.0,35.0,37.0,44.0,46.0,33.0,30.0,47.0,34.0,57.0,33.0,58.0,42.0,58.0,65.0,29.0,50.0,50.0,37.0,51.0,40.0,24.0,33.0,27.0,49.0,62.0,41.0,64.0,43.0,57.0,32.0,30.0,30.0,59.0,27.0,35.0,30.0,44.0,47.0,55.0,54.0,36.0,54.0,44.0,35.0,29.0,64.0,39.0,45.0,57.0,43.0,27.0,42.0,56.0,38.0,49.0,44.0,61.0,27.0,43.0,38.0,55.0,37.0,40.0,48.0,25.0,49.0,41.0,57.0,48.0,42.0,57.0,39.0,38.0,53.0,41.0,46.0,37.0,55.0,39.0,66.0,null,55.0,62.0,47.0,63.0,52.0,28.0,38.0,28.0,41.0,27.0,44.0,30.0,33.0,51.0,64.0,31.0,51.0,59.0,37.0,33.0,52.0,57.0,48.0,24.0,28.0,51.0,55.0,57.0,53.0,31.0,56.0,48.0,66.0,30.0,43.0,29.0,57.0,36.0,57.0,49.0,38.0,58.0,33.0,41.0,47.0,36.0,52.0,41.0,61.0,47.0,42.0,31.0,33.0,37.0,null,57.0,48.0,40.0,58.0,45.0,40.0,43.0,66.0,31.0,61.0,25.0,36.0,62.0,58.0,58.0,43.0,63.0,26.0,33.0,52.0,42.0,57.0,43.0,61.0,41.0,44.0,52.0,24.0,58.0,36.0,50.0,53.0,46.0,51.0,25.0,28.0,42.0,25.0,44.0,50.0,64.0,31.0,33.0,41.0,56.0,40.0,46.0,37.0,27.0,62.0,44.0,55.0,56.0,46.0,43.0,37.0,54.0,64.0,43.0,44.0,54.0,49.0,33.0,60.0,48.0,41.0,65.0,24.0,36.0,38.0,42.0,45.0,39.0,27.0,58.0,57.0,59.0,57.0,46.0,39.0,54.0,39.0,62.0,37.0,50.0,41.0,37.0,52.0,58.0,52.0,42.0,null,33.0,56.0,53.0,59.0,32.0,63.0,60.0,35.0,60.0,30.0,51.0,32.0,31.0,25.0,31.0,48.0,48.0,33.0,54.0,34.0,54.0,62.0,37.0,42.0,44.0,32.0,55.0,50.0,32.0,39.0,30.0,59.0,34.0,34.0,58.0,65.0,48.0,46.0,30.0,31.0,66.0,33.0,62.0,45.0,38.0,44.0,56.0,47.0,62.0,47.0,66.0,28.0,62.0,38.0,60.0,41.0,41.0,60.0,55.0,35.0,55.0,28.0,24.0,60.0,32.0,31.0,44.0,35.0,25.0,60.0,32.0,34.0,65.0,54.0,29.0,54.0,60.0,35.0,null,32.0,28.0,45.0],\"xaxis\":\"x2\",\"y\":[81000.0,180000.0,135000.0,135000.0,63000.0,135000.0,112500.0,112500.0,45000.0,null,202500.0,90000.0,180000.0,90000.0,135000.0,126000.0,337500.0,247500.0,121500.0,117000.0,90000.0,180000.0,157500.0,117000.0,1575000.0,144000.0,null,216000.0,90000.0,171000.0,225000.0,67050.0,73350.0,112500.0,144000.0,225000.0,112500.0,292500.0,1575000.0,157500.0,157500.0,135000.0,112500.0,193500.0,108000.0,292500.0,292500.0,157500.0,76500.0,157500.0,135000.0,112500.0,157500.0,225000.0,112500.0,121500.0,112500.0,135000.0,103500.0,157500.0,180000.0,112500.0,157500.0,135000.0,135000.0,360000.0,null,450000.0,270000.0,270000.0,450000.0,157500.0,112500.0,112500.0,247500.0,157500.0,94500.0,180000.0,198000.0,180000.0,67500.0,180000.0,202500.0,112500.0,90000.0,270000.0,270000.0,225000.0,94500.0,117000.0,202500.0,54000.0,112500.0,166500.0,247500.0,72000.0,202500.0,202500.0,360000.0,270000.0,112500.0,null,157500.0,99000.0,162000.0,225000.0,225000.0,72000.0,135000.0,167400.0,180000.0,99000.0,225000.0,423000.0,90000.0,360000.0,247500.0,225000.0,67500.0,112500.0,90000.0,90000.0,225000.0,112500.0,135000.0,90000.0,270000.0,180000.0,135000.0,243000.0,112500.0,234000.0,180000.0,121500.0,121500.0,180000.0,90000.0,135000.0,76500.0,157500.0,225000.0,225000.0,540000.0,283500.0,90000.0,252000.0,135000.0,315000.0,180000.0,270000.0,157500.0,180000.0,612000.0,36000.0,180000.0,202500.0,292500.0,135000.0,337500.0,157500.0,360000.0,135000.0,139500.0,135000.0,133650.0,81000.0,225000.0,126000.0,94500.0,180000.0,157500.0,202500.0,117000.0,180000.0,180000.0,157500.0,135000.0,90000.0,90000.0,121500.0,157500.0,121500.0,135000.0,180000.0,144000.0,261000.0,135000.0,157500.0,112500.0,202500.0,135000.0,135000.0,112500.0,135000.0,103500.0,315000.0,180000.0,247500.0,157500.0,315000.0,247500.0,247500.0,166500.0,112500.0,112500.0,45900.0,103500.0,119250.0,157500.0,112500.0,315000.0,112500.0,58500.0,94500.0,270000.0,99000.0,315000.0,157500.0,180000.0,211500.0,180000.0,144000.0,144000.0,270000.0,157500.0,90000.0,148500.0,99000.0,315000.0,162000.0,202500.0,225000.0,612000.0,292500.0,67500.0,157500.0,135000.0,67500.0,144000.0,90000.0,112500.0,112500.0,135000.0,112500.0,112500.0,202500.0,270000.0,193500.0,103500.0,202500.0,247500.0,225000.0,108000.0,787500.0,202500.0,90000.0,null,90000.0,72000.0,216000.0,157500.0,315000.0,594000.0,135000.0,180000.0,234000.0,99000.0,198000.0,90000.0,247500.0,157500.0,112500.0,180000.0,225000.0,225000.0,135000.0,112500.0,112500.0,117000.0,135000.0,243000.0,157500.0,337500.0,103500.0,99000.0,67500.0,112500.0,270000.0,135000.0,225000.0,85500.0,135000.0,119700.0,153000.0,216000.0,202500.0,90000.0,108000.0,270000.0,76500.0,69372.0,135000.0,117000.0,202500.0,126000.0,135000.0,225000.0,157500.0,90000.0,157500.0,103500.0,37800.0,135000.0,157500.0,135000.0,157500.0,387000.0,126000.0,135000.0,202500.0,157500.0,135000.0,207000.0,270000.0,315000.0,315000.0,112500.0,121500.0,225000.0,157500.0,225000.0,135000.0,270000.0,202500.0,112500.0,157500.0,202500.0,135000.0,94500.0,112500.0,270000.0,54000.0,189000.0,135000.0,157500.0,121500.0,121500.0,225000.0,180000.0,90000.0,90000.0,45000.0,99000.0,157500.0,112500.0,180000.0,225000.0,157500.0,135000.0,315000.0,225000.0,333000.0,171000.0,130500.0,112500.0,126000.0,135000.0,112500.0,105750.0,135000.0,90000.0,112500.0,180000.0,67500.0,202500.0,144000.0,126000.0,202500.0,103500.0,135000.0,382500.0,270000.0,225000.0,135000.0,76500.0,90000.0,157500.0,306000.0,90000.0,135000.0,193500.0,270000.0,112500.0,180000.0,139500.0,112500.0,193500.0,112500.0,157500.0,180000.0,315000.0,90000.0,112500.0,135000.0,112500.0,135000.0,112500.0,180000.0,141750.0,180000.0,112500.0,225000.0,270000.0,202500.0,99000.0,306000.0,148500.0,135000.0,180000.0,157500.0,247500.0,112500.0,103500.0,198000.0,135000.0,315000.0,292500.0,148500.0,202500.0,90000.0,135000.0,261000.0,135000.0,112500.0,135000.0,171000.0,40500.0,130500.0,306000.0,202500.0,112500.0,90000.0,153000.0,135000.0,180000.0,112500.0,90000.0,67500.0,315000.0,157500.0,166500.0,135000.0,135000.0,193500.0,315000.0,405000.0,90000.0,243000.0,135000.0,117000.0,202500.0,270000.0,135000.0,216000.0,135000.0,225000.0,157500.0,157500.0,180000.0,45000.0,315000.0,180000.0,90000.0,null,135000.0,90000.0,292500.0,112500.0,216000.0,189000.0,44550.0,112500.0,157500.0,135000.0,112500.0,67500.0,315000.0,117000.0,157500.0,67500.0,202500.0,225000.0,112500.0,202500.0,225000.0,157500.0,112500.0,81000.0,90000.0,180000.0,94500.0,180000.0,54000.0,112500.0,157500.0,180000.0,225000.0,112500.0,126000.0,135000.0,270000.0,157500.0,216000.0,108000.0,180000.0,180000.0,135000.0,180000.0,112500.0,270000.0,270000.0,270000.0,135000.0,189000.0,144000.0,67500.0,247500.0,157500.0,315000.0,99000.0,351000.0,175500.0,157500.0,58500.0,null,247500.0,90000.0,148500.0,180000.0,121900.5,112500.0,180000.0,225000.0,225000.0,135000.0,157500.0,238500.0,180000.0,112500.0,171000.0,33750.0,135000.0,135000.0,67500.0,153000.0,180000.0,405000.0,112500.0,157500.0,202500.0,315000.0,121500.0,112500.0,135000.0,202500.0,94500.0,630000.0,202500.0,360000.0,247500.0,360000.0,126000.0,225000.0,135000.0,112500.0,40500.0,157500.0,67500.0,315000.0,270000.0,180000.0,157500.0,252000.0,270000.0,270000.0,202500.0,180000.0,112500.0,135000.0,225000.0,112500.0,162000.0,270000.0,90000.0,67500.0,135000.0,135000.0,157500.0,180000.0,360000.0,135000.0,112500.0,225000.0,202500.0,315000.0,112500.0,83250.0,261000.0,135000.0,225000.0,270000.0,112500.0,135000.0,157500.0,76500.0,157500.0,90000.0,112500.0,112500.0,72000.0,135000.0,157500.0,67500.0,135000.0,207000.0,112500.0,112500.0,202500.0,67500.0,67500.0,306000.0,90000.0,112500.0,67500.0,180000.0,315000.0,247500.0,81000.0,171000.0,135000.0,135000.0,202500.0,315000.0,405000.0,225000.0,166500.0,73350.0,103500.0,202500.0,76500.0,126000.0,211500.0,112500.0,135000.0,112500.0,247500.0,225000.0,135000.0,67500.0,193500.0,135000.0,135000.0,180000.0,112500.0,67500.0,306000.0,153000.0,171000.0,112500.0,112500.0,292500.0,315000.0,135000.0,180000.0,292500.0,135000.0,225000.0,135000.0,180000.0,274500.0,225000.0,126000.0,54000.0,76500.0,112500.0,81000.0,135000.0,99000.0,67500.0,58500.0,135000.0,135000.0,180000.0,112500.0,144000.0,81000.0,193500.0,292500.0,157500.0,135000.0,180000.0,112500.0,112500.0,76500.0,193500.0,180000.0,115200.0,56250.0,157500.0,135000.0,202500.0,157500.0,null,157500.0,270000.0,157500.0,360000.0,90000.0,90000.0,112500.0,202500.0,202500.0,108000.0,225000.0,180000.0,112500.0,90000.0,103500.0,72000.0,135000.0,135000.0,135000.0,81000.0,90000.0,360000.0,202500.0,202500.0,95850.0,112500.0,126000.0,99000.0,112500.0,180000.0,202500.0,180000.0,135000.0,315000.0,387000.0,45000.0,185400.0,76500.0,225000.0,126000.0,135000.0,90000.0,180000.0,112500.0,135000.0,103500.0,130500.0,90000.0,157500.0,202500.0,189000.0,180000.0,135000.0,166500.0,90000.0,90000.0,157500.0,112500.0,112500.0,135000.0,135000.0,135000.0,126000.0,247500.0,184500.0,165600.0,112500.0,72000.0,202500.0,391500.0,157500.0,112500.0,270000.0,189000.0,157500.0,405000.0,157500.0,130500.0,135000.0,90000.0,67500.0,135000.0,157500.0,135000.0,126000.0,180000.0,112500.0,247500.0,112500.0,67500.0,337500.0,112500.0,157500.0,292500.0,180000.0,180000.0,202500.0,112500.0,81000.0,135000.0,247500.0,225000.0,157500.0,216000.0,135000.0,180000.0,130500.0,99000.0,247500.0,225000.0,171000.0,180000.0,315000.0,247500.0,180000.0,216000.0,99000.0,47250.0,49500.0,135000.0,225000.0,450000.0,180000.0,103500.0,135000.0,225000.0,270000.0,270000.0,108000.0,225000.0,405000.0,216000.0,135000.0,112500.0,135000.0,157500.0,45000.0,234000.0,157500.0,207000.0,198000.0,157500.0,180000.0,216000.0,112500.0,94500.0,69750.0,103500.0,112500.0,67500.0,112500.0,126000.0,175500.0,126000.0,180000.0,157500.0,144000.0,112500.0,450000.0,180000.0,144000.0,225000.0,null,225000.0,225000.0],\"yaxis\":\"y2\",\"type\":\"scattergl\"}],                        {\"template\":{\"data\":{\"histogram2dcontour\":[{\"type\":\"histogram2dcontour\",\"colorbar\":{\"outlinewidth\":0,\"ticks\":\"\"},\"colorscale\":[[0.0,\"#0d0887\"],[0.1111111111111111,\"#46039f\"],[0.2222222222222222,\"#7201a8\"],[0.3333333333333333,\"#9c179e\"],[0.4444444444444444,\"#bd3786\"],[0.5555555555555556,\"#d8576b\"],[0.6666666666666666,\"#ed7953\"],[0.7777777777777778,\"#fb9f3a\"],[0.8888888888888888,\"#fdca26\"],[1.0,\"#f0f921\"]]}],\"choropleth\":[{\"type\":\"choropleth\",\"colorbar\":{\"outlinewidth\":0,\"ticks\":\"\"}}],\"histogram2d\":[{\"type\":\"histogram2d\",\"colorbar\":{\"outlinewidth\":0,\"ticks\":\"\"},\"colorscale\":[[0.0,\"#0d0887\"],[0.1111111111111111,\"#46039f\"],[0.2222222222222222,\"#7201a8\"],[0.3333333333333333,\"#9c179e\"],[0.4444444444444444,\"#bd3786\"],[0.5555555555555556,\"#d8576b\"],[0.6666666666666666,\"#ed7953\"],[0.7777777777777778,\"#fb9f3a\"],[0.8888888888888888,\"#fdca26\"],[1.0,\"#f0f921\"]]}],\"heatmap\":[{\"type\":\"heatmap\",\"colorbar\":{\"outlinewidth\":0,\"ticks\":\"\"},\"colorscale\":[[0.0,\"#0d0887\"],[0.1111111111111111,\"#46039f\"],[0.2222222222222222,\"#7201a8\"],[0.3333333333333333,\"#9c179e\"],[0.4444444444444444,\"#bd3786\"],[0.5555555555555556,\"#d8576b\"],[0.6666666666666666,\"#ed7953\"],[0.7777777777777778,\"#fb9f3a\"],[0.8888888888888888,\"#fdca26\"],[1.0,\"#f0f921\"]]}],\"heatmapgl\":[{\"type\":\"heatmapgl\",\"colorbar\":{\"outlinewidth\":0,\"ticks\":\"\"},\"colorscale\":[[0.0,\"#0d0887\"],[0.1111111111111111,\"#46039f\"],[0.2222222222222222,\"#7201a8\"],[0.3333333333333333,\"#9c179e\"],[0.4444444444444444,\"#bd3786\"],[0.5555555555555556,\"#d8576b\"],[0.6666666666666666,\"#ed7953\"],[0.7777777777777778,\"#fb9f3a\"],[0.8888888888888888,\"#fdca26\"],[1.0,\"#f0f921\"]]}],\"contourcarpet\":[{\"type\":\"contourcarpet\",\"colorbar\":{\"outlinewidth\":0,\"ticks\":\"\"}}],\"contour\":[{\"type\":\"contour\",\"colorbar\":{\"outlinewidth\":0,\"ticks\":\"\"},\"colorscale\":[[0.0,\"#0d0887\"],[0.1111111111111111,\"#46039f\"],[0.2222222222222222,\"#7201a8\"],[0.3333333333333333,\"#9c179e\"],[0.4444444444444444,\"#bd3786\"],[0.5555555555555556,\"#d8576b\"],[0.6666666666666666,\"#ed7953\"],[0.7777777777777778,\"#fb9f3a\"],[0.8888888888888888,\"#fdca26\"],[1.0,\"#f0f921\"]]}],\"surface\":[{\"type\":\"surface\",\"colorbar\":{\"outlinewidth\":0,\"ticks\":\"\"},\"colorscale\":[[0.0,\"#0d0887\"],[0.1111111111111111,\"#46039f\"],[0.2222222222222222,\"#7201a8\"],[0.3333333333333333,\"#9c179e\"],[0.4444444444444444,\"#bd3786\"],[0.5555555555555556,\"#d8576b\"],[0.6666666666666666,\"#ed7953\"],[0.7777777777777778,\"#fb9f3a\"],[0.8888888888888888,\"#fdca26\"],[1.0,\"#f0f921\"]]}],\"mesh3d\":[{\"type\":\"mesh3d\",\"colorbar\":{\"outlinewidth\":0,\"ticks\":\"\"}}],\"scatter\":[{\"fillpattern\":{\"fillmode\":\"overlay\",\"size\":10,\"solidity\":0.2},\"type\":\"scatter\"}],\"parcoords\":[{\"type\":\"parcoords\",\"line\":{\"colorbar\":{\"outlinewidth\":0,\"ticks\":\"\"}}}],\"scatterpolargl\":[{\"type\":\"scatterpolargl\",\"marker\":{\"colorbar\":{\"outlinewidth\":0,\"ticks\":\"\"}}}],\"bar\":[{\"error_x\":{\"color\":\"#2a3f5f\"},\"error_y\":{\"color\":\"#2a3f5f\"},\"marker\":{\"line\":{\"color\":\"#E5ECF6\",\"width\":0.5},\"pattern\":{\"fillmode\":\"overlay\",\"size\":10,\"solidity\":0.2}},\"type\":\"bar\"}],\"scattergeo\":[{\"type\":\"scattergeo\",\"marker\":{\"colorbar\":{\"outlinewidth\":0,\"ticks\":\"\"}}}],\"scatterpolar\":[{\"type\":\"scatterpolar\",\"marker\":{\"colorbar\":{\"outlinewidth\":0,\"ticks\":\"\"}}}],\"histogram\":[{\"marker\":{\"pattern\":{\"fillmode\":\"overlay\",\"size\":10,\"solidity\":0.2}},\"type\":\"histogram\"}],\"scattergl\":[{\"type\":\"scattergl\",\"marker\":{\"colorbar\":{\"outlinewidth\":0,\"ticks\":\"\"}}}],\"scatter3d\":[{\"type\":\"scatter3d\",\"line\":{\"colorbar\":{\"outlinewidth\":0,\"ticks\":\"\"}},\"marker\":{\"colorbar\":{\"outlinewidth\":0,\"ticks\":\"\"}}}],\"scattermapbox\":[{\"type\":\"scattermapbox\",\"marker\":{\"colorbar\":{\"outlinewidth\":0,\"ticks\":\"\"}}}],\"scatterternary\":[{\"type\":\"scatterternary\",\"marker\":{\"colorbar\":{\"outlinewidth\":0,\"ticks\":\"\"}}}],\"scattercarpet\":[{\"type\":\"scattercarpet\",\"marker\":{\"colorbar\":{\"outlinewidth\":0,\"ticks\":\"\"}}}],\"carpet\":[{\"aaxis\":{\"endlinecolor\":\"#2a3f5f\",\"gridcolor\":\"white\",\"linecolor\":\"white\",\"minorgridcolor\":\"white\",\"startlinecolor\":\"#2a3f5f\"},\"baxis\":{\"endlinecolor\":\"#2a3f5f\",\"gridcolor\":\"white\",\"linecolor\":\"white\",\"minorgridcolor\":\"white\",\"startlinecolor\":\"#2a3f5f\"},\"type\":\"carpet\"}],\"table\":[{\"cells\":{\"fill\":{\"color\":\"#EBF0F8\"},\"line\":{\"color\":\"white\"}},\"header\":{\"fill\":{\"color\":\"#C8D4E3\"},\"line\":{\"color\":\"white\"}},\"type\":\"table\"}],\"barpolar\":[{\"marker\":{\"line\":{\"color\":\"#E5ECF6\",\"width\":0.5},\"pattern\":{\"fillmode\":\"overlay\",\"size\":10,\"solidity\":0.2}},\"type\":\"barpolar\"}],\"pie\":[{\"automargin\":true,\"type\":\"pie\"}]},\"layout\":{\"autotypenumbers\":\"strict\",\"colorway\":[\"#636efa\",\"#EF553B\",\"#00cc96\",\"#ab63fa\",\"#FFA15A\",\"#19d3f3\",\"#FF6692\",\"#B6E880\",\"#FF97FF\",\"#FECB52\"],\"font\":{\"color\":\"#2a3f5f\"},\"hovermode\":\"closest\",\"hoverlabel\":{\"align\":\"left\"},\"paper_bgcolor\":\"white\",\"plot_bgcolor\":\"#E5ECF6\",\"polar\":{\"bgcolor\":\"#E5ECF6\",\"angularaxis\":{\"gridcolor\":\"white\",\"linecolor\":\"white\",\"ticks\":\"\"},\"radialaxis\":{\"gridcolor\":\"white\",\"linecolor\":\"white\",\"ticks\":\"\"}},\"ternary\":{\"bgcolor\":\"#E5ECF6\",\"aaxis\":{\"gridcolor\":\"white\",\"linecolor\":\"white\",\"ticks\":\"\"},\"baxis\":{\"gridcolor\":\"white\",\"linecolor\":\"white\",\"ticks\":\"\"},\"caxis\":{\"gridcolor\":\"white\",\"linecolor\":\"white\",\"ticks\":\"\"}},\"coloraxis\":{\"colorbar\":{\"outlinewidth\":0,\"ticks\":\"\"}},\"colorscale\":{\"sequential\":[[0.0,\"#0d0887\"],[0.1111111111111111,\"#46039f\"],[0.2222222222222222,\"#7201a8\"],[0.3333333333333333,\"#9c179e\"],[0.4444444444444444,\"#bd3786\"],[0.5555555555555556,\"#d8576b\"],[0.6666666666666666,\"#ed7953\"],[0.7777777777777778,\"#fb9f3a\"],[0.8888888888888888,\"#fdca26\"],[1.0,\"#f0f921\"]],\"sequentialminus\":[[0.0,\"#0d0887\"],[0.1111111111111111,\"#46039f\"],[0.2222222222222222,\"#7201a8\"],[0.3333333333333333,\"#9c179e\"],[0.4444444444444444,\"#bd3786\"],[0.5555555555555556,\"#d8576b\"],[0.6666666666666666,\"#ed7953\"],[0.7777777777777778,\"#fb9f3a\"],[0.8888888888888888,\"#fdca26\"],[1.0,\"#f0f921\"]],\"diverging\":[[0,\"#8e0152\"],[0.1,\"#c51b7d\"],[0.2,\"#de77ae\"],[0.3,\"#f1b6da\"],[0.4,\"#fde0ef\"],[0.5,\"#f7f7f7\"],[0.6,\"#e6f5d0\"],[0.7,\"#b8e186\"],[0.8,\"#7fbc41\"],[0.9,\"#4d9221\"],[1,\"#276419\"]]},\"xaxis\":{\"gridcolor\":\"white\",\"linecolor\":\"white\",\"ticks\":\"\",\"title\":{\"standoff\":15},\"zerolinecolor\":\"white\",\"automargin\":true,\"zerolinewidth\":2},\"yaxis\":{\"gridcolor\":\"white\",\"linecolor\":\"white\",\"ticks\":\"\",\"title\":{\"standoff\":15},\"zerolinecolor\":\"white\",\"automargin\":true,\"zerolinewidth\":2},\"scene\":{\"xaxis\":{\"backgroundcolor\":\"#E5ECF6\",\"gridcolor\":\"white\",\"linecolor\":\"white\",\"showbackground\":true,\"ticks\":\"\",\"zerolinecolor\":\"white\",\"gridwidth\":2},\"yaxis\":{\"backgroundcolor\":\"#E5ECF6\",\"gridcolor\":\"white\",\"linecolor\":\"white\",\"showbackground\":true,\"ticks\":\"\",\"zerolinecolor\":\"white\",\"gridwidth\":2},\"zaxis\":{\"backgroundcolor\":\"#E5ECF6\",\"gridcolor\":\"white\",\"linecolor\":\"white\",\"showbackground\":true,\"ticks\":\"\",\"zerolinecolor\":\"white\",\"gridwidth\":2}},\"shapedefaults\":{\"line\":{\"color\":\"#2a3f5f\"}},\"annotationdefaults\":{\"arrowcolor\":\"#2a3f5f\",\"arrowhead\":0,\"arrowwidth\":1},\"geo\":{\"bgcolor\":\"white\",\"landcolor\":\"#E5ECF6\",\"subunitcolor\":\"white\",\"showland\":true,\"showlakes\":true,\"lakecolor\":\"white\"},\"title\":{\"x\":0.05},\"mapbox\":{\"style\":\"light\"}}},\"xaxis\":{\"anchor\":\"y\",\"domain\":[0.0,0.49],\"title\":{\"text\":\"Age\"}},\"yaxis\":{\"anchor\":\"x\",\"domain\":[0.0,1.0],\"title\":{\"text\":\"Annual Income\"}},\"xaxis2\":{\"anchor\":\"y2\",\"domain\":[0.51,1.0],\"matches\":\"x\",\"title\":{\"text\":\"Age\"}},\"yaxis2\":{\"anchor\":\"x2\",\"domain\":[0.0,1.0],\"matches\":\"y\",\"showticklabels\":false},\"annotations\":[{\"font\":{},\"showarrow\":false,\"text\":\"label=1\",\"x\":0.245,\"xanchor\":\"center\",\"xref\":\"paper\",\"y\":1.0,\"yanchor\":\"bottom\",\"yref\":\"paper\"},{\"font\":{},\"showarrow\":false,\"text\":\"label=0\",\"x\":0.755,\"xanchor\":\"center\",\"xref\":\"paper\",\"y\":1.0,\"yanchor\":\"bottom\",\"yref\":\"paper\"}],\"legend\":{\"title\":{\"text\":\"GENDER\"},\"tracegroupgap\":0},\"title\":{\"text\":\"Age Vs Annual Income\",\"font\":{\"size\":16},\"x\":0.5,\"y\":0.9,\"xanchor\":\"center\",\"yanchor\":\"top\"},\"height\":500,\"width\":1000},                        {\"responsive\": true}                    ).then(function(){\n",
              "                            \n",
              "var gd = document.getElementById('c1b410e7-60a0-4ef8-9e01-2a8cc4c27132');\n",
              "var x = new MutationObserver(function (mutations, observer) {{\n",
              "        var display = window.getComputedStyle(gd).display;\n",
              "        if (!display || display === 'none') {{\n",
              "            console.log([gd, 'removed!']);\n",
              "            Plotly.purge(gd);\n",
              "            observer.disconnect();\n",
              "        }}\n",
              "}});\n",
              "\n",
              "// Listen for the removal of the full notebook cells\n",
              "var notebookContainer = gd.closest('#notebook-container');\n",
              "if (notebookContainer) {{\n",
              "    x.observe(notebookContainer, {childList: true});\n",
              "}}\n",
              "\n",
              "// Listen for the clearing of the current output cell\n",
              "var outputEl = gd.closest('.output');\n",
              "if (outputEl) {{\n",
              "    x.observe(outputEl, {childList: true});\n",
              "}}\n",
              "\n",
              "                        })                };                            </script>        </div>\n",
              "</body>\n",
              "</html>"
            ]
          },
          "metadata": {}
        }
      ]
    },
    {
      "cell_type": "markdown",
      "source": [
        "**Observations:**\n",
        "\n",
        "*  This plot shows annual income of customers based on their age.\n",
        "*  From this plot, we can say that majority of customers have bad credit in the age group of 40 to 60 years."
      ],
      "metadata": {
        "id": "sgG3e7zfeaFR"
      }
    },
    {
      "cell_type": "markdown",
      "source": [
        "# **Data cleaning**"
      ],
      "metadata": {
        "id": "Veo8oHHNRnN4"
      }
    },
    {
      "cell_type": "markdown",
      "source": [
        "## Dealing with Categorical data"
      ],
      "metadata": {
        "id": "tviPkD0A5b2V"
      }
    },
    {
      "cell_type": "markdown",
      "source": [
        "*  All the categorical data in the dataframe needs to be encoded before training for any machine learning model.\n",
        "*  There are various encoding techniques available like\n",
        "     *  Label encoding\n",
        "     *  Ordinal encoding\n",
        "     *  One-hot encoding\n",
        "     *  Dummy encoding\n",
        "*  Here, I am using map function to encode the categorical data."
      ],
      "metadata": {
        "id": "XodY6WENS7qO"
      }
    },
    {
      "cell_type": "code",
      "source": [
        "df['GENDER'] = df['GENDER'].map({'M':0, 'F':1})\n",
        "\n",
        "df['Car_Owner'] = df['Car_Owner'].map({'Y':1, 'N':0})\n",
        "\n",
        "df['Propert_Owner'] = df['Propert_Owner'].map({'Y':1, 'N':0})\n",
        "\n",
        "df['Type_Income'] = df['Type_Income'].map({'Pensioner':0, 'Commercial associate':1, 'Working':2, 'State servant':3})\n",
        "\n",
        "df['EDUCATION'] = df['EDUCATION'].map({'Lower secondary':0, 'Secondary / secondary special':1,\n",
        "                                       'Incomplete higher':2, 'Academic degree':3, 'Higher education':4})\n",
        "\n",
        "df['Marital_status'] = df['Marital_status'].map({'Single / not married':0, 'Married':1, 'Civil marriage':2,\n",
        "                                                 'Separated':3, 'Widow':4})\n",
        "\n",
        "df['Housing_type'] = df['Housing_type'].map({'House / apartment':0, 'With parents':1, 'Rented apartment':2,\n",
        "                                             'Municipal apartment':3, 'Co-op apartment':4, 'Office apartment':5})\n",
        "\n",
        "df['Type_Occupation'] = df['Type_Occupation'].map({'Core staff':0,'Cooking staff':1, 'Laborers':2, 'Sales staff':3,\n",
        "       'Accountants':4, 'Managers':5, 'Cleaning staff':6, 'Drivers':7,\n",
        "       'Low-skill Laborers':8, 'High skill tech staff':9, 'IT staff':10,\n",
        "       'Waiters/barmen staff':11, 'Security staff':12, 'Medicine staff':13,\n",
        "       'Private service staff':14, 'HR staff':15, 'Secretaries':16,\n",
        "       'Realty agents':17})"
      ],
      "metadata": {
        "id": "6Ix4krl0oYiZ"
      },
      "execution_count": null,
      "outputs": []
    },
    {
      "cell_type": "code",
      "source": [
        "df.head()"
      ],
      "metadata": {
        "id": "cZU4n4l9UfAb"
      },
      "execution_count": null,
      "outputs": []
    },
    {
      "cell_type": "markdown",
      "source": [
        "*  We can see that after encoding, all the categorical data have been converted to numerical data."
      ],
      "metadata": {
        "id": "8DWgpO68UhHn"
      }
    },
    {
      "cell_type": "markdown",
      "source": [
        "## Dealing with missing values"
      ],
      "metadata": {
        "id": "us8z_JYZ5s0j"
      }
    },
    {
      "cell_type": "markdown",
      "source": [
        "*  One of the important steps in Data cleaning is to deal with the missing values or null values."
      ],
      "metadata": {
        "id": "WDnk0K8FUuP5"
      }
    },
    {
      "cell_type": "code",
      "source": [
        "df.isnull().sum()           # isnull().sum() gives the count of null values in each column"
      ],
      "metadata": {
        "colab": {
          "base_uri": "https://localhost:8080/"
        },
        "id": "nSXGLY8mnHvD",
        "outputId": "0b6b7d12-aab0-4e35-e023-b444a1e21f6f"
      },
      "execution_count": null,
      "outputs": [
        {
          "output_type": "execute_result",
          "data": {
            "text/plain": [
              "Ind_ID               0\n",
              "GENDER               7\n",
              "Car_Owner            0\n",
              "Propert_Owner        0\n",
              "CHILDREN             0\n",
              "Annual_income       23\n",
              "Type_Income          0\n",
              "EDUCATION            0\n",
              "Marital_status       0\n",
              "Housing_type         0\n",
              "Age                 22\n",
              "Employed_days        0\n",
              "Mobile_phone         0\n",
              "Work_Phone           0\n",
              "Phone                0\n",
              "EMAIL_ID             0\n",
              "Type_Occupation    488\n",
              "Family_Members       0\n",
              "label                0\n",
              "dtype: int64"
            ]
          },
          "metadata": {},
          "execution_count": 24
        }
      ]
    },
    {
      "cell_type": "markdown",
      "source": [
        "*  We can see that there are\n",
        "    *  7 null values in GENDER\n",
        "    *  23 null values in Annual_income\n",
        "    *  22 null values in Birthday_count\n",
        "    *  488 null values in Type_Occupation"
      ],
      "metadata": {
        "id": "iYdt1-i_Vu-2"
      }
    },
    {
      "cell_type": "code",
      "source": [
        "import missingno as msno"
      ],
      "metadata": {
        "id": "F6uxjV3nnHyJ"
      },
      "execution_count": null,
      "outputs": []
    },
    {
      "cell_type": "code",
      "source": [
        "# checking for the missing values through a bar plot\n",
        "\n",
        "plt.figure(figsize = (5,5))\n",
        "msno.bar(df)\n",
        "plt.show()"
      ],
      "metadata": {
        "colab": {
          "base_uri": "https://localhost:8080/",
          "height": 562
        },
        "id": "vHzKkSYznH1B",
        "outputId": "21aaa613-7d78-459e-cb04-ca7679cc2f6e"
      },
      "execution_count": null,
      "outputs": [
        {
          "output_type": "display_data",
          "data": {
            "text/plain": [
              "<Figure size 2500x1000 with 3 Axes>"
            ],
            "image/png": "[encoded data removed]"
          },
          "metadata": {}
        }
      ]
    },
    {
      "cell_type": "code",
      "source": [
        "# checking whether there is any pattern for the missing values\n",
        "\n",
        "msno.matrix(df)"
      ],
      "metadata": {
        "colab": {
          "base_uri": "https://localhost:8080/",
          "height": 555
        },
        "id": "KWZ51-PPnH4q",
        "outputId": "e4430a63-d07b-4f1e-cd6d-ccb80ac7ca62"
      },
      "execution_count": null,
      "outputs": [
        {
          "output_type": "execute_result",
          "data": {
            "text/plain": [
              "<Axes: >"
            ]
          },
          "metadata": {},
          "execution_count": 27
        },
        {
          "output_type": "display_data",
          "data": {
            "text/plain": [
              "<Figure size 2500x1000 with 2 Axes>"
            ],
            "image/png": "[encoded data removed]"
          },
          "metadata": {}
        }
      ]
    },
    {
      "cell_type": "markdown",
      "source": [
        "*  Since there is no particular pattern for the missing values, we can conclude that the values are missing completely at random **(MCAR)**."
      ],
      "metadata": {
        "id": "YnTYb0DT0wdm"
      }
    },
    {
      "cell_type": "code",
      "source": [
        "df.drop(df[df['GENDER'].isnull()].index, axis = 0, inplace = True)"
      ],
      "metadata": {
        "id": "_R6RTq8OnH73"
      },
      "execution_count": null,
      "outputs": []
    },
    {
      "cell_type": "markdown",
      "source": [
        "*  In the GENDER column, since there are only 7 null values out of 1548 records, it can either be imputed or the records with null values can be deleted as it doesn't affect the overall data.\n",
        "*  Therfore, I am deleting the records with null values in GENDER column."
      ],
      "metadata": {
        "id": "3RsSb9crXJjv"
      }
    },
    {
      "cell_type": "markdown",
      "source": [
        "* There are 2 categories of imputation techniques.\n",
        "   *  Simple Imputation:\n",
        "   \n",
        "         These are the basic imputation techniques where the missing values can be replaced by any one of the following values:\n",
        "           * Mean\n",
        "           * Median\n",
        "           * Mode\n",
        "   * Advanced Imputation:\n",
        "\n",
        "        The advanced imputation techniques includes\n",
        "           * KNN imputation\n",
        "           * MICE imputation"
      ],
      "metadata": {
        "id": "KaImfQ_M1nCp"
      }
    },
    {
      "cell_type": "code",
      "source": [
        "# using the Mean imputation technique to impute the null values in Annual_income\n",
        "\n",
        "from sklearn.impute import SimpleImputer\n",
        "\n",
        "mean_imputer = SimpleImputer(strategy = 'mean')\n",
        "\n",
        "df['Annual_income'] = mean_imputer.fit_transform(df['Annual_income'].values.reshape(-1,1))"
      ],
      "metadata": {
        "id": "2tBGar0px5J8"
      },
      "execution_count": null,
      "outputs": []
    },
    {
      "cell_type": "code",
      "source": [
        "!pip install fancyimpute"
      ],
      "metadata": {
        "id": "UotAu2CtpD48",
        "colab": {
          "base_uri": "https://localhost:8080/"
        },
        "outputId": "be5a9ea7-253b-4653-e970-b86d7137bf4d"
      },
      "execution_count": null,
      "outputs": [
        {
          "output_type": "stream",
          "name": "stdout",
          "text": [
            "Collecting fancyimpute\n",
            "  Downloading fancyimpute-0.7.0.tar.gz (25 kB)\n",
            "  Preparing metadata (setup.py) ... \u001b[?25l\u001b[?25hdone\n",
            "Collecting knnimpute>=0.1.0 (from fancyimpute)\n",
            "  Downloading knnimpute-0.1.0.tar.gz (8.3 kB)\n",
            "  Preparing metadata (setup.py) ... \u001b[?25l\u001b[?25hdone\n",
            "Requirement already satisfied: scikit-learn>=0.24.2 in /usr/local/lib/python3.10/dist-packages (from fancyimpute) (1.2.2)\n",
            "Requirement already satisfied: cvxpy in /usr/local/lib/python3.10/dist-packages (from fancyimpute) (1.3.2)\n",
            "Requirement already satisfied: cvxopt in /usr/local/lib/python3.10/dist-packages (from fancyimpute) (1.3.2)\n",
            "Requirement already satisfied: pytest in /usr/local/lib/python3.10/dist-packages (from fancyimpute) (7.4.3)\n",
            "Collecting nose (from fancyimpute)\n",
            "  Downloading nose-1.3.7-py3-none-any.whl (154 kB)\n",
            "\u001b[2K     \u001b[90m━━━━━━━━━━━━━━━━━━━━━━━━━━━━━━━━━━━━━━━━\u001b[0m \u001b[32m154.7/154.7 kB\u001b[0m \u001b[31m4.7 MB/s\u001b[0m eta \u001b[36m0:00:00\u001b[0m\n",
            "\u001b[?25hRequirement already satisfied: six in /usr/local/lib/python3.10/dist-packages (from knnimpute>=0.1.0->fancyimpute) (1.16.0)\n",
            "Requirement already satisfied: numpy>=1.10 in /usr/local/lib/python3.10/dist-packages (from knnimpute>=0.1.0->fancyimpute) (1.23.5)\n",
            "Requirement already satisfied: scipy>=1.3.2 in /usr/local/lib/python3.10/dist-packages (from scikit-learn>=0.24.2->fancyimpute) (1.11.3)\n",
            "Requirement already satisfied: joblib>=1.1.1 in /usr/local/lib/python3.10/dist-packages (from scikit-learn>=0.24.2->fancyimpute) (1.3.2)\n",
            "Requirement already satisfied: threadpoolctl>=2.0.0 in /usr/local/lib/python3.10/dist-packages (from scikit-learn>=0.24.2->fancyimpute) (3.2.0)\n",
            "Requirement already satisfied: osqp>=0.4.1 in /usr/local/lib/python3.10/dist-packages (from cvxpy->fancyimpute) (0.6.2.post8)\n",
            "Requirement already satisfied: ecos>=2 in /usr/local/lib/python3.10/dist-packages (from cvxpy->fancyimpute) (2.0.12)\n",
            "Requirement already satisfied: scs>=1.1.6 in /usr/local/lib/python3.10/dist-packages (from cvxpy->fancyimpute) (3.2.4)\n",
            "Requirement already satisfied: setuptools>65.5.1 in /usr/local/lib/python3.10/dist-packages (from cvxpy->fancyimpute) (67.7.2)\n",
            "Requirement already satisfied: iniconfig in /usr/local/lib/python3.10/dist-packages (from pytest->fancyimpute) (2.0.0)\n",
            "Requirement already satisfied: packaging in /usr/local/lib/python3.10/dist-packages (from pytest->fancyimpute) (23.2)\n",
            "Requirement already satisfied: pluggy<2.0,>=0.12 in /usr/local/lib/python3.10/dist-packages (from pytest->fancyimpute) (1.3.0)\n",
            "Requirement already satisfied: exceptiongroup>=1.0.0rc8 in /usr/local/lib/python3.10/dist-packages (from pytest->fancyimpute) (1.1.3)\n",
            "Requirement already satisfied: tomli>=1.0.0 in /usr/local/lib/python3.10/dist-packages (from pytest->fancyimpute) (2.0.1)\n",
            "Requirement already satisfied: qdldl in /usr/local/lib/python3.10/dist-packages (from osqp>=0.4.1->cvxpy->fancyimpute) (0.1.7.post0)\n",
            "Building wheels for collected packages: fancyimpute, knnimpute\n",
            "  Building wheel for fancyimpute (setup.py) ... \u001b[?25l\u001b[?25hdone\n",
            "  Created wheel for fancyimpute: filename=fancyimpute-0.7.0-py3-none-any.whl size=29879 sha256=63c19baec74074e0b8940d5127657f3a66b2c821925fd8a3f56cd0313ff598fb\n",
            "  Stored in directory: /root/.cache/pip/wheels/7b/0c/d3/ee82d1fbdcc0858d96434af108608d01703505d453720c84ed\n",
            "  Building wheel for knnimpute (setup.py) ... \u001b[?25l\u001b[?25hdone\n",
            "  Created wheel for knnimpute: filename=knnimpute-0.1.0-py3-none-any.whl size=11329 sha256=ab829a274a24127e00f029b61b829bee73dba10fef1ae5c7be1b51374ed321c1\n",
            "  Stored in directory: /root/.cache/pip/wheels/46/06/a5/45a724630562413c374e29c08732411d496092408b3a7bf754\n",
            "Successfully built fancyimpute knnimpute\n",
            "Installing collected packages: nose, knnimpute, fancyimpute\n",
            "Successfully installed fancyimpute-0.7.0 knnimpute-0.1.0 nose-1.3.7\n"
          ]
        }
      ]
    },
    {
      "cell_type": "code",
      "source": [
        "# using KNN imputation to impute the null values in Type_Occupation and Age columns\n",
        "\n",
        "from fancyimpute import KNN\n",
        "\n",
        "knn_imputer = KNN()\n",
        "\n",
        "#df['Type_Occupation'] = knn_imputer.fit_transform(df['Type_Occupation'].values.reshape(-1,1))\n",
        "df['Age'] = knn_imputer.fit_transform(df['Age'].values.reshape(-1,1))"
      ],
      "metadata": {
        "id": "E2d_v5s3nIEf",
        "colab": {
          "base_uri": "https://localhost:8080/"
        },
        "outputId": "01cac55c-4e84-4f92-c2fd-ca373e297b1a"
      },
      "execution_count": null,
      "outputs": [
        {
          "output_type": "stream",
          "name": "stdout",
          "text": [
            "Imputing row 1/1541 with 0 missing, elapsed time: 0.368\n",
            "Imputing row 101/1541 with 0 missing, elapsed time: 0.368\n",
            "Imputing row 201/1541 with 0 missing, elapsed time: 0.377\n",
            "Imputing row 301/1541 with 0 missing, elapsed time: 0.379\n",
            "Imputing row 401/1541 with 0 missing, elapsed time: 0.386\n",
            "Imputing row 501/1541 with 0 missing, elapsed time: 0.387\n",
            "Imputing row 601/1541 with 0 missing, elapsed time: 0.388\n",
            "Imputing row 701/1541 with 0 missing, elapsed time: 0.389\n",
            "Imputing row 801/1541 with 0 missing, elapsed time: 0.390\n",
            "Imputing row 901/1541 with 0 missing, elapsed time: 0.391\n",
            "Imputing row 1001/1541 with 0 missing, elapsed time: 0.393\n",
            "Imputing row 1101/1541 with 0 missing, elapsed time: 0.394\n",
            "Imputing row 1201/1541 with 0 missing, elapsed time: 0.395\n",
            "Imputing row 1301/1541 with 0 missing, elapsed time: 0.396\n",
            "Imputing row 1401/1541 with 0 missing, elapsed time: 0.397\n",
            "Imputing row 1501/1541 with 0 missing, elapsed time: 0.398\n",
            "[KNN] Warning: 22/1541 still missing after imputation, replacing with 0\n"
          ]
        }
      ]
    },
    {
      "cell_type": "code",
      "source": [
        "df.isnull().sum()"
      ],
      "metadata": {
        "colab": {
          "base_uri": "https://localhost:8080/"
        },
        "id": "cJ-qwTf_nH_I",
        "outputId": "fa1cc5b6-7e7e-4d24-c14d-c25d0ac3d6f1"
      },
      "execution_count": null,
      "outputs": [
        {
          "output_type": "execute_result",
          "data": {
            "text/plain": [
              "Ind_ID             0\n",
              "GENDER             0\n",
              "Car_Owner          0\n",
              "Propert_Owner      0\n",
              "CHILDREN           0\n",
              "Annual_income      0\n",
              "Type_Income        0\n",
              "EDUCATION          0\n",
              "Marital_status     0\n",
              "Housing_type       0\n",
              "Age                0\n",
              "Employed_days      0\n",
              "Mobile_phone       0\n",
              "Work_Phone         0\n",
              "Phone              0\n",
              "EMAIL_ID           0\n",
              "Type_Occupation    0\n",
              "Family_Members     0\n",
              "label              0\n",
              "dtype: int64"
            ]
          },
          "metadata": {},
          "execution_count": 30
        }
      ]
    },
    {
      "cell_type": "markdown",
      "source": [
        "*  After all the imputation we can see that there are no null values in tha dataframe."
      ],
      "metadata": {
        "id": "kBdCLP7uY15s"
      }
    },
    {
      "cell_type": "markdown",
      "source": [
        "## Retrieving the cleaned data"
      ],
      "metadata": {
        "id": "qMljiLVv6LaK"
      }
    },
    {
      "cell_type": "markdown",
      "source": [
        "*  Before retrieving the cleaned data, the encoded categorical data needs to be decoded to original data. Hence I am using the map function the decode the data."
      ],
      "metadata": {
        "id": "sV6uyN5sZFg_"
      }
    },
    {
      "cell_type": "code",
      "source": [
        "cleaned_df = df.copy()\n",
        "\n",
        "cleaned_df['GENDER'] = cleaned_df['GENDER'].map({0:'M', 1:'F'})\n",
        "\n",
        "cleaned_df['Car_Owner'] = cleaned_df['Car_Owner'].map({1:'Y', 0:'N'})\n",
        "\n",
        "cleaned_df['Propert_Owner'] = cleaned_df['Propert_Owner'].map({1:'Y', 0:'N'})\n",
        "\n",
        "cleaned_df['Type_Income'] = cleaned_df['Type_Income'].map({0:'Pensioner', 1:'Commercial associate', 2:'Working', 3:'State servant'})\n",
        "\n",
        "cleaned_df['EDUCATION'] = cleaned_df['EDUCATION'].map({0:'Lower secondary', 1:'Secondary / secondary special',\n",
        "                                       2:'Incomplete higher', 3:'Academic degree', 4:'Higher education'})\n",
        "\n",
        "cleaned_df['Marital_status'] = cleaned_df['Marital_status'].map({0:'Single / not married', 1:'Married', 2:'Civil marriage',\n",
        "                                                 3:'Separated', 4:'Widow'})\n",
        "\n",
        "cleaned_df['Housing_type'] = cleaned_df['Housing_type'].map({0:'House / apartment', 1:'With parents', 2:'Rented apartment',\n",
        "                                             3:'Municipal apartment', 4:'Co-op apartment', 5:'Office apartment'})\n",
        "\n",
        "cleaned_df['Type_Occupation'] = cleaned_df['Type_Occupation'].map({0:'Core staff',1:'Cooking staff', 2:'Laborers', 3:'Sales staff',\n",
        "       4:'Accountants', 5:'Managers', 6:'Cleaning staff', 7:'Drivers',\n",
        "       8:'Low-skill Laborers', 9:'High skill tech staff', 10:'IT staff',\n",
        "       11:'Waiters/barmen staff', 12:'Security staff', 13:'Medicine staff',\n",
        "       14:'Private service staff', 15:'HR staff', 16:'Secretaries',\n",
        "       17:'Realty agents'})"
      ],
      "metadata": {
        "id": "_1y6U-g3pMdP"
      },
      "execution_count": null,
      "outputs": []
    },
    {
      "cell_type": "markdown",
      "source": [
        "*  Here, I am getting the cleaned dataset to perform the SQL part of the project."
      ],
      "metadata": {
        "id": "3xnBLhKcZ14s"
      }
    },
    {
      "cell_type": "markdown",
      "source": [
        "## Dealing with outliers"
      ],
      "metadata": {
        "id": "1I2cfl3G6Fke"
      }
    },
    {
      "cell_type": "markdown",
      "source": [
        "*  Outliers are the values in dataset which are present away from the trend of other existing values.\n",
        "*  The presence of outliers leads to biasing the database.\n",
        "*  Therefore, it is important to check whether there are any outliers in the dataset before training the dataset for ML models.\n",
        "* Annual_income is the cotinuous data present in the dataset which needs to be checked for outliers."
      ],
      "metadata": {
        "id": "d59ZOdolaJNz"
      }
    },
    {
      "cell_type": "code",
      "source": [
        "fig = px.box(df, y = 'Annual_income', width = 500, height = 500,\n",
        "             title = 'Distribution of Annual Income')\n",
        "fig.show()"
      ],
      "metadata": {
        "colab": {
          "base_uri": "https://localhost:8080/",
          "height": 517
        },
        "id": "IMa2BvM7pMPL",
        "outputId": "cd844181-4a7a-492f-c6ce-a2744b7c90ff"
      },
      "execution_count": null,
      "outputs": [
        {
          "output_type": "display_data",
          "data": {
            "text/html": [
              "<html>\n",
              "<head><meta charset=\"utf-8\" /></head>\n",
              "<body>\n",
              "    <div>            <script src=\"https://cdnjs.cloudflare.com/ajax/libs/mathjax/2.7.5/MathJax.js?config=TeX-AMS-MML_SVG\"></script><script type=\"text/javascript\">if (window.MathJax && window.MathJax.Hub && window.MathJax.Hub.Config) {window.MathJax.Hub.Config({SVG: {font: \"STIX-Web\"}});}</script>                <script type=\"text/javascript\">window.PlotlyConfig = {MathJaxConfig: 'local'};</script>\n",
              "        <script charset=\"utf-8\" src=\"https://cdn.plot.ly/plotly-2.24.1.min.js\"></script>                <div id=\"a9ccac72-56cd-4ae9-8e37-2cd65c714ee9\" class=\"plotly-graph-div\" style=\"height:500px; width:500px;\"></div>            <script type=\"text/javascript\">                                    window.PLOTLYENV=window.PLOTLYENV || {};                                    if (document.getElementById(\"a9ccac72-56cd-4ae9-8e37-2cd65c714ee9\")) {                    Plotly.newPlot(                        \"a9ccac72-56cd-4ae9-8e37-2cd65c714ee9\",                        [{\"alignmentgroup\":\"True\",\"hovertemplate\":\"Annual_income=%{y}\\u003cextra\\u003e\\u003c\\u002fextra\\u003e\",\"legendgroup\":\"\",\"marker\":{\"color\":\"#636efa\"},\"name\":\"\",\"notched\":false,\"offsetgroup\":\"\",\"orientation\":\"v\",\"showlegend\":false,\"x0\":\" \",\"xaxis\":\"x\",\"y\":[180000.0,315000.0,315000.0,190796.75395256918,315000.0,315000.0,180000.0,450000.0,450000.0,450000.0,90000.0,190796.75395256918,90000.0,472500.0,270000.0,270000.0,126000.0,126000.0,90000.0,202500.0,202500.0,157500.0,112500.0,180000.0,540000.0,112500.0,190796.75395256918,540000.0,90000.0,112500.0,135000.0,135000.0,180000.0,112500.0,292500.0,76500.0,215100.0,450000.0,270000.0,225000.0,225000.0,225000.0,157500.0,157500.0,67500.0,180000.0,180000.0,157500.0,157500.0,171000.0,135000.0,135000.0,103500.0,103500.0,225000.0,225000.0,225000.0,180000.0,157500.0,157500.0,180000.0,180000.0,99000.0,190796.75395256918,99000.0,99000.0,391500.0,391500.0,391500.0,65250.0,72900.0,225000.0,67500.0,180000.0,190796.75395256918,202500.0,157500.0,202500.0,270000.0,135000.0,256500.0,256500.0,157500.0,225000.0,180000.0,180000.0,202500.0,202500.0,202500.0,315000.0,225000.0,126000.0,675000.0,135000.0,135000.0,247500.0,103500.0,85500.0,135000.0,135000.0,180000.0,121500.0,180000.0,225000.0,190796.75395256918,135000.0,225000.0,67500.0,135000.0,130500.0,130500.0,202500.0,202500.0,202500.0,202500.0,202500.0,126000.0,126000.0,180000.0,180000.0,180000.0,180000.0,190796.75395256918,211500.0,157500.0,81000.0,81000.0,112500.0,112500.0,112500.0,112500.0,112500.0,72000.0,202500.0,148500.0,135000.0,135000.0,270000.0,135000.0,135000.0,112500.0,112500.0,112500.0,135000.0,135000.0,195750.0,585000.0,585000.0,190796.75395256918,450000.0,450000.0,112500.0,112500.0,67500.0,67500.0,67500.0,216000.0,306000.0,90000.0,225000.0,108000.0,135000.0,135000.0,108000.0,108000.0,450000.0,450000.0,315000.0,157500.0,157500.0,81000.0,225000.0,180000.0,135000.0,135000.0,63000.0,135000.0,112500.0,112500.0,45000.0,190796.75395256918,202500.0,180000.0,256500.0,90000.0,180000.0,90000.0,135000.0,126000.0,126000.0,337500.0,90000.0,131400.0,180000.0,247500.0,121500.0,117000.0,90000.0,445500.0,157500.0,112500.0,180000.0,157500.0,117000.0,234000.0,1575000.0,247500.0,144000.0,180000.0,190796.75395256918,216000.0,90000.0,171000.0,180000.0,225000.0,225000.0,270000.0,67050.0,270000.0,73350.0,112500.0,144000.0,225000.0,112500.0,292500.0,135000.0,157500.0,1575000.0,157500.0,157500.0,135000.0,112500.0,202500.0,193500.0,108000.0,900000.0,292500.0,270000.0,270000.0,292500.0,292500.0,157500.0,76500.0,157500.0,180000.0,135000.0,112500.0,360000.0,157500.0,225000.0,112500.0,121500.0,202500.0,112500.0,135000.0,103500.0,157500.0,337500.0,180000.0,112500.0,157500.0,360000.0,135000.0,337500.0,135000.0,360000.0,190796.75395256918,450000.0,270000.0,270000.0,270000.0,450000.0,157500.0,112500.0,292500.0,112500.0,247500.0,157500.0,225000.0,94500.0,81000.0,180000.0,198000.0,180000.0,315000.0,67500.0,180000.0,202500.0,112500.0,306000.0,90000.0,270000.0,270000.0,234000.0,171000.0,225000.0,94500.0,117000.0,180000.0,202500.0,54000.0,112500.0,85500.0,135000.0,166500.0,157500.0,247500.0,180000.0,72000.0,202500.0,180000.0,270000.0,202500.0,360000.0,270000.0,270000.0,112500.0,190796.75395256918,157500.0,202500.0,99000.0,162000.0,225000.0,225000.0,72000.0,135000.0,315000.0,167400.0,180000.0,135000.0,99000.0,225000.0,153000.0,423000.0,90000.0,360000.0,247500.0,225000.0,67500.0,112500.0,157500.0,90000.0,90000.0,225000.0,112500.0,112500.0,315000.0,135000.0,450000.0,90000.0,270000.0,180000.0,135000.0,243000.0,225000.0,112500.0,234000.0,180000.0,121500.0,121500.0,270000.0,180000.0,90000.0,135000.0,247500.0,76500.0,85500.0,202500.0,157500.0,225000.0,225000.0,540000.0,283500.0,90000.0,190796.75395256918,252000.0,135000.0,315000.0,450000.0,180000.0,270000.0,495000.0,180000.0,306000.0,157500.0,180000.0,612000.0,36000.0,112500.0,292500.0,180000.0,202500.0,292500.0,315000.0,135000.0,337500.0,157500.0,360000.0,135000.0,270000.0,157500.0,157500.0,139500.0,135000.0,133650.0,427500.0,81000.0,225000.0,126000.0,135000.0,94500.0,180000.0,157500.0,252000.0,202500.0,117000.0,247500.0,180000.0,180000.0,180000.0,157500.0,135000.0,190796.75395256918,202500.0,90000.0,247500.0,99000.0,247500.0,202500.0,90000.0,121500.0,157500.0,121500.0,135000.0,180000.0,144000.0,126000.0,225000.0,157500.0,157500.0,270000.0,261000.0,135000.0,202500.0,157500.0,103500.0,135000.0,135000.0,112500.0,231750.0,202500.0,247500.0,135000.0,135000.0,112500.0,117000.0,112500.0,135000.0,103500.0,315000.0,180000.0,247500.0,135000.0,157500.0,315000.0,247500.0,157500.0,190796.75395256918,247500.0,166500.0,112500.0,90900.0,112500.0,45900.0,126000.0,103500.0,119250.0,202500.0,157500.0,112500.0,315000.0,270000.0,162000.0,270000.0,112500.0,58500.0,94500.0,270000.0,270000.0,99000.0,315000.0,157500.0,180000.0,211500.0,202500.0,180000.0,144000.0,144000.0,270000.0,148500.0,157500.0,90000.0,148500.0,99000.0,315000.0,162000.0,202500.0,225000.0,612000.0,292500.0,67500.0,157500.0,135000.0,67500.0,144000.0,90000.0,112500.0,112500.0,135000.0,360000.0,112500.0,225000.0,112500.0,202500.0,202500.0,225000.0,112500.0,202500.0,328500.0,112500.0,202500.0,135000.0,157500.0,270000.0,157500.0,193500.0,103500.0,90000.0,198000.0,202500.0,225000.0,72000.0,202500.0,247500.0,157500.0,225000.0,112500.0,450000.0,180000.0,108000.0,787500.0,202500.0,157500.0,90000.0,190796.75395256918,225000.0,90000.0,72000.0,225000.0,157500.0,360000.0,450000.0,216000.0,157500.0,315000.0,315000.0,594000.0,135000.0,180000.0,157500.0,234000.0,99000.0,225000.0,292500.0,198000.0,90000.0,247500.0,112500.0,157500.0,112500.0,585000.0,180000.0,225000.0,225000.0,135000.0,112500.0,112500.0,180000.0,112500.0,117000.0,135000.0,270000.0,135000.0,157500.0,243000.0,121500.0,135000.0,225000.0,225000.0,112500.0,157500.0,202500.0,337500.0,103500.0,99000.0,67500.0,112500.0,270000.0,315000.0,135000.0,180000.0,225000.0,85500.0,135000.0,119700.0,495000.0,112500.0,153000.0,216000.0,202500.0,90000.0,108000.0,270000.0,76500.0,69372.0,135000.0,117000.0,202500.0,126000.0,135000.0,180000.0,225000.0,81000.0,157500.0,90000.0,225000.0,157500.0,103500.0,202500.0,37800.0,135000.0,157500.0,180000.0,135000.0,225000.0,157500.0,387000.0,225000.0,225000.0,126000.0,135000.0,202500.0,225000.0,157500.0,202500.0,247500.0,225000.0,112500.0,112500.0,135000.0,207000.0,270000.0,315000.0,315000.0,112500.0,121500.0,225000.0,225000.0,157500.0,225000.0,135000.0,225000.0,270000.0,202500.0,135000.0,112500.0,157500.0,450000.0,202500.0,900000.0,135000.0,337500.0,94500.0,90000.0,157500.0,270000.0,112500.0,135000.0,270000.0,112500.0,225000.0,54000.0,189000.0,135000.0,157500.0,121500.0,180000.0,121500.0,225000.0,180000.0,315000.0,112500.0,90000.0,90000.0,45000.0,180000.0,112500.0,135000.0,360000.0,135000.0,99000.0,270000.0,157500.0,190796.75395256918,180000.0,315000.0,112500.0,108000.0,180000.0,225000.0,90000.0,292500.0,157500.0,135000.0,315000.0,225000.0,333000.0,171000.0,130500.0,112500.0,202500.0,126000.0,225000.0,135000.0,112500.0,105750.0,135000.0,180000.0,360000.0,157500.0,90000.0,112500.0,180000.0,225000.0,67500.0,270000.0,202500.0,144000.0,207000.0,180000.0,202500.0,202500.0,180000.0,126000.0,157500.0,225000.0,202500.0,103500.0,90000.0,135000.0,67500.0,135000.0,382500.0,270000.0,202500.0,292500.0,225000.0,135000.0,76500.0,180000.0,450000.0,90000.0,157500.0,306000.0,90000.0,135000.0,193500.0,180000.0,270000.0,112500.0,202500.0,180000.0,139500.0,135000.0,202500.0,112500.0,126000.0,193500.0,112500.0,337500.0,157500.0,193500.0,180000.0,315000.0,180000.0,90000.0,180000.0,112500.0,157500.0,135000.0,315000.0,112500.0,135000.0,99000.0,900000.0,270000.0,112500.0,180000.0,141750.0,180000.0,112500.0,225000.0,270000.0,202500.0,135000.0,292500.0,202500.0,99000.0,202500.0,306000.0,148500.0,135000.0,180000.0,180000.0,157500.0,247500.0,112500.0,180000.0,103500.0,198000.0,135000.0,67500.0,202500.0,315000.0,292500.0,148500.0,202500.0,180000.0,90000.0,135000.0,135000.0,261000.0,135000.0,112500.0,135000.0,135000.0,360000.0,171000.0,40500.0,130500.0,306000.0,202500.0,112500.0,112500.0,90000.0,153000.0,135000.0,180000.0,112500.0,90000.0,157500.0,247500.0,112500.0,67500.0,360000.0,360000.0,315000.0,157500.0,135000.0,166500.0,180000.0,225000.0,135000.0,135000.0,193500.0,247500.0,315000.0,405000.0,405000.0,90000.0,270000.0,243000.0,180000.0,112500.0,337500.0,135000.0,117000.0,202500.0,270000.0,202500.0,135000.0,216000.0,135000.0,225000.0,81000.0,180000.0,292500.0,225000.0,157500.0,157500.0,166500.0,445500.0,180000.0,45000.0,315000.0,450000.0,180000.0,90000.0,190796.75395256918,148500.0,135000.0,144000.0,135000.0,360000.0,90000.0,157500.0,135000.0,292500.0,112500.0,216000.0,126000.0,135000.0,189000.0,337500.0,44550.0,112500.0,157500.0,112500.0,135000.0,135000.0,301500.0,112500.0,90000.0,67500.0,292500.0,315000.0,117000.0,157500.0,67500.0,189000.0,202500.0,157500.0,225000.0,112500.0,202500.0,180000.0,225000.0,157500.0,180000.0,112500.0,81000.0,90000.0,180000.0,94500.0,180000.0,450000.0,315000.0,54000.0,112500.0,157500.0,180000.0,225000.0,360000.0,112500.0,292500.0,360000.0,225000.0,126000.0,135000.0,270000.0,157500.0,216000.0,337500.0,225000.0,108000.0,225000.0,180000.0,180000.0,135000.0,180000.0,112500.0,270000.0,270000.0,270000.0,135000.0,351000.0,202500.0,189000.0,270000.0,144000.0,67500.0,247500.0,157500.0,157500.0,157500.0,180000.0,315000.0,99000.0,351000.0,175500.0,306000.0,157500.0,58500.0,292500.0,190796.75395256918,225000.0,247500.0,189000.0,247500.0,90000.0,148500.0,180000.0,180000.0,121900.5,112500.0,180000.0,225000.0,450000.0,225000.0,135000.0,157500.0,238500.0,261000.0,180000.0,225000.0,135000.0,112500.0,180000.0,171000.0,135000.0,202500.0,33750.0,135000.0,135000.0,157500.0,67500.0,135000.0,153000.0,180000.0,180000.0,121500.0,112500.0,270000.0,360000.0,116100.0,225000.0,450000.0,225000.0,405000.0,112500.0,157500.0,202500.0,297000.0,315000.0,202500.0,180000.0,202500.0,360000.0,112500.0,121500.0,112500.0,900000.0,112500.0,135000.0,261000.0,121500.0,202500.0,94500.0,225000.0,630000.0,202500.0,360000.0,157500.0,247500.0,81000.0,360000.0,315000.0,126000.0,225000.0,135000.0,225000.0,112500.0,40500.0,157500.0,67500.0,315000.0,270000.0,180000.0,157500.0,252000.0,270000.0,157500.0,270000.0,162000.0,315000.0,202500.0,180000.0,112500.0,135000.0,225000.0,157500.0,112500.0,202500.0,162000.0,450000.0,157500.0,270000.0,90000.0,67500.0,225000.0,135000.0,135000.0,157500.0,180000.0,418500.0,225000.0,135000.0,360000.0,135000.0,112500.0,225000.0,180000.0,202500.0,315000.0,315000.0,112500.0,83250.0,261000.0,247500.0,360000.0,135000.0,225000.0,270000.0,112500.0,112500.0,225000.0,173250.0,148500.0,315000.0,135000.0,157500.0,76500.0,225000.0,157500.0,216000.0,90000.0,211500.0,202500.0,112500.0,112500.0,166500.0,72000.0,135000.0,157500.0,67500.0,135000.0,207000.0,148500.0,112500.0,112500.0,202500.0,67500.0,67500.0,306000.0,90000.0,360000.0,112500.0,270000.0,450000.0,67500.0,180000.0,270000.0,315000.0,247500.0,72000.0,81000.0,171000.0,135000.0,135000.0,202500.0,292500.0,360000.0,315000.0,405000.0,225000.0,198000.0,202500.0,90000.0,166500.0,73350.0,135000.0,103500.0,202500.0,76500.0,225000.0,126000.0,211500.0,157500.0,112500.0,225000.0,135000.0,405000.0,135000.0,112500.0,247500.0,270000.0,225000.0,90000.0,135000.0,67500.0,135000.0,193500.0,135000.0,202500.0,135000.0,180000.0,112500.0,247500.0,360000.0,193500.0,67500.0,306000.0,153000.0,171000.0,112500.0,360000.0,157500.0,112500.0,292500.0,315000.0,135000.0,180000.0,180000.0,292500.0,135000.0,225000.0,225000.0,135000.0,292500.0,180000.0,274500.0,225000.0,180000.0,225000.0,360000.0,126000.0,180000.0,54000.0,76500.0,247500.0,112500.0,81000.0,135000.0,135000.0,99000.0,67500.0,190796.75395256918,202500.0,58500.0,135000.0,135000.0,180000.0,112500.0,144000.0,112500.0,135000.0,81000.0,193500.0,144000.0,292500.0,157500.0,315000.0,135000.0,202500.0,180000.0,112500.0,112500.0,270000.0,76500.0,292500.0,405000.0,193500.0,180000.0,115200.0,56250.0,180000.0,157500.0,202500.0,135000.0,202500.0,157500.0,225000.0,190796.75395256918,202500.0,85500.0,157500.0,270000.0,157500.0,360000.0,90000.0,90000.0,135000.0,112500.0,225000.0,225000.0,202500.0,202500.0,225000.0,108000.0,225000.0,180000.0,135000.0,112500.0,90000.0,90000.0,103500.0,72000.0,135000.0,495000.0,135000.0,360000.0,135000.0,225000.0,135000.0,81000.0,90000.0,450000.0,360000.0,225000.0,202500.0,202500.0,95850.0,112500.0,126000.0,99000.0,112500.0,180000.0,225000.0,225000.0,202500.0,180000.0,135000.0,315000.0,387000.0,45000.0,185400.0,76500.0,225000.0,810000.0,126000.0,135000.0,90000.0,157500.0,180000.0,112500.0,270000.0,135000.0,103500.0,130500.0,90000.0,112500.0,157500.0,202500.0,67500.0,189000.0,180000.0,135000.0,135000.0,166500.0,90000.0,337500.0,90000.0,157500.0,112500.0,180000.0,112500.0,135000.0,135000.0,135000.0,190796.75395256918,126000.0,247500.0,184500.0,165600.0,315000.0,112500.0,112500.0,202500.0,72000.0,202500.0,391500.0,112500.0,157500.0,112500.0,270000.0,270000.0,247500.0,360000.0,189000.0,157500.0,405000.0,157500.0,130500.0,135000.0,90000.0,67500.0,135000.0,247500.0,157500.0,135000.0,126000.0,180000.0,112500.0,247500.0,112500.0,315000.0,67500.0,337500.0,337500.0,112500.0,157500.0,292500.0,135000.0,450000.0,180000.0,135000.0,180000.0,202500.0,180000.0,112500.0,135000.0,81000.0,135000.0,270000.0,247500.0,202500.0,225000.0,157500.0,216000.0,202500.0,135000.0,247500.0,180000.0,67500.0,130500.0,99000.0,112500.0,247500.0,180000.0,225000.0,405000.0,247500.0,171000.0,180000.0,337500.0,315000.0,247500.0,180000.0,83250.0,202500.0,450000.0,135000.0,225000.0,157500.0,270000.0,216000.0,114750.0,99000.0,47250.0,49500.0,135000.0,225000.0,450000.0,225000.0,90000.0,180000.0,103500.0,135000.0,225000.0,112500.0,270000.0,270000.0,202500.0,180000.0,180000.0,108000.0,225000.0,157500.0,405000.0,225000.0,216000.0,135000.0,112500.0,135000.0,157500.0,45000.0,157500.0,198000.0,234000.0,157500.0,207000.0,198000.0,157500.0,180000.0,216000.0,112500.0,94500.0,69750.0,103500.0,157500.0,112500.0,67500.0,112500.0,157500.0,270000.0,135000.0,112500.0,126000.0,175500.0,148500.0,126000.0,180000.0,225000.0,126000.0,157500.0,157500.0,270000.0,180000.0,144000.0,112500.0,225000.0,450000.0,180000.0,144000.0,225000.0,360000.0,190796.75395256918,225000.0,180000.0,270000.0,225000.0],\"y0\":\" \",\"yaxis\":\"y\",\"type\":\"box\"}],                        {\"template\":{\"data\":{\"histogram2dcontour\":[{\"type\":\"histogram2dcontour\",\"colorbar\":{\"outlinewidth\":0,\"ticks\":\"\"},\"colorscale\":[[0.0,\"#0d0887\"],[0.1111111111111111,\"#46039f\"],[0.2222222222222222,\"#7201a8\"],[0.3333333333333333,\"#9c179e\"],[0.4444444444444444,\"#bd3786\"],[0.5555555555555556,\"#d8576b\"],[0.6666666666666666,\"#ed7953\"],[0.7777777777777778,\"#fb9f3a\"],[0.8888888888888888,\"#fdca26\"],[1.0,\"#f0f921\"]]}],\"choropleth\":[{\"type\":\"choropleth\",\"colorbar\":{\"outlinewidth\":0,\"ticks\":\"\"}}],\"histogram2d\":[{\"type\":\"histogram2d\",\"colorbar\":{\"outlinewidth\":0,\"ticks\":\"\"},\"colorscale\":[[0.0,\"#0d0887\"],[0.1111111111111111,\"#46039f\"],[0.2222222222222222,\"#7201a8\"],[0.3333333333333333,\"#9c179e\"],[0.4444444444444444,\"#bd3786\"],[0.5555555555555556,\"#d8576b\"],[0.6666666666666666,\"#ed7953\"],[0.7777777777777778,\"#fb9f3a\"],[0.8888888888888888,\"#fdca26\"],[1.0,\"#f0f921\"]]}],\"heatmap\":[{\"type\":\"heatmap\",\"colorbar\":{\"outlinewidth\":0,\"ticks\":\"\"},\"colorscale\":[[0.0,\"#0d0887\"],[0.1111111111111111,\"#46039f\"],[0.2222222222222222,\"#7201a8\"],[0.3333333333333333,\"#9c179e\"],[0.4444444444444444,\"#bd3786\"],[0.5555555555555556,\"#d8576b\"],[0.6666666666666666,\"#ed7953\"],[0.7777777777777778,\"#fb9f3a\"],[0.8888888888888888,\"#fdca26\"],[1.0,\"#f0f921\"]]}],\"heatmapgl\":[{\"type\":\"heatmapgl\",\"colorbar\":{\"outlinewidth\":0,\"ticks\":\"\"},\"colorscale\":[[0.0,\"#0d0887\"],[0.1111111111111111,\"#46039f\"],[0.2222222222222222,\"#7201a8\"],[0.3333333333333333,\"#9c179e\"],[0.4444444444444444,\"#bd3786\"],[0.5555555555555556,\"#d8576b\"],[0.6666666666666666,\"#ed7953\"],[0.7777777777777778,\"#fb9f3a\"],[0.8888888888888888,\"#fdca26\"],[1.0,\"#f0f921\"]]}],\"contourcarpet\":[{\"type\":\"contourcarpet\",\"colorbar\":{\"outlinewidth\":0,\"ticks\":\"\"}}],\"contour\":[{\"type\":\"contour\",\"colorbar\":{\"outlinewidth\":0,\"ticks\":\"\"},\"colorscale\":[[0.0,\"#0d0887\"],[0.1111111111111111,\"#46039f\"],[0.2222222222222222,\"#7201a8\"],[0.3333333333333333,\"#9c179e\"],[0.4444444444444444,\"#bd3786\"],[0.5555555555555556,\"#d8576b\"],[0.6666666666666666,\"#ed7953\"],[0.7777777777777778,\"#fb9f3a\"],[0.8888888888888888,\"#fdca26\"],[1.0,\"#f0f921\"]]}],\"surface\":[{\"type\":\"surface\",\"colorbar\":{\"outlinewidth\":0,\"ticks\":\"\"},\"colorscale\":[[0.0,\"#0d0887\"],[0.1111111111111111,\"#46039f\"],[0.2222222222222222,\"#7201a8\"],[0.3333333333333333,\"#9c179e\"],[0.4444444444444444,\"#bd3786\"],[0.5555555555555556,\"#d8576b\"],[0.6666666666666666,\"#ed7953\"],[0.7777777777777778,\"#fb9f3a\"],[0.8888888888888888,\"#fdca26\"],[1.0,\"#f0f921\"]]}],\"mesh3d\":[{\"type\":\"mesh3d\",\"colorbar\":{\"outlinewidth\":0,\"ticks\":\"\"}}],\"scatter\":[{\"fillpattern\":{\"fillmode\":\"overlay\",\"size\":10,\"solidity\":0.2},\"type\":\"scatter\"}],\"parcoords\":[{\"type\":\"parcoords\",\"line\":{\"colorbar\":{\"outlinewidth\":0,\"ticks\":\"\"}}}],\"scatterpolargl\":[{\"type\":\"scatterpolargl\",\"marker\":{\"colorbar\":{\"outlinewidth\":0,\"ticks\":\"\"}}}],\"bar\":[{\"error_x\":{\"color\":\"#2a3f5f\"},\"error_y\":{\"color\":\"#2a3f5f\"},\"marker\":{\"line\":{\"color\":\"#E5ECF6\",\"width\":0.5},\"pattern\":{\"fillmode\":\"overlay\",\"size\":10,\"solidity\":0.2}},\"type\":\"bar\"}],\"scattergeo\":[{\"type\":\"scattergeo\",\"marker\":{\"colorbar\":{\"outlinewidth\":0,\"ticks\":\"\"}}}],\"scatterpolar\":[{\"type\":\"scatterpolar\",\"marker\":{\"colorbar\":{\"outlinewidth\":0,\"ticks\":\"\"}}}],\"histogram\":[{\"marker\":{\"pattern\":{\"fillmode\":\"overlay\",\"size\":10,\"solidity\":0.2}},\"type\":\"histogram\"}],\"scattergl\":[{\"type\":\"scattergl\",\"marker\":{\"colorbar\":{\"outlinewidth\":0,\"ticks\":\"\"}}}],\"scatter3d\":[{\"type\":\"scatter3d\",\"line\":{\"colorbar\":{\"outlinewidth\":0,\"ticks\":\"\"}},\"marker\":{\"colorbar\":{\"outlinewidth\":0,\"ticks\":\"\"}}}],\"scattermapbox\":[{\"type\":\"scattermapbox\",\"marker\":{\"colorbar\":{\"outlinewidth\":0,\"ticks\":\"\"}}}],\"scatterternary\":[{\"type\":\"scatterternary\",\"marker\":{\"colorbar\":{\"outlinewidth\":0,\"ticks\":\"\"}}}],\"scattercarpet\":[{\"type\":\"scattercarpet\",\"marker\":{\"colorbar\":{\"outlinewidth\":0,\"ticks\":\"\"}}}],\"carpet\":[{\"aaxis\":{\"endlinecolor\":\"#2a3f5f\",\"gridcolor\":\"white\",\"linecolor\":\"white\",\"minorgridcolor\":\"white\",\"startlinecolor\":\"#2a3f5f\"},\"baxis\":{\"endlinecolor\":\"#2a3f5f\",\"gridcolor\":\"white\",\"linecolor\":\"white\",\"minorgridcolor\":\"white\",\"startlinecolor\":\"#2a3f5f\"},\"type\":\"carpet\"}],\"table\":[{\"cells\":{\"fill\":{\"color\":\"#EBF0F8\"},\"line\":{\"color\":\"white\"}},\"header\":{\"fill\":{\"color\":\"#C8D4E3\"},\"line\":{\"color\":\"white\"}},\"type\":\"table\"}],\"barpolar\":[{\"marker\":{\"line\":{\"color\":\"#E5ECF6\",\"width\":0.5},\"pattern\":{\"fillmode\":\"overlay\",\"size\":10,\"solidity\":0.2}},\"type\":\"barpolar\"}],\"pie\":[{\"automargin\":true,\"type\":\"pie\"}]},\"layout\":{\"autotypenumbers\":\"strict\",\"colorway\":[\"#636efa\",\"#EF553B\",\"#00cc96\",\"#ab63fa\",\"#FFA15A\",\"#19d3f3\",\"#FF6692\",\"#B6E880\",\"#FF97FF\",\"#FECB52\"],\"font\":{\"color\":\"#2a3f5f\"},\"hovermode\":\"closest\",\"hoverlabel\":{\"align\":\"left\"},\"paper_bgcolor\":\"white\",\"plot_bgcolor\":\"#E5ECF6\",\"polar\":{\"bgcolor\":\"#E5ECF6\",\"angularaxis\":{\"gridcolor\":\"white\",\"linecolor\":\"white\",\"ticks\":\"\"},\"radialaxis\":{\"gridcolor\":\"white\",\"linecolor\":\"white\",\"ticks\":\"\"}},\"ternary\":{\"bgcolor\":\"#E5ECF6\",\"aaxis\":{\"gridcolor\":\"white\",\"linecolor\":\"white\",\"ticks\":\"\"},\"baxis\":{\"gridcolor\":\"white\",\"linecolor\":\"white\",\"ticks\":\"\"},\"caxis\":{\"gridcolor\":\"white\",\"linecolor\":\"white\",\"ticks\":\"\"}},\"coloraxis\":{\"colorbar\":{\"outlinewidth\":0,\"ticks\":\"\"}},\"colorscale\":{\"sequential\":[[0.0,\"#0d0887\"],[0.1111111111111111,\"#46039f\"],[0.2222222222222222,\"#7201a8\"],[0.3333333333333333,\"#9c179e\"],[0.4444444444444444,\"#bd3786\"],[0.5555555555555556,\"#d8576b\"],[0.6666666666666666,\"#ed7953\"],[0.7777777777777778,\"#fb9f3a\"],[0.8888888888888888,\"#fdca26\"],[1.0,\"#f0f921\"]],\"sequentialminus\":[[0.0,\"#0d0887\"],[0.1111111111111111,\"#46039f\"],[0.2222222222222222,\"#7201a8\"],[0.3333333333333333,\"#9c179e\"],[0.4444444444444444,\"#bd3786\"],[0.5555555555555556,\"#d8576b\"],[0.6666666666666666,\"#ed7953\"],[0.7777777777777778,\"#fb9f3a\"],[0.8888888888888888,\"#fdca26\"],[1.0,\"#f0f921\"]],\"diverging\":[[0,\"#8e0152\"],[0.1,\"#c51b7d\"],[0.2,\"#de77ae\"],[0.3,\"#f1b6da\"],[0.4,\"#fde0ef\"],[0.5,\"#f7f7f7\"],[0.6,\"#e6f5d0\"],[0.7,\"#b8e186\"],[0.8,\"#7fbc41\"],[0.9,\"#4d9221\"],[1,\"#276419\"]]},\"xaxis\":{\"gridcolor\":\"white\",\"linecolor\":\"white\",\"ticks\":\"\",\"title\":{\"standoff\":15},\"zerolinecolor\":\"white\",\"automargin\":true,\"zerolinewidth\":2},\"yaxis\":{\"gridcolor\":\"white\",\"linecolor\":\"white\",\"ticks\":\"\",\"title\":{\"standoff\":15},\"zerolinecolor\":\"white\",\"automargin\":true,\"zerolinewidth\":2},\"scene\":{\"xaxis\":{\"backgroundcolor\":\"#E5ECF6\",\"gridcolor\":\"white\",\"linecolor\":\"white\",\"showbackground\":true,\"ticks\":\"\",\"zerolinecolor\":\"white\",\"gridwidth\":2},\"yaxis\":{\"backgroundcolor\":\"#E5ECF6\",\"gridcolor\":\"white\",\"linecolor\":\"white\",\"showbackground\":true,\"ticks\":\"\",\"zerolinecolor\":\"white\",\"gridwidth\":2},\"zaxis\":{\"backgroundcolor\":\"#E5ECF6\",\"gridcolor\":\"white\",\"linecolor\":\"white\",\"showbackground\":true,\"ticks\":\"\",\"zerolinecolor\":\"white\",\"gridwidth\":2}},\"shapedefaults\":{\"line\":{\"color\":\"#2a3f5f\"}},\"annotationdefaults\":{\"arrowcolor\":\"#2a3f5f\",\"arrowhead\":0,\"arrowwidth\":1},\"geo\":{\"bgcolor\":\"white\",\"landcolor\":\"#E5ECF6\",\"subunitcolor\":\"white\",\"showland\":true,\"showlakes\":true,\"lakecolor\":\"white\"},\"title\":{\"x\":0.05},\"mapbox\":{\"style\":\"light\"}}},\"xaxis\":{\"anchor\":\"y\",\"domain\":[0.0,1.0]},\"yaxis\":{\"anchor\":\"x\",\"domain\":[0.0,1.0],\"title\":{\"text\":\"Annual_income\"}},\"legend\":{\"tracegroupgap\":0},\"title\":{\"text\":\"Distribution of Annual Income\"},\"boxmode\":\"group\",\"height\":500,\"width\":500},                        {\"responsive\": true}                    ).then(function(){\n",
              "                            \n",
              "var gd = document.getElementById('a9ccac72-56cd-4ae9-8e37-2cd65c714ee9');\n",
              "var x = new MutationObserver(function (mutations, observer) {{\n",
              "        var display = window.getComputedStyle(gd).display;\n",
              "        if (!display || display === 'none') {{\n",
              "            console.log([gd, 'removed!']);\n",
              "            Plotly.purge(gd);\n",
              "            observer.disconnect();\n",
              "        }}\n",
              "}});\n",
              "\n",
              "// Listen for the removal of the full notebook cells\n",
              "var notebookContainer = gd.closest('#notebook-container');\n",
              "if (notebookContainer) {{\n",
              "    x.observe(notebookContainer, {childList: true});\n",
              "}}\n",
              "\n",
              "// Listen for the clearing of the current output cell\n",
              "var outputEl = gd.closest('.output');\n",
              "if (outputEl) {{\n",
              "    x.observe(outputEl, {childList: true});\n",
              "}}\n",
              "\n",
              "                        })                };                            </script>        </div>\n",
              "</body>\n",
              "</html>"
            ]
          },
          "metadata": {}
        }
      ]
    },
    {
      "cell_type": "markdown",
      "source": [
        "*  The box plot shows the distribution of Annual_income.\n",
        "*  The plot shows that there is a wide range of distribution where all the values lies below 1 Million only one value which is round 1.6 Millions. It is proved that the dataset contains outliers."
      ],
      "metadata": {
        "id": "_X-nGX9ZcZ_D"
      }
    },
    {
      "cell_type": "code",
      "source": [
        "# identifying the outliers by IQR method\n",
        "\n",
        "Q1 = np.percentile(df['Annual_income'], 25)\n",
        "Q2 = np.percentile(df['Annual_income'], 50)\n",
        "Q3 = np.percentile(df['Annual_income'], 75)\n",
        "\n",
        "IQR = Q3 - Q1\n",
        "\n",
        "print('Interquartile range is', IQR)\n",
        "\n",
        "low_lim = Q1 - 1.5 * IQR\n",
        "up_lim = Q3 + 1.5 * IQR\n",
        "\n",
        "print('low_limit is', low_lim)\n",
        "print('up_limit is', up_lim)\n",
        "\n",
        "outlier =[]\n",
        "\n",
        "for x in df['Annual_income']:\n",
        "    if ((x> up_lim) or (x<low_lim)):\n",
        "         outlier.append(x)\n",
        "print('Outliers in the dataset is', outlier)\n",
        "print('Number of outlier values is', len(outlier))"
      ],
      "metadata": {
        "colab": {
          "base_uri": "https://localhost:8080/"
        },
        "id": "FOSfo6InpMSr",
        "outputId": "c56fec49-ad8a-442e-86ad-6d5e297db8b8"
      },
      "execution_count": null,
      "outputs": [
        {
          "output_type": "stream",
          "name": "stdout",
          "text": [
            "Interquartile range is 103500.0\n",
            "low_limit is -33750.0\n",
            "up_limit is 380250.0\n",
            "Outliers in the dataset is [450000.0, 450000.0, 450000.0, 472500.0, 540000.0, 540000.0, 450000.0, 391500.0, 391500.0, 391500.0, 675000.0, 585000.0, 585000.0, 450000.0, 450000.0, 450000.0, 450000.0, 445500.0, 1575000.0, 1575000.0, 900000.0, 450000.0, 450000.0, 423000.0, 450000.0, 540000.0, 450000.0, 495000.0, 612000.0, 427500.0, 612000.0, 450000.0, 787500.0, 450000.0, 594000.0, 585000.0, 495000.0, 387000.0, 450000.0, 900000.0, 382500.0, 450000.0, 900000.0, 405000.0, 405000.0, 445500.0, 450000.0, 450000.0, 450000.0, 450000.0, 405000.0, 900000.0, 630000.0, 450000.0, 418500.0, 450000.0, 405000.0, 405000.0, 405000.0, 495000.0, 450000.0, 387000.0, 810000.0, 391500.0, 405000.0, 450000.0, 405000.0, 450000.0, 450000.0, 405000.0, 450000.0]\n",
            "Number of outlier values is 71\n"
          ]
        }
      ]
    },
    {
      "cell_type": "markdown",
      "source": [
        "* There are 71 outlier values in the dataset."
      ],
      "metadata": {
        "id": "iyTYIYqO5mR0"
      }
    },
    {
      "cell_type": "code",
      "source": [
        "# trimming the outliers using clip() function\n",
        "\n",
        "df['Annual_income'] = df['Annual_income'].clip(lower = low_lim, upper = up_lim)"
      ],
      "metadata": {
        "id": "H-YtysBopMWN"
      },
      "execution_count": null,
      "outputs": []
    },
    {
      "cell_type": "markdown",
      "source": [
        "*  The clip() function replaces any values higher than upper limit by up_lim and values lesser than lower limit by low_lim."
      ],
      "metadata": {
        "id": "aaX2fNx6545O"
      }
    },
    {
      "cell_type": "code",
      "source": [
        "fig = px.box(df, y = 'Annual_income', width = 500, height = 500,\n",
        "             title = 'Distribution of Annual Income')\n",
        "fig.show()"
      ],
      "metadata": {
        "colab": {
          "base_uri": "https://localhost:8080/",
          "height": 517
        },
        "id": "p_ZLvNTWpMZr",
        "outputId": "de65fa01-08c3-4ca4-da8f-3961fce3b3fb"
      },
      "execution_count": null,
      "outputs": [
        {
          "output_type": "display_data",
          "data": {
            "text/html": [
              "<html>\n",
              "<head><meta charset=\"utf-8\" /></head>\n",
              "<body>\n",
              "    <div>            <script src=\"https://cdnjs.cloudflare.com/ajax/libs/mathjax/2.7.5/MathJax.js?config=TeX-AMS-MML_SVG\"></script><script type=\"text/javascript\">if (window.MathJax && window.MathJax.Hub && window.MathJax.Hub.Config) {window.MathJax.Hub.Config({SVG: {font: \"STIX-Web\"}});}</script>                <script type=\"text/javascript\">window.PlotlyConfig = {MathJaxConfig: 'local'};</script>\n",
              "        <script charset=\"utf-8\" src=\"https://cdn.plot.ly/plotly-2.24.1.min.js\"></script>                <div id=\"5c9bc9a9-ab6f-4949-b6d1-2128025a47b4\" class=\"plotly-graph-div\" style=\"height:500px; width:500px;\"></div>            <script type=\"text/javascript\">                                    window.PLOTLYENV=window.PLOTLYENV || {};                                    if (document.getElementById(\"5c9bc9a9-ab6f-4949-b6d1-2128025a47b4\")) {                    Plotly.newPlot(                        \"5c9bc9a9-ab6f-4949-b6d1-2128025a47b4\",                        [{\"alignmentgroup\":\"True\",\"hovertemplate\":\"Annual_income=%{y}\\u003cextra\\u003e\\u003c\\u002fextra\\u003e\",\"legendgroup\":\"\",\"marker\":{\"color\":\"#636efa\"},\"name\":\"\",\"notched\":false,\"offsetgroup\":\"\",\"orientation\":\"v\",\"showlegend\":false,\"x0\":\" \",\"xaxis\":\"x\",\"y\":[180000.0,315000.0,315000.0,190796.75395256918,315000.0,315000.0,180000.0,380250.0,380250.0,380250.0,90000.0,190796.75395256918,90000.0,380250.0,270000.0,270000.0,126000.0,126000.0,90000.0,202500.0,202500.0,157500.0,112500.0,180000.0,380250.0,112500.0,190796.75395256918,380250.0,90000.0,112500.0,135000.0,135000.0,180000.0,112500.0,292500.0,76500.0,215100.0,380250.0,270000.0,225000.0,225000.0,225000.0,157500.0,157500.0,67500.0,180000.0,180000.0,157500.0,157500.0,171000.0,135000.0,135000.0,103500.0,103500.0,225000.0,225000.0,225000.0,180000.0,157500.0,157500.0,180000.0,180000.0,99000.0,190796.75395256918,99000.0,99000.0,380250.0,380250.0,380250.0,65250.0,72900.0,225000.0,67500.0,180000.0,190796.75395256918,202500.0,157500.0,202500.0,270000.0,135000.0,256500.0,256500.0,157500.0,225000.0,180000.0,180000.0,202500.0,202500.0,202500.0,315000.0,225000.0,126000.0,380250.0,135000.0,135000.0,247500.0,103500.0,85500.0,135000.0,135000.0,180000.0,121500.0,180000.0,225000.0,190796.75395256918,135000.0,225000.0,67500.0,135000.0,130500.0,130500.0,202500.0,202500.0,202500.0,202500.0,202500.0,126000.0,126000.0,180000.0,180000.0,180000.0,180000.0,190796.75395256918,211500.0,157500.0,81000.0,81000.0,112500.0,112500.0,112500.0,112500.0,112500.0,72000.0,202500.0,148500.0,135000.0,135000.0,270000.0,135000.0,135000.0,112500.0,112500.0,112500.0,135000.0,135000.0,195750.0,380250.0,380250.0,190796.75395256918,380250.0,380250.0,112500.0,112500.0,67500.0,67500.0,67500.0,216000.0,306000.0,90000.0,225000.0,108000.0,135000.0,135000.0,108000.0,108000.0,380250.0,380250.0,315000.0,157500.0,157500.0,81000.0,225000.0,180000.0,135000.0,135000.0,63000.0,135000.0,112500.0,112500.0,45000.0,190796.75395256918,202500.0,180000.0,256500.0,90000.0,180000.0,90000.0,135000.0,126000.0,126000.0,337500.0,90000.0,131400.0,180000.0,247500.0,121500.0,117000.0,90000.0,380250.0,157500.0,112500.0,180000.0,157500.0,117000.0,234000.0,380250.0,247500.0,144000.0,180000.0,190796.75395256918,216000.0,90000.0,171000.0,180000.0,225000.0,225000.0,270000.0,67050.0,270000.0,73350.0,112500.0,144000.0,225000.0,112500.0,292500.0,135000.0,157500.0,380250.0,157500.0,157500.0,135000.0,112500.0,202500.0,193500.0,108000.0,380250.0,292500.0,270000.0,270000.0,292500.0,292500.0,157500.0,76500.0,157500.0,180000.0,135000.0,112500.0,360000.0,157500.0,225000.0,112500.0,121500.0,202500.0,112500.0,135000.0,103500.0,157500.0,337500.0,180000.0,112500.0,157500.0,360000.0,135000.0,337500.0,135000.0,360000.0,190796.75395256918,380250.0,270000.0,270000.0,270000.0,380250.0,157500.0,112500.0,292500.0,112500.0,247500.0,157500.0,225000.0,94500.0,81000.0,180000.0,198000.0,180000.0,315000.0,67500.0,180000.0,202500.0,112500.0,306000.0,90000.0,270000.0,270000.0,234000.0,171000.0,225000.0,94500.0,117000.0,180000.0,202500.0,54000.0,112500.0,85500.0,135000.0,166500.0,157500.0,247500.0,180000.0,72000.0,202500.0,180000.0,270000.0,202500.0,360000.0,270000.0,270000.0,112500.0,190796.75395256918,157500.0,202500.0,99000.0,162000.0,225000.0,225000.0,72000.0,135000.0,315000.0,167400.0,180000.0,135000.0,99000.0,225000.0,153000.0,380250.0,90000.0,360000.0,247500.0,225000.0,67500.0,112500.0,157500.0,90000.0,90000.0,225000.0,112500.0,112500.0,315000.0,135000.0,380250.0,90000.0,270000.0,180000.0,135000.0,243000.0,225000.0,112500.0,234000.0,180000.0,121500.0,121500.0,270000.0,180000.0,90000.0,135000.0,247500.0,76500.0,85500.0,202500.0,157500.0,225000.0,225000.0,380250.0,283500.0,90000.0,190796.75395256918,252000.0,135000.0,315000.0,380250.0,180000.0,270000.0,380250.0,180000.0,306000.0,157500.0,180000.0,380250.0,36000.0,112500.0,292500.0,180000.0,202500.0,292500.0,315000.0,135000.0,337500.0,157500.0,360000.0,135000.0,270000.0,157500.0,157500.0,139500.0,135000.0,133650.0,380250.0,81000.0,225000.0,126000.0,135000.0,94500.0,180000.0,157500.0,252000.0,202500.0,117000.0,247500.0,180000.0,180000.0,180000.0,157500.0,135000.0,190796.75395256918,202500.0,90000.0,247500.0,99000.0,247500.0,202500.0,90000.0,121500.0,157500.0,121500.0,135000.0,180000.0,144000.0,126000.0,225000.0,157500.0,157500.0,270000.0,261000.0,135000.0,202500.0,157500.0,103500.0,135000.0,135000.0,112500.0,231750.0,202500.0,247500.0,135000.0,135000.0,112500.0,117000.0,112500.0,135000.0,103500.0,315000.0,180000.0,247500.0,135000.0,157500.0,315000.0,247500.0,157500.0,190796.75395256918,247500.0,166500.0,112500.0,90900.0,112500.0,45900.0,126000.0,103500.0,119250.0,202500.0,157500.0,112500.0,315000.0,270000.0,162000.0,270000.0,112500.0,58500.0,94500.0,270000.0,270000.0,99000.0,315000.0,157500.0,180000.0,211500.0,202500.0,180000.0,144000.0,144000.0,270000.0,148500.0,157500.0,90000.0,148500.0,99000.0,315000.0,162000.0,202500.0,225000.0,380250.0,292500.0,67500.0,157500.0,135000.0,67500.0,144000.0,90000.0,112500.0,112500.0,135000.0,360000.0,112500.0,225000.0,112500.0,202500.0,202500.0,225000.0,112500.0,202500.0,328500.0,112500.0,202500.0,135000.0,157500.0,270000.0,157500.0,193500.0,103500.0,90000.0,198000.0,202500.0,225000.0,72000.0,202500.0,247500.0,157500.0,225000.0,112500.0,380250.0,180000.0,108000.0,380250.0,202500.0,157500.0,90000.0,190796.75395256918,225000.0,90000.0,72000.0,225000.0,157500.0,360000.0,380250.0,216000.0,157500.0,315000.0,315000.0,380250.0,135000.0,180000.0,157500.0,234000.0,99000.0,225000.0,292500.0,198000.0,90000.0,247500.0,112500.0,157500.0,112500.0,380250.0,180000.0,225000.0,225000.0,135000.0,112500.0,112500.0,180000.0,112500.0,117000.0,135000.0,270000.0,135000.0,157500.0,243000.0,121500.0,135000.0,225000.0,225000.0,112500.0,157500.0,202500.0,337500.0,103500.0,99000.0,67500.0,112500.0,270000.0,315000.0,135000.0,180000.0,225000.0,85500.0,135000.0,119700.0,380250.0,112500.0,153000.0,216000.0,202500.0,90000.0,108000.0,270000.0,76500.0,69372.0,135000.0,117000.0,202500.0,126000.0,135000.0,180000.0,225000.0,81000.0,157500.0,90000.0,225000.0,157500.0,103500.0,202500.0,37800.0,135000.0,157500.0,180000.0,135000.0,225000.0,157500.0,380250.0,225000.0,225000.0,126000.0,135000.0,202500.0,225000.0,157500.0,202500.0,247500.0,225000.0,112500.0,112500.0,135000.0,207000.0,270000.0,315000.0,315000.0,112500.0,121500.0,225000.0,225000.0,157500.0,225000.0,135000.0,225000.0,270000.0,202500.0,135000.0,112500.0,157500.0,380250.0,202500.0,380250.0,135000.0,337500.0,94500.0,90000.0,157500.0,270000.0,112500.0,135000.0,270000.0,112500.0,225000.0,54000.0,189000.0,135000.0,157500.0,121500.0,180000.0,121500.0,225000.0,180000.0,315000.0,112500.0,90000.0,90000.0,45000.0,180000.0,112500.0,135000.0,360000.0,135000.0,99000.0,270000.0,157500.0,190796.75395256918,180000.0,315000.0,112500.0,108000.0,180000.0,225000.0,90000.0,292500.0,157500.0,135000.0,315000.0,225000.0,333000.0,171000.0,130500.0,112500.0,202500.0,126000.0,225000.0,135000.0,112500.0,105750.0,135000.0,180000.0,360000.0,157500.0,90000.0,112500.0,180000.0,225000.0,67500.0,270000.0,202500.0,144000.0,207000.0,180000.0,202500.0,202500.0,180000.0,126000.0,157500.0,225000.0,202500.0,103500.0,90000.0,135000.0,67500.0,135000.0,380250.0,270000.0,202500.0,292500.0,225000.0,135000.0,76500.0,180000.0,380250.0,90000.0,157500.0,306000.0,90000.0,135000.0,193500.0,180000.0,270000.0,112500.0,202500.0,180000.0,139500.0,135000.0,202500.0,112500.0,126000.0,193500.0,112500.0,337500.0,157500.0,193500.0,180000.0,315000.0,180000.0,90000.0,180000.0,112500.0,157500.0,135000.0,315000.0,112500.0,135000.0,99000.0,380250.0,270000.0,112500.0,180000.0,141750.0,180000.0,112500.0,225000.0,270000.0,202500.0,135000.0,292500.0,202500.0,99000.0,202500.0,306000.0,148500.0,135000.0,180000.0,180000.0,157500.0,247500.0,112500.0,180000.0,103500.0,198000.0,135000.0,67500.0,202500.0,315000.0,292500.0,148500.0,202500.0,180000.0,90000.0,135000.0,135000.0,261000.0,135000.0,112500.0,135000.0,135000.0,360000.0,171000.0,40500.0,130500.0,306000.0,202500.0,112500.0,112500.0,90000.0,153000.0,135000.0,180000.0,112500.0,90000.0,157500.0,247500.0,112500.0,67500.0,360000.0,360000.0,315000.0,157500.0,135000.0,166500.0,180000.0,225000.0,135000.0,135000.0,193500.0,247500.0,315000.0,380250.0,380250.0,90000.0,270000.0,243000.0,180000.0,112500.0,337500.0,135000.0,117000.0,202500.0,270000.0,202500.0,135000.0,216000.0,135000.0,225000.0,81000.0,180000.0,292500.0,225000.0,157500.0,157500.0,166500.0,380250.0,180000.0,45000.0,315000.0,380250.0,180000.0,90000.0,190796.75395256918,148500.0,135000.0,144000.0,135000.0,360000.0,90000.0,157500.0,135000.0,292500.0,112500.0,216000.0,126000.0,135000.0,189000.0,337500.0,44550.0,112500.0,157500.0,112500.0,135000.0,135000.0,301500.0,112500.0,90000.0,67500.0,292500.0,315000.0,117000.0,157500.0,67500.0,189000.0,202500.0,157500.0,225000.0,112500.0,202500.0,180000.0,225000.0,157500.0,180000.0,112500.0,81000.0,90000.0,180000.0,94500.0,180000.0,380250.0,315000.0,54000.0,112500.0,157500.0,180000.0,225000.0,360000.0,112500.0,292500.0,360000.0,225000.0,126000.0,135000.0,270000.0,157500.0,216000.0,337500.0,225000.0,108000.0,225000.0,180000.0,180000.0,135000.0,180000.0,112500.0,270000.0,270000.0,270000.0,135000.0,351000.0,202500.0,189000.0,270000.0,144000.0,67500.0,247500.0,157500.0,157500.0,157500.0,180000.0,315000.0,99000.0,351000.0,175500.0,306000.0,157500.0,58500.0,292500.0,190796.75395256918,225000.0,247500.0,189000.0,247500.0,90000.0,148500.0,180000.0,180000.0,121900.5,112500.0,180000.0,225000.0,380250.0,225000.0,135000.0,157500.0,238500.0,261000.0,180000.0,225000.0,135000.0,112500.0,180000.0,171000.0,135000.0,202500.0,33750.0,135000.0,135000.0,157500.0,67500.0,135000.0,153000.0,180000.0,180000.0,121500.0,112500.0,270000.0,360000.0,116100.0,225000.0,380250.0,225000.0,380250.0,112500.0,157500.0,202500.0,297000.0,315000.0,202500.0,180000.0,202500.0,360000.0,112500.0,121500.0,112500.0,380250.0,112500.0,135000.0,261000.0,121500.0,202500.0,94500.0,225000.0,380250.0,202500.0,360000.0,157500.0,247500.0,81000.0,360000.0,315000.0,126000.0,225000.0,135000.0,225000.0,112500.0,40500.0,157500.0,67500.0,315000.0,270000.0,180000.0,157500.0,252000.0,270000.0,157500.0,270000.0,162000.0,315000.0,202500.0,180000.0,112500.0,135000.0,225000.0,157500.0,112500.0,202500.0,162000.0,380250.0,157500.0,270000.0,90000.0,67500.0,225000.0,135000.0,135000.0,157500.0,180000.0,380250.0,225000.0,135000.0,360000.0,135000.0,112500.0,225000.0,180000.0,202500.0,315000.0,315000.0,112500.0,83250.0,261000.0,247500.0,360000.0,135000.0,225000.0,270000.0,112500.0,112500.0,225000.0,173250.0,148500.0,315000.0,135000.0,157500.0,76500.0,225000.0,157500.0,216000.0,90000.0,211500.0,202500.0,112500.0,112500.0,166500.0,72000.0,135000.0,157500.0,67500.0,135000.0,207000.0,148500.0,112500.0,112500.0,202500.0,67500.0,67500.0,306000.0,90000.0,360000.0,112500.0,270000.0,380250.0,67500.0,180000.0,270000.0,315000.0,247500.0,72000.0,81000.0,171000.0,135000.0,135000.0,202500.0,292500.0,360000.0,315000.0,380250.0,225000.0,198000.0,202500.0,90000.0,166500.0,73350.0,135000.0,103500.0,202500.0,76500.0,225000.0,126000.0,211500.0,157500.0,112500.0,225000.0,135000.0,380250.0,135000.0,112500.0,247500.0,270000.0,225000.0,90000.0,135000.0,67500.0,135000.0,193500.0,135000.0,202500.0,135000.0,180000.0,112500.0,247500.0,360000.0,193500.0,67500.0,306000.0,153000.0,171000.0,112500.0,360000.0,157500.0,112500.0,292500.0,315000.0,135000.0,180000.0,180000.0,292500.0,135000.0,225000.0,225000.0,135000.0,292500.0,180000.0,274500.0,225000.0,180000.0,225000.0,360000.0,126000.0,180000.0,54000.0,76500.0,247500.0,112500.0,81000.0,135000.0,135000.0,99000.0,67500.0,190796.75395256918,202500.0,58500.0,135000.0,135000.0,180000.0,112500.0,144000.0,112500.0,135000.0,81000.0,193500.0,144000.0,292500.0,157500.0,315000.0,135000.0,202500.0,180000.0,112500.0,112500.0,270000.0,76500.0,292500.0,380250.0,193500.0,180000.0,115200.0,56250.0,180000.0,157500.0,202500.0,135000.0,202500.0,157500.0,225000.0,190796.75395256918,202500.0,85500.0,157500.0,270000.0,157500.0,360000.0,90000.0,90000.0,135000.0,112500.0,225000.0,225000.0,202500.0,202500.0,225000.0,108000.0,225000.0,180000.0,135000.0,112500.0,90000.0,90000.0,103500.0,72000.0,135000.0,380250.0,135000.0,360000.0,135000.0,225000.0,135000.0,81000.0,90000.0,380250.0,360000.0,225000.0,202500.0,202500.0,95850.0,112500.0,126000.0,99000.0,112500.0,180000.0,225000.0,225000.0,202500.0,180000.0,135000.0,315000.0,380250.0,45000.0,185400.0,76500.0,225000.0,380250.0,126000.0,135000.0,90000.0,157500.0,180000.0,112500.0,270000.0,135000.0,103500.0,130500.0,90000.0,112500.0,157500.0,202500.0,67500.0,189000.0,180000.0,135000.0,135000.0,166500.0,90000.0,337500.0,90000.0,157500.0,112500.0,180000.0,112500.0,135000.0,135000.0,135000.0,190796.75395256918,126000.0,247500.0,184500.0,165600.0,315000.0,112500.0,112500.0,202500.0,72000.0,202500.0,380250.0,112500.0,157500.0,112500.0,270000.0,270000.0,247500.0,360000.0,189000.0,157500.0,380250.0,157500.0,130500.0,135000.0,90000.0,67500.0,135000.0,247500.0,157500.0,135000.0,126000.0,180000.0,112500.0,247500.0,112500.0,315000.0,67500.0,337500.0,337500.0,112500.0,157500.0,292500.0,135000.0,380250.0,180000.0,135000.0,180000.0,202500.0,180000.0,112500.0,135000.0,81000.0,135000.0,270000.0,247500.0,202500.0,225000.0,157500.0,216000.0,202500.0,135000.0,247500.0,180000.0,67500.0,130500.0,99000.0,112500.0,247500.0,180000.0,225000.0,380250.0,247500.0,171000.0,180000.0,337500.0,315000.0,247500.0,180000.0,83250.0,202500.0,380250.0,135000.0,225000.0,157500.0,270000.0,216000.0,114750.0,99000.0,47250.0,49500.0,135000.0,225000.0,380250.0,225000.0,90000.0,180000.0,103500.0,135000.0,225000.0,112500.0,270000.0,270000.0,202500.0,180000.0,180000.0,108000.0,225000.0,157500.0,380250.0,225000.0,216000.0,135000.0,112500.0,135000.0,157500.0,45000.0,157500.0,198000.0,234000.0,157500.0,207000.0,198000.0,157500.0,180000.0,216000.0,112500.0,94500.0,69750.0,103500.0,157500.0,112500.0,67500.0,112500.0,157500.0,270000.0,135000.0,112500.0,126000.0,175500.0,148500.0,126000.0,180000.0,225000.0,126000.0,157500.0,157500.0,270000.0,180000.0,144000.0,112500.0,225000.0,380250.0,180000.0,144000.0,225000.0,360000.0,190796.75395256918,225000.0,180000.0,270000.0,225000.0],\"y0\":\" \",\"yaxis\":\"y\",\"type\":\"box\"}],                        {\"template\":{\"data\":{\"histogram2dcontour\":[{\"type\":\"histogram2dcontour\",\"colorbar\":{\"outlinewidth\":0,\"ticks\":\"\"},\"colorscale\":[[0.0,\"#0d0887\"],[0.1111111111111111,\"#46039f\"],[0.2222222222222222,\"#7201a8\"],[0.3333333333333333,\"#9c179e\"],[0.4444444444444444,\"#bd3786\"],[0.5555555555555556,\"#d8576b\"],[0.6666666666666666,\"#ed7953\"],[0.7777777777777778,\"#fb9f3a\"],[0.8888888888888888,\"#fdca26\"],[1.0,\"#f0f921\"]]}],\"choropleth\":[{\"type\":\"choropleth\",\"colorbar\":{\"outlinewidth\":0,\"ticks\":\"\"}}],\"histogram2d\":[{\"type\":\"histogram2d\",\"colorbar\":{\"outlinewidth\":0,\"ticks\":\"\"},\"colorscale\":[[0.0,\"#0d0887\"],[0.1111111111111111,\"#46039f\"],[0.2222222222222222,\"#7201a8\"],[0.3333333333333333,\"#9c179e\"],[0.4444444444444444,\"#bd3786\"],[0.5555555555555556,\"#d8576b\"],[0.6666666666666666,\"#ed7953\"],[0.7777777777777778,\"#fb9f3a\"],[0.8888888888888888,\"#fdca26\"],[1.0,\"#f0f921\"]]}],\"heatmap\":[{\"type\":\"heatmap\",\"colorbar\":{\"outlinewidth\":0,\"ticks\":\"\"},\"colorscale\":[[0.0,\"#0d0887\"],[0.1111111111111111,\"#46039f\"],[0.2222222222222222,\"#7201a8\"],[0.3333333333333333,\"#9c179e\"],[0.4444444444444444,\"#bd3786\"],[0.5555555555555556,\"#d8576b\"],[0.6666666666666666,\"#ed7953\"],[0.7777777777777778,\"#fb9f3a\"],[0.8888888888888888,\"#fdca26\"],[1.0,\"#f0f921\"]]}],\"heatmapgl\":[{\"type\":\"heatmapgl\",\"colorbar\":{\"outlinewidth\":0,\"ticks\":\"\"},\"colorscale\":[[0.0,\"#0d0887\"],[0.1111111111111111,\"#46039f\"],[0.2222222222222222,\"#7201a8\"],[0.3333333333333333,\"#9c179e\"],[0.4444444444444444,\"#bd3786\"],[0.5555555555555556,\"#d8576b\"],[0.6666666666666666,\"#ed7953\"],[0.7777777777777778,\"#fb9f3a\"],[0.8888888888888888,\"#fdca26\"],[1.0,\"#f0f921\"]]}],\"contourcarpet\":[{\"type\":\"contourcarpet\",\"colorbar\":{\"outlinewidth\":0,\"ticks\":\"\"}}],\"contour\":[{\"type\":\"contour\",\"colorbar\":{\"outlinewidth\":0,\"ticks\":\"\"},\"colorscale\":[[0.0,\"#0d0887\"],[0.1111111111111111,\"#46039f\"],[0.2222222222222222,\"#7201a8\"],[0.3333333333333333,\"#9c179e\"],[0.4444444444444444,\"#bd3786\"],[0.5555555555555556,\"#d8576b\"],[0.6666666666666666,\"#ed7953\"],[0.7777777777777778,\"#fb9f3a\"],[0.8888888888888888,\"#fdca26\"],[1.0,\"#f0f921\"]]}],\"surface\":[{\"type\":\"surface\",\"colorbar\":{\"outlinewidth\":0,\"ticks\":\"\"},\"colorscale\":[[0.0,\"#0d0887\"],[0.1111111111111111,\"#46039f\"],[0.2222222222222222,\"#7201a8\"],[0.3333333333333333,\"#9c179e\"],[0.4444444444444444,\"#bd3786\"],[0.5555555555555556,\"#d8576b\"],[0.6666666666666666,\"#ed7953\"],[0.7777777777777778,\"#fb9f3a\"],[0.8888888888888888,\"#fdca26\"],[1.0,\"#f0f921\"]]}],\"mesh3d\":[{\"type\":\"mesh3d\",\"colorbar\":{\"outlinewidth\":0,\"ticks\":\"\"}}],\"scatter\":[{\"fillpattern\":{\"fillmode\":\"overlay\",\"size\":10,\"solidity\":0.2},\"type\":\"scatter\"}],\"parcoords\":[{\"type\":\"parcoords\",\"line\":{\"colorbar\":{\"outlinewidth\":0,\"ticks\":\"\"}}}],\"scatterpolargl\":[{\"type\":\"scatterpolargl\",\"marker\":{\"colorbar\":{\"outlinewidth\":0,\"ticks\":\"\"}}}],\"bar\":[{\"error_x\":{\"color\":\"#2a3f5f\"},\"error_y\":{\"color\":\"#2a3f5f\"},\"marker\":{\"line\":{\"color\":\"#E5ECF6\",\"width\":0.5},\"pattern\":{\"fillmode\":\"overlay\",\"size\":10,\"solidity\":0.2}},\"type\":\"bar\"}],\"scattergeo\":[{\"type\":\"scattergeo\",\"marker\":{\"colorbar\":{\"outlinewidth\":0,\"ticks\":\"\"}}}],\"scatterpolar\":[{\"type\":\"scatterpolar\",\"marker\":{\"colorbar\":{\"outlinewidth\":0,\"ticks\":\"\"}}}],\"histogram\":[{\"marker\":{\"pattern\":{\"fillmode\":\"overlay\",\"size\":10,\"solidity\":0.2}},\"type\":\"histogram\"}],\"scattergl\":[{\"type\":\"scattergl\",\"marker\":{\"colorbar\":{\"outlinewidth\":0,\"ticks\":\"\"}}}],\"scatter3d\":[{\"type\":\"scatter3d\",\"line\":{\"colorbar\":{\"outlinewidth\":0,\"ticks\":\"\"}},\"marker\":{\"colorbar\":{\"outlinewidth\":0,\"ticks\":\"\"}}}],\"scattermapbox\":[{\"type\":\"scattermapbox\",\"marker\":{\"colorbar\":{\"outlinewidth\":0,\"ticks\":\"\"}}}],\"scatterternary\":[{\"type\":\"scatterternary\",\"marker\":{\"colorbar\":{\"outlinewidth\":0,\"ticks\":\"\"}}}],\"scattercarpet\":[{\"type\":\"scattercarpet\",\"marker\":{\"colorbar\":{\"outlinewidth\":0,\"ticks\":\"\"}}}],\"carpet\":[{\"aaxis\":{\"endlinecolor\":\"#2a3f5f\",\"gridcolor\":\"white\",\"linecolor\":\"white\",\"minorgridcolor\":\"white\",\"startlinecolor\":\"#2a3f5f\"},\"baxis\":{\"endlinecolor\":\"#2a3f5f\",\"gridcolor\":\"white\",\"linecolor\":\"white\",\"minorgridcolor\":\"white\",\"startlinecolor\":\"#2a3f5f\"},\"type\":\"carpet\"}],\"table\":[{\"cells\":{\"fill\":{\"color\":\"#EBF0F8\"},\"line\":{\"color\":\"white\"}},\"header\":{\"fill\":{\"color\":\"#C8D4E3\"},\"line\":{\"color\":\"white\"}},\"type\":\"table\"}],\"barpolar\":[{\"marker\":{\"line\":{\"color\":\"#E5ECF6\",\"width\":0.5},\"pattern\":{\"fillmode\":\"overlay\",\"size\":10,\"solidity\":0.2}},\"type\":\"barpolar\"}],\"pie\":[{\"automargin\":true,\"type\":\"pie\"}]},\"layout\":{\"autotypenumbers\":\"strict\",\"colorway\":[\"#636efa\",\"#EF553B\",\"#00cc96\",\"#ab63fa\",\"#FFA15A\",\"#19d3f3\",\"#FF6692\",\"#B6E880\",\"#FF97FF\",\"#FECB52\"],\"font\":{\"color\":\"#2a3f5f\"},\"hovermode\":\"closest\",\"hoverlabel\":{\"align\":\"left\"},\"paper_bgcolor\":\"white\",\"plot_bgcolor\":\"#E5ECF6\",\"polar\":{\"bgcolor\":\"#E5ECF6\",\"angularaxis\":{\"gridcolor\":\"white\",\"linecolor\":\"white\",\"ticks\":\"\"},\"radialaxis\":{\"gridcolor\":\"white\",\"linecolor\":\"white\",\"ticks\":\"\"}},\"ternary\":{\"bgcolor\":\"#E5ECF6\",\"aaxis\":{\"gridcolor\":\"white\",\"linecolor\":\"white\",\"ticks\":\"\"},\"baxis\":{\"gridcolor\":\"white\",\"linecolor\":\"white\",\"ticks\":\"\"},\"caxis\":{\"gridcolor\":\"white\",\"linecolor\":\"white\",\"ticks\":\"\"}},\"coloraxis\":{\"colorbar\":{\"outlinewidth\":0,\"ticks\":\"\"}},\"colorscale\":{\"sequential\":[[0.0,\"#0d0887\"],[0.1111111111111111,\"#46039f\"],[0.2222222222222222,\"#7201a8\"],[0.3333333333333333,\"#9c179e\"],[0.4444444444444444,\"#bd3786\"],[0.5555555555555556,\"#d8576b\"],[0.6666666666666666,\"#ed7953\"],[0.7777777777777778,\"#fb9f3a\"],[0.8888888888888888,\"#fdca26\"],[1.0,\"#f0f921\"]],\"sequentialminus\":[[0.0,\"#0d0887\"],[0.1111111111111111,\"#46039f\"],[0.2222222222222222,\"#7201a8\"],[0.3333333333333333,\"#9c179e\"],[0.4444444444444444,\"#bd3786\"],[0.5555555555555556,\"#d8576b\"],[0.6666666666666666,\"#ed7953\"],[0.7777777777777778,\"#fb9f3a\"],[0.8888888888888888,\"#fdca26\"],[1.0,\"#f0f921\"]],\"diverging\":[[0,\"#8e0152\"],[0.1,\"#c51b7d\"],[0.2,\"#de77ae\"],[0.3,\"#f1b6da\"],[0.4,\"#fde0ef\"],[0.5,\"#f7f7f7\"],[0.6,\"#e6f5d0\"],[0.7,\"#b8e186\"],[0.8,\"#7fbc41\"],[0.9,\"#4d9221\"],[1,\"#276419\"]]},\"xaxis\":{\"gridcolor\":\"white\",\"linecolor\":\"white\",\"ticks\":\"\",\"title\":{\"standoff\":15},\"zerolinecolor\":\"white\",\"automargin\":true,\"zerolinewidth\":2},\"yaxis\":{\"gridcolor\":\"white\",\"linecolor\":\"white\",\"ticks\":\"\",\"title\":{\"standoff\":15},\"zerolinecolor\":\"white\",\"automargin\":true,\"zerolinewidth\":2},\"scene\":{\"xaxis\":{\"backgroundcolor\":\"#E5ECF6\",\"gridcolor\":\"white\",\"linecolor\":\"white\",\"showbackground\":true,\"ticks\":\"\",\"zerolinecolor\":\"white\",\"gridwidth\":2},\"yaxis\":{\"backgroundcolor\":\"#E5ECF6\",\"gridcolor\":\"white\",\"linecolor\":\"white\",\"showbackground\":true,\"ticks\":\"\",\"zerolinecolor\":\"white\",\"gridwidth\":2},\"zaxis\":{\"backgroundcolor\":\"#E5ECF6\",\"gridcolor\":\"white\",\"linecolor\":\"white\",\"showbackground\":true,\"ticks\":\"\",\"zerolinecolor\":\"white\",\"gridwidth\":2}},\"shapedefaults\":{\"line\":{\"color\":\"#2a3f5f\"}},\"annotationdefaults\":{\"arrowcolor\":\"#2a3f5f\",\"arrowhead\":0,\"arrowwidth\":1},\"geo\":{\"bgcolor\":\"white\",\"landcolor\":\"#E5ECF6\",\"subunitcolor\":\"white\",\"showland\":true,\"showlakes\":true,\"lakecolor\":\"white\"},\"title\":{\"x\":0.05},\"mapbox\":{\"style\":\"light\"}}},\"xaxis\":{\"anchor\":\"y\",\"domain\":[0.0,1.0]},\"yaxis\":{\"anchor\":\"x\",\"domain\":[0.0,1.0],\"title\":{\"text\":\"Annual_income\"}},\"legend\":{\"tracegroupgap\":0},\"title\":{\"text\":\"Distribution of Annual Income\"},\"boxmode\":\"group\",\"height\":500,\"width\":500},                        {\"responsive\": true}                    ).then(function(){\n",
              "                            \n",
              "var gd = document.getElementById('5c9bc9a9-ab6f-4949-b6d1-2128025a47b4');\n",
              "var x = new MutationObserver(function (mutations, observer) {{\n",
              "        var display = window.getComputedStyle(gd).display;\n",
              "        if (!display || display === 'none') {{\n",
              "            console.log([gd, 'removed!']);\n",
              "            Plotly.purge(gd);\n",
              "            observer.disconnect();\n",
              "        }}\n",
              "}});\n",
              "\n",
              "// Listen for the removal of the full notebook cells\n",
              "var notebookContainer = gd.closest('#notebook-container');\n",
              "if (notebookContainer) {{\n",
              "    x.observe(notebookContainer, {childList: true});\n",
              "}}\n",
              "\n",
              "// Listen for the clearing of the current output cell\n",
              "var outputEl = gd.closest('.output');\n",
              "if (outputEl) {{\n",
              "    x.observe(outputEl, {childList: true});\n",
              "}}\n",
              "\n",
              "                        })                };                            </script>        </div>\n",
              "</body>\n",
              "</html>"
            ]
          },
          "metadata": {}
        }
      ]
    },
    {
      "cell_type": "markdown",
      "source": [
        "*  Now we can see that the values are trimmed and replaced by upper and lower limit values."
      ],
      "metadata": {
        "id": "yEaGZlu36jkL"
      }
    },
    {
      "cell_type": "markdown",
      "source": [
        "# **Data preprocessing**"
      ],
      "metadata": {
        "id": "zWIQ5uV4Sg2u"
      }
    },
    {
      "cell_type": "markdown",
      "source": [
        "## Checking for multicollinearity of variables"
      ],
      "metadata": {
        "id": "hY8g8SJr6T_5"
      }
    },
    {
      "cell_type": "markdown",
      "source": [
        "*  One of the important things to keep in mind before training the model is checking for the multicollinearity of variables i.e., there should not be any linear relationship between the independent features as it may lead to decline in the accuracy of the model.\n",
        "*  Firstly, I am deleting the columns which are inappropriate for the study.\n",
        "*  Features like whether the customer has mobile phone or not, e-mail id or not and the id number of the customer doesn't play any role in credit card approval.\n",
        "*  Therefore, I am deleting the **Ind_ID**, **Mobile_phone**, **Work_Phone**, **Phone** and **EMAIL_ID** columns from the dataset."
      ],
      "metadata": {
        "id": "yjJ-TXCo7Ido"
      }
    },
    {
      "cell_type": "code",
      "source": [
        "df = df.drop(['Ind_ID','Mobile_phone','Work_Phone','Phone','EMAIL_ID'], axis = 1)"
      ],
      "metadata": {
        "id": "xWZDq8s33WDn"
      },
      "execution_count": null,
      "outputs": []
    },
    {
      "cell_type": "code",
      "source": [
        "# checking for multicollinearity of features by variance_inflation_factor\n",
        "\n",
        "from statsmodels.stats.outliers_influence import variance_inflation_factor\n",
        "\n",
        "X_vif = df.iloc[:,:-1]\n",
        "\n",
        "vif_data = pd.DataFrame()\n",
        "vif_data['Feature'] = X_vif.columns\n",
        "\n",
        "vif_data['VIF'] = [variance_inflation_factor(X_vif.values,i)\n",
        "                    for i in range(len(X_vif.columns))]\n",
        "\n",
        "print(vif_data)"
      ],
      "metadata": {
        "id": "KkiCSW4yrHSX",
        "colab": {
          "base_uri": "https://localhost:8080/"
        },
        "outputId": "281a12a3-6c0a-45fe-969b-9334bcaeba11"
      },
      "execution_count": null,
      "outputs": [
        {
          "output_type": "stream",
          "name": "stdout",
          "text": [
            "            Feature        VIF\n",
            "0            GENDER   3.217584\n",
            "1         Car_Owner   2.032115\n",
            "2     Propert_Owner   2.986173\n",
            "3          CHILDREN   5.374970\n",
            "4     Annual_income   6.486406\n",
            "5       Type_Income   8.213564\n",
            "6         EDUCATION   3.138728\n",
            "7    Marital_status   2.867693\n",
            "8      Housing_type   1.117764\n",
            "9               Age  16.094747\n",
            "10    Employed_days   3.767293\n",
            "11  Type_Occupation   1.845756\n",
            "12   Family_Members  22.250306\n"
          ]
        }
      ]
    },
    {
      "cell_type": "markdown",
      "source": [
        "*  The optimal VIF value is lesser than or equal to 5.\n",
        "*  **Age** and **Family_members** columns has high VIF values."
      ],
      "metadata": {
        "id": "ThbJUbd2-gMm"
      }
    },
    {
      "cell_type": "code",
      "source": [
        "# cheking for multicollinearity by dropping the features with high vif\n",
        "\n",
        "from statsmodels.stats.outliers_influence import variance_inflation_factor\n",
        "\n",
        "X_vif = df.drop(['Age','Family_Members','label'], axis = 1)\n",
        "\n",
        "vif_data = pd.DataFrame()\n",
        "vif_data['Feature'] = X_vif.columns\n",
        "\n",
        "vif_data['VIF'] = [variance_inflation_factor(X_vif.values,i)\n",
        "                    for i in range(len(X_vif.columns))]\n",
        "\n",
        "print(vif_data)"
      ],
      "metadata": {
        "id": "0FJmlS5hrHY9",
        "colab": {
          "base_uri": "https://localhost:8080/"
        },
        "outputId": "2e2960a7-8843-4a66-bfaf-b38f08d59d50"
      },
      "execution_count": null,
      "outputs": [
        {
          "output_type": "stream",
          "name": "stdout",
          "text": [
            "            Feature       VIF\n",
            "0            GENDER  2.953417\n",
            "1         Car_Owner  1.952373\n",
            "2     Propert_Owner  2.838438\n",
            "3          CHILDREN  1.343276\n",
            "4     Annual_income  5.581053\n",
            "5       Type_Income  5.727591\n",
            "6         EDUCATION  3.092195\n",
            "7    Marital_status  2.695591\n",
            "8      Housing_type  1.114480\n",
            "9     Employed_days  2.248570\n",
            "10  Type_Occupation  1.794171\n"
          ]
        }
      ]
    },
    {
      "cell_type": "markdown",
      "source": [
        "*  Now, all the features have optimal vif.\n",
        "*  Hence, deleting the Age and Family_Members column from the dataset."
      ],
      "metadata": {
        "id": "ne4i7bGE_JZQ"
      }
    },
    {
      "cell_type": "code",
      "source": [
        "df = df.drop(['Age','Family_Members'], axis = 1)"
      ],
      "metadata": {
        "id": "2kfmlnZwnIH3"
      },
      "execution_count": null,
      "outputs": []
    },
    {
      "cell_type": "markdown",
      "source": [
        "## Feature Selection"
      ],
      "metadata": {
        "id": "8-Fta_zw7JIC"
      }
    },
    {
      "cell_type": "markdown",
      "source": [
        "*  Feature selection is an important step where we can select the features which are best fit for the study."
      ],
      "metadata": {
        "id": "zha2NJJW_4mK"
      }
    },
    {
      "cell_type": "code",
      "source": [
        "# splitting the dataset into dependent and independent features\n",
        "\n",
        "X = df.iloc[:,:-1]\n",
        "y = df.iloc[:,-1]"
      ],
      "metadata": {
        "id": "-vzY_0J0nILd"
      },
      "execution_count": null,
      "outputs": []
    },
    {
      "cell_type": "code",
      "source": [
        "# using Logit model to check for feature selection\n",
        "\n",
        "import statsmodels.api as sm\n",
        "\n",
        "logit_model = sm.Logit(y,X)\n",
        "result = logit_model.fit()\n",
        "\n",
        "print(result.summary2())"
      ],
      "metadata": {
        "id": "eMufhkQnnIPS",
        "colab": {
          "base_uri": "https://localhost:8080/"
        },
        "outputId": "2ea924c9-3140-4d2e-84f5-592da4772003"
      },
      "execution_count": null,
      "outputs": [
        {
          "output_type": "stream",
          "name": "stdout",
          "text": [
            "Optimization terminated successfully.\n",
            "         Current function value: 0.333456\n",
            "         Iterations 6\n",
            "                         Results: Logit\n",
            "=================================================================\n",
            "Model:              Logit            Method:           MLE       \n",
            "Dependent Variable: label            Pseudo R-squared: 0.040     \n",
            "Date:               2023-11-10 07:06 AIC:              1041.7129 \n",
            "No. Observations:   1541             BIC:              1079.0942 \n",
            "Df Model:           6                Log-Likelihood:   -513.86   \n",
            "Df Residuals:       1534             LL-Null:          -535.00   \n",
            "Converged:          1.0000           LLR p-value:      1.6081e-07\n",
            "No. Iterations:     6.0000           Scale:            1.0000    \n",
            "-----------------------------------------------------------------\n",
            "                   Coef.  Std.Err.    z    P>|z|   [0.025  0.975]\n",
            "-----------------------------------------------------------------\n",
            "GENDER            -0.5247   0.1709 -3.0703 0.0021 -0.8597 -0.1897\n",
            "Car_Owner         -0.2909   0.1838 -1.5832 0.1134 -0.6511  0.0692\n",
            "Annual_income     -0.0000   0.0000 -1.4035 0.1605 -0.0000  0.0000\n",
            "Type_Income       -0.8591   0.1135 -7.5719 0.0000 -1.0814 -0.6367\n",
            "Marital_status    -0.1258   0.0935 -1.3455 0.1785 -0.3091  0.0575\n",
            "Housing_type       0.3327   0.0828  4.0199 0.0001  0.1705  0.4949\n",
            "Employed_days      0.0000   0.0000  4.2427 0.0000  0.0000  0.0000\n",
            "=================================================================\n",
            "\n"
          ]
        }
      ]
    },
    {
      "cell_type": "markdown",
      "source": [
        "* The optimal value of |z| is lesser than or equal to 0.5 .\n",
        "* Features like **Type_Occupation**, **EDUCATION**, **CHILDREN** and **Propert_Owner** has high |z| value.\n",
        "* Hence, I am deleting those features from the dataset."
      ],
      "metadata": {
        "id": "b6dTUzJ9A2HB"
      }
    },
    {
      "cell_type": "code",
      "source": [
        "df = df.drop(['Type_Occupation','EDUCATION','CHILDREN','Propert_Owner'],axis = 1)"
      ],
      "metadata": {
        "id": "8U6DQXLv9bUo"
      },
      "execution_count": null,
      "outputs": []
    },
    {
      "cell_type": "markdown",
      "source": [
        "## Splitting the dataset into training and test data"
      ],
      "metadata": {
        "id": "uPbkKJsWAT6v"
      }
    },
    {
      "cell_type": "code",
      "source": [
        "# splitting the dataset into independent and dependent features\n",
        "# 20% of the data to test data and 80% to trainig data\n",
        "\n",
        "from sklearn.model_selection import train_test_split\n",
        "\n",
        "X_train, X_test, y_train, y_test = train_test_split(X, y, test_size = 0.2, random_state = 1)"
      ],
      "metadata": {
        "id": "h7mmxFrQAcPA"
      },
      "execution_count": null,
      "outputs": []
    },
    {
      "cell_type": "code",
      "source": [
        "# checking the dimensions of training dataset\n",
        "\n",
        "print(X_train.shape)\n",
        "print(y_train.shape)"
      ],
      "metadata": {
        "colab": {
          "base_uri": "https://localhost:8080/"
        },
        "id": "nnjqoXo1AcSQ",
        "outputId": "a7eaee80-239e-42e5-b1ec-c6e6895c47ed"
      },
      "execution_count": null,
      "outputs": [
        {
          "output_type": "stream",
          "name": "stdout",
          "text": [
            "(1232, 7)\n",
            "(1232,)\n"
          ]
        }
      ]
    },
    {
      "cell_type": "markdown",
      "source": [
        "* Training dataset has **1232** records"
      ],
      "metadata": {
        "id": "sGUv7w6aER8b"
      }
    },
    {
      "cell_type": "code",
      "source": [
        "# checking the dimensions of test data\n",
        "\n",
        "print(X_test.shape)\n",
        "print(y_test.shape)"
      ],
      "metadata": {
        "colab": {
          "base_uri": "https://localhost:8080/"
        },
        "id": "a27F-hPVAcVE",
        "outputId": "791c9a47-d966-42bb-b6e7-f60eb3a87335"
      },
      "execution_count": null,
      "outputs": [
        {
          "output_type": "stream",
          "name": "stdout",
          "text": [
            "(309, 7)\n",
            "(309,)\n"
          ]
        }
      ]
    },
    {
      "cell_type": "markdown",
      "source": [
        "* Test data has **309** records"
      ],
      "metadata": {
        "id": "ctm5pONFExxg"
      }
    },
    {
      "cell_type": "markdown",
      "source": [
        "## Standardizing the data"
      ],
      "metadata": {
        "id": "Pk86ukVbBQ4s"
      }
    },
    {
      "cell_type": "markdown",
      "source": [
        "* Data in the dataset may be on different scale.\n",
        "* And hence it is necessary to standardize the data before training any model.\n",
        "* Data can be standardized either using\n",
        "  * Standard scaler\n",
        "  * Min_max scaler\n",
        "* Here, I am using Standard scaler to standardize the data."
      ],
      "metadata": {
        "id": "T6JsXhluE9wz"
      }
    },
    {
      "cell_type": "code",
      "source": [
        "# importing StandardScaler library and standardizing the data\n",
        "\n",
        "from sklearn.preprocessing import StandardScaler\n",
        "\n",
        "sc = StandardScaler()\n",
        "\n",
        "X_train = sc.fit_transform(X_train)\n",
        "\n",
        "X_test = sc.transform(X_test)"
      ],
      "metadata": {
        "id": "c11yqZmmAcYb"
      },
      "execution_count": null,
      "outputs": []
    },
    {
      "cell_type": "markdown",
      "source": [
        "# **Machine Learning Models**"
      ],
      "metadata": {
        "id": "spVro1uvCMWd"
      }
    },
    {
      "cell_type": "markdown",
      "source": [
        "## Logistic Regression"
      ],
      "metadata": {
        "id": "_Prmig6ECRsi"
      }
    },
    {
      "cell_type": "code",
      "source": [
        "# importing the LogisticRegression model\n",
        "\n",
        "from sklearn.linear_model import LogisticRegression\n",
        "\n",
        "logistic_reg = LogisticRegression()\n",
        "\n",
        "logistic_reg.fit(X_train, y_train)\n",
        "\n",
        "# predicting the training data\n",
        "log_pred_train = logistic_reg.predict(X_train)"
      ],
      "metadata": {
        "id": "RVWQSRfSAcbW"
      },
      "execution_count": null,
      "outputs": []
    },
    {
      "cell_type": "code",
      "source": [
        "# predicting the test data\n",
        "log_pred_test = logistic_reg.predict(X_test)"
      ],
      "metadata": {
        "id": "2OVP5DGzAce8"
      },
      "execution_count": null,
      "outputs": []
    },
    {
      "cell_type": "code",
      "source": [
        "# importing the classification metrics\n",
        "\n",
        "from sklearn.metrics import confusion_matrix, accuracy_score, precision_score, recall_score, f1_score\n",
        "from sklearn.metrics import roc_curve, roc_auc_score, RocCurveDisplay"
      ],
      "metadata": {
        "id": "IBW0MgfMAcic"
      },
      "execution_count": null,
      "outputs": []
    },
    {
      "cell_type": "code",
      "source": [
        "# evaluating the classification metrics\n",
        "print('Classification metrics of training data:')\n",
        "\n",
        "# Confusion matrix\n",
        "c_matrix_log = confusion_matrix(y_train, log_pred_train)\n",
        "print('Confusion matrix :')\n",
        "print(c_matrix_log)\n",
        "\n",
        "# Accuracy\n",
        "acc_log_train = round(accuracy_score(y_train, log_pred_train),4)\n",
        "print('Accuracy : ',acc_log_train)\n",
        "\n",
        "# Precision\n",
        "prec_log_train = round(precision_score(y_train, log_pred_train, average = 'weighted', zero_division = 1.0),4)\n",
        "print('Precision : ',prec_log_train)\n",
        "\n",
        "# Recall score\n",
        "recall_log_train = round(recall_score(y_train, log_pred_train, average = 'weighted', zero_division = 1.0),4)\n",
        "print('Recall : ',recall_log_train)\n",
        "\n",
        "# F1 score\n",
        "f1_log_train = round(f1_score(y_train, log_pred_train, average = 'weighted', zero_division = 1.0),4)\n",
        "print('F1 Score : ',f1_log_train)"
      ],
      "metadata": {
        "id": "GRgYttWyAcln",
        "colab": {
          "base_uri": "https://localhost:8080/"
        },
        "outputId": "a74adbb2-8305-4c45-c6d7-e04a4776448f"
      },
      "execution_count": null,
      "outputs": [
        {
          "output_type": "stream",
          "name": "stdout",
          "text": [
            "Classification metrics of training data:\n",
            "Confusion matrix :\n",
            "[[1093    1]\n",
            " [ 138    0]]\n",
            "Accuracy :  0.8872\n",
            "Precision :  0.7884\n",
            "Recall :  0.8872\n",
            "F1 Score :  0.8349\n"
          ]
        }
      ]
    },
    {
      "cell_type": "code",
      "source": [
        "print('Classification metrics of test data:')\n",
        "\n",
        "# Accuracy\n",
        "acc_log_test = round(accuracy_score(y_test, log_pred_test),4)\n",
        "print('Accuracy : ',acc_log_test)\n",
        "\n",
        "# Precision\n",
        "prec_log_test = round(precision_score(y_test, log_pred_test, average = 'weighted', zero_division = 1.0),4)\n",
        "print('Precision : ',prec_log_test)\n",
        "\n",
        "# Recall score\n",
        "recall_log_test = round(recall_score(y_test, log_pred_test, average = 'weighted', zero_division = 1.0),4)\n",
        "print('Recall : ',recall_log_test)\n",
        "\n",
        "# F1 score\n",
        "f1_log_test = round(f1_score(y_test, log_pred_test, average = 'weighted', zero_division = 1.0),4)\n",
        "print('F1 Score : ',f1_log_test)"
      ],
      "metadata": {
        "colab": {
          "base_uri": "https://localhost:8080/"
        },
        "id": "VtPFNA2F0iLV",
        "outputId": "9b87cd8b-b102-43de-9445-bfae6594ed15"
      },
      "execution_count": null,
      "outputs": [
        {
          "output_type": "stream",
          "name": "stdout",
          "text": [
            "Classification metrics of test data:\n",
            "Accuracy :  0.8964\n",
            "Precision :  0.9072\n",
            "Recall :  0.8964\n",
            "F1 Score :  0.8475\n"
          ]
        }
      ]
    },
    {
      "cell_type": "code",
      "source": [
        "# ROC_AUC curve\n",
        "roc_auc_log = roc_auc_score(y_test, log_pred_test)\n",
        "\n",
        "false_positive_rate, true_positive_rate, threshold = roc_curve(y_test, log_pred_test)\n",
        "\n",
        "display = RocCurveDisplay(fpr = false_positive_rate, tpr = true_positive_rate, roc_auc = roc_auc_log).plot()\n",
        "display.figure_.set_size_inches(4,4)"
      ],
      "metadata": {
        "colab": {
          "base_uri": "https://localhost:8080/",
          "height": 388
        },
        "id": "I82t3Cm80iID",
        "outputId": "fb02afb7-34d2-4834-e1f1-1f5cf3f9e67d"
      },
      "execution_count": null,
      "outputs": [
        {
          "output_type": "display_data",
          "data": {
            "text/plain": [
              "<Figure size 400x400 with 1 Axes>"
            ],
            "image/png": "[encoded data removed]"
          },
          "metadata": {}
        }
      ]
    },
    {
      "cell_type": "markdown",
      "source": [
        "## Decision Tree Classifier"
      ],
      "metadata": {
        "id": "IK4CIzqy5oo0"
      }
    },
    {
      "cell_type": "code",
      "source": [
        "# importing DecisionTreeClassifier\n",
        "\n",
        "from sklearn.tree import DecisionTreeClassifier\n",
        "\n",
        "dtc = DecisionTreeClassifier()"
      ],
      "metadata": {
        "id": "GQecGdgx0iOi"
      },
      "execution_count": null,
      "outputs": []
    },
    {
      "cell_type": "code",
      "source": [
        "# using GridSearch algorithm to find the best fit parameters for the model\n",
        "\n",
        "from sklearn.model_selection import GridSearchCV\n",
        "\n",
        "parameter_grid = {'criterion':['gini','entropy','log_loss'],\n",
        "                  'max_depth' : [2,3,4,5,6,7,8]}\n",
        "\n",
        "grid = GridSearchCV(dtc, parameter_grid, refit = True)\n",
        "\n",
        "grid.fit(X_train, y_train)"
      ],
      "metadata": {
        "colab": {
          "base_uri": "https://localhost:8080/",
          "height": 117
        },
        "id": "xaPaHx030iSH",
        "outputId": "8850a374-0fc1-40b4-c8ef-9983241ea64e"
      },
      "execution_count": null,
      "outputs": [
        {
          "output_type": "execute_result",
          "data": {
            "text/plain": [
              "GridSearchCV(estimator=DecisionTreeClassifier(),\n",
              "             param_grid={'criterion': ['gini', 'entropy', 'log_loss'],\n",
              "                         'max_depth': [2, 3, 4, 5, 6, 7, 8]})"
            ],
            "text/html": [
              "<style>#sk-container-id-1 {color: black;background-color: white;}#sk-container-id-1 pre{padding: 0;}#sk-container-id-1 div.sk-toggleable {background-color: white;}#sk-container-id-1 label.sk-toggleable__label {cursor: pointer;display: block;width: 100%;margin-bottom: 0;padding: 0.3em;box-sizing: border-box;text-align: center;}#sk-container-id-1 label.sk-toggleable__label-arrow:before {content: \"▸\";float: left;margin-right: 0.25em;color: #696969;}#sk-container-id-1 label.sk-toggleable__label-arrow:hover:before {color: black;}#sk-container-id-1 div.sk-estimator:hover label.sk-toggleable__label-arrow:before {color: black;}#sk-container-id-1 div.sk-toggleable__content {max-height: 0;max-width: 0;overflow: hidden;text-align: left;background-color: #f0f8ff;}#sk-container-id-1 div.sk-toggleable__content pre {margin: 0.2em;color: black;border-radius: 0.25em;background-color: #f0f8ff;}#sk-container-id-1 input.sk-toggleable__control:checked~div.sk-toggleable__content {max-height: 200px;max-width: 100%;overflow: auto;}#sk-container-id-1 input.sk-toggleable__control:checked~label.sk-toggleable__label-arrow:before {content: \"▾\";}#sk-container-id-1 div.sk-estimator input.sk-toggleable__control:checked~label.sk-toggleable__label {background-color: #d4ebff;}#sk-container-id-1 div.sk-label input.sk-toggleable__control:checked~label.sk-toggleable__label {background-color: #d4ebff;}#sk-container-id-1 input.sk-hidden--visually {border: 0;clip: rect(1px 1px 1px 1px);clip: rect(1px, 1px, 1px, 1px);height: 1px;margin: -1px;overflow: hidden;padding: 0;position: absolute;width: 1px;}#sk-container-id-1 div.sk-estimator {font-family: monospace;background-color: #f0f8ff;border: 1px dotted black;border-radius: 0.25em;box-sizing: border-box;margin-bottom: 0.5em;}#sk-container-id-1 div.sk-estimator:hover {background-color: #d4ebff;}#sk-container-id-1 div.sk-parallel-item::after {content: \"\";width: 100%;border-bottom: 1px solid gray;flex-grow: 1;}#sk-container-id-1 div.sk-label:hover label.sk-toggleable__label {background-color: #d4ebff;}#sk-container-id-1 div.sk-serial::before {content: \"\";position: absolute;border-left: 1px solid gray;box-sizing: border-box;top: 0;bottom: 0;left: 50%;z-index: 0;}#sk-container-id-1 div.sk-serial {display: flex;flex-direction: column;align-items: center;background-color: white;padding-right: 0.2em;padding-left: 0.2em;position: relative;}#sk-container-id-1 div.sk-item {position: relative;z-index: 1;}#sk-container-id-1 div.sk-parallel {display: flex;align-items: stretch;justify-content: center;background-color: white;position: relative;}#sk-container-id-1 div.sk-item::before, #sk-container-id-1 div.sk-parallel-item::before {content: \"\";position: absolute;border-left: 1px solid gray;box-sizing: border-box;top: 0;bottom: 0;left: 50%;z-index: -1;}#sk-container-id-1 div.sk-parallel-item {display: flex;flex-direction: column;z-index: 1;position: relative;background-color: white;}#sk-container-id-1 div.sk-parallel-item:first-child::after {align-self: flex-end;width: 50%;}#sk-container-id-1 div.sk-parallel-item:last-child::after {align-self: flex-start;width: 50%;}#sk-container-id-1 div.sk-parallel-item:only-child::after {width: 0;}#sk-container-id-1 div.sk-dashed-wrapped {border: 1px dashed gray;margin: 0 0.4em 0.5em 0.4em;box-sizing: border-box;padding-bottom: 0.4em;background-color: white;}#sk-container-id-1 div.sk-label label {font-family: monospace;font-weight: bold;display: inline-block;line-height: 1.2em;}#sk-container-id-1 div.sk-label-container {text-align: center;}#sk-container-id-1 div.sk-container {/* jupyter's `normalize.less` sets `[hidden] { display: none; }` but bootstrap.min.css set `[hidden] { display: none !important; }` so we also need the `!important` here to be able to override the default hidden behavior on the sphinx rendered scikit-learn.org. See: https://github.com/scikit-learn/scikit-learn/issues/21755 */display: inline-block !important;position: relative;}#sk-container-id-1 div.sk-text-repr-fallback {display: none;}</style><div id=\"sk-container-id-1\" class=\"sk-top-container\"><div class=\"sk-text-repr-fallback\"><pre>GridSearchCV(estimator=DecisionTreeClassifier(),\n",
              "             param_grid={&#x27;criterion&#x27;: [&#x27;gini&#x27;, &#x27;entropy&#x27;, &#x27;log_loss&#x27;],\n",
              "                         &#x27;max_depth&#x27;: [2, 3, 4, 5, 6, 7, 8]})</pre><b>In a Jupyter environment, please rerun this cell to show the HTML representation or trust the notebook. <br />On GitHub, the HTML representation is unable to render, please try loading this page with nbviewer.org.</b></div><div class=\"sk-container\" hidden><div class=\"sk-item sk-dashed-wrapped\"><div class=\"sk-label-container\"><div class=\"sk-label sk-toggleable\"><input class=\"sk-toggleable__control sk-hidden--visually\" id=\"sk-estimator-id-1\" type=\"checkbox\" ><label for=\"sk-estimator-id-1\" class=\"sk-toggleable__label sk-toggleable__label-arrow\">GridSearchCV</label><div class=\"sk-toggleable__content\"><pre>GridSearchCV(estimator=DecisionTreeClassifier(),\n",
              "             param_grid={&#x27;criterion&#x27;: [&#x27;gini&#x27;, &#x27;entropy&#x27;, &#x27;log_loss&#x27;],\n",
              "                         &#x27;max_depth&#x27;: [2, 3, 4, 5, 6, 7, 8]})</pre></div></div></div><div class=\"sk-parallel\"><div class=\"sk-parallel-item\"><div class=\"sk-item\"><div class=\"sk-label-container\"><div class=\"sk-label sk-toggleable\"><input class=\"sk-toggleable__control sk-hidden--visually\" id=\"sk-estimator-id-2\" type=\"checkbox\" ><label for=\"sk-estimator-id-2\" class=\"sk-toggleable__label sk-toggleable__label-arrow\">estimator: DecisionTreeClassifier</label><div class=\"sk-toggleable__content\"><pre>DecisionTreeClassifier()</pre></div></div></div><div class=\"sk-serial\"><div class=\"sk-item\"><div class=\"sk-estimator sk-toggleable\"><input class=\"sk-toggleable__control sk-hidden--visually\" id=\"sk-estimator-id-3\" type=\"checkbox\" ><label for=\"sk-estimator-id-3\" class=\"sk-toggleable__label sk-toggleable__label-arrow\">DecisionTreeClassifier</label><div class=\"sk-toggleable__content\"><pre>DecisionTreeClassifier()</pre></div></div></div></div></div></div></div></div></div></div>"
            ]
          },
          "metadata": {},
          "execution_count": 42
        }
      ]
    },
    {
      "cell_type": "code",
      "source": [
        "print(grid.best_params_)"
      ],
      "metadata": {
        "colab": {
          "base_uri": "https://localhost:8080/"
        },
        "id": "N7d1YAC_0iVL",
        "outputId": "d910927a-f4b9-4db7-d618-3d5508ba793a"
      },
      "execution_count": null,
      "outputs": [
        {
          "output_type": "stream",
          "name": "stdout",
          "text": [
            "{'criterion': 'gini', 'max_depth': 2}\n"
          ]
        }
      ]
    },
    {
      "cell_type": "code",
      "source": [
        "# training the model with best fit parameters\n",
        "\n",
        "dtc = DecisionTreeClassifier(criterion = 'gini', max_depth = 2)\n",
        "\n",
        "dtc.fit(X_train, y_train)\n",
        "\n",
        "# predicting the train data\n",
        "dtc_train_pred = dtc.predict(X_train)"
      ],
      "metadata": {
        "id": "rZ0PPAzv0iYy"
      },
      "execution_count": null,
      "outputs": []
    },
    {
      "cell_type": "code",
      "source": [
        "# predicting the test data\n",
        "dtc_test_pred = dtc.predict(X_test)"
      ],
      "metadata": {
        "id": "xAlF55ti6qqP"
      },
      "execution_count": null,
      "outputs": []
    },
    {
      "cell_type": "code",
      "source": [
        "# evaluating the classification metrics\n",
        "print('Classification metrics of training data:')\n",
        "\n",
        "# Confusion matrix\n",
        "c_matrix_dtc = confusion_matrix(y_train, dtc_train_pred)\n",
        "print('Confusion matrix :')\n",
        "print(c_matrix_dtc)\n",
        "\n",
        "# Accuracy\n",
        "acc_dtc_train = round(accuracy_score(y_train, dtc_train_pred),4)\n",
        "print('Accuracy : ',acc_dtc_train)\n",
        "\n",
        "# Precision\n",
        "prec_dtc_train = round(precision_score(y_train, dtc_train_pred, average = 'weighted', zero_division = 1.0),4)\n",
        "print('Precision : ',prec_dtc_train)\n",
        "\n",
        "# Recall score\n",
        "recall_dtc_train = round(recall_score(y_train, dtc_train_pred, average = 'weighted', zero_division = 1.0),4)\n",
        "print('Recall : ',recall_dtc_train)\n",
        "\n",
        "# F1 score\n",
        "f1_dtc_train = round(f1_score(y_train, dtc_train_pred, average = 'weighted', zero_division = 1.0),4)\n",
        "print('F1 Score : ',f1_dtc_train)"
      ],
      "metadata": {
        "colab": {
          "base_uri": "https://localhost:8080/"
        },
        "id": "Y_Jx3W4k0icK",
        "outputId": "ec9598bf-8fae-4c87-d3bb-ea4faa0406ec"
      },
      "execution_count": null,
      "outputs": [
        {
          "output_type": "stream",
          "name": "stdout",
          "text": [
            "Classification metrics of training data:\n",
            "Confusion matrix :\n",
            "[[1094    0]\n",
            " [ 138    0]]\n",
            "Accuracy :  0.888\n",
            "Precision :  0.9005\n",
            "Recall :  0.888\n",
            "F1 Score :  0.8353\n"
          ]
        }
      ]
    },
    {
      "cell_type": "code",
      "source": [
        "print('Classification metrics of test data:')\n",
        "\n",
        "# Accuracy\n",
        "acc_dtc_test = round(accuracy_score(y_test, dtc_test_pred),4)\n",
        "print('Accuracy : ',acc_dtc_test)\n",
        "\n",
        "# Prediction\n",
        "prec_dtc_test = round(precision_score(y_test, dtc_test_pred, average = 'weighted', zero_division = 1.0),4)\n",
        "print('Precision : ',prec_dtc_test)\n",
        "\n",
        "# Recall score\n",
        "recall_dtc_test = round(recall_score(y_test, dtc_test_pred, average = 'weighted', zero_division = 1.0),4)\n",
        "print('Recall : ',recall_dtc_test)\n",
        "\n",
        "# F1 score\n",
        "f1_dtc_test = round(f1_score(y_test, dtc_test_pred, average = 'weighted', zero_division = 1.0),4)\n",
        "print('F1 Score : ',f1_dtc_test)"
      ],
      "metadata": {
        "colab": {
          "base_uri": "https://localhost:8080/"
        },
        "id": "XWvh-HGe0ifp",
        "outputId": "5b72eb7e-f948-4124-c3e6-e428f884d76c"
      },
      "execution_count": null,
      "outputs": [
        {
          "output_type": "stream",
          "name": "stdout",
          "text": [
            "Classification metrics of test data:\n",
            "Accuracy :  0.8964\n",
            "Precision :  0.9072\n",
            "Recall :  0.8964\n",
            "F1 Score :  0.8475\n"
          ]
        }
      ]
    },
    {
      "cell_type": "code",
      "source": [
        "# ROC_AUC curve\n",
        "roc_auc_dtc = roc_auc_score(y_test, dtc_test_pred)\n",
        "\n",
        "false_positive_rate, true_positive_rate, threshold = roc_curve(y_test, dtc_test_pred)\n",
        "\n",
        "display = RocCurveDisplay(fpr = false_positive_rate, tpr = true_positive_rate, roc_auc = roc_auc_dtc).plot()\n",
        "display.figure_.set_size_inches(4,4)"
      ],
      "metadata": {
        "colab": {
          "base_uri": "https://localhost:8080/",
          "height": 388
        },
        "id": "PpnZgoms0ijV",
        "outputId": "428e5f5d-0623-4490-95a8-6e962d2e4051"
      },
      "execution_count": null,
      "outputs": [
        {
          "output_type": "display_data",
          "data": {
            "text/plain": [
              "<Figure size 400x400 with 1 Axes>"
            ],
            "image/png": "[encoded data removed]"
          },
          "metadata": {}
        }
      ]
    },
    {
      "cell_type": "markdown",
      "source": [
        "## Random Forest Classifier"
      ],
      "metadata": {
        "id": "tm4_wujs7KBY"
      }
    },
    {
      "cell_type": "code",
      "source": [
        "# importing RandomForestClassifier model\n",
        "\n",
        "from sklearn.ensemble import RandomForestClassifier\n",
        "\n",
        "rfc = RandomForestClassifier()"
      ],
      "metadata": {
        "id": "qy23oCdp0inH"
      },
      "execution_count": null,
      "outputs": []
    },
    {
      "cell_type": "code",
      "source": [
        "# using GridSearch algorithm to find the best fit parameters for the model\n",
        "\n",
        "from sklearn.model_selection import GridSearchCV\n",
        "\n",
        "parameter_grid = {'n_estimators':[20,40,60,80,100],\n",
        "                  'criterion':['gini','entropy','log_loss'],\n",
        "                  'max_depth' : [2,3,4,5,6,7,8]}\n",
        "\n",
        "grid = GridSearchCV(rfc, parameter_grid, refit = True)\n",
        "\n",
        "grid.fit(X_train, y_train)"
      ],
      "metadata": {
        "colab": {
          "base_uri": "https://localhost:8080/",
          "height": 117
        },
        "id": "dBMh4uqH0iqs",
        "outputId": "22148254-7a55-4d4a-93dd-6122330dc05d"
      },
      "execution_count": null,
      "outputs": [
        {
          "output_type": "execute_result",
          "data": {
            "text/plain": [
              "GridSearchCV(estimator=RandomForestClassifier(),\n",
              "             param_grid={'criterion': ['gini', 'entropy', 'log_loss'],\n",
              "                         'max_depth': [2, 3, 4, 5, 6, 7, 8],\n",
              "                         'n_estimators': [20, 40, 60, 80, 100]})"
            ],
            "text/html": [
              "<style>#sk-container-id-2 {color: black;background-color: white;}#sk-container-id-2 pre{padding: 0;}#sk-container-id-2 div.sk-toggleable {background-color: white;}#sk-container-id-2 label.sk-toggleable__label {cursor: pointer;display: block;width: 100%;margin-bottom: 0;padding: 0.3em;box-sizing: border-box;text-align: center;}#sk-container-id-2 label.sk-toggleable__label-arrow:before {content: \"▸\";float: left;margin-right: 0.25em;color: #696969;}#sk-container-id-2 label.sk-toggleable__label-arrow:hover:before {color: black;}#sk-container-id-2 div.sk-estimator:hover label.sk-toggleable__label-arrow:before {color: black;}#sk-container-id-2 div.sk-toggleable__content {max-height: 0;max-width: 0;overflow: hidden;text-align: left;background-color: #f0f8ff;}#sk-container-id-2 div.sk-toggleable__content pre {margin: 0.2em;color: black;border-radius: 0.25em;background-color: #f0f8ff;}#sk-container-id-2 input.sk-toggleable__control:checked~div.sk-toggleable__content {max-height: 200px;max-width: 100%;overflow: auto;}#sk-container-id-2 input.sk-toggleable__control:checked~label.sk-toggleable__label-arrow:before {content: \"▾\";}#sk-container-id-2 div.sk-estimator input.sk-toggleable__control:checked~label.sk-toggleable__label {background-color: #d4ebff;}#sk-container-id-2 div.sk-label input.sk-toggleable__control:checked~label.sk-toggleable__label {background-color: #d4ebff;}#sk-container-id-2 input.sk-hidden--visually {border: 0;clip: rect(1px 1px 1px 1px);clip: rect(1px, 1px, 1px, 1px);height: 1px;margin: -1px;overflow: hidden;padding: 0;position: absolute;width: 1px;}#sk-container-id-2 div.sk-estimator {font-family: monospace;background-color: #f0f8ff;border: 1px dotted black;border-radius: 0.25em;box-sizing: border-box;margin-bottom: 0.5em;}#sk-container-id-2 div.sk-estimator:hover {background-color: #d4ebff;}#sk-container-id-2 div.sk-parallel-item::after {content: \"\";width: 100%;border-bottom: 1px solid gray;flex-grow: 1;}#sk-container-id-2 div.sk-label:hover label.sk-toggleable__label {background-color: #d4ebff;}#sk-container-id-2 div.sk-serial::before {content: \"\";position: absolute;border-left: 1px solid gray;box-sizing: border-box;top: 0;bottom: 0;left: 50%;z-index: 0;}#sk-container-id-2 div.sk-serial {display: flex;flex-direction: column;align-items: center;background-color: white;padding-right: 0.2em;padding-left: 0.2em;position: relative;}#sk-container-id-2 div.sk-item {position: relative;z-index: 1;}#sk-container-id-2 div.sk-parallel {display: flex;align-items: stretch;justify-content: center;background-color: white;position: relative;}#sk-container-id-2 div.sk-item::before, #sk-container-id-2 div.sk-parallel-item::before {content: \"\";position: absolute;border-left: 1px solid gray;box-sizing: border-box;top: 0;bottom: 0;left: 50%;z-index: -1;}#sk-container-id-2 div.sk-parallel-item {display: flex;flex-direction: column;z-index: 1;position: relative;background-color: white;}#sk-container-id-2 div.sk-parallel-item:first-child::after {align-self: flex-end;width: 50%;}#sk-container-id-2 div.sk-parallel-item:last-child::after {align-self: flex-start;width: 50%;}#sk-container-id-2 div.sk-parallel-item:only-child::after {width: 0;}#sk-container-id-2 div.sk-dashed-wrapped {border: 1px dashed gray;margin: 0 0.4em 0.5em 0.4em;box-sizing: border-box;padding-bottom: 0.4em;background-color: white;}#sk-container-id-2 div.sk-label label {font-family: monospace;font-weight: bold;display: inline-block;line-height: 1.2em;}#sk-container-id-2 div.sk-label-container {text-align: center;}#sk-container-id-2 div.sk-container {/* jupyter's `normalize.less` sets `[hidden] { display: none; }` but bootstrap.min.css set `[hidden] { display: none !important; }` so we also need the `!important` here to be able to override the default hidden behavior on the sphinx rendered scikit-learn.org. See: https://github.com/scikit-learn/scikit-learn/issues/21755 */display: inline-block !important;position: relative;}#sk-container-id-2 div.sk-text-repr-fallback {display: none;}</style><div id=\"sk-container-id-2\" class=\"sk-top-container\"><div class=\"sk-text-repr-fallback\"><pre>GridSearchCV(estimator=RandomForestClassifier(),\n",
              "             param_grid={&#x27;criterion&#x27;: [&#x27;gini&#x27;, &#x27;entropy&#x27;, &#x27;log_loss&#x27;],\n",
              "                         &#x27;max_depth&#x27;: [2, 3, 4, 5, 6, 7, 8],\n",
              "                         &#x27;n_estimators&#x27;: [20, 40, 60, 80, 100]})</pre><b>In a Jupyter environment, please rerun this cell to show the HTML representation or trust the notebook. <br />On GitHub, the HTML representation is unable to render, please try loading this page with nbviewer.org.</b></div><div class=\"sk-container\" hidden><div class=\"sk-item sk-dashed-wrapped\"><div class=\"sk-label-container\"><div class=\"sk-label sk-toggleable\"><input class=\"sk-toggleable__control sk-hidden--visually\" id=\"sk-estimator-id-4\" type=\"checkbox\" ><label for=\"sk-estimator-id-4\" class=\"sk-toggleable__label sk-toggleable__label-arrow\">GridSearchCV</label><div class=\"sk-toggleable__content\"><pre>GridSearchCV(estimator=RandomForestClassifier(),\n",
              "             param_grid={&#x27;criterion&#x27;: [&#x27;gini&#x27;, &#x27;entropy&#x27;, &#x27;log_loss&#x27;],\n",
              "                         &#x27;max_depth&#x27;: [2, 3, 4, 5, 6, 7, 8],\n",
              "                         &#x27;n_estimators&#x27;: [20, 40, 60, 80, 100]})</pre></div></div></div><div class=\"sk-parallel\"><div class=\"sk-parallel-item\"><div class=\"sk-item\"><div class=\"sk-label-container\"><div class=\"sk-label sk-toggleable\"><input class=\"sk-toggleable__control sk-hidden--visually\" id=\"sk-estimator-id-5\" type=\"checkbox\" ><label for=\"sk-estimator-id-5\" class=\"sk-toggleable__label sk-toggleable__label-arrow\">estimator: RandomForestClassifier</label><div class=\"sk-toggleable__content\"><pre>RandomForestClassifier()</pre></div></div></div><div class=\"sk-serial\"><div class=\"sk-item\"><div class=\"sk-estimator sk-toggleable\"><input class=\"sk-toggleable__control sk-hidden--visually\" id=\"sk-estimator-id-6\" type=\"checkbox\" ><label for=\"sk-estimator-id-6\" class=\"sk-toggleable__label sk-toggleable__label-arrow\">RandomForestClassifier</label><div class=\"sk-toggleable__content\"><pre>RandomForestClassifier()</pre></div></div></div></div></div></div></div></div></div></div>"
            ]
          },
          "metadata": {},
          "execution_count": 50
        }
      ]
    },
    {
      "cell_type": "code",
      "source": [
        "print(grid.best_params_)"
      ],
      "metadata": {
        "colab": {
          "base_uri": "https://localhost:8080/"
        },
        "id": "-RieZUG60iuR",
        "outputId": "5c7652b3-34ff-4298-fb1a-4d8513dabdcb"
      },
      "execution_count": null,
      "outputs": [
        {
          "output_type": "stream",
          "name": "stdout",
          "text": [
            "{'criterion': 'gini', 'max_depth': 8, 'n_estimators': 40}\n"
          ]
        }
      ]
    },
    {
      "cell_type": "code",
      "source": [
        "# training the model with best fit parameters\n",
        "\n",
        "rfc = RandomForestClassifier(criterion = 'gini', max_depth = 8, n_estimators = 40)\n",
        "\n",
        "rfc.fit(X_train, y_train)\n",
        "\n",
        "# predicting the train data\n",
        "rfc_train_pred = rfc.predict(X_train)"
      ],
      "metadata": {
        "id": "_T9rRF8M7qX2"
      },
      "execution_count": null,
      "outputs": []
    },
    {
      "cell_type": "code",
      "source": [
        "# predicting the test data\n",
        "rfc_test_pred = rfc.predict(X_test)"
      ],
      "metadata": {
        "id": "YH9QZEZY7qbF"
      },
      "execution_count": null,
      "outputs": []
    },
    {
      "cell_type": "code",
      "source": [
        "# evaluating the classification metrics\n",
        "print('Classification metrics of training data:')\n",
        "\n",
        "# Confusion matrix\n",
        "c_matrix_rfc = confusion_matrix(y_train, rfc_train_pred)\n",
        "print('Confusion matrix :')\n",
        "print(c_matrix_rfc)\n",
        "\n",
        "# Accuracy\n",
        "acc_rfc_train = round(accuracy_score(y_train, rfc_train_pred),4)\n",
        "print('Accuracy : ',acc_rfc_train)\n",
        "\n",
        "# Precision\n",
        "prec_rfc_train = round(precision_score(y_train, rfc_train_pred, average = 'weighted', zero_division = 1.0),4)\n",
        "print('Precision : ',prec_rfc_train)\n",
        "\n",
        "# Recall score\n",
        "recall_rfc_train = round(recall_score(y_train, rfc_train_pred, average = 'weighted', zero_division = 1.0),4)\n",
        "print('Recall : ',recall_rfc_train)\n",
        "\n",
        "# F1 score\n",
        "f1_rfc_train = round(f1_score(y_train, rfc_train_pred, average = 'weighted', zero_division = 1.0),4)\n",
        "print('F1 Score : ',f1_rfc_train)"
      ],
      "metadata": {
        "colab": {
          "base_uri": "https://localhost:8080/"
        },
        "id": "SWFEqcpb7qeW",
        "outputId": "54d16fba-61cd-47ac-9ba2-5dcb82f0de88"
      },
      "execution_count": null,
      "outputs": [
        {
          "output_type": "stream",
          "name": "stdout",
          "text": [
            "Classification metrics of training data:\n",
            "Confusion matrix :\n",
            "[[1094    0]\n",
            " [  97   41]]\n",
            "Accuracy :  0.9213\n",
            "Precision :  0.9277\n",
            "Recall :  0.9213\n",
            "F1 Score :  0.9016\n"
          ]
        }
      ]
    },
    {
      "cell_type": "code",
      "source": [
        "print('Classification metrics of test data:')\n",
        "\n",
        "# Accuracy\n",
        "acc_rfc_test = round(accuracy_score(y_test, rfc_test_pred),4)\n",
        "print('Accuracy : ',acc_rfc_test)\n",
        "\n",
        "# Precision\n",
        "prec_rfc_test = round(precision_score(y_test, rfc_test_pred, average = 'weighted', zero_division = 1.0),4)\n",
        "print('Precision : ',prec_rfc_test)\n",
        "\n",
        "# Recall score\n",
        "recall_rfc_test = round(recall_score(y_test, rfc_test_pred, average = 'weighted', zero_division = 1.0),4)\n",
        "print('Recall : ',recall_rfc_test)\n",
        "\n",
        "# F1 score\n",
        "f1_rfc_test = round(f1_score(y_test, rfc_test_pred, average = 'weighted', zero_division = 1.0),4)\n",
        "print('F1 Score : ',f1_rfc_test)"
      ],
      "metadata": {
        "colab": {
          "base_uri": "https://localhost:8080/"
        },
        "id": "1MTBhQR27qhk",
        "outputId": "32d5c367-452c-4cf0-ef81-edfa08e69abc"
      },
      "execution_count": null,
      "outputs": [
        {
          "output_type": "stream",
          "name": "stdout",
          "text": [
            "Classification metrics of test data:\n",
            "Accuracy :  0.8835\n",
            "Precision :  0.8024\n",
            "Recall :  0.8835\n",
            "F1 Score :  0.841\n"
          ]
        }
      ]
    },
    {
      "cell_type": "code",
      "source": [
        "# ROC_AUC curve\n",
        "roc_auc_rfc = roc_auc_score(y_test, rfc_test_pred)\n",
        "\n",
        "false_positive_rate, true_positive_rate, threshold = roc_curve(y_test, rfc_test_pred)\n",
        "\n",
        "display = RocCurveDisplay(fpr = false_positive_rate, tpr = true_positive_rate, roc_auc = roc_auc_rfc).plot()\n",
        "display.figure_.set_size_inches(4,4)"
      ],
      "metadata": {
        "colab": {
          "base_uri": "https://localhost:8080/",
          "height": 388
        },
        "id": "TxA5-Cps7qlL",
        "outputId": "24f46ab5-1209-437c-cfe8-e59a31fc3eba"
      },
      "execution_count": null,
      "outputs": [
        {
          "output_type": "display_data",
          "data": {
            "text/plain": [
              "<Figure size 400x400 with 1 Axes>"
            ],
            "image/png": "[encoded data removed]"
          },
          "metadata": {}
        }
      ]
    },
    {
      "cell_type": "markdown",
      "source": [
        "## XGBoost Classifier"
      ],
      "metadata": {
        "id": "AH07rkha82Kn"
      }
    },
    {
      "cell_type": "code",
      "source": [
        "# importing XGBoost classifier model\n",
        "\n",
        "from xgboost import XGBClassifier\n",
        "\n",
        "xgb = XGBClassifier()"
      ],
      "metadata": {
        "id": "V6kiRRKz7qol"
      },
      "execution_count": null,
      "outputs": []
    },
    {
      "cell_type": "code",
      "source": [
        "# using GridSearch algorithm to find the best fit parameters for the model\n",
        "\n",
        "from sklearn.model_selection import GridSearchCV\n",
        "\n",
        "parameter_grid = {'max_depth' : [2,3,4,5,6,7,8],\n",
        "                  'n_estimators' : [20,40,60,80,100],\n",
        "                  'learning_rate' : [0.3,0.5,0.7,0.9]}\n",
        "\n",
        "grid = GridSearchCV(xgb, parameter_grid, refit = True)\n",
        "\n",
        "grid.fit(X_train,y_train)"
      ],
      "metadata": {
        "colab": {
          "base_uri": "https://localhost:8080/",
          "height": 117
        },
        "id": "hyAkJDE_87hv",
        "outputId": "d0c91abc-6fe7-4466-b2cb-cbe2807237ac"
      },
      "execution_count": null,
      "outputs": [
        {
          "output_type": "execute_result",
          "data": {
            "text/plain": [
              "GridSearchCV(estimator=XGBClassifier(base_score=None, booster=None,\n",
              "                                     callbacks=None, colsample_bylevel=None,\n",
              "                                     colsample_bynode=None,\n",
              "                                     colsample_bytree=None, device=None,\n",
              "                                     early_stopping_rounds=None,\n",
              "                                     enable_categorical=False, eval_metric=None,\n",
              "                                     feature_types=None, gamma=None,\n",
              "                                     grow_policy=None, importance_type=None,\n",
              "                                     interaction_constraints=None,\n",
              "                                     learning_rate=None, max_b...\n",
              "                                     max_cat_threshold=None,\n",
              "                                     max_cat_to_onehot=None,\n",
              "                                     max_delta_step=None, max_depth=None,\n",
              "                                     max_leaves=None, min_child_weight=None,\n",
              "                                     missing=nan, monotone_constraints=None,\n",
              "                                     multi_strategy=None, n_estimators=None,\n",
              "                                     n_jobs=None, num_parallel_tree=None,\n",
              "                                     random_state=None, ...),\n",
              "             param_grid={'learning_rate': [0.3, 0.5, 0.7, 0.9],\n",
              "                         'max_depth': [2, 3, 4, 5, 6, 7, 8],\n",
              "                         'n_estimators': [20, 40, 60, 80, 100]})"
            ],
            "text/html": [
              "<style>#sk-container-id-3 {color: black;background-color: white;}#sk-container-id-3 pre{padding: 0;}#sk-container-id-3 div.sk-toggleable {background-color: white;}#sk-container-id-3 label.sk-toggleable__label {cursor: pointer;display: block;width: 100%;margin-bottom: 0;padding: 0.3em;box-sizing: border-box;text-align: center;}#sk-container-id-3 label.sk-toggleable__label-arrow:before {content: \"▸\";float: left;margin-right: 0.25em;color: #696969;}#sk-container-id-3 label.sk-toggleable__label-arrow:hover:before {color: black;}#sk-container-id-3 div.sk-estimator:hover label.sk-toggleable__label-arrow:before {color: black;}#sk-container-id-3 div.sk-toggleable__content {max-height: 0;max-width: 0;overflow: hidden;text-align: left;background-color: #f0f8ff;}#sk-container-id-3 div.sk-toggleable__content pre {margin: 0.2em;color: black;border-radius: 0.25em;background-color: #f0f8ff;}#sk-container-id-3 input.sk-toggleable__control:checked~div.sk-toggleable__content {max-height: 200px;max-width: 100%;overflow: auto;}#sk-container-id-3 input.sk-toggleable__control:checked~label.sk-toggleable__label-arrow:before {content: \"▾\";}#sk-container-id-3 div.sk-estimator input.sk-toggleable__control:checked~label.sk-toggleable__label {background-color: #d4ebff;}#sk-container-id-3 div.sk-label input.sk-toggleable__control:checked~label.sk-toggleable__label {background-color: #d4ebff;}#sk-container-id-3 input.sk-hidden--visually {border: 0;clip: rect(1px 1px 1px 1px);clip: rect(1px, 1px, 1px, 1px);height: 1px;margin: -1px;overflow: hidden;padding: 0;position: absolute;width: 1px;}#sk-container-id-3 div.sk-estimator {font-family: monospace;background-color: #f0f8ff;border: 1px dotted black;border-radius: 0.25em;box-sizing: border-box;margin-bottom: 0.5em;}#sk-container-id-3 div.sk-estimator:hover {background-color: #d4ebff;}#sk-container-id-3 div.sk-parallel-item::after {content: \"\";width: 100%;border-bottom: 1px solid gray;flex-grow: 1;}#sk-container-id-3 div.sk-label:hover label.sk-toggleable__label {background-color: #d4ebff;}#sk-container-id-3 div.sk-serial::before {content: \"\";position: absolute;border-left: 1px solid gray;box-sizing: border-box;top: 0;bottom: 0;left: 50%;z-index: 0;}#sk-container-id-3 div.sk-serial {display: flex;flex-direction: column;align-items: center;background-color: white;padding-right: 0.2em;padding-left: 0.2em;position: relative;}#sk-container-id-3 div.sk-item {position: relative;z-index: 1;}#sk-container-id-3 div.sk-parallel {display: flex;align-items: stretch;justify-content: center;background-color: white;position: relative;}#sk-container-id-3 div.sk-item::before, #sk-container-id-3 div.sk-parallel-item::before {content: \"\";position: absolute;border-left: 1px solid gray;box-sizing: border-box;top: 0;bottom: 0;left: 50%;z-index: -1;}#sk-container-id-3 div.sk-parallel-item {display: flex;flex-direction: column;z-index: 1;position: relative;background-color: white;}#sk-container-id-3 div.sk-parallel-item:first-child::after {align-self: flex-end;width: 50%;}#sk-container-id-3 div.sk-parallel-item:last-child::after {align-self: flex-start;width: 50%;}#sk-container-id-3 div.sk-parallel-item:only-child::after {width: 0;}#sk-container-id-3 div.sk-dashed-wrapped {border: 1px dashed gray;margin: 0 0.4em 0.5em 0.4em;box-sizing: border-box;padding-bottom: 0.4em;background-color: white;}#sk-container-id-3 div.sk-label label {font-family: monospace;font-weight: bold;display: inline-block;line-height: 1.2em;}#sk-container-id-3 div.sk-label-container {text-align: center;}#sk-container-id-3 div.sk-container {/* jupyter's `normalize.less` sets `[hidden] { display: none; }` but bootstrap.min.css set `[hidden] { display: none !important; }` so we also need the `!important` here to be able to override the default hidden behavior on the sphinx rendered scikit-learn.org. See: https://github.com/scikit-learn/scikit-learn/issues/21755 */display: inline-block !important;position: relative;}#sk-container-id-3 div.sk-text-repr-fallback {display: none;}</style><div id=\"sk-container-id-3\" class=\"sk-top-container\"><div class=\"sk-text-repr-fallback\"><pre>GridSearchCV(estimator=XGBClassifier(base_score=None, booster=None,\n",
              "                                     callbacks=None, colsample_bylevel=None,\n",
              "                                     colsample_bynode=None,\n",
              "                                     colsample_bytree=None, device=None,\n",
              "                                     early_stopping_rounds=None,\n",
              "                                     enable_categorical=False, eval_metric=None,\n",
              "                                     feature_types=None, gamma=None,\n",
              "                                     grow_policy=None, importance_type=None,\n",
              "                                     interaction_constraints=None,\n",
              "                                     learning_rate=None, max_b...\n",
              "                                     max_cat_threshold=None,\n",
              "                                     max_cat_to_onehot=None,\n",
              "                                     max_delta_step=None, max_depth=None,\n",
              "                                     max_leaves=None, min_child_weight=None,\n",
              "                                     missing=nan, monotone_constraints=None,\n",
              "                                     multi_strategy=None, n_estimators=None,\n",
              "                                     n_jobs=None, num_parallel_tree=None,\n",
              "                                     random_state=None, ...),\n",
              "             param_grid={&#x27;learning_rate&#x27;: [0.3, 0.5, 0.7, 0.9],\n",
              "                         &#x27;max_depth&#x27;: [2, 3, 4, 5, 6, 7, 8],\n",
              "                         &#x27;n_estimators&#x27;: [20, 40, 60, 80, 100]})</pre><b>In a Jupyter environment, please rerun this cell to show the HTML representation or trust the notebook. <br />On GitHub, the HTML representation is unable to render, please try loading this page with nbviewer.org.</b></div><div class=\"sk-container\" hidden><div class=\"sk-item sk-dashed-wrapped\"><div class=\"sk-label-container\"><div class=\"sk-label sk-toggleable\"><input class=\"sk-toggleable__control sk-hidden--visually\" id=\"sk-estimator-id-7\" type=\"checkbox\" ><label for=\"sk-estimator-id-7\" class=\"sk-toggleable__label sk-toggleable__label-arrow\">GridSearchCV</label><div class=\"sk-toggleable__content\"><pre>GridSearchCV(estimator=XGBClassifier(base_score=None, booster=None,\n",
              "                                     callbacks=None, colsample_bylevel=None,\n",
              "                                     colsample_bynode=None,\n",
              "                                     colsample_bytree=None, device=None,\n",
              "                                     early_stopping_rounds=None,\n",
              "                                     enable_categorical=False, eval_metric=None,\n",
              "                                     feature_types=None, gamma=None,\n",
              "                                     grow_policy=None, importance_type=None,\n",
              "                                     interaction_constraints=None,\n",
              "                                     learning_rate=None, max_b...\n",
              "                                     max_cat_threshold=None,\n",
              "                                     max_cat_to_onehot=None,\n",
              "                                     max_delta_step=None, max_depth=None,\n",
              "                                     max_leaves=None, min_child_weight=None,\n",
              "                                     missing=nan, monotone_constraints=None,\n",
              "                                     multi_strategy=None, n_estimators=None,\n",
              "                                     n_jobs=None, num_parallel_tree=None,\n",
              "                                     random_state=None, ...),\n",
              "             param_grid={&#x27;learning_rate&#x27;: [0.3, 0.5, 0.7, 0.9],\n",
              "                         &#x27;max_depth&#x27;: [2, 3, 4, 5, 6, 7, 8],\n",
              "                         &#x27;n_estimators&#x27;: [20, 40, 60, 80, 100]})</pre></div></div></div><div class=\"sk-parallel\"><div class=\"sk-parallel-item\"><div class=\"sk-item\"><div class=\"sk-label-container\"><div class=\"sk-label sk-toggleable\"><input class=\"sk-toggleable__control sk-hidden--visually\" id=\"sk-estimator-id-8\" type=\"checkbox\" ><label for=\"sk-estimator-id-8\" class=\"sk-toggleable__label sk-toggleable__label-arrow\">estimator: XGBClassifier</label><div class=\"sk-toggleable__content\"><pre>XGBClassifier(base_score=None, booster=None, callbacks=None,\n",
              "              colsample_bylevel=None, colsample_bynode=None,\n",
              "              colsample_bytree=None, device=None, early_stopping_rounds=None,\n",
              "              enable_categorical=False, eval_metric=None, feature_types=None,\n",
              "              gamma=None, grow_policy=None, importance_type=None,\n",
              "              interaction_constraints=None, learning_rate=None, max_bin=None,\n",
              "              max_cat_threshold=None, max_cat_to_onehot=None,\n",
              "              max_delta_step=None, max_depth=None, max_leaves=None,\n",
              "              min_child_weight=None, missing=nan, monotone_constraints=None,\n",
              "              multi_strategy=None, n_estimators=None, n_jobs=None,\n",
              "              num_parallel_tree=None, random_state=None, ...)</pre></div></div></div><div class=\"sk-serial\"><div class=\"sk-item\"><div class=\"sk-estimator sk-toggleable\"><input class=\"sk-toggleable__control sk-hidden--visually\" id=\"sk-estimator-id-9\" type=\"checkbox\" ><label for=\"sk-estimator-id-9\" class=\"sk-toggleable__label sk-toggleable__label-arrow\">XGBClassifier</label><div class=\"sk-toggleable__content\"><pre>XGBClassifier(base_score=None, booster=None, callbacks=None,\n",
              "              colsample_bylevel=None, colsample_bynode=None,\n",
              "              colsample_bytree=None, device=None, early_stopping_rounds=None,\n",
              "              enable_categorical=False, eval_metric=None, feature_types=None,\n",
              "              gamma=None, grow_policy=None, importance_type=None,\n",
              "              interaction_constraints=None, learning_rate=None, max_bin=None,\n",
              "              max_cat_threshold=None, max_cat_to_onehot=None,\n",
              "              max_delta_step=None, max_depth=None, max_leaves=None,\n",
              "              min_child_weight=None, missing=nan, monotone_constraints=None,\n",
              "              multi_strategy=None, n_estimators=None, n_jobs=None,\n",
              "              num_parallel_tree=None, random_state=None, ...)</pre></div></div></div></div></div></div></div></div></div></div>"
            ]
          },
          "metadata": {},
          "execution_count": 58
        }
      ]
    },
    {
      "cell_type": "code",
      "source": [
        "print(grid.best_params_)"
      ],
      "metadata": {
        "colab": {
          "base_uri": "https://localhost:8080/"
        },
        "id": "ZAPBAraP87kw",
        "outputId": "1db5a44e-b0b7-402a-aac5-ae42d15706f8"
      },
      "execution_count": null,
      "outputs": [
        {
          "output_type": "stream",
          "name": "stdout",
          "text": [
            "{'learning_rate': 0.5, 'max_depth': 5, 'n_estimators': 60}\n"
          ]
        }
      ]
    },
    {
      "cell_type": "code",
      "source": [
        "# training the model with best fit parameters\n",
        "\n",
        "xgb = XGBClassifier(learning_rate = 0.5, max_depth = 5, n_estimators = 60)\n",
        "\n",
        "xgb.fit(X_train, y_train)\n",
        "\n",
        "# predicting the trian data\n",
        "xgb_train_pred = xgb.predict(X_train)"
      ],
      "metadata": {
        "id": "pjP32JrZ87no"
      },
      "execution_count": null,
      "outputs": []
    },
    {
      "cell_type": "code",
      "source": [
        "# predicting the test data\n",
        "xgb_test_pred = xgb.predict(X_test)"
      ],
      "metadata": {
        "id": "NQ3WMRnM87rH"
      },
      "execution_count": null,
      "outputs": []
    },
    {
      "cell_type": "code",
      "source": [
        "# evaluating the classification metrics\n",
        "print('Classification metrics of training data:')\n",
        "\n",
        "# Confusion matrix\n",
        "c_matrix_xgb = confusion_matrix(y_train, xgb_train_pred)\n",
        "print('Confusion matrix :')\n",
        "print(c_matrix_xgb)\n",
        "\n",
        "# Accuracy\n",
        "acc_xgb_train = round(accuracy_score(y_train, xgb_train_pred),4)\n",
        "print('Accuracy : ',acc_xgb_train)\n",
        "\n",
        "# Precision\n",
        "prec_xgb_train = round(precision_score(y_train, xgb_train_pred, average = 'weighted', zero_division = 1.0),4)\n",
        "print('Precision : ',prec_xgb_train)\n",
        "\n",
        "# Recall score\n",
        "recall_xgb_train = round(recall_score(y_train, xgb_train_pred, average = 'weighted', zero_division = 1.0),4)\n",
        "print('Recall : ',recall_xgb_train)\n",
        "\n",
        "# F1 score\n",
        "f1_xgb_train = round(f1_score(y_train, xgb_train_pred, average = 'weighted', zero_division = 1.0),4)\n",
        "print('F1 Score : ',f1_xgb_train)"
      ],
      "metadata": {
        "colab": {
          "base_uri": "https://localhost:8080/"
        },
        "id": "f5lbL0F487ug",
        "outputId": "d1549217-44e8-4818-c4cf-4b2f9ec19ece"
      },
      "execution_count": null,
      "outputs": [
        {
          "output_type": "stream",
          "name": "stdout",
          "text": [
            "Classification metrics of training data:\n",
            "Confusion matrix :\n",
            "[[1089    5]\n",
            " [  32  106]]\n",
            "Accuracy :  0.97\n",
            "Precision :  0.9696\n",
            "Recall :  0.97\n",
            "F1 Score :  0.9685\n"
          ]
        }
      ]
    },
    {
      "cell_type": "code",
      "source": [
        "print('Classification metrics of test data:')\n",
        "\n",
        "# Accuracy\n",
        "acc_xgb_test = round(accuracy_score(y_test, xgb_test_pred),4)\n",
        "print('Accuracy : ',acc_xgb_test)\n",
        "\n",
        "# Precision\n",
        "prec_xgb_test = round(precision_score(y_test, xgb_test_pred, average = 'weighted', zero_division = 1.0),4)\n",
        "print('Precision : ',prec_xgb_test)\n",
        "\n",
        "# Recall score\n",
        "recall_xgb_test = round(recall_score(y_test, xgb_test_pred, average = 'weighted', zero_division = 1.0),4)\n",
        "print('Recall : ',recall_xgb_test)\n",
        "\n",
        "# F1 score\n",
        "f1_xgb_test = round(f1_score(y_test, xgb_test_pred, average = 'weighted', zero_division = 1.0),4)\n",
        "print('F1 Score : ',f1_xgb_test)"
      ],
      "metadata": {
        "colab": {
          "base_uri": "https://localhost:8080/"
        },
        "id": "G46auWfE87yX",
        "outputId": "df6d1086-0648-4f24-a75d-a23be438efd2"
      },
      "execution_count": null,
      "outputs": [
        {
          "output_type": "stream",
          "name": "stdout",
          "text": [
            "Classification metrics of test data:\n",
            "Accuracy :  0.8803\n",
            "Precision :  0.8612\n",
            "Recall :  0.8803\n",
            "F1 Score :  0.869\n"
          ]
        }
      ]
    },
    {
      "cell_type": "code",
      "source": [
        "# ROC_AUC curve\n",
        "roc_auc_xgb = roc_auc_score(y_test, xgb_test_pred)\n",
        "\n",
        "false_positive_rate, true_positive_rate, threshold = roc_curve(y_test, xgb_test_pred)\n",
        "\n",
        "display = RocCurveDisplay(fpr = false_positive_rate, tpr = true_positive_rate, roc_auc = roc_auc_xgb).plot()\n",
        "display.figure_.set_size_inches(4,4)"
      ],
      "metadata": {
        "colab": {
          "base_uri": "https://localhost:8080/",
          "height": 388
        },
        "id": "rqYzVv498717",
        "outputId": "6b9720af-1bd9-49a7-d155-d7e829247cf0"
      },
      "execution_count": null,
      "outputs": [
        {
          "output_type": "display_data",
          "data": {
            "text/plain": [
              "<Figure size 400x400 with 1 Axes>"
            ],
            "image/png": "[encoded data removed]"
          },
          "metadata": {}
        }
      ]
    },
    {
      "cell_type": "markdown",
      "source": [
        "# **Conclusion**"
      ],
      "metadata": {
        "id": "OFCoCJzkRU7N"
      }
    },
    {
      "cell_type": "code",
      "source": [
        "# getting all the classification metrics into a pandas dataframe for comparison\n",
        "\n",
        "data = {'Accuracy of train data':[acc_log_train, acc_dtc_train, acc_rfc_train, acc_xgb_train],\n",
        "        'Accuracy of test data':[acc_log_test, acc_dtc_test, acc_rfc_test, acc_xgb_test],\n",
        "        'Precision of train data':[prec_log_train, prec_dtc_train, prec_rfc_train, prec_xgb_train],\n",
        "        'Precision of test data':[prec_log_test, prec_dtc_test, prec_rfc_test, prec_xgb_test],\n",
        "        'Recall score of train data':[recall_log_train, recall_dtc_train, recall_rfc_train, recall_xgb_train],\n",
        "        'Recall score of test data':[recall_log_test, recall_dtc_test, recall_rfc_test, recall_xgb_test],\n",
        "        'F1 score of train data':[f1_log_train, f1_dtc_train, f1_rfc_train, f1_xgb_train],\n",
        "        'F1 score of test data':[f1_log_test, f1_dtc_test, f1_rfc_test, f1_xgb_test],\n",
        "        'ROC_AUC value':[roc_auc_log, roc_auc_dtc, roc_auc_rfc, roc_auc_xgb]\n",
        "        }\n",
        "\n",
        "model = ['Logistic Regression', 'Decision Tree Classifier', 'Random Forest Classifier', 'XGBoost Classifier']\n",
        "\n",
        "Result = pd.DataFrame(data, index = model)"
      ],
      "metadata": {
        "id": "VpRYAtC2-W5r"
      },
      "execution_count": null,
      "outputs": []
    },
    {
      "cell_type": "code",
      "source": [
        "Result"
      ],
      "metadata": {
        "colab": {
          "base_uri": "https://localhost:8080/",
          "height": 279
        },
        "id": "1M5EkmJgC6w3",
        "outputId": "b5fa996f-84f1-4ca4-8866-13ebce50f759"
      },
      "execution_count": null,
      "outputs": [
        {
          "output_type": "execute_result",
          "data": {
            "text/plain": [
              "                          Accuracy of train data  Accuracy of test data  \\\n",
              "Logistic Regression                       0.8872                 0.8964   \n",
              "Decision Tree Classifier                  0.8880                 0.8964   \n",
              "Random Forest Classifier                  0.9229                 0.8835   \n",
              "XGBoost Classifier                        0.9667                 0.8835   \n",
              "\n",
              "                          Precision of train data  Precision of test data  \\\n",
              "Logistic Regression                        0.7884                  0.9072   \n",
              "Decision Tree Classifier                   0.9005                  0.9072   \n",
              "Random Forest Classifier                   0.9272                  0.8024   \n",
              "XGBoost Classifier                         0.9668                  0.8704   \n",
              "\n",
              "                          Recall score of train data  \\\n",
              "Logistic Regression                           0.8872   \n",
              "Decision Tree Classifier                      0.8880   \n",
              "Random Forest Classifier                      0.9229   \n",
              "XGBoost Classifier                            0.9667   \n",
              "\n",
              "                          Recall score of test data  F1 score of train data  \\\n",
              "Logistic Regression                          0.8964                  0.8349   \n",
              "Decision Tree Classifier                     0.8964                  0.8353   \n",
              "Random Forest Classifier                     0.8835                  0.9049   \n",
              "XGBoost Classifier                           0.8835                  0.9646   \n",
              "\n",
              "                          F1 score of test data  ROC_AUC value  \n",
              "Logistic Regression                      0.8475       0.500000  \n",
              "Decision Tree Classifier                 0.8475       0.500000  \n",
              "Random Forest Classifier                 0.8410       0.492780  \n",
              "XGBoost Classifier                       0.8760       0.630979  "
            ],
            "text/html": [
              "\n",
              "  <div id=\"df-e68a9e5d-1780-4e20-8fa3-204a2e9525cf\" class=\"colab-df-container\">\n",
              "    <div>\n",
              "<style scoped>\n",
              "    .dataframe tbody tr th:only-of-type {\n",
              "        vertical-align: middle;\n",
              "    }\n",
              "\n",
              "    .dataframe tbody tr th {\n",
              "        vertical-align: top;\n",
              "    }\n",
              "\n",
              "    .dataframe thead th {\n",
              "        text-align: right;\n",
              "    }\n",
              "</style>\n",
              "<table border=\"1\" class=\"dataframe\">\n",
              "  <thead>\n",
              "    <tr style=\"text-align: right;\">\n",
              "      <th></th>\n",
              "      <th>Accuracy of train data</th>\n",
              "      <th>Accuracy of test data</th>\n",
              "      <th>Precision of train data</th>\n",
              "      <th>Precision of test data</th>\n",
              "      <th>Recall score of train data</th>\n",
              "      <th>Recall score of test data</th>\n",
              "      <th>F1 score of train data</th>\n",
              "      <th>F1 score of test data</th>\n",
              "      <th>ROC_AUC value</th>\n",
              "    </tr>\n",
              "  </thead>\n",
              "  <tbody>\n",
              "    <tr>\n",
              "      <th>Logistic Regression</th>\n",
              "      <td>0.8872</td>\n",
              "      <td>0.8964</td>\n",
              "      <td>0.7884</td>\n",
              "      <td>0.9072</td>\n",
              "      <td>0.8872</td>\n",
              "      <td>0.8964</td>\n",
              "      <td>0.8349</td>\n",
              "      <td>0.8475</td>\n",
              "      <td>0.500000</td>\n",
              "    </tr>\n",
              "    <tr>\n",
              "      <th>Decision Tree Classifier</th>\n",
              "      <td>0.8880</td>\n",
              "      <td>0.8964</td>\n",
              "      <td>0.9005</td>\n",
              "      <td>0.9072</td>\n",
              "      <td>0.8880</td>\n",
              "      <td>0.8964</td>\n",
              "      <td>0.8353</td>\n",
              "      <td>0.8475</td>\n",
              "      <td>0.500000</td>\n",
              "    </tr>\n",
              "    <tr>\n",
              "      <th>Random Forest Classifier</th>\n",
              "      <td>0.9229</td>\n",
              "      <td>0.8835</td>\n",
              "      <td>0.9272</td>\n",
              "      <td>0.8024</td>\n",
              "      <td>0.9229</td>\n",
              "      <td>0.8835</td>\n",
              "      <td>0.9049</td>\n",
              "      <td>0.8410</td>\n",
              "      <td>0.492780</td>\n",
              "    </tr>\n",
              "    <tr>\n",
              "      <th>XGBoost Classifier</th>\n",
              "      <td>0.9667</td>\n",
              "      <td>0.8835</td>\n",
              "      <td>0.9668</td>\n",
              "      <td>0.8704</td>\n",
              "      <td>0.9667</td>\n",
              "      <td>0.8835</td>\n",
              "      <td>0.9646</td>\n",
              "      <td>0.8760</td>\n",
              "      <td>0.630979</td>\n",
              "    </tr>\n",
              "  </tbody>\n",
              "</table>\n",
              "</div>\n",
              "    <div class=\"colab-df-buttons\">\n",
              "\n",
              "  <div class=\"colab-df-container\">\n",
              "    <button class=\"colab-df-convert\" onclick=\"convertToInteractive('df-e68a9e5d-1780-4e20-8fa3-204a2e9525cf')\"\n",
              "            title=\"Convert this dataframe to an interactive table.\"\n",
              "            style=\"display:none;\">\n",
              "\n",
              "  <svg xmlns=\"http://www.w3.org/2000/svg\" height=\"24px\" viewBox=\"0 -960 960 960\">\n",
              "    <path d=\"M120-120v-720h720v720H120Zm60-500h600v-160H180v160Zm220 220h160v-160H400v160Zm0 220h160v-160H400v160ZM180-400h160v-160H180v160Zm440 0h160v-160H620v160ZM180-180h160v-160H180v160Zm440 0h160v-160H620v160Z\"/>\n",
              "  </svg>\n",
              "    </button>\n",
              "\n",
              "  <style>\n",
              "    .colab-df-container {\n",
              "      display:flex;\n",
              "      gap: 12px;\n",
              "    }\n",
              "\n",
              "    .colab-df-convert {\n",
              "      background-color: #E8F0FE;\n",
              "      border: none;\n",
              "      border-radius: 50%;\n",
              "      cursor: pointer;\n",
              "      display: none;\n",
              "      fill: #1967D2;\n",
              "      height: 32px;\n",
              "      padding: 0 0 0 0;\n",
              "      width: 32px;\n",
              "    }\n",
              "\n",
              "    .colab-df-convert:hover {\n",
              "      background-color: #E2EBFA;\n",
              "      box-shadow: 0px 1px 2px rgba(60, 64, 67, 0.3), 0px 1px 3px 1px rgba(60, 64, 67, 0.15);\n",
              "      fill: #174EA6;\n",
              "    }\n",
              "\n",
              "    .colab-df-buttons div {\n",
              "      margin-bottom: 4px;\n",
              "    }\n",
              "\n",
              "    [theme=dark] .colab-df-convert {\n",
              "      background-color: #3B4455;\n",
              "      fill: #D2E3FC;\n",
              "    }\n",
              "\n",
              "    [theme=dark] .colab-df-convert:hover {\n",
              "      background-color: #434B5C;\n",
              "      box-shadow: 0px 1px 3px 1px rgba(0, 0, 0, 0.15);\n",
              "      filter: drop-shadow(0px 1px 2px rgba(0, 0, 0, 0.3));\n",
              "      fill: #FFFFFF;\n",
              "    }\n",
              "  </style>\n",
              "\n",
              "    <script>\n",
              "      const buttonEl =\n",
              "        document.querySelector('#df-e68a9e5d-1780-4e20-8fa3-204a2e9525cf button.colab-df-convert');\n",
              "      buttonEl.style.display =\n",
              "        google.colab.kernel.accessAllowed ? 'block' : 'none';\n",
              "\n",
              "      async function convertToInteractive(key) {\n",
              "        const element = document.querySelector('#df-e68a9e5d-1780-4e20-8fa3-204a2e9525cf');\n",
              "        const dataTable =\n",
              "          await google.colab.kernel.invokeFunction('convertToInteractive',\n",
              "                                                    [key], {});\n",
              "        if (!dataTable) return;\n",
              "\n",
              "        const docLinkHtml = 'Like what you see? Visit the ' +\n",
              "          '<a target=\"_blank\" href=https://colab.research.google.com/notebooks/data_table.ipynb>data table notebook</a>'\n",
              "          + ' to learn more about interactive tables.';\n",
              "        element.innerHTML = '';\n",
              "        dataTable['output_type'] = 'display_data';\n",
              "        await google.colab.output.renderOutput(dataTable, element);\n",
              "        const docLink = document.createElement('div');\n",
              "        docLink.innerHTML = docLinkHtml;\n",
              "        element.appendChild(docLink);\n",
              "      }\n",
              "    </script>\n",
              "  </div>\n",
              "\n",
              "\n",
              "<div id=\"df-3b8d5d8d-b4d2-467b-8775-f594baa8bc4b\">\n",
              "  <button class=\"colab-df-quickchart\" onclick=\"quickchart('df-3b8d5d8d-b4d2-467b-8775-f594baa8bc4b')\"\n",
              "            title=\"Suggest charts.\"\n",
              "            style=\"display:none;\">\n",
              "\n",
              "<svg xmlns=\"http://www.w3.org/2000/svg\" height=\"24px\"viewBox=\"0 0 24 24\"\n",
              "     width=\"24px\">\n",
              "    <g>\n",
              "        <path d=\"M19 3H5c-1.1 0-2 .9-2 2v14c0 1.1.9 2 2 2h14c1.1 0 2-.9 2-2V5c0-1.1-.9-2-2-2zM9 17H7v-7h2v7zm4 0h-2V7h2v10zm4 0h-2v-4h2v4z\"/>\n",
              "    </g>\n",
              "</svg>\n",
              "  </button>\n",
              "\n",
              "<style>\n",
              "  .colab-df-quickchart {\n",
              "      --bg-color: #E8F0FE;\n",
              "      --fill-color: #1967D2;\n",
              "      --hover-bg-color: #E2EBFA;\n",
              "      --hover-fill-color: #174EA6;\n",
              "      --disabled-fill-color: #AAA;\n",
              "      --disabled-bg-color: #DDD;\n",
              "  }\n",
              "\n",
              "  [theme=dark] .colab-df-quickchart {\n",
              "      --bg-color: #3B4455;\n",
              "      --fill-color: #D2E3FC;\n",
              "      --hover-bg-color: #434B5C;\n",
              "      --hover-fill-color: #FFFFFF;\n",
              "      --disabled-bg-color: #3B4455;\n",
              "      --disabled-fill-color: #666;\n",
              "  }\n",
              "\n",
              "  .colab-df-quickchart {\n",
              "    background-color: var(--bg-color);\n",
              "    border: none;\n",
              "    border-radius: 50%;\n",
              "    cursor: pointer;\n",
              "    display: none;\n",
              "    fill: var(--fill-color);\n",
              "    height: 32px;\n",
              "    padding: 0;\n",
              "    width: 32px;\n",
              "  }\n",
              "\n",
              "  .colab-df-quickchart:hover {\n",
              "    background-color: var(--hover-bg-color);\n",
              "    box-shadow: 0 1px 2px rgba(60, 64, 67, 0.3), 0 1px 3px 1px rgba(60, 64, 67, 0.15);\n",
              "    fill: var(--button-hover-fill-color);\n",
              "  }\n",
              "\n",
              "  .colab-df-quickchart-complete:disabled,\n",
              "  .colab-df-quickchart-complete:disabled:hover {\n",
              "    background-color: var(--disabled-bg-color);\n",
              "    fill: var(--disabled-fill-color);\n",
              "    box-shadow: none;\n",
              "  }\n",
              "\n",
              "  .colab-df-spinner {\n",
              "    border: 2px solid var(--fill-color);\n",
              "    border-color: transparent;\n",
              "    border-bottom-color: var(--fill-color);\n",
              "    animation:\n",
              "      spin 1s steps(1) infinite;\n",
              "  }\n",
              "\n",
              "  @keyframes spin {\n",
              "    0% {\n",
              "      border-color: transparent;\n",
              "      border-bottom-color: var(--fill-color);\n",
              "      border-left-color: var(--fill-color);\n",
              "    }\n",
              "    20% {\n",
              "      border-color: transparent;\n",
              "      border-left-color: var(--fill-color);\n",
              "      border-top-color: var(--fill-color);\n",
              "    }\n",
              "    30% {\n",
              "      border-color: transparent;\n",
              "      border-left-color: var(--fill-color);\n",
              "      border-top-color: var(--fill-color);\n",
              "      border-right-color: var(--fill-color);\n",
              "    }\n",
              "    40% {\n",
              "      border-color: transparent;\n",
              "      border-right-color: var(--fill-color);\n",
              "      border-top-color: var(--fill-color);\n",
              "    }\n",
              "    60% {\n",
              "      border-color: transparent;\n",
              "      border-right-color: var(--fill-color);\n",
              "    }\n",
              "    80% {\n",
              "      border-color: transparent;\n",
              "      border-right-color: var(--fill-color);\n",
              "      border-bottom-color: var(--fill-color);\n",
              "    }\n",
              "    90% {\n",
              "      border-color: transparent;\n",
              "      border-bottom-color: var(--fill-color);\n",
              "    }\n",
              "  }\n",
              "</style>\n",
              "\n",
              "  <script>\n",
              "    async function quickchart(key) {\n",
              "      const quickchartButtonEl =\n",
              "        document.querySelector('#' + key + ' button');\n",
              "      quickchartButtonEl.disabled = true;  // To prevent multiple clicks.\n",
              "      quickchartButtonEl.classList.add('colab-df-spinner');\n",
              "      try {\n",
              "        const charts = await google.colab.kernel.invokeFunction(\n",
              "            'suggestCharts', [key], {});\n",
              "      } catch (error) {\n",
              "        console.error('Error during call to suggestCharts:', error);\n",
              "      }\n",
              "      quickchartButtonEl.classList.remove('colab-df-spinner');\n",
              "      quickchartButtonEl.classList.add('colab-df-quickchart-complete');\n",
              "    }\n",
              "    (() => {\n",
              "      let quickchartButtonEl =\n",
              "        document.querySelector('#df-3b8d5d8d-b4d2-467b-8775-f594baa8bc4b button');\n",
              "      quickchartButtonEl.style.display =\n",
              "        google.colab.kernel.accessAllowed ? 'block' : 'none';\n",
              "    })();\n",
              "  </script>\n",
              "</div>\n",
              "    </div>\n",
              "  </div>\n"
            ]
          },
          "metadata": {},
          "execution_count": 72
        }
      ]
    },
    {
      "cell_type": "markdown",
      "source": [
        "\n",
        "* From the above data, we can see that all the 4 models worked well and we get good accuracy and all other metrics.\n",
        "* On comparing the metrics, XGBoost classifier shows high accuracy and precision.\n",
        "* One important factor to find the best fit model is ROC (Reciever Operating Charateristic). A model with ROC value equal to 1 is the best fit model.\n",
        "* Here, out of four models, ROC value is maximum for XGBoost classifier which is 0.63.\n",
        "* Hence, I conclude that **XGBoost Classifier** with **ROC value 0.63** is the best fit model for predicting the data."
      ],
      "metadata": {
        "id": "SDnRuHc_OFiI"
      }
    },
    {
      "cell_type": "markdown",
      "source": [
        "# **SQL Queries**"
      ],
      "metadata": {
        "id": "dovyGNTL0V62"
      }
    },
    {
      "cell_type": "code",
      "source": [
        "# splitting the cleaned dataset into 2 dataframes\n",
        "\n",
        "Credit_card = cleaned_df.iloc[:,:-1]         # Credit_card has all the independent features\n",
        "label = cleaned_df.iloc[:,[0,-1]]            # label has the ID and the target variable"
      ],
      "metadata": {
        "id": "OHPXPLTwo5cU"
      },
      "execution_count": null,
      "outputs": []
    },
    {
      "cell_type": "code",
      "source": [
        "# importing the sqlite3 module\n",
        "\n",
        "import sqlite3"
      ],
      "metadata": {
        "id": "XhQtRiXgo5hY"
      },
      "execution_count": null,
      "outputs": []
    },
    {
      "cell_type": "code",
      "source": [
        "# establishing connection with sqlite with 'project' database using connect() object\n",
        "\n",
        "connection = sqlite3.connect('project.db')"
      ],
      "metadata": {
        "id": "8RjH2Aylo5kH"
      },
      "execution_count": null,
      "outputs": []
    },
    {
      "cell_type": "code",
      "source": [
        "# providing names to the tables\n",
        "\n",
        "table1 = 'Credit_card'\n",
        "table2 = 'label'\n",
        "\n",
        "# copying the dataframes to sql tables through to_sql() object of sqlite module\n",
        "\n",
        "Credit_card.to_sql(table1, connection, if_exists = 'replace', index = False)\n",
        "label.to_sql(table2, connection, if_exists = 'replace', index = False)\n",
        "\n",
        "connection.commit()      # executes the provided changes"
      ],
      "metadata": {
        "id": "CfeVc6cxo5e1"
      },
      "execution_count": null,
      "outputs": []
    },
    {
      "cell_type": "markdown",
      "source": [
        "####  1. Group the customers based on their income type and find the average of their annual income."
      ],
      "metadata": {
        "id": "IO7M8BaC8UgT"
      }
    },
    {
      "cell_type": "code",
      "source": [
        "query1 = pd.read_sql(\"SELECT Type_income, round(avg(Annual_income),2) as 'Average income' from Credit_card group by Type_Income;\",\n",
        "                     connection)\n",
        "\n",
        "query1"
      ],
      "metadata": {
        "colab": {
          "base_uri": "https://localhost:8080/",
          "height": 175
        },
        "id": "8HHahuaXo5m0",
        "outputId": "12d0d88f-6dd0-4126-dbd3-99e3f252c12b"
      },
      "execution_count": null,
      "outputs": [
        {
          "output_type": "execute_result",
          "data": {
            "text/plain": [
              "            Type_Income  Average income\n",
              "0  Commercial associate       233663.66\n",
              "1             Pensioner       155084.60\n",
              "2         State servant       210130.43\n",
              "3               Working       180366.84"
            ],
            "text/html": [
              "\n",
              "  <div id=\"df-2922b451-0bfa-481c-bb2c-2f86fb4f5b8f\" class=\"colab-df-container\">\n",
              "    <div>\n",
              "<style scoped>\n",
              "    .dataframe tbody tr th:only-of-type {\n",
              "        vertical-align: middle;\n",
              "    }\n",
              "\n",
              "    .dataframe tbody tr th {\n",
              "        vertical-align: top;\n",
              "    }\n",
              "\n",
              "    .dataframe thead th {\n",
              "        text-align: right;\n",
              "    }\n",
              "</style>\n",
              "<table border=\"1\" class=\"dataframe\">\n",
              "  <thead>\n",
              "    <tr style=\"text-align: right;\">\n",
              "      <th></th>\n",
              "      <th>Type_Income</th>\n",
              "      <th>Average income</th>\n",
              "    </tr>\n",
              "  </thead>\n",
              "  <tbody>\n",
              "    <tr>\n",
              "      <th>0</th>\n",
              "      <td>Commercial associate</td>\n",
              "      <td>233663.66</td>\n",
              "    </tr>\n",
              "    <tr>\n",
              "      <th>1</th>\n",
              "      <td>Pensioner</td>\n",
              "      <td>155084.60</td>\n",
              "    </tr>\n",
              "    <tr>\n",
              "      <th>2</th>\n",
              "      <td>State servant</td>\n",
              "      <td>210130.43</td>\n",
              "    </tr>\n",
              "    <tr>\n",
              "      <th>3</th>\n",
              "      <td>Working</td>\n",
              "      <td>180366.84</td>\n",
              "    </tr>\n",
              "  </tbody>\n",
              "</table>\n",
              "</div>\n",
              "    <div class=\"colab-df-buttons\">\n",
              "\n",
              "  <div class=\"colab-df-container\">\n",
              "    <button class=\"colab-df-convert\" onclick=\"convertToInteractive('df-2922b451-0bfa-481c-bb2c-2f86fb4f5b8f')\"\n",
              "            title=\"Convert this dataframe to an interactive table.\"\n",
              "            style=\"display:none;\">\n",
              "\n",
              "  <svg xmlns=\"http://www.w3.org/2000/svg\" height=\"24px\" viewBox=\"0 -960 960 960\">\n",
              "    <path d=\"M120-120v-720h720v720H120Zm60-500h600v-160H180v160Zm220 220h160v-160H400v160Zm0 220h160v-160H400v160ZM180-400h160v-160H180v160Zm440 0h160v-160H620v160ZM180-180h160v-160H180v160Zm440 0h160v-160H620v160Z\"/>\n",
              "  </svg>\n",
              "    </button>\n",
              "\n",
              "  <style>\n",
              "    .colab-df-container {\n",
              "      display:flex;\n",
              "      gap: 12px;\n",
              "    }\n",
              "\n",
              "    .colab-df-convert {\n",
              "      background-color: #E8F0FE;\n",
              "      border: none;\n",
              "      border-radius: 50%;\n",
              "      cursor: pointer;\n",
              "      display: none;\n",
              "      fill: #1967D2;\n",
              "      height: 32px;\n",
              "      padding: 0 0 0 0;\n",
              "      width: 32px;\n",
              "    }\n",
              "\n",
              "    .colab-df-convert:hover {\n",
              "      background-color: #E2EBFA;\n",
              "      box-shadow: 0px 1px 2px rgba(60, 64, 67, 0.3), 0px 1px 3px 1px rgba(60, 64, 67, 0.15);\n",
              "      fill: #174EA6;\n",
              "    }\n",
              "\n",
              "    .colab-df-buttons div {\n",
              "      margin-bottom: 4px;\n",
              "    }\n",
              "\n",
              "    [theme=dark] .colab-df-convert {\n",
              "      background-color: #3B4455;\n",
              "      fill: #D2E3FC;\n",
              "    }\n",
              "\n",
              "    [theme=dark] .colab-df-convert:hover {\n",
              "      background-color: #434B5C;\n",
              "      box-shadow: 0px 1px 3px 1px rgba(0, 0, 0, 0.15);\n",
              "      filter: drop-shadow(0px 1px 2px rgba(0, 0, 0, 0.3));\n",
              "      fill: #FFFFFF;\n",
              "    }\n",
              "  </style>\n",
              "\n",
              "    <script>\n",
              "      const buttonEl =\n",
              "        document.querySelector('#df-2922b451-0bfa-481c-bb2c-2f86fb4f5b8f button.colab-df-convert');\n",
              "      buttonEl.style.display =\n",
              "        google.colab.kernel.accessAllowed ? 'block' : 'none';\n",
              "\n",
              "      async function convertToInteractive(key) {\n",
              "        const element = document.querySelector('#df-2922b451-0bfa-481c-bb2c-2f86fb4f5b8f');\n",
              "        const dataTable =\n",
              "          await google.colab.kernel.invokeFunction('convertToInteractive',\n",
              "                                                    [key], {});\n",
              "        if (!dataTable) return;\n",
              "\n",
              "        const docLinkHtml = 'Like what you see? Visit the ' +\n",
              "          '<a target=\"_blank\" href=https://colab.research.google.com/notebooks/data_table.ipynb>data table notebook</a>'\n",
              "          + ' to learn more about interactive tables.';\n",
              "        element.innerHTML = '';\n",
              "        dataTable['output_type'] = 'display_data';\n",
              "        await google.colab.output.renderOutput(dataTable, element);\n",
              "        const docLink = document.createElement('div');\n",
              "        docLink.innerHTML = docLinkHtml;\n",
              "        element.appendChild(docLink);\n",
              "      }\n",
              "    </script>\n",
              "  </div>\n",
              "\n",
              "\n",
              "<div id=\"df-bcfc5e34-9aea-4d7d-bcd8-9a94872acfc1\">\n",
              "  <button class=\"colab-df-quickchart\" onclick=\"quickchart('df-bcfc5e34-9aea-4d7d-bcd8-9a94872acfc1')\"\n",
              "            title=\"Suggest charts\"\n",
              "            style=\"display:none;\">\n",
              "\n",
              "<svg xmlns=\"http://www.w3.org/2000/svg\" height=\"24px\"viewBox=\"0 0 24 24\"\n",
              "     width=\"24px\">\n",
              "    <g>\n",
              "        <path d=\"M19 3H5c-1.1 0-2 .9-2 2v14c0 1.1.9 2 2 2h14c1.1 0 2-.9 2-2V5c0-1.1-.9-2-2-2zM9 17H7v-7h2v7zm4 0h-2V7h2v10zm4 0h-2v-4h2v4z\"/>\n",
              "    </g>\n",
              "</svg>\n",
              "  </button>\n",
              "\n",
              "<style>\n",
              "  .colab-df-quickchart {\n",
              "      --bg-color: #E8F0FE;\n",
              "      --fill-color: #1967D2;\n",
              "      --hover-bg-color: #E2EBFA;\n",
              "      --hover-fill-color: #174EA6;\n",
              "      --disabled-fill-color: #AAA;\n",
              "      --disabled-bg-color: #DDD;\n",
              "  }\n",
              "\n",
              "  [theme=dark] .colab-df-quickchart {\n",
              "      --bg-color: #3B4455;\n",
              "      --fill-color: #D2E3FC;\n",
              "      --hover-bg-color: #434B5C;\n",
              "      --hover-fill-color: #FFFFFF;\n",
              "      --disabled-bg-color: #3B4455;\n",
              "      --disabled-fill-color: #666;\n",
              "  }\n",
              "\n",
              "  .colab-df-quickchart {\n",
              "    background-color: var(--bg-color);\n",
              "    border: none;\n",
              "    border-radius: 50%;\n",
              "    cursor: pointer;\n",
              "    display: none;\n",
              "    fill: var(--fill-color);\n",
              "    height: 32px;\n",
              "    padding: 0;\n",
              "    width: 32px;\n",
              "  }\n",
              "\n",
              "  .colab-df-quickchart:hover {\n",
              "    background-color: var(--hover-bg-color);\n",
              "    box-shadow: 0 1px 2px rgba(60, 64, 67, 0.3), 0 1px 3px 1px rgba(60, 64, 67, 0.15);\n",
              "    fill: var(--button-hover-fill-color);\n",
              "  }\n",
              "\n",
              "  .colab-df-quickchart-complete:disabled,\n",
              "  .colab-df-quickchart-complete:disabled:hover {\n",
              "    background-color: var(--disabled-bg-color);\n",
              "    fill: var(--disabled-fill-color);\n",
              "    box-shadow: none;\n",
              "  }\n",
              "\n",
              "  .colab-df-spinner {\n",
              "    border: 2px solid var(--fill-color);\n",
              "    border-color: transparent;\n",
              "    border-bottom-color: var(--fill-color);\n",
              "    animation:\n",
              "      spin 1s steps(1) infinite;\n",
              "  }\n",
              "\n",
              "  @keyframes spin {\n",
              "    0% {\n",
              "      border-color: transparent;\n",
              "      border-bottom-color: var(--fill-color);\n",
              "      border-left-color: var(--fill-color);\n",
              "    }\n",
              "    20% {\n",
              "      border-color: transparent;\n",
              "      border-left-color: var(--fill-color);\n",
              "      border-top-color: var(--fill-color);\n",
              "    }\n",
              "    30% {\n",
              "      border-color: transparent;\n",
              "      border-left-color: var(--fill-color);\n",
              "      border-top-color: var(--fill-color);\n",
              "      border-right-color: var(--fill-color);\n",
              "    }\n",
              "    40% {\n",
              "      border-color: transparent;\n",
              "      border-right-color: var(--fill-color);\n",
              "      border-top-color: var(--fill-color);\n",
              "    }\n",
              "    60% {\n",
              "      border-color: transparent;\n",
              "      border-right-color: var(--fill-color);\n",
              "    }\n",
              "    80% {\n",
              "      border-color: transparent;\n",
              "      border-right-color: var(--fill-color);\n",
              "      border-bottom-color: var(--fill-color);\n",
              "    }\n",
              "    90% {\n",
              "      border-color: transparent;\n",
              "      border-bottom-color: var(--fill-color);\n",
              "    }\n",
              "  }\n",
              "</style>\n",
              "\n",
              "  <script>\n",
              "    async function quickchart(key) {\n",
              "      const quickchartButtonEl =\n",
              "        document.querySelector('#' + key + ' button');\n",
              "      quickchartButtonEl.disabled = true;  // To prevent multiple clicks.\n",
              "      quickchartButtonEl.classList.add('colab-df-spinner');\n",
              "      try {\n",
              "        const charts = await google.colab.kernel.invokeFunction(\n",
              "            'suggestCharts', [key], {});\n",
              "      } catch (error) {\n",
              "        console.error('Error during call to suggestCharts:', error);\n",
              "      }\n",
              "      quickchartButtonEl.classList.remove('colab-df-spinner');\n",
              "      quickchartButtonEl.classList.add('colab-df-quickchart-complete');\n",
              "    }\n",
              "    (() => {\n",
              "      let quickchartButtonEl =\n",
              "        document.querySelector('#df-bcfc5e34-9aea-4d7d-bcd8-9a94872acfc1 button');\n",
              "      quickchartButtonEl.style.display =\n",
              "        google.colab.kernel.accessAllowed ? 'block' : 'none';\n",
              "    })();\n",
              "  </script>\n",
              "</div>\n",
              "    </div>\n",
              "  </div>\n"
            ]
          },
          "metadata": {},
          "execution_count": 32
        }
      ]
    },
    {
      "cell_type": "markdown",
      "source": [
        "#### 2. Find the female owners of cars and property."
      ],
      "metadata": {
        "id": "hS92nBgH8gPe"
      }
    },
    {
      "cell_type": "code",
      "source": [
        "query2 = pd.read_sql(\"select Ind_ID, Car_Owner, Propert_Owner from Credit_card where GENDER like 'F' and Car_Owner like 'Y' and Propert_Owner like 'Y';\", connection)\n",
        "\n",
        "query2"
      ],
      "metadata": {
        "colab": {
          "base_uri": "https://localhost:8080/",
          "height": 423
        },
        "id": "ZfBbtmUPo5sd",
        "outputId": "eede9247-431b-4aa2-d540-c7ca0f49503e"
      },
      "execution_count": null,
      "outputs": [
        {
          "output_type": "execute_result",
          "data": {
            "text/plain": [
              "      Ind_ID Car_Owner Propert_Owner\n",
              "0    5018498         Y             Y\n",
              "1    5018501         Y             Y\n",
              "2    5018503         Y             Y\n",
              "3    5024213         Y             Y\n",
              "4    5036660         Y             Y\n",
              "..       ...       ...           ...\n",
              "172  5048458         Y             Y\n",
              "173  5023719         Y             Y\n",
              "174  5033520         Y             Y\n",
              "175  5024049         Y             Y\n",
              "176  5053790         Y             Y\n",
              "\n",
              "[177 rows x 3 columns]"
            ],
            "text/html": [
              "\n",
              "  <div id=\"df-b1dc1ca8-e869-4336-bfe5-8c367b0a43c6\" class=\"colab-df-container\">\n",
              "    <div>\n",
              "<style scoped>\n",
              "    .dataframe tbody tr th:only-of-type {\n",
              "        vertical-align: middle;\n",
              "    }\n",
              "\n",
              "    .dataframe tbody tr th {\n",
              "        vertical-align: top;\n",
              "    }\n",
              "\n",
              "    .dataframe thead th {\n",
              "        text-align: right;\n",
              "    }\n",
              "</style>\n",
              "<table border=\"1\" class=\"dataframe\">\n",
              "  <thead>\n",
              "    <tr style=\"text-align: right;\">\n",
              "      <th></th>\n",
              "      <th>Ind_ID</th>\n",
              "      <th>Car_Owner</th>\n",
              "      <th>Propert_Owner</th>\n",
              "    </tr>\n",
              "  </thead>\n",
              "  <tbody>\n",
              "    <tr>\n",
              "      <th>0</th>\n",
              "      <td>5018498</td>\n",
              "      <td>Y</td>\n",
              "      <td>Y</td>\n",
              "    </tr>\n",
              "    <tr>\n",
              "      <th>1</th>\n",
              "      <td>5018501</td>\n",
              "      <td>Y</td>\n",
              "      <td>Y</td>\n",
              "    </tr>\n",
              "    <tr>\n",
              "      <th>2</th>\n",
              "      <td>5018503</td>\n",
              "      <td>Y</td>\n",
              "      <td>Y</td>\n",
              "    </tr>\n",
              "    <tr>\n",
              "      <th>3</th>\n",
              "      <td>5024213</td>\n",
              "      <td>Y</td>\n",
              "      <td>Y</td>\n",
              "    </tr>\n",
              "    <tr>\n",
              "      <th>4</th>\n",
              "      <td>5036660</td>\n",
              "      <td>Y</td>\n",
              "      <td>Y</td>\n",
              "    </tr>\n",
              "    <tr>\n",
              "      <th>...</th>\n",
              "      <td>...</td>\n",
              "      <td>...</td>\n",
              "      <td>...</td>\n",
              "    </tr>\n",
              "    <tr>\n",
              "      <th>172</th>\n",
              "      <td>5048458</td>\n",
              "      <td>Y</td>\n",
              "      <td>Y</td>\n",
              "    </tr>\n",
              "    <tr>\n",
              "      <th>173</th>\n",
              "      <td>5023719</td>\n",
              "      <td>Y</td>\n",
              "      <td>Y</td>\n",
              "    </tr>\n",
              "    <tr>\n",
              "      <th>174</th>\n",
              "      <td>5033520</td>\n",
              "      <td>Y</td>\n",
              "      <td>Y</td>\n",
              "    </tr>\n",
              "    <tr>\n",
              "      <th>175</th>\n",
              "      <td>5024049</td>\n",
              "      <td>Y</td>\n",
              "      <td>Y</td>\n",
              "    </tr>\n",
              "    <tr>\n",
              "      <th>176</th>\n",
              "      <td>5053790</td>\n",
              "      <td>Y</td>\n",
              "      <td>Y</td>\n",
              "    </tr>\n",
              "  </tbody>\n",
              "</table>\n",
              "<p>177 rows × 3 columns</p>\n",
              "</div>\n",
              "    <div class=\"colab-df-buttons\">\n",
              "\n",
              "  <div class=\"colab-df-container\">\n",
              "    <button class=\"colab-df-convert\" onclick=\"convertToInteractive('df-b1dc1ca8-e869-4336-bfe5-8c367b0a43c6')\"\n",
              "            title=\"Convert this dataframe to an interactive table.\"\n",
              "            style=\"display:none;\">\n",
              "\n",
              "  <svg xmlns=\"http://www.w3.org/2000/svg\" height=\"24px\" viewBox=\"0 -960 960 960\">\n",
              "    <path d=\"M120-120v-720h720v720H120Zm60-500h600v-160H180v160Zm220 220h160v-160H400v160Zm0 220h160v-160H400v160ZM180-400h160v-160H180v160Zm440 0h160v-160H620v160ZM180-180h160v-160H180v160Zm440 0h160v-160H620v160Z\"/>\n",
              "  </svg>\n",
              "    </button>\n",
              "\n",
              "  <style>\n",
              "    .colab-df-container {\n",
              "      display:flex;\n",
              "      gap: 12px;\n",
              "    }\n",
              "\n",
              "    .colab-df-convert {\n",
              "      background-color: #E8F0FE;\n",
              "      border: none;\n",
              "      border-radius: 50%;\n",
              "      cursor: pointer;\n",
              "      display: none;\n",
              "      fill: #1967D2;\n",
              "      height: 32px;\n",
              "      padding: 0 0 0 0;\n",
              "      width: 32px;\n",
              "    }\n",
              "\n",
              "    .colab-df-convert:hover {\n",
              "      background-color: #E2EBFA;\n",
              "      box-shadow: 0px 1px 2px rgba(60, 64, 67, 0.3), 0px 1px 3px 1px rgba(60, 64, 67, 0.15);\n",
              "      fill: #174EA6;\n",
              "    }\n",
              "\n",
              "    .colab-df-buttons div {\n",
              "      margin-bottom: 4px;\n",
              "    }\n",
              "\n",
              "    [theme=dark] .colab-df-convert {\n",
              "      background-color: #3B4455;\n",
              "      fill: #D2E3FC;\n",
              "    }\n",
              "\n",
              "    [theme=dark] .colab-df-convert:hover {\n",
              "      background-color: #434B5C;\n",
              "      box-shadow: 0px 1px 3px 1px rgba(0, 0, 0, 0.15);\n",
              "      filter: drop-shadow(0px 1px 2px rgba(0, 0, 0, 0.3));\n",
              "      fill: #FFFFFF;\n",
              "    }\n",
              "  </style>\n",
              "\n",
              "    <script>\n",
              "      const buttonEl =\n",
              "        document.querySelector('#df-b1dc1ca8-e869-4336-bfe5-8c367b0a43c6 button.colab-df-convert');\n",
              "      buttonEl.style.display =\n",
              "        google.colab.kernel.accessAllowed ? 'block' : 'none';\n",
              "\n",
              "      async function convertToInteractive(key) {\n",
              "        const element = document.querySelector('#df-b1dc1ca8-e869-4336-bfe5-8c367b0a43c6');\n",
              "        const dataTable =\n",
              "          await google.colab.kernel.invokeFunction('convertToInteractive',\n",
              "                                                    [key], {});\n",
              "        if (!dataTable) return;\n",
              "\n",
              "        const docLinkHtml = 'Like what you see? Visit the ' +\n",
              "          '<a target=\"_blank\" href=https://colab.research.google.com/notebooks/data_table.ipynb>data table notebook</a>'\n",
              "          + ' to learn more about interactive tables.';\n",
              "        element.innerHTML = '';\n",
              "        dataTable['output_type'] = 'display_data';\n",
              "        await google.colab.output.renderOutput(dataTable, element);\n",
              "        const docLink = document.createElement('div');\n",
              "        docLink.innerHTML = docLinkHtml;\n",
              "        element.appendChild(docLink);\n",
              "      }\n",
              "    </script>\n",
              "  </div>\n",
              "\n",
              "\n",
              "<div id=\"df-1ee07c79-afa6-4c23-aa47-df62dbf00e1e\">\n",
              "  <button class=\"colab-df-quickchart\" onclick=\"quickchart('df-1ee07c79-afa6-4c23-aa47-df62dbf00e1e')\"\n",
              "            title=\"Suggest charts\"\n",
              "            style=\"display:none;\">\n",
              "\n",
              "<svg xmlns=\"http://www.w3.org/2000/svg\" height=\"24px\"viewBox=\"0 0 24 24\"\n",
              "     width=\"24px\">\n",
              "    <g>\n",
              "        <path d=\"M19 3H5c-1.1 0-2 .9-2 2v14c0 1.1.9 2 2 2h14c1.1 0 2-.9 2-2V5c0-1.1-.9-2-2-2zM9 17H7v-7h2v7zm4 0h-2V7h2v10zm4 0h-2v-4h2v4z\"/>\n",
              "    </g>\n",
              "</svg>\n",
              "  </button>\n",
              "\n",
              "<style>\n",
              "  .colab-df-quickchart {\n",
              "      --bg-color: #E8F0FE;\n",
              "      --fill-color: #1967D2;\n",
              "      --hover-bg-color: #E2EBFA;\n",
              "      --hover-fill-color: #174EA6;\n",
              "      --disabled-fill-color: #AAA;\n",
              "      --disabled-bg-color: #DDD;\n",
              "  }\n",
              "\n",
              "  [theme=dark] .colab-df-quickchart {\n",
              "      --bg-color: #3B4455;\n",
              "      --fill-color: #D2E3FC;\n",
              "      --hover-bg-color: #434B5C;\n",
              "      --hover-fill-color: #FFFFFF;\n",
              "      --disabled-bg-color: #3B4455;\n",
              "      --disabled-fill-color: #666;\n",
              "  }\n",
              "\n",
              "  .colab-df-quickchart {\n",
              "    background-color: var(--bg-color);\n",
              "    border: none;\n",
              "    border-radius: 50%;\n",
              "    cursor: pointer;\n",
              "    display: none;\n",
              "    fill: var(--fill-color);\n",
              "    height: 32px;\n",
              "    padding: 0;\n",
              "    width: 32px;\n",
              "  }\n",
              "\n",
              "  .colab-df-quickchart:hover {\n",
              "    background-color: var(--hover-bg-color);\n",
              "    box-shadow: 0 1px 2px rgba(60, 64, 67, 0.3), 0 1px 3px 1px rgba(60, 64, 67, 0.15);\n",
              "    fill: var(--button-hover-fill-color);\n",
              "  }\n",
              "\n",
              "  .colab-df-quickchart-complete:disabled,\n",
              "  .colab-df-quickchart-complete:disabled:hover {\n",
              "    background-color: var(--disabled-bg-color);\n",
              "    fill: var(--disabled-fill-color);\n",
              "    box-shadow: none;\n",
              "  }\n",
              "\n",
              "  .colab-df-spinner {\n",
              "    border: 2px solid var(--fill-color);\n",
              "    border-color: transparent;\n",
              "    border-bottom-color: var(--fill-color);\n",
              "    animation:\n",
              "      spin 1s steps(1) infinite;\n",
              "  }\n",
              "\n",
              "  @keyframes spin {\n",
              "    0% {\n",
              "      border-color: transparent;\n",
              "      border-bottom-color: var(--fill-color);\n",
              "      border-left-color: var(--fill-color);\n",
              "    }\n",
              "    20% {\n",
              "      border-color: transparent;\n",
              "      border-left-color: var(--fill-color);\n",
              "      border-top-color: var(--fill-color);\n",
              "    }\n",
              "    30% {\n",
              "      border-color: transparent;\n",
              "      border-left-color: var(--fill-color);\n",
              "      border-top-color: var(--fill-color);\n",
              "      border-right-color: var(--fill-color);\n",
              "    }\n",
              "    40% {\n",
              "      border-color: transparent;\n",
              "      border-right-color: var(--fill-color);\n",
              "      border-top-color: var(--fill-color);\n",
              "    }\n",
              "    60% {\n",
              "      border-color: transparent;\n",
              "      border-right-color: var(--fill-color);\n",
              "    }\n",
              "    80% {\n",
              "      border-color: transparent;\n",
              "      border-right-color: var(--fill-color);\n",
              "      border-bottom-color: var(--fill-color);\n",
              "    }\n",
              "    90% {\n",
              "      border-color: transparent;\n",
              "      border-bottom-color: var(--fill-color);\n",
              "    }\n",
              "  }\n",
              "</style>\n",
              "\n",
              "  <script>\n",
              "    async function quickchart(key) {\n",
              "      const quickchartButtonEl =\n",
              "        document.querySelector('#' + key + ' button');\n",
              "      quickchartButtonEl.disabled = true;  // To prevent multiple clicks.\n",
              "      quickchartButtonEl.classList.add('colab-df-spinner');\n",
              "      try {\n",
              "        const charts = await google.colab.kernel.invokeFunction(\n",
              "            'suggestCharts', [key], {});\n",
              "      } catch (error) {\n",
              "        console.error('Error during call to suggestCharts:', error);\n",
              "      }\n",
              "      quickchartButtonEl.classList.remove('colab-df-spinner');\n",
              "      quickchartButtonEl.classList.add('colab-df-quickchart-complete');\n",
              "    }\n",
              "    (() => {\n",
              "      let quickchartButtonEl =\n",
              "        document.querySelector('#df-1ee07c79-afa6-4c23-aa47-df62dbf00e1e button');\n",
              "      quickchartButtonEl.style.display =\n",
              "        google.colab.kernel.accessAllowed ? 'block' : 'none';\n",
              "    })();\n",
              "  </script>\n",
              "</div>\n",
              "    </div>\n",
              "  </div>\n"
            ]
          },
          "metadata": {},
          "execution_count": 31
        }
      ]
    },
    {
      "cell_type": "markdown",
      "source": [
        " * **177 female customers have cars and property**"
      ],
      "metadata": {
        "id": "rDZXnKCS8l35"
      }
    },
    {
      "cell_type": "markdown",
      "source": [
        "#### 3. Find the male customers who are staying with their families."
      ],
      "metadata": {
        "id": "6MTCrTHa8oec"
      }
    },
    {
      "cell_type": "code",
      "source": [
        "query3 = pd.read_sql(\"SELECT Ind_ID, GENDER, Housing_type FROM Credit_card WHERE GENDER like 'M' and Housing_type like 'With parents';\", connection)\n",
        "\n",
        "query3"
      ],
      "metadata": {
        "colab": {
          "base_uri": "https://localhost:8080/",
          "height": 1000
        },
        "id": "OEf73JeSo5vG",
        "outputId": "0ef4be41-599c-495f-9ca9-2238886fc3dc"
      },
      "execution_count": null,
      "outputs": [
        {
          "output_type": "execute_result",
          "data": {
            "text/plain": [
              "     Ind_ID GENDER  Housing_type\n",
              "0   5021303      M  With parents\n",
              "1   5079166      M  With parents\n",
              "2   5079167      M  With parents\n",
              "3   5079168      M  With parents\n",
              "4   5050729      M  With parents\n",
              "5   5028383      M  With parents\n",
              "6   5143019      M  With parents\n",
              "7   5067982      M  With parents\n",
              "8   5143573      M  With parents\n",
              "9   5038751      M  With parents\n",
              "10  5010203      M  With parents\n",
              "11  5058267      M  With parents\n",
              "12  5024352      M  With parents\n",
              "13  5150038      M  With parents\n",
              "14  5113302      M  With parents\n",
              "15  5126311      M  With parents\n",
              "16  5126751      M  With parents\n",
              "17  5037125      M  With parents\n",
              "18  5054414      M  With parents\n",
              "19  5145694      M  With parents\n",
              "20  5146429      M  With parents\n",
              "21  5054407      M  With parents\n",
              "22  5068648      M  With parents\n",
              "23  5143560      M  With parents\n",
              "24  5125542      M  With parents\n",
              "25  5142781      M  With parents\n",
              "26  5024592      M  With parents\n",
              "27  5094884      M  With parents\n",
              "28  5033496      M  With parents\n",
              "29  5067203      M  With parents\n",
              "30  5045537      M  With parents\n",
              "31  5009269      M  With parents\n",
              "32  5069007      M  With parents\n",
              "33  5066915      M  With parents\n",
              "34  5143025      M  With parents\n",
              "35  5010202      M  With parents\n",
              "36  5028612      M  With parents"
            ],
            "text/html": [
              "\n",
              "  <div id=\"df-cdb2d420-7a4b-4d90-acd7-4f9326c9618a\" class=\"colab-df-container\">\n",
              "    <div>\n",
              "<style scoped>\n",
              "    .dataframe tbody tr th:only-of-type {\n",
              "        vertical-align: middle;\n",
              "    }\n",
              "\n",
              "    .dataframe tbody tr th {\n",
              "        vertical-align: top;\n",
              "    }\n",
              "\n",
              "    .dataframe thead th {\n",
              "        text-align: right;\n",
              "    }\n",
              "</style>\n",
              "<table border=\"1\" class=\"dataframe\">\n",
              "  <thead>\n",
              "    <tr style=\"text-align: right;\">\n",
              "      <th></th>\n",
              "      <th>Ind_ID</th>\n",
              "      <th>GENDER</th>\n",
              "      <th>Housing_type</th>\n",
              "    </tr>\n",
              "  </thead>\n",
              "  <tbody>\n",
              "    <tr>\n",
              "      <th>0</th>\n",
              "      <td>5021303</td>\n",
              "      <td>M</td>\n",
              "      <td>With parents</td>\n",
              "    </tr>\n",
              "    <tr>\n",
              "      <th>1</th>\n",
              "      <td>5079166</td>\n",
              "      <td>M</td>\n",
              "      <td>With parents</td>\n",
              "    </tr>\n",
              "    <tr>\n",
              "      <th>2</th>\n",
              "      <td>5079167</td>\n",
              "      <td>M</td>\n",
              "      <td>With parents</td>\n",
              "    </tr>\n",
              "    <tr>\n",
              "      <th>3</th>\n",
              "      <td>5079168</td>\n",
              "      <td>M</td>\n",
              "      <td>With parents</td>\n",
              "    </tr>\n",
              "    <tr>\n",
              "      <th>4</th>\n",
              "      <td>5050729</td>\n",
              "      <td>M</td>\n",
              "      <td>With parents</td>\n",
              "    </tr>\n",
              "    <tr>\n",
              "      <th>5</th>\n",
              "      <td>5028383</td>\n",
              "      <td>M</td>\n",
              "      <td>With parents</td>\n",
              "    </tr>\n",
              "    <tr>\n",
              "      <th>6</th>\n",
              "      <td>5143019</td>\n",
              "      <td>M</td>\n",
              "      <td>With parents</td>\n",
              "    </tr>\n",
              "    <tr>\n",
              "      <th>7</th>\n",
              "      <td>5067982</td>\n",
              "      <td>M</td>\n",
              "      <td>With parents</td>\n",
              "    </tr>\n",
              "    <tr>\n",
              "      <th>8</th>\n",
              "      <td>5143573</td>\n",
              "      <td>M</td>\n",
              "      <td>With parents</td>\n",
              "    </tr>\n",
              "    <tr>\n",
              "      <th>9</th>\n",
              "      <td>5038751</td>\n",
              "      <td>M</td>\n",
              "      <td>With parents</td>\n",
              "    </tr>\n",
              "    <tr>\n",
              "      <th>10</th>\n",
              "      <td>5010203</td>\n",
              "      <td>M</td>\n",
              "      <td>With parents</td>\n",
              "    </tr>\n",
              "    <tr>\n",
              "      <th>11</th>\n",
              "      <td>5058267</td>\n",
              "      <td>M</td>\n",
              "      <td>With parents</td>\n",
              "    </tr>\n",
              "    <tr>\n",
              "      <th>12</th>\n",
              "      <td>5024352</td>\n",
              "      <td>M</td>\n",
              "      <td>With parents</td>\n",
              "    </tr>\n",
              "    <tr>\n",
              "      <th>13</th>\n",
              "      <td>5150038</td>\n",
              "      <td>M</td>\n",
              "      <td>With parents</td>\n",
              "    </tr>\n",
              "    <tr>\n",
              "      <th>14</th>\n",
              "      <td>5113302</td>\n",
              "      <td>M</td>\n",
              "      <td>With parents</td>\n",
              "    </tr>\n",
              "    <tr>\n",
              "      <th>15</th>\n",
              "      <td>5126311</td>\n",
              "      <td>M</td>\n",
              "      <td>With parents</td>\n",
              "    </tr>\n",
              "    <tr>\n",
              "      <th>16</th>\n",
              "      <td>5126751</td>\n",
              "      <td>M</td>\n",
              "      <td>With parents</td>\n",
              "    </tr>\n",
              "    <tr>\n",
              "      <th>17</th>\n",
              "      <td>5037125</td>\n",
              "      <td>M</td>\n",
              "      <td>With parents</td>\n",
              "    </tr>\n",
              "    <tr>\n",
              "      <th>18</th>\n",
              "      <td>5054414</td>\n",
              "      <td>M</td>\n",
              "      <td>With parents</td>\n",
              "    </tr>\n",
              "    <tr>\n",
              "      <th>19</th>\n",
              "      <td>5145694</td>\n",
              "      <td>M</td>\n",
              "      <td>With parents</td>\n",
              "    </tr>\n",
              "    <tr>\n",
              "      <th>20</th>\n",
              "      <td>5146429</td>\n",
              "      <td>M</td>\n",
              "      <td>With parents</td>\n",
              "    </tr>\n",
              "    <tr>\n",
              "      <th>21</th>\n",
              "      <td>5054407</td>\n",
              "      <td>M</td>\n",
              "      <td>With parents</td>\n",
              "    </tr>\n",
              "    <tr>\n",
              "      <th>22</th>\n",
              "      <td>5068648</td>\n",
              "      <td>M</td>\n",
              "      <td>With parents</td>\n",
              "    </tr>\n",
              "    <tr>\n",
              "      <th>23</th>\n",
              "      <td>5143560</td>\n",
              "      <td>M</td>\n",
              "      <td>With parents</td>\n",
              "    </tr>\n",
              "    <tr>\n",
              "      <th>24</th>\n",
              "      <td>5125542</td>\n",
              "      <td>M</td>\n",
              "      <td>With parents</td>\n",
              "    </tr>\n",
              "    <tr>\n",
              "      <th>25</th>\n",
              "      <td>5142781</td>\n",
              "      <td>M</td>\n",
              "      <td>With parents</td>\n",
              "    </tr>\n",
              "    <tr>\n",
              "      <th>26</th>\n",
              "      <td>5024592</td>\n",
              "      <td>M</td>\n",
              "      <td>With parents</td>\n",
              "    </tr>\n",
              "    <tr>\n",
              "      <th>27</th>\n",
              "      <td>5094884</td>\n",
              "      <td>M</td>\n",
              "      <td>With parents</td>\n",
              "    </tr>\n",
              "    <tr>\n",
              "      <th>28</th>\n",
              "      <td>5033496</td>\n",
              "      <td>M</td>\n",
              "      <td>With parents</td>\n",
              "    </tr>\n",
              "    <tr>\n",
              "      <th>29</th>\n",
              "      <td>5067203</td>\n",
              "      <td>M</td>\n",
              "      <td>With parents</td>\n",
              "    </tr>\n",
              "    <tr>\n",
              "      <th>30</th>\n",
              "      <td>5045537</td>\n",
              "      <td>M</td>\n",
              "      <td>With parents</td>\n",
              "    </tr>\n",
              "    <tr>\n",
              "      <th>31</th>\n",
              "      <td>5009269</td>\n",
              "      <td>M</td>\n",
              "      <td>With parents</td>\n",
              "    </tr>\n",
              "    <tr>\n",
              "      <th>32</th>\n",
              "      <td>5069007</td>\n",
              "      <td>M</td>\n",
              "      <td>With parents</td>\n",
              "    </tr>\n",
              "    <tr>\n",
              "      <th>33</th>\n",
              "      <td>5066915</td>\n",
              "      <td>M</td>\n",
              "      <td>With parents</td>\n",
              "    </tr>\n",
              "    <tr>\n",
              "      <th>34</th>\n",
              "      <td>5143025</td>\n",
              "      <td>M</td>\n",
              "      <td>With parents</td>\n",
              "    </tr>\n",
              "    <tr>\n",
              "      <th>35</th>\n",
              "      <td>5010202</td>\n",
              "      <td>M</td>\n",
              "      <td>With parents</td>\n",
              "    </tr>\n",
              "    <tr>\n",
              "      <th>36</th>\n",
              "      <td>5028612</td>\n",
              "      <td>M</td>\n",
              "      <td>With parents</td>\n",
              "    </tr>\n",
              "  </tbody>\n",
              "</table>\n",
              "</div>\n",
              "    <div class=\"colab-df-buttons\">\n",
              "\n",
              "  <div class=\"colab-df-container\">\n",
              "    <button class=\"colab-df-convert\" onclick=\"convertToInteractive('df-cdb2d420-7a4b-4d90-acd7-4f9326c9618a')\"\n",
              "            title=\"Convert this dataframe to an interactive table.\"\n",
              "            style=\"display:none;\">\n",
              "\n",
              "  <svg xmlns=\"http://www.w3.org/2000/svg\" height=\"24px\" viewBox=\"0 -960 960 960\">\n",
              "    <path d=\"M120-120v-720h720v720H120Zm60-500h600v-160H180v160Zm220 220h160v-160H400v160Zm0 220h160v-160H400v160ZM180-400h160v-160H180v160Zm440 0h160v-160H620v160ZM180-180h160v-160H180v160Zm440 0h160v-160H620v160Z\"/>\n",
              "  </svg>\n",
              "    </button>\n",
              "\n",
              "  <style>\n",
              "    .colab-df-container {\n",
              "      display:flex;\n",
              "      gap: 12px;\n",
              "    }\n",
              "\n",
              "    .colab-df-convert {\n",
              "      background-color: #E8F0FE;\n",
              "      border: none;\n",
              "      border-radius: 50%;\n",
              "      cursor: pointer;\n",
              "      display: none;\n",
              "      fill: #1967D2;\n",
              "      height: 32px;\n",
              "      padding: 0 0 0 0;\n",
              "      width: 32px;\n",
              "    }\n",
              "\n",
              "    .colab-df-convert:hover {\n",
              "      background-color: #E2EBFA;\n",
              "      box-shadow: 0px 1px 2px rgba(60, 64, 67, 0.3), 0px 1px 3px 1px rgba(60, 64, 67, 0.15);\n",
              "      fill: #174EA6;\n",
              "    }\n",
              "\n",
              "    .colab-df-buttons div {\n",
              "      margin-bottom: 4px;\n",
              "    }\n",
              "\n",
              "    [theme=dark] .colab-df-convert {\n",
              "      background-color: #3B4455;\n",
              "      fill: #D2E3FC;\n",
              "    }\n",
              "\n",
              "    [theme=dark] .colab-df-convert:hover {\n",
              "      background-color: #434B5C;\n",
              "      box-shadow: 0px 1px 3px 1px rgba(0, 0, 0, 0.15);\n",
              "      filter: drop-shadow(0px 1px 2px rgba(0, 0, 0, 0.3));\n",
              "      fill: #FFFFFF;\n",
              "    }\n",
              "  </style>\n",
              "\n",
              "    <script>\n",
              "      const buttonEl =\n",
              "        document.querySelector('#df-cdb2d420-7a4b-4d90-acd7-4f9326c9618a button.colab-df-convert');\n",
              "      buttonEl.style.display =\n",
              "        google.colab.kernel.accessAllowed ? 'block' : 'none';\n",
              "\n",
              "      async function convertToInteractive(key) {\n",
              "        const element = document.querySelector('#df-cdb2d420-7a4b-4d90-acd7-4f9326c9618a');\n",
              "        const dataTable =\n",
              "          await google.colab.kernel.invokeFunction('convertToInteractive',\n",
              "                                                    [key], {});\n",
              "        if (!dataTable) return;\n",
              "\n",
              "        const docLinkHtml = 'Like what you see? Visit the ' +\n",
              "          '<a target=\"_blank\" href=https://colab.research.google.com/notebooks/data_table.ipynb>data table notebook</a>'\n",
              "          + ' to learn more about interactive tables.';\n",
              "        element.innerHTML = '';\n",
              "        dataTable['output_type'] = 'display_data';\n",
              "        await google.colab.output.renderOutput(dataTable, element);\n",
              "        const docLink = document.createElement('div');\n",
              "        docLink.innerHTML = docLinkHtml;\n",
              "        element.appendChild(docLink);\n",
              "      }\n",
              "    </script>\n",
              "  </div>\n",
              "\n",
              "\n",
              "<div id=\"df-dba12885-cd8c-48c9-8c9a-977804a84a10\">\n",
              "  <button class=\"colab-df-quickchart\" onclick=\"quickchart('df-dba12885-cd8c-48c9-8c9a-977804a84a10')\"\n",
              "            title=\"Suggest charts\"\n",
              "            style=\"display:none;\">\n",
              "\n",
              "<svg xmlns=\"http://www.w3.org/2000/svg\" height=\"24px\"viewBox=\"0 0 24 24\"\n",
              "     width=\"24px\">\n",
              "    <g>\n",
              "        <path d=\"M19 3H5c-1.1 0-2 .9-2 2v14c0 1.1.9 2 2 2h14c1.1 0 2-.9 2-2V5c0-1.1-.9-2-2-2zM9 17H7v-7h2v7zm4 0h-2V7h2v10zm4 0h-2v-4h2v4z\"/>\n",
              "    </g>\n",
              "</svg>\n",
              "  </button>\n",
              "\n",
              "<style>\n",
              "  .colab-df-quickchart {\n",
              "      --bg-color: #E8F0FE;\n",
              "      --fill-color: #1967D2;\n",
              "      --hover-bg-color: #E2EBFA;\n",
              "      --hover-fill-color: #174EA6;\n",
              "      --disabled-fill-color: #AAA;\n",
              "      --disabled-bg-color: #DDD;\n",
              "  }\n",
              "\n",
              "  [theme=dark] .colab-df-quickchart {\n",
              "      --bg-color: #3B4455;\n",
              "      --fill-color: #D2E3FC;\n",
              "      --hover-bg-color: #434B5C;\n",
              "      --hover-fill-color: #FFFFFF;\n",
              "      --disabled-bg-color: #3B4455;\n",
              "      --disabled-fill-color: #666;\n",
              "  }\n",
              "\n",
              "  .colab-df-quickchart {\n",
              "    background-color: var(--bg-color);\n",
              "    border: none;\n",
              "    border-radius: 50%;\n",
              "    cursor: pointer;\n",
              "    display: none;\n",
              "    fill: var(--fill-color);\n",
              "    height: 32px;\n",
              "    padding: 0;\n",
              "    width: 32px;\n",
              "  }\n",
              "\n",
              "  .colab-df-quickchart:hover {\n",
              "    background-color: var(--hover-bg-color);\n",
              "    box-shadow: 0 1px 2px rgba(60, 64, 67, 0.3), 0 1px 3px 1px rgba(60, 64, 67, 0.15);\n",
              "    fill: var(--button-hover-fill-color);\n",
              "  }\n",
              "\n",
              "  .colab-df-quickchart-complete:disabled,\n",
              "  .colab-df-quickchart-complete:disabled:hover {\n",
              "    background-color: var(--disabled-bg-color);\n",
              "    fill: var(--disabled-fill-color);\n",
              "    box-shadow: none;\n",
              "  }\n",
              "\n",
              "  .colab-df-spinner {\n",
              "    border: 2px solid var(--fill-color);\n",
              "    border-color: transparent;\n",
              "    border-bottom-color: var(--fill-color);\n",
              "    animation:\n",
              "      spin 1s steps(1) infinite;\n",
              "  }\n",
              "\n",
              "  @keyframes spin {\n",
              "    0% {\n",
              "      border-color: transparent;\n",
              "      border-bottom-color: var(--fill-color);\n",
              "      border-left-color: var(--fill-color);\n",
              "    }\n",
              "    20% {\n",
              "      border-color: transparent;\n",
              "      border-left-color: var(--fill-color);\n",
              "      border-top-color: var(--fill-color);\n",
              "    }\n",
              "    30% {\n",
              "      border-color: transparent;\n",
              "      border-left-color: var(--fill-color);\n",
              "      border-top-color: var(--fill-color);\n",
              "      border-right-color: var(--fill-color);\n",
              "    }\n",
              "    40% {\n",
              "      border-color: transparent;\n",
              "      border-right-color: var(--fill-color);\n",
              "      border-top-color: var(--fill-color);\n",
              "    }\n",
              "    60% {\n",
              "      border-color: transparent;\n",
              "      border-right-color: var(--fill-color);\n",
              "    }\n",
              "    80% {\n",
              "      border-color: transparent;\n",
              "      border-right-color: var(--fill-color);\n",
              "      border-bottom-color: var(--fill-color);\n",
              "    }\n",
              "    90% {\n",
              "      border-color: transparent;\n",
              "      border-bottom-color: var(--fill-color);\n",
              "    }\n",
              "  }\n",
              "</style>\n",
              "\n",
              "  <script>\n",
              "    async function quickchart(key) {\n",
              "      const quickchartButtonEl =\n",
              "        document.querySelector('#' + key + ' button');\n",
              "      quickchartButtonEl.disabled = true;  // To prevent multiple clicks.\n",
              "      quickchartButtonEl.classList.add('colab-df-spinner');\n",
              "      try {\n",
              "        const charts = await google.colab.kernel.invokeFunction(\n",
              "            'suggestCharts', [key], {});\n",
              "      } catch (error) {\n",
              "        console.error('Error during call to suggestCharts:', error);\n",
              "      }\n",
              "      quickchartButtonEl.classList.remove('colab-df-spinner');\n",
              "      quickchartButtonEl.classList.add('colab-df-quickchart-complete');\n",
              "    }\n",
              "    (() => {\n",
              "      let quickchartButtonEl =\n",
              "        document.querySelector('#df-dba12885-cd8c-48c9-8c9a-977804a84a10 button');\n",
              "      quickchartButtonEl.style.display =\n",
              "        google.colab.kernel.accessAllowed ? 'block' : 'none';\n",
              "    })();\n",
              "  </script>\n",
              "</div>\n",
              "    </div>\n",
              "  </div>\n"
            ]
          },
          "metadata": {},
          "execution_count": 30
        }
      ]
    },
    {
      "cell_type": "markdown",
      "source": [
        "* **37 male customers are staying with their families**"
      ],
      "metadata": {
        "id": "fHwDyDKX8tTb"
      }
    },
    {
      "cell_type": "markdown",
      "source": [
        "#### 4. Please list the top five people having the highest income."
      ],
      "metadata": {
        "id": "Yax6PJ-E8wLA"
      }
    },
    {
      "cell_type": "code",
      "source": [
        "query4 = pd.read_sql(\"select Ind_ID, Annual_income from Credit_card order by Annual_income desc limit 5;\", connection)\n",
        "query4"
      ],
      "metadata": {
        "colab": {
          "base_uri": "https://localhost:8080/",
          "height": 206
        },
        "id": "9SK1z-eOo54X",
        "outputId": "6c736376-d5ba-4814-9e79-f3f6897acc92"
      },
      "execution_count": null,
      "outputs": [
        {
          "output_type": "execute_result",
          "data": {
            "text/plain": [
              "    Ind_ID  Annual_income\n",
              "0  5143231      1575000.0\n",
              "1  5143235      1575000.0\n",
              "2  5090470       900000.0\n",
              "3  5079016       900000.0\n",
              "4  5079017       900000.0"
            ],
            "text/html": [
              "\n",
              "  <div id=\"df-6774d2ba-cced-4fd2-b16c-28ea1d008ada\" class=\"colab-df-container\">\n",
              "    <div>\n",
              "<style scoped>\n",
              "    .dataframe tbody tr th:only-of-type {\n",
              "        vertical-align: middle;\n",
              "    }\n",
              "\n",
              "    .dataframe tbody tr th {\n",
              "        vertical-align: top;\n",
              "    }\n",
              "\n",
              "    .dataframe thead th {\n",
              "        text-align: right;\n",
              "    }\n",
              "</style>\n",
              "<table border=\"1\" class=\"dataframe\">\n",
              "  <thead>\n",
              "    <tr style=\"text-align: right;\">\n",
              "      <th></th>\n",
              "      <th>Ind_ID</th>\n",
              "      <th>Annual_income</th>\n",
              "    </tr>\n",
              "  </thead>\n",
              "  <tbody>\n",
              "    <tr>\n",
              "      <th>0</th>\n",
              "      <td>5143231</td>\n",
              "      <td>1575000.0</td>\n",
              "    </tr>\n",
              "    <tr>\n",
              "      <th>1</th>\n",
              "      <td>5143235</td>\n",
              "      <td>1575000.0</td>\n",
              "    </tr>\n",
              "    <tr>\n",
              "      <th>2</th>\n",
              "      <td>5090470</td>\n",
              "      <td>900000.0</td>\n",
              "    </tr>\n",
              "    <tr>\n",
              "      <th>3</th>\n",
              "      <td>5079016</td>\n",
              "      <td>900000.0</td>\n",
              "    </tr>\n",
              "    <tr>\n",
              "      <th>4</th>\n",
              "      <td>5079017</td>\n",
              "      <td>900000.0</td>\n",
              "    </tr>\n",
              "  </tbody>\n",
              "</table>\n",
              "</div>\n",
              "    <div class=\"colab-df-buttons\">\n",
              "\n",
              "  <div class=\"colab-df-container\">\n",
              "    <button class=\"colab-df-convert\" onclick=\"convertToInteractive('df-6774d2ba-cced-4fd2-b16c-28ea1d008ada')\"\n",
              "            title=\"Convert this dataframe to an interactive table.\"\n",
              "            style=\"display:none;\">\n",
              "\n",
              "  <svg xmlns=\"http://www.w3.org/2000/svg\" height=\"24px\" viewBox=\"0 -960 960 960\">\n",
              "    <path d=\"M120-120v-720h720v720H120Zm60-500h600v-160H180v160Zm220 220h160v-160H400v160Zm0 220h160v-160H400v160ZM180-400h160v-160H180v160Zm440 0h160v-160H620v160ZM180-180h160v-160H180v160Zm440 0h160v-160H620v160Z\"/>\n",
              "  </svg>\n",
              "    </button>\n",
              "\n",
              "  <style>\n",
              "    .colab-df-container {\n",
              "      display:flex;\n",
              "      gap: 12px;\n",
              "    }\n",
              "\n",
              "    .colab-df-convert {\n",
              "      background-color: #E8F0FE;\n",
              "      border: none;\n",
              "      border-radius: 50%;\n",
              "      cursor: pointer;\n",
              "      display: none;\n",
              "      fill: #1967D2;\n",
              "      height: 32px;\n",
              "      padding: 0 0 0 0;\n",
              "      width: 32px;\n",
              "    }\n",
              "\n",
              "    .colab-df-convert:hover {\n",
              "      background-color: #E2EBFA;\n",
              "      box-shadow: 0px 1px 2px rgba(60, 64, 67, 0.3), 0px 1px 3px 1px rgba(60, 64, 67, 0.15);\n",
              "      fill: #174EA6;\n",
              "    }\n",
              "\n",
              "    .colab-df-buttons div {\n",
              "      margin-bottom: 4px;\n",
              "    }\n",
              "\n",
              "    [theme=dark] .colab-df-convert {\n",
              "      background-color: #3B4455;\n",
              "      fill: #D2E3FC;\n",
              "    }\n",
              "\n",
              "    [theme=dark] .colab-df-convert:hover {\n",
              "      background-color: #434B5C;\n",
              "      box-shadow: 0px 1px 3px 1px rgba(0, 0, 0, 0.15);\n",
              "      filter: drop-shadow(0px 1px 2px rgba(0, 0, 0, 0.3));\n",
              "      fill: #FFFFFF;\n",
              "    }\n",
              "  </style>\n",
              "\n",
              "    <script>\n",
              "      const buttonEl =\n",
              "        document.querySelector('#df-6774d2ba-cced-4fd2-b16c-28ea1d008ada button.colab-df-convert');\n",
              "      buttonEl.style.display =\n",
              "        google.colab.kernel.accessAllowed ? 'block' : 'none';\n",
              "\n",
              "      async function convertToInteractive(key) {\n",
              "        const element = document.querySelector('#df-6774d2ba-cced-4fd2-b16c-28ea1d008ada');\n",
              "        const dataTable =\n",
              "          await google.colab.kernel.invokeFunction('convertToInteractive',\n",
              "                                                    [key], {});\n",
              "        if (!dataTable) return;\n",
              "\n",
              "        const docLinkHtml = 'Like what you see? Visit the ' +\n",
              "          '<a target=\"_blank\" href=https://colab.research.google.com/notebooks/data_table.ipynb>data table notebook</a>'\n",
              "          + ' to learn more about interactive tables.';\n",
              "        element.innerHTML = '';\n",
              "        dataTable['output_type'] = 'display_data';\n",
              "        await google.colab.output.renderOutput(dataTable, element);\n",
              "        const docLink = document.createElement('div');\n",
              "        docLink.innerHTML = docLinkHtml;\n",
              "        element.appendChild(docLink);\n",
              "      }\n",
              "    </script>\n",
              "  </div>\n",
              "\n",
              "\n",
              "<div id=\"df-5beef059-d5f6-4176-9b43-7c9591c1f2cd\">\n",
              "  <button class=\"colab-df-quickchart\" onclick=\"quickchart('df-5beef059-d5f6-4176-9b43-7c9591c1f2cd')\"\n",
              "            title=\"Suggest charts\"\n",
              "            style=\"display:none;\">\n",
              "\n",
              "<svg xmlns=\"http://www.w3.org/2000/svg\" height=\"24px\"viewBox=\"0 0 24 24\"\n",
              "     width=\"24px\">\n",
              "    <g>\n",
              "        <path d=\"M19 3H5c-1.1 0-2 .9-2 2v14c0 1.1.9 2 2 2h14c1.1 0 2-.9 2-2V5c0-1.1-.9-2-2-2zM9 17H7v-7h2v7zm4 0h-2V7h2v10zm4 0h-2v-4h2v4z\"/>\n",
              "    </g>\n",
              "</svg>\n",
              "  </button>\n",
              "\n",
              "<style>\n",
              "  .colab-df-quickchart {\n",
              "      --bg-color: #E8F0FE;\n",
              "      --fill-color: #1967D2;\n",
              "      --hover-bg-color: #E2EBFA;\n",
              "      --hover-fill-color: #174EA6;\n",
              "      --disabled-fill-color: #AAA;\n",
              "      --disabled-bg-color: #DDD;\n",
              "  }\n",
              "\n",
              "  [theme=dark] .colab-df-quickchart {\n",
              "      --bg-color: #3B4455;\n",
              "      --fill-color: #D2E3FC;\n",
              "      --hover-bg-color: #434B5C;\n",
              "      --hover-fill-color: #FFFFFF;\n",
              "      --disabled-bg-color: #3B4455;\n",
              "      --disabled-fill-color: #666;\n",
              "  }\n",
              "\n",
              "  .colab-df-quickchart {\n",
              "    background-color: var(--bg-color);\n",
              "    border: none;\n",
              "    border-radius: 50%;\n",
              "    cursor: pointer;\n",
              "    display: none;\n",
              "    fill: var(--fill-color);\n",
              "    height: 32px;\n",
              "    padding: 0;\n",
              "    width: 32px;\n",
              "  }\n",
              "\n",
              "  .colab-df-quickchart:hover {\n",
              "    background-color: var(--hover-bg-color);\n",
              "    box-shadow: 0 1px 2px rgba(60, 64, 67, 0.3), 0 1px 3px 1px rgba(60, 64, 67, 0.15);\n",
              "    fill: var(--button-hover-fill-color);\n",
              "  }\n",
              "\n",
              "  .colab-df-quickchart-complete:disabled,\n",
              "  .colab-df-quickchart-complete:disabled:hover {\n",
              "    background-color: var(--disabled-bg-color);\n",
              "    fill: var(--disabled-fill-color);\n",
              "    box-shadow: none;\n",
              "  }\n",
              "\n",
              "  .colab-df-spinner {\n",
              "    border: 2px solid var(--fill-color);\n",
              "    border-color: transparent;\n",
              "    border-bottom-color: var(--fill-color);\n",
              "    animation:\n",
              "      spin 1s steps(1) infinite;\n",
              "  }\n",
              "\n",
              "  @keyframes spin {\n",
              "    0% {\n",
              "      border-color: transparent;\n",
              "      border-bottom-color: var(--fill-color);\n",
              "      border-left-color: var(--fill-color);\n",
              "    }\n",
              "    20% {\n",
              "      border-color: transparent;\n",
              "      border-left-color: var(--fill-color);\n",
              "      border-top-color: var(--fill-color);\n",
              "    }\n",
              "    30% {\n",
              "      border-color: transparent;\n",
              "      border-left-color: var(--fill-color);\n",
              "      border-top-color: var(--fill-color);\n",
              "      border-right-color: var(--fill-color);\n",
              "    }\n",
              "    40% {\n",
              "      border-color: transparent;\n",
              "      border-right-color: var(--fill-color);\n",
              "      border-top-color: var(--fill-color);\n",
              "    }\n",
              "    60% {\n",
              "      border-color: transparent;\n",
              "      border-right-color: var(--fill-color);\n",
              "    }\n",
              "    80% {\n",
              "      border-color: transparent;\n",
              "      border-right-color: var(--fill-color);\n",
              "      border-bottom-color: var(--fill-color);\n",
              "    }\n",
              "    90% {\n",
              "      border-color: transparent;\n",
              "      border-bottom-color: var(--fill-color);\n",
              "    }\n",
              "  }\n",
              "</style>\n",
              "\n",
              "  <script>\n",
              "    async function quickchart(key) {\n",
              "      const quickchartButtonEl =\n",
              "        document.querySelector('#' + key + ' button');\n",
              "      quickchartButtonEl.disabled = true;  // To prevent multiple clicks.\n",
              "      quickchartButtonEl.classList.add('colab-df-spinner');\n",
              "      try {\n",
              "        const charts = await google.colab.kernel.invokeFunction(\n",
              "            'suggestCharts', [key], {});\n",
              "      } catch (error) {\n",
              "        console.error('Error during call to suggestCharts:', error);\n",
              "      }\n",
              "      quickchartButtonEl.classList.remove('colab-df-spinner');\n",
              "      quickchartButtonEl.classList.add('colab-df-quickchart-complete');\n",
              "    }\n",
              "    (() => {\n",
              "      let quickchartButtonEl =\n",
              "        document.querySelector('#df-5beef059-d5f6-4176-9b43-7c9591c1f2cd button');\n",
              "      quickchartButtonEl.style.display =\n",
              "        google.colab.kernel.accessAllowed ? 'block' : 'none';\n",
              "    })();\n",
              "  </script>\n",
              "</div>\n",
              "    </div>\n",
              "  </div>\n"
            ]
          },
          "metadata": {},
          "execution_count": 33
        }
      ]
    },
    {
      "cell_type": "markdown",
      "source": [
        "#### 5. How many married people are having bad credit?"
      ],
      "metadata": {
        "id": "XhTts16O8zvb"
      }
    },
    {
      "cell_type": "code",
      "source": [
        "query5 = pd.read_sql(\"select cc.Ind_ID, Marital_status, label from Credit_card cc inner join label l on cc.Ind_ID = l.Ind_ID where cc.Marital_status like 'Married' and l.label = 1;\", connection)\n",
        "query5"
      ],
      "metadata": {
        "colab": {
          "base_uri": "https://localhost:8080/",
          "height": 423
        },
        "id": "rASeqCeDuZVe",
        "outputId": "7be02bc7-7a9e-40bf-c3bc-d47c2892dd7e"
      },
      "execution_count": null,
      "outputs": [
        {
          "output_type": "execute_result",
          "data": {
            "text/plain": [
              "      Ind_ID Marital_status  label\n",
              "0    5008827        Married      1\n",
              "1    5009744        Married      1\n",
              "2    5009746        Married      1\n",
              "3    5009749        Married      1\n",
              "4    5009752        Married      1\n",
              "..       ...            ...    ...\n",
              "105  5149188        Married      1\n",
              "106  5149190        Married      1\n",
              "107  5149828        Married      1\n",
              "108  5149834        Married      1\n",
              "109  5149838        Married      1\n",
              "\n",
              "[110 rows x 3 columns]"
            ],
            "text/html": [
              "\n",
              "  <div id=\"df-8f1c1097-bddd-4217-b34d-560d21f88327\" class=\"colab-df-container\">\n",
              "    <div>\n",
              "<style scoped>\n",
              "    .dataframe tbody tr th:only-of-type {\n",
              "        vertical-align: middle;\n",
              "    }\n",
              "\n",
              "    .dataframe tbody tr th {\n",
              "        vertical-align: top;\n",
              "    }\n",
              "\n",
              "    .dataframe thead th {\n",
              "        text-align: right;\n",
              "    }\n",
              "</style>\n",
              "<table border=\"1\" class=\"dataframe\">\n",
              "  <thead>\n",
              "    <tr style=\"text-align: right;\">\n",
              "      <th></th>\n",
              "      <th>Ind_ID</th>\n",
              "      <th>Marital_status</th>\n",
              "      <th>label</th>\n",
              "    </tr>\n",
              "  </thead>\n",
              "  <tbody>\n",
              "    <tr>\n",
              "      <th>0</th>\n",
              "      <td>5008827</td>\n",
              "      <td>Married</td>\n",
              "      <td>1</td>\n",
              "    </tr>\n",
              "    <tr>\n",
              "      <th>1</th>\n",
              "      <td>5009744</td>\n",
              "      <td>Married</td>\n",
              "      <td>1</td>\n",
              "    </tr>\n",
              "    <tr>\n",
              "      <th>2</th>\n",
              "      <td>5009746</td>\n",
              "      <td>Married</td>\n",
              "      <td>1</td>\n",
              "    </tr>\n",
              "    <tr>\n",
              "      <th>3</th>\n",
              "      <td>5009749</td>\n",
              "      <td>Married</td>\n",
              "      <td>1</td>\n",
              "    </tr>\n",
              "    <tr>\n",
              "      <th>4</th>\n",
              "      <td>5009752</td>\n",
              "      <td>Married</td>\n",
              "      <td>1</td>\n",
              "    </tr>\n",
              "    <tr>\n",
              "      <th>...</th>\n",
              "      <td>...</td>\n",
              "      <td>...</td>\n",
              "      <td>...</td>\n",
              "    </tr>\n",
              "    <tr>\n",
              "      <th>105</th>\n",
              "      <td>5149188</td>\n",
              "      <td>Married</td>\n",
              "      <td>1</td>\n",
              "    </tr>\n",
              "    <tr>\n",
              "      <th>106</th>\n",
              "      <td>5149190</td>\n",
              "      <td>Married</td>\n",
              "      <td>1</td>\n",
              "    </tr>\n",
              "    <tr>\n",
              "      <th>107</th>\n",
              "      <td>5149828</td>\n",
              "      <td>Married</td>\n",
              "      <td>1</td>\n",
              "    </tr>\n",
              "    <tr>\n",
              "      <th>108</th>\n",
              "      <td>5149834</td>\n",
              "      <td>Married</td>\n",
              "      <td>1</td>\n",
              "    </tr>\n",
              "    <tr>\n",
              "      <th>109</th>\n",
              "      <td>5149838</td>\n",
              "      <td>Married</td>\n",
              "      <td>1</td>\n",
              "    </tr>\n",
              "  </tbody>\n",
              "</table>\n",
              "<p>110 rows × 3 columns</p>\n",
              "</div>\n",
              "    <div class=\"colab-df-buttons\">\n",
              "\n",
              "  <div class=\"colab-df-container\">\n",
              "    <button class=\"colab-df-convert\" onclick=\"convertToInteractive('df-8f1c1097-bddd-4217-b34d-560d21f88327')\"\n",
              "            title=\"Convert this dataframe to an interactive table.\"\n",
              "            style=\"display:none;\">\n",
              "\n",
              "  <svg xmlns=\"http://www.w3.org/2000/svg\" height=\"24px\" viewBox=\"0 -960 960 960\">\n",
              "    <path d=\"M120-120v-720h720v720H120Zm60-500h600v-160H180v160Zm220 220h160v-160H400v160Zm0 220h160v-160H400v160ZM180-400h160v-160H180v160Zm440 0h160v-160H620v160ZM180-180h160v-160H180v160Zm440 0h160v-160H620v160Z\"/>\n",
              "  </svg>\n",
              "    </button>\n",
              "\n",
              "  <style>\n",
              "    .colab-df-container {\n",
              "      display:flex;\n",
              "      gap: 12px;\n",
              "    }\n",
              "\n",
              "    .colab-df-convert {\n",
              "      background-color: #E8F0FE;\n",
              "      border: none;\n",
              "      border-radius: 50%;\n",
              "      cursor: pointer;\n",
              "      display: none;\n",
              "      fill: #1967D2;\n",
              "      height: 32px;\n",
              "      padding: 0 0 0 0;\n",
              "      width: 32px;\n",
              "    }\n",
              "\n",
              "    .colab-df-convert:hover {\n",
              "      background-color: #E2EBFA;\n",
              "      box-shadow: 0px 1px 2px rgba(60, 64, 67, 0.3), 0px 1px 3px 1px rgba(60, 64, 67, 0.15);\n",
              "      fill: #174EA6;\n",
              "    }\n",
              "\n",
              "    .colab-df-buttons div {\n",
              "      margin-bottom: 4px;\n",
              "    }\n",
              "\n",
              "    [theme=dark] .colab-df-convert {\n",
              "      background-color: #3B4455;\n",
              "      fill: #D2E3FC;\n",
              "    }\n",
              "\n",
              "    [theme=dark] .colab-df-convert:hover {\n",
              "      background-color: #434B5C;\n",
              "      box-shadow: 0px 1px 3px 1px rgba(0, 0, 0, 0.15);\n",
              "      filter: drop-shadow(0px 1px 2px rgba(0, 0, 0, 0.3));\n",
              "      fill: #FFFFFF;\n",
              "    }\n",
              "  </style>\n",
              "\n",
              "    <script>\n",
              "      const buttonEl =\n",
              "        document.querySelector('#df-8f1c1097-bddd-4217-b34d-560d21f88327 button.colab-df-convert');\n",
              "      buttonEl.style.display =\n",
              "        google.colab.kernel.accessAllowed ? 'block' : 'none';\n",
              "\n",
              "      async function convertToInteractive(key) {\n",
              "        const element = document.querySelector('#df-8f1c1097-bddd-4217-b34d-560d21f88327');\n",
              "        const dataTable =\n",
              "          await google.colab.kernel.invokeFunction('convertToInteractive',\n",
              "                                                    [key], {});\n",
              "        if (!dataTable) return;\n",
              "\n",
              "        const docLinkHtml = 'Like what you see? Visit the ' +\n",
              "          '<a target=\"_blank\" href=https://colab.research.google.com/notebooks/data_table.ipynb>data table notebook</a>'\n",
              "          + ' to learn more about interactive tables.';\n",
              "        element.innerHTML = '';\n",
              "        dataTable['output_type'] = 'display_data';\n",
              "        await google.colab.output.renderOutput(dataTable, element);\n",
              "        const docLink = document.createElement('div');\n",
              "        docLink.innerHTML = docLinkHtml;\n",
              "        element.appendChild(docLink);\n",
              "      }\n",
              "    </script>\n",
              "  </div>\n",
              "\n",
              "\n",
              "<div id=\"df-4a1181f6-872d-4b36-b32d-7a70b7783203\">\n",
              "  <button class=\"colab-df-quickchart\" onclick=\"quickchart('df-4a1181f6-872d-4b36-b32d-7a70b7783203')\"\n",
              "            title=\"Suggest charts\"\n",
              "            style=\"display:none;\">\n",
              "\n",
              "<svg xmlns=\"http://www.w3.org/2000/svg\" height=\"24px\"viewBox=\"0 0 24 24\"\n",
              "     width=\"24px\">\n",
              "    <g>\n",
              "        <path d=\"M19 3H5c-1.1 0-2 .9-2 2v14c0 1.1.9 2 2 2h14c1.1 0 2-.9 2-2V5c0-1.1-.9-2-2-2zM9 17H7v-7h2v7zm4 0h-2V7h2v10zm4 0h-2v-4h2v4z\"/>\n",
              "    </g>\n",
              "</svg>\n",
              "  </button>\n",
              "\n",
              "<style>\n",
              "  .colab-df-quickchart {\n",
              "      --bg-color: #E8F0FE;\n",
              "      --fill-color: #1967D2;\n",
              "      --hover-bg-color: #E2EBFA;\n",
              "      --hover-fill-color: #174EA6;\n",
              "      --disabled-fill-color: #AAA;\n",
              "      --disabled-bg-color: #DDD;\n",
              "  }\n",
              "\n",
              "  [theme=dark] .colab-df-quickchart {\n",
              "      --bg-color: #3B4455;\n",
              "      --fill-color: #D2E3FC;\n",
              "      --hover-bg-color: #434B5C;\n",
              "      --hover-fill-color: #FFFFFF;\n",
              "      --disabled-bg-color: #3B4455;\n",
              "      --disabled-fill-color: #666;\n",
              "  }\n",
              "\n",
              "  .colab-df-quickchart {\n",
              "    background-color: var(--bg-color);\n",
              "    border: none;\n",
              "    border-radius: 50%;\n",
              "    cursor: pointer;\n",
              "    display: none;\n",
              "    fill: var(--fill-color);\n",
              "    height: 32px;\n",
              "    padding: 0;\n",
              "    width: 32px;\n",
              "  }\n",
              "\n",
              "  .colab-df-quickchart:hover {\n",
              "    background-color: var(--hover-bg-color);\n",
              "    box-shadow: 0 1px 2px rgba(60, 64, 67, 0.3), 0 1px 3px 1px rgba(60, 64, 67, 0.15);\n",
              "    fill: var(--button-hover-fill-color);\n",
              "  }\n",
              "\n",
              "  .colab-df-quickchart-complete:disabled,\n",
              "  .colab-df-quickchart-complete:disabled:hover {\n",
              "    background-color: var(--disabled-bg-color);\n",
              "    fill: var(--disabled-fill-color);\n",
              "    box-shadow: none;\n",
              "  }\n",
              "\n",
              "  .colab-df-spinner {\n",
              "    border: 2px solid var(--fill-color);\n",
              "    border-color: transparent;\n",
              "    border-bottom-color: var(--fill-color);\n",
              "    animation:\n",
              "      spin 1s steps(1) infinite;\n",
              "  }\n",
              "\n",
              "  @keyframes spin {\n",
              "    0% {\n",
              "      border-color: transparent;\n",
              "      border-bottom-color: var(--fill-color);\n",
              "      border-left-color: var(--fill-color);\n",
              "    }\n",
              "    20% {\n",
              "      border-color: transparent;\n",
              "      border-left-color: var(--fill-color);\n",
              "      border-top-color: var(--fill-color);\n",
              "    }\n",
              "    30% {\n",
              "      border-color: transparent;\n",
              "      border-left-color: var(--fill-color);\n",
              "      border-top-color: var(--fill-color);\n",
              "      border-right-color: var(--fill-color);\n",
              "    }\n",
              "    40% {\n",
              "      border-color: transparent;\n",
              "      border-right-color: var(--fill-color);\n",
              "      border-top-color: var(--fill-color);\n",
              "    }\n",
              "    60% {\n",
              "      border-color: transparent;\n",
              "      border-right-color: var(--fill-color);\n",
              "    }\n",
              "    80% {\n",
              "      border-color: transparent;\n",
              "      border-right-color: var(--fill-color);\n",
              "      border-bottom-color: var(--fill-color);\n",
              "    }\n",
              "    90% {\n",
              "      border-color: transparent;\n",
              "      border-bottom-color: var(--fill-color);\n",
              "    }\n",
              "  }\n",
              "</style>\n",
              "\n",
              "  <script>\n",
              "    async function quickchart(key) {\n",
              "      const quickchartButtonEl =\n",
              "        document.querySelector('#' + key + ' button');\n",
              "      quickchartButtonEl.disabled = true;  // To prevent multiple clicks.\n",
              "      quickchartButtonEl.classList.add('colab-df-spinner');\n",
              "      try {\n",
              "        const charts = await google.colab.kernel.invokeFunction(\n",
              "            'suggestCharts', [key], {});\n",
              "      } catch (error) {\n",
              "        console.error('Error during call to suggestCharts:', error);\n",
              "      }\n",
              "      quickchartButtonEl.classList.remove('colab-df-spinner');\n",
              "      quickchartButtonEl.classList.add('colab-df-quickchart-complete');\n",
              "    }\n",
              "    (() => {\n",
              "      let quickchartButtonEl =\n",
              "        document.querySelector('#df-4a1181f6-872d-4b36-b32d-7a70b7783203 button');\n",
              "      quickchartButtonEl.style.display =\n",
              "        google.colab.kernel.accessAllowed ? 'block' : 'none';\n",
              "    })();\n",
              "  </script>\n",
              "</div>\n",
              "    </div>\n",
              "  </div>\n"
            ]
          },
          "metadata": {},
          "execution_count": 35
        }
      ]
    },
    {
      "cell_type": "markdown",
      "source": [
        "* **110 married people are having bad credit**"
      ],
      "metadata": {
        "id": "IgxGryjL82NZ"
      }
    },
    {
      "cell_type": "markdown",
      "source": [
        "#### 6. What is the highest education level and what is the total count?"
      ],
      "metadata": {
        "id": "mKJ_Wj9s85F9"
      }
    },
    {
      "cell_type": "code",
      "source": [
        "query6 = pd.read_sql(\"select count(Ind_ID) as 'Total count' from Credit_card where EDUCATION like 'Higher education';\", connection)\n",
        "query6"
      ],
      "metadata": {
        "colab": {
          "base_uri": "https://localhost:8080/",
          "height": 81
        },
        "id": "UYhX-rOeuZat",
        "outputId": "76c5e432-d2b6-4f8c-d94b-d7cf4f5802d8"
      },
      "execution_count": null,
      "outputs": [
        {
          "output_type": "execute_result",
          "data": {
            "text/plain": [
              "   Total count\n",
              "0          421"
            ],
            "text/html": [
              "\n",
              "  <div id=\"df-d8f89f6e-4192-41bd-8e6d-e34972172af6\" class=\"colab-df-container\">\n",
              "    <div>\n",
              "<style scoped>\n",
              "    .dataframe tbody tr th:only-of-type {\n",
              "        vertical-align: middle;\n",
              "    }\n",
              "\n",
              "    .dataframe tbody tr th {\n",
              "        vertical-align: top;\n",
              "    }\n",
              "\n",
              "    .dataframe thead th {\n",
              "        text-align: right;\n",
              "    }\n",
              "</style>\n",
              "<table border=\"1\" class=\"dataframe\">\n",
              "  <thead>\n",
              "    <tr style=\"text-align: right;\">\n",
              "      <th></th>\n",
              "      <th>Total count</th>\n",
              "    </tr>\n",
              "  </thead>\n",
              "  <tbody>\n",
              "    <tr>\n",
              "      <th>0</th>\n",
              "      <td>421</td>\n",
              "    </tr>\n",
              "  </tbody>\n",
              "</table>\n",
              "</div>\n",
              "    <div class=\"colab-df-buttons\">\n",
              "\n",
              "  <div class=\"colab-df-container\">\n",
              "    <button class=\"colab-df-convert\" onclick=\"convertToInteractive('df-d8f89f6e-4192-41bd-8e6d-e34972172af6')\"\n",
              "            title=\"Convert this dataframe to an interactive table.\"\n",
              "            style=\"display:none;\">\n",
              "\n",
              "  <svg xmlns=\"http://www.w3.org/2000/svg\" height=\"24px\" viewBox=\"0 -960 960 960\">\n",
              "    <path d=\"M120-120v-720h720v720H120Zm60-500h600v-160H180v160Zm220 220h160v-160H400v160Zm0 220h160v-160H400v160ZM180-400h160v-160H180v160Zm440 0h160v-160H620v160ZM180-180h160v-160H180v160Zm440 0h160v-160H620v160Z\"/>\n",
              "  </svg>\n",
              "    </button>\n",
              "\n",
              "  <style>\n",
              "    .colab-df-container {\n",
              "      display:flex;\n",
              "      gap: 12px;\n",
              "    }\n",
              "\n",
              "    .colab-df-convert {\n",
              "      background-color: #E8F0FE;\n",
              "      border: none;\n",
              "      border-radius: 50%;\n",
              "      cursor: pointer;\n",
              "      display: none;\n",
              "      fill: #1967D2;\n",
              "      height: 32px;\n",
              "      padding: 0 0 0 0;\n",
              "      width: 32px;\n",
              "    }\n",
              "\n",
              "    .colab-df-convert:hover {\n",
              "      background-color: #E2EBFA;\n",
              "      box-shadow: 0px 1px 2px rgba(60, 64, 67, 0.3), 0px 1px 3px 1px rgba(60, 64, 67, 0.15);\n",
              "      fill: #174EA6;\n",
              "    }\n",
              "\n",
              "    .colab-df-buttons div {\n",
              "      margin-bottom: 4px;\n",
              "    }\n",
              "\n",
              "    [theme=dark] .colab-df-convert {\n",
              "      background-color: #3B4455;\n",
              "      fill: #D2E3FC;\n",
              "    }\n",
              "\n",
              "    [theme=dark] .colab-df-convert:hover {\n",
              "      background-color: #434B5C;\n",
              "      box-shadow: 0px 1px 3px 1px rgba(0, 0, 0, 0.15);\n",
              "      filter: drop-shadow(0px 1px 2px rgba(0, 0, 0, 0.3));\n",
              "      fill: #FFFFFF;\n",
              "    }\n",
              "  </style>\n",
              "\n",
              "    <script>\n",
              "      const buttonEl =\n",
              "        document.querySelector('#df-d8f89f6e-4192-41bd-8e6d-e34972172af6 button.colab-df-convert');\n",
              "      buttonEl.style.display =\n",
              "        google.colab.kernel.accessAllowed ? 'block' : 'none';\n",
              "\n",
              "      async function convertToInteractive(key) {\n",
              "        const element = document.querySelector('#df-d8f89f6e-4192-41bd-8e6d-e34972172af6');\n",
              "        const dataTable =\n",
              "          await google.colab.kernel.invokeFunction('convertToInteractive',\n",
              "                                                    [key], {});\n",
              "        if (!dataTable) return;\n",
              "\n",
              "        const docLinkHtml = 'Like what you see? Visit the ' +\n",
              "          '<a target=\"_blank\" href=https://colab.research.google.com/notebooks/data_table.ipynb>data table notebook</a>'\n",
              "          + ' to learn more about interactive tables.';\n",
              "        element.innerHTML = '';\n",
              "        dataTable['output_type'] = 'display_data';\n",
              "        await google.colab.output.renderOutput(dataTable, element);\n",
              "        const docLink = document.createElement('div');\n",
              "        docLink.innerHTML = docLinkHtml;\n",
              "        element.appendChild(docLink);\n",
              "      }\n",
              "    </script>\n",
              "  </div>\n",
              "\n",
              "    </div>\n",
              "  </div>\n"
            ]
          },
          "metadata": {},
          "execution_count": 36
        }
      ]
    },
    {
      "cell_type": "markdown",
      "source": [
        "#### 7. Between married males and females, who is having more bad credit?"
      ],
      "metadata": {
        "id": "QKoUlUWX9Auz"
      }
    },
    {
      "cell_type": "code",
      "source": [
        "query7 = pd.read_sql(\"select gender, count(cc.Ind_ID) as total_count from Credit_card cc inner join label l on cc.Ind_ID = l.Ind_ID where cc.Marital_status like 'Married' and l.label = 1 group by gender;\", connection)\n",
        "query7"
      ],
      "metadata": {
        "colab": {
          "base_uri": "https://localhost:8080/",
          "height": 112
        },
        "id": "_hyYbPhDuZgp",
        "outputId": "9cc1b406-be1a-45db-f67f-0f1c5b1a1f3a"
      },
      "execution_count": null,
      "outputs": [
        {
          "output_type": "execute_result",
          "data": {
            "text/plain": [
              "  GENDER  total_count\n",
              "0      F           59\n",
              "1      M           51"
            ],
            "text/html": [
              "\n",
              "  <div id=\"df-75a6a44c-7350-4001-a47c-0102d78ab042\" class=\"colab-df-container\">\n",
              "    <div>\n",
              "<style scoped>\n",
              "    .dataframe tbody tr th:only-of-type {\n",
              "        vertical-align: middle;\n",
              "    }\n",
              "\n",
              "    .dataframe tbody tr th {\n",
              "        vertical-align: top;\n",
              "    }\n",
              "\n",
              "    .dataframe thead th {\n",
              "        text-align: right;\n",
              "    }\n",
              "</style>\n",
              "<table border=\"1\" class=\"dataframe\">\n",
              "  <thead>\n",
              "    <tr style=\"text-align: right;\">\n",
              "      <th></th>\n",
              "      <th>GENDER</th>\n",
              "      <th>total_count</th>\n",
              "    </tr>\n",
              "  </thead>\n",
              "  <tbody>\n",
              "    <tr>\n",
              "      <th>0</th>\n",
              "      <td>F</td>\n",
              "      <td>59</td>\n",
              "    </tr>\n",
              "    <tr>\n",
              "      <th>1</th>\n",
              "      <td>M</td>\n",
              "      <td>51</td>\n",
              "    </tr>\n",
              "  </tbody>\n",
              "</table>\n",
              "</div>\n",
              "    <div class=\"colab-df-buttons\">\n",
              "\n",
              "  <div class=\"colab-df-container\">\n",
              "    <button class=\"colab-df-convert\" onclick=\"convertToInteractive('df-75a6a44c-7350-4001-a47c-0102d78ab042')\"\n",
              "            title=\"Convert this dataframe to an interactive table.\"\n",
              "            style=\"display:none;\">\n",
              "\n",
              "  <svg xmlns=\"http://www.w3.org/2000/svg\" height=\"24px\" viewBox=\"0 -960 960 960\">\n",
              "    <path d=\"M120-120v-720h720v720H120Zm60-500h600v-160H180v160Zm220 220h160v-160H400v160Zm0 220h160v-160H400v160ZM180-400h160v-160H180v160Zm440 0h160v-160H620v160ZM180-180h160v-160H180v160Zm440 0h160v-160H620v160Z\"/>\n",
              "  </svg>\n",
              "    </button>\n",
              "\n",
              "  <style>\n",
              "    .colab-df-container {\n",
              "      display:flex;\n",
              "      gap: 12px;\n",
              "    }\n",
              "\n",
              "    .colab-df-convert {\n",
              "      background-color: #E8F0FE;\n",
              "      border: none;\n",
              "      border-radius: 50%;\n",
              "      cursor: pointer;\n",
              "      display: none;\n",
              "      fill: #1967D2;\n",
              "      height: 32px;\n",
              "      padding: 0 0 0 0;\n",
              "      width: 32px;\n",
              "    }\n",
              "\n",
              "    .colab-df-convert:hover {\n",
              "      background-color: #E2EBFA;\n",
              "      box-shadow: 0px 1px 2px rgba(60, 64, 67, 0.3), 0px 1px 3px 1px rgba(60, 64, 67, 0.15);\n",
              "      fill: #174EA6;\n",
              "    }\n",
              "\n",
              "    .colab-df-buttons div {\n",
              "      margin-bottom: 4px;\n",
              "    }\n",
              "\n",
              "    [theme=dark] .colab-df-convert {\n",
              "      background-color: #3B4455;\n",
              "      fill: #D2E3FC;\n",
              "    }\n",
              "\n",
              "    [theme=dark] .colab-df-convert:hover {\n",
              "      background-color: #434B5C;\n",
              "      box-shadow: 0px 1px 3px 1px rgba(0, 0, 0, 0.15);\n",
              "      filter: drop-shadow(0px 1px 2px rgba(0, 0, 0, 0.3));\n",
              "      fill: #FFFFFF;\n",
              "    }\n",
              "  </style>\n",
              "\n",
              "    <script>\n",
              "      const buttonEl =\n",
              "        document.querySelector('#df-75a6a44c-7350-4001-a47c-0102d78ab042 button.colab-df-convert');\n",
              "      buttonEl.style.display =\n",
              "        google.colab.kernel.accessAllowed ? 'block' : 'none';\n",
              "\n",
              "      async function convertToInteractive(key) {\n",
              "        const element = document.querySelector('#df-75a6a44c-7350-4001-a47c-0102d78ab042');\n",
              "        const dataTable =\n",
              "          await google.colab.kernel.invokeFunction('convertToInteractive',\n",
              "                                                    [key], {});\n",
              "        if (!dataTable) return;\n",
              "\n",
              "        const docLinkHtml = 'Like what you see? Visit the ' +\n",
              "          '<a target=\"_blank\" href=https://colab.research.google.com/notebooks/data_table.ipynb>data table notebook</a>'\n",
              "          + ' to learn more about interactive tables.';\n",
              "        element.innerHTML = '';\n",
              "        dataTable['output_type'] = 'display_data';\n",
              "        await google.colab.output.renderOutput(dataTable, element);\n",
              "        const docLink = document.createElement('div');\n",
              "        docLink.innerHTML = docLinkHtml;\n",
              "        element.appendChild(docLink);\n",
              "      }\n",
              "    </script>\n",
              "  </div>\n",
              "\n",
              "\n",
              "<div id=\"df-837af5fe-3795-42d5-9d8f-c8411156a1fc\">\n",
              "  <button class=\"colab-df-quickchart\" onclick=\"quickchart('df-837af5fe-3795-42d5-9d8f-c8411156a1fc')\"\n",
              "            title=\"Suggest charts\"\n",
              "            style=\"display:none;\">\n",
              "\n",
              "<svg xmlns=\"http://www.w3.org/2000/svg\" height=\"24px\"viewBox=\"0 0 24 24\"\n",
              "     width=\"24px\">\n",
              "    <g>\n",
              "        <path d=\"M19 3H5c-1.1 0-2 .9-2 2v14c0 1.1.9 2 2 2h14c1.1 0 2-.9 2-2V5c0-1.1-.9-2-2-2zM9 17H7v-7h2v7zm4 0h-2V7h2v10zm4 0h-2v-4h2v4z\"/>\n",
              "    </g>\n",
              "</svg>\n",
              "  </button>\n",
              "\n",
              "<style>\n",
              "  .colab-df-quickchart {\n",
              "      --bg-color: #E8F0FE;\n",
              "      --fill-color: #1967D2;\n",
              "      --hover-bg-color: #E2EBFA;\n",
              "      --hover-fill-color: #174EA6;\n",
              "      --disabled-fill-color: #AAA;\n",
              "      --disabled-bg-color: #DDD;\n",
              "  }\n",
              "\n",
              "  [theme=dark] .colab-df-quickchart {\n",
              "      --bg-color: #3B4455;\n",
              "      --fill-color: #D2E3FC;\n",
              "      --hover-bg-color: #434B5C;\n",
              "      --hover-fill-color: #FFFFFF;\n",
              "      --disabled-bg-color: #3B4455;\n",
              "      --disabled-fill-color: #666;\n",
              "  }\n",
              "\n",
              "  .colab-df-quickchart {\n",
              "    background-color: var(--bg-color);\n",
              "    border: none;\n",
              "    border-radius: 50%;\n",
              "    cursor: pointer;\n",
              "    display: none;\n",
              "    fill: var(--fill-color);\n",
              "    height: 32px;\n",
              "    padding: 0;\n",
              "    width: 32px;\n",
              "  }\n",
              "\n",
              "  .colab-df-quickchart:hover {\n",
              "    background-color: var(--hover-bg-color);\n",
              "    box-shadow: 0 1px 2px rgba(60, 64, 67, 0.3), 0 1px 3px 1px rgba(60, 64, 67, 0.15);\n",
              "    fill: var(--button-hover-fill-color);\n",
              "  }\n",
              "\n",
              "  .colab-df-quickchart-complete:disabled,\n",
              "  .colab-df-quickchart-complete:disabled:hover {\n",
              "    background-color: var(--disabled-bg-color);\n",
              "    fill: var(--disabled-fill-color);\n",
              "    box-shadow: none;\n",
              "  }\n",
              "\n",
              "  .colab-df-spinner {\n",
              "    border: 2px solid var(--fill-color);\n",
              "    border-color: transparent;\n",
              "    border-bottom-color: var(--fill-color);\n",
              "    animation:\n",
              "      spin 1s steps(1) infinite;\n",
              "  }\n",
              "\n",
              "  @keyframes spin {\n",
              "    0% {\n",
              "      border-color: transparent;\n",
              "      border-bottom-color: var(--fill-color);\n",
              "      border-left-color: var(--fill-color);\n",
              "    }\n",
              "    20% {\n",
              "      border-color: transparent;\n",
              "      border-left-color: var(--fill-color);\n",
              "      border-top-color: var(--fill-color);\n",
              "    }\n",
              "    30% {\n",
              "      border-color: transparent;\n",
              "      border-left-color: var(--fill-color);\n",
              "      border-top-color: var(--fill-color);\n",
              "      border-right-color: var(--fill-color);\n",
              "    }\n",
              "    40% {\n",
              "      border-color: transparent;\n",
              "      border-right-color: var(--fill-color);\n",
              "      border-top-color: var(--fill-color);\n",
              "    }\n",
              "    60% {\n",
              "      border-color: transparent;\n",
              "      border-right-color: var(--fill-color);\n",
              "    }\n",
              "    80% {\n",
              "      border-color: transparent;\n",
              "      border-right-color: var(--fill-color);\n",
              "      border-bottom-color: var(--fill-color);\n",
              "    }\n",
              "    90% {\n",
              "      border-color: transparent;\n",
              "      border-bottom-color: var(--fill-color);\n",
              "    }\n",
              "  }\n",
              "</style>\n",
              "\n",
              "  <script>\n",
              "    async function quickchart(key) {\n",
              "      const quickchartButtonEl =\n",
              "        document.querySelector('#' + key + ' button');\n",
              "      quickchartButtonEl.disabled = true;  // To prevent multiple clicks.\n",
              "      quickchartButtonEl.classList.add('colab-df-spinner');\n",
              "      try {\n",
              "        const charts = await google.colab.kernel.invokeFunction(\n",
              "            'suggestCharts', [key], {});\n",
              "      } catch (error) {\n",
              "        console.error('Error during call to suggestCharts:', error);\n",
              "      }\n",
              "      quickchartButtonEl.classList.remove('colab-df-spinner');\n",
              "      quickchartButtonEl.classList.add('colab-df-quickchart-complete');\n",
              "    }\n",
              "    (() => {\n",
              "      let quickchartButtonEl =\n",
              "        document.querySelector('#df-837af5fe-3795-42d5-9d8f-c8411156a1fc button');\n",
              "      quickchartButtonEl.style.display =\n",
              "        google.colab.kernel.accessAllowed ? 'block' : 'none';\n",
              "    })();\n",
              "  </script>\n",
              "</div>\n",
              "    </div>\n",
              "  </div>\n"
            ]
          },
          "metadata": {},
          "execution_count": 37
        }
      ]
    },
    {
      "cell_type": "markdown",
      "source": [
        "* **Married females have more bad credit than married males**"
      ],
      "metadata": {
        "id": "tAv3YALM9Bqe"
      }
    },
    {
      "cell_type": "code",
      "source": [
        "connection.close()      # closes the sqlite connection"
      ],
      "metadata": {
        "id": "26P2xtdpByJd"
      },
      "execution_count": null,
      "outputs": []
    }
  ]
}